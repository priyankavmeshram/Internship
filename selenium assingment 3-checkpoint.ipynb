{
 "cells": [
  {
   "cell_type": "code",
   "execution_count": 1,
   "id": "573b58d0",
   "metadata": {},
   "outputs": [
    {
     "name": "stdout",
     "output_type": "stream",
     "text": [
      "Requirement already satisfied: selenium in c:\\users\\priyanka\\anaconda3\\lib\\site-packages (4.17.2)\n",
      "Requirement already satisfied: typing_extensions>=4.9.0 in c:\\users\\priyanka\\anaconda3\\lib\\site-packages (from selenium) (4.9.0)\n",
      "Requirement already satisfied: trio-websocket~=0.9 in c:\\users\\priyanka\\anaconda3\\lib\\site-packages (from selenium) (0.11.1)\n",
      "Requirement already satisfied: certifi>=2021.10.8 in c:\\users\\priyanka\\anaconda3\\lib\\site-packages (from selenium) (2023.5.7)\n",
      "Requirement already satisfied: trio~=0.17 in c:\\users\\priyanka\\anaconda3\\lib\\site-packages (from selenium) (0.24.0)\n",
      "Requirement already satisfied: urllib3[socks]<3,>=1.26 in c:\\users\\priyanka\\anaconda3\\lib\\site-packages (from selenium) (1.26.14)\n",
      "Requirement already satisfied: cffi>=1.14 in c:\\users\\priyanka\\anaconda3\\lib\\site-packages (from trio~=0.17->selenium) (1.15.1)\n",
      "Requirement already satisfied: attrs>=20.1.0 in c:\\users\\priyanka\\anaconda3\\lib\\site-packages (from trio~=0.17->selenium) (22.1.0)\n",
      "Requirement already satisfied: idna in c:\\users\\priyanka\\anaconda3\\lib\\site-packages (from trio~=0.17->selenium) (3.4)\n",
      "Requirement already satisfied: outcome in c:\\users\\priyanka\\anaconda3\\lib\\site-packages (from trio~=0.17->selenium) (1.3.0.post0)\n",
      "Requirement already satisfied: exceptiongroup in c:\\users\\priyanka\\anaconda3\\lib\\site-packages (from trio~=0.17->selenium) (1.2.0)\n",
      "Requirement already satisfied: sniffio>=1.3.0 in c:\\users\\priyanka\\anaconda3\\lib\\site-packages (from trio~=0.17->selenium) (1.3.0)\n",
      "Requirement already satisfied: sortedcontainers in c:\\users\\priyanka\\anaconda3\\lib\\site-packages (from trio~=0.17->selenium) (2.4.0)\n",
      "Requirement already satisfied: wsproto>=0.14 in c:\\users\\priyanka\\anaconda3\\lib\\site-packages (from trio-websocket~=0.9->selenium) (1.2.0)\n",
      "Requirement already satisfied: PySocks!=1.5.7,<2.0,>=1.5.6 in c:\\users\\priyanka\\anaconda3\\lib\\site-packages (from urllib3[socks]<3,>=1.26->selenium) (1.7.1)\n",
      "Requirement already satisfied: pycparser in c:\\users\\priyanka\\anaconda3\\lib\\site-packages (from cffi>=1.14->trio~=0.17->selenium) (2.21)\n",
      "Requirement already satisfied: h11<1,>=0.9.0 in c:\\users\\priyanka\\anaconda3\\lib\\site-packages (from wsproto>=0.14->trio-websocket~=0.9->selenium) (0.14.0)\n"
     ]
    }
   ],
   "source": [
    "!pip install selenium"
   ]
  },
  {
   "cell_type": "code",
   "execution_count": 1,
   "id": "9522c48c",
   "metadata": {},
   "outputs": [],
   "source": [
    "import selenium\n",
    "import pandas as pd\n",
    "import time\n",
    "from bs4 import BeautifulSoup\n",
    "from selenium import webdriver\n",
    "from selenium.common.exceptions import StaleElementReferenceException, NoSuchElementException\n",
    "import requests\n",
    "from selenium.webdriver.common.by import By"
   ]
  },
  {
   "cell_type": "markdown",
   "id": "e5a7160a",
   "metadata": {},
   "source": [
    "# 1. program to search product in amazon website"
   ]
  },
  {
   "cell_type": "code",
   "execution_count": 93,
   "id": "6f17f96c",
   "metadata": {},
   "outputs": [],
   "source": [
    "driver=webdriver.Chrome()"
   ]
  },
  {
   "cell_type": "code",
   "execution_count": 94,
   "id": "7885d16f",
   "metadata": {},
   "outputs": [],
   "source": [
    "driver.get('https://www.amazon.in/')"
   ]
  },
  {
   "cell_type": "code",
   "execution_count": 95,
   "id": "1f70ae58",
   "metadata": {},
   "outputs": [
    {
     "name": "stdout",
     "output_type": "stream",
     "text": [
      "Enter the product name:cycle\n"
     ]
    }
   ],
   "source": [
    "product= input(\"Enter the product name:\")"
   ]
  },
  {
   "cell_type": "markdown",
   "id": "9f511138",
   "metadata": {},
   "source": [
    "# Q2"
   ]
  },
  {
   "cell_type": "code",
   "execution_count": 23,
   "id": "5067f8d5",
   "metadata": {},
   "outputs": [],
   "source": [
    "driver=webdriver.Chrome()"
   ]
  },
  {
   "cell_type": "code",
   "execution_count": 24,
   "id": "14717c0e",
   "metadata": {},
   "outputs": [],
   "source": [
    "driver.get('https://www.amazon.in/')"
   ]
  },
  {
   "cell_type": "code",
   "execution_count": 25,
   "id": "017373f9",
   "metadata": {},
   "outputs": [],
   "source": [
    "products=driver.find_element(By.XPATH,'/html/body/div[1]/header/div/div[1]/div[2]/div/form/div[2]/div[1]/input')\n",
    "products.send_keys('cycle')"
   ]
  },
  {
   "cell_type": "code",
   "execution_count": 26,
   "id": "515d76a0",
   "metadata": {},
   "outputs": [],
   "source": [
    "search=driver.find_element(By.XPATH,'/html/body/div[1]/header/div/div[1]/div[2]/div/form/div[3]/div/span/input')\n",
    "search.click()"
   ]
  },
  {
   "cell_type": "code",
   "execution_count": 27,
   "id": "fbfae98f",
   "metadata": {},
   "outputs": [],
   "source": [
    "#fetching url to open each product\n",
    "\n",
    "product_open_url = []\n",
    "start=0\n",
    "end=3\n",
    "for page in range(start,end):\n",
    "    url=driver.find_elements(By.XPATH,'//a[@class=\"a-link-normal s-underline-text s-underline-link-text s-link-style a-text-normal\"]')\n",
    "    for i in url:\n",
    "        product_open_url.append(i.get_attribute('href'))\n",
    "    next_button=driver.find_elements(By.XPATH,'/html/body/div[1]/div[1]/div[1]/div[1]/div/span[1]/div[1]/div[29]/div/div/span/a[3]')\n",
    "    "
   ]
  },
  {
   "cell_type": "code",
   "execution_count": 28,
   "id": "cad38093",
   "metadata": {},
   "outputs": [
    {
     "data": {
      "text/plain": [
       "72"
      ]
     },
     "execution_count": 28,
     "metadata": {},
     "output_type": "execute_result"
    }
   ],
   "source": [
    "len(product_open_url)"
   ]
  },
  {
   "cell_type": "code",
   "execution_count": 29,
   "id": "75fe4aa1",
   "metadata": {
    "scrolled": false
   },
   "outputs": [
    {
     "data": {
      "text/plain": [
       "['https://www.amazon.in/sspa/click?ie=UTF8&spc=MTo1MDkwMTA2NDAxOTkwMDUwOjE3MDg0MjY2MzA6c3BfYXRmOjIwMTExOTYzODAxMDk4OjowOjo&url=%2FLifelong-Gear-Cycle-Women-Micro-Shifter%2Fdp%2FB0BPHNZZL5%2Fref%3Dsr_1_1%3Fcrid%3DRV9DLAON0Q6E%26dib%3DeyJ2IjoiMSJ9.hg_33peHhkAq26rOmGl_KzzwKHnYrRb3OLMbTf4caBbld5tq8pdVWCDsvt55CvfnEfvRoX_6ZObsuXWRdzxUcmSwCF6pfTqrOzI-uHZGUEBlicVbb99aI4isRK4g3TVSO8hhHljgplPPedGgIv_6pmBoAeU4lcyud0em024grF_FQYLk5c-S922BhXjQwVbQkq-263sUOji__SRCIlEayvd5gipjuxWbZsiO4D7Rnq0.RBZiQfwjiYvppxZXvCBeb1xVFzTqUWff7zAnGlAGt5A%26dib_tag%3Dse%26keywords%3Dcycle%26qid%3D1708426630%26sprefix%3Dcycle%252Caps%252C264%26sr%3D8-1-spons%26sp_csd%3Dd2lkZ2V0TmFtZT1zcF9hdGY%26psc%3D1',\n",
       " 'https://www.amazon.in/sspa/click?ie=UTF8&spc=MTo1MDkwMTA2NDAxOTkwMDUwOjE3MDg0MjY2MzA6c3BfYXRmOjIwMTE4NDE3MTI2MTk4OjowOjo&url=%2FLeader-Spyder-27-5T-MTB-Cycle%2Fdp%2FB0BSS17P4R%2Fref%3Dsr_1_2%3Fcrid%3DRV9DLAON0Q6E%26dib%3DeyJ2IjoiMSJ9.hg_33peHhkAq26rOmGl_KzzwKHnYrRb3OLMbTf4caBbld5tq8pdVWCDsvt55CvfnEfvRoX_6ZObsuXWRdzxUcmSwCF6pfTqrOzI-uHZGUEBlicVbb99aI4isRK4g3TVSO8hhHljgplPPedGgIv_6pmBoAeU4lcyud0em024grF_FQYLk5c-S922BhXjQwVbQkq-263sUOji__SRCIlEayvd5gipjuxWbZsiO4D7Rnq0.RBZiQfwjiYvppxZXvCBeb1xVFzTqUWff7zAnGlAGt5A%26dib_tag%3Dse%26keywords%3Dcycle%26qid%3D1708426630%26sprefix%3Dcycle%252Caps%252C264%26sr%3D8-2-spons%26sp_csd%3Dd2lkZ2V0TmFtZT1zcF9hdGY%26psc%3D1',\n",
       " 'https://www.amazon.in/Urban-Terrain-UT5000S27-5-Suspension-Installation/dp/B09N18WPNQ/ref=sr_1_3?crid=RV9DLAON0Q6E&dib=eyJ2IjoiMSJ9.hg_33peHhkAq26rOmGl_KzzwKHnYrRb3OLMbTf4caBbld5tq8pdVWCDsvt55CvfnEfvRoX_6ZObsuXWRdzxUcmSwCF6pfTqrOzI-uHZGUEBlicVbb99aI4isRK4g3TVSO8hhHljgplPPedGgIv_6pmBoAeU4lcyud0em024grF_FQYLk5c-S922BhXjQwVbQkq-263sUOji__SRCIlEayvd5gipjuxWbZsiO4D7Rnq0.RBZiQfwjiYvppxZXvCBeb1xVFzTqUWff7zAnGlAGt5A&dib_tag=se&keywords=cycle&qid=1708426630&sprefix=cycle%2Caps%2C264&sr=8-3',\n",
       " 'https://www.amazon.in/MONTRA-Downtown-Geared-700CX35C-Yellow/dp/B09V13XLB8/ref=sr_1_4?crid=RV9DLAON0Q6E&dib=eyJ2IjoiMSJ9.hg_33peHhkAq26rOmGl_KzzwKHnYrRb3OLMbTf4caBbld5tq8pdVWCDsvt55CvfnEfvRoX_6ZObsuXWRdzxUcmSwCF6pfTqrOzI-uHZGUEBlicVbb99aI4isRK4g3TVSO8hhHljgplPPedGgIv_6pmBoAeU4lcyud0em024grF_FQYLk5c-S922BhXjQwVbQkq-263sUOji__SRCIlEayvd5gipjuxWbZsiO4D7Rnq0.RBZiQfwjiYvppxZXvCBeb1xVFzTqUWff7zAnGlAGt5A&dib_tag=se&keywords=cycle&qid=1708426630&sprefix=cycle%2Caps%2C264&sr=8-4',\n",
       " 'https://www.amazon.in/Leader-Mountain-Bicycle-Without-Single/dp/B089M9HVQP/ref=sr_1_5?crid=RV9DLAON0Q6E&dib=eyJ2IjoiMSJ9.hg_33peHhkAq26rOmGl_KzzwKHnYrRb3OLMbTf4caBbld5tq8pdVWCDsvt55CvfnEfvRoX_6ZObsuXWRdzxUcmSwCF6pfTqrOzI-uHZGUEBlicVbb99aI4isRK4g3TVSO8hhHljgplPPedGgIv_6pmBoAeU4lcyud0em024grF_FQYLk5c-S922BhXjQwVbQkq-263sUOji__SRCIlEayvd5gipjuxWbZsiO4D7Rnq0.RBZiQfwjiYvppxZXvCBeb1xVFzTqUWff7zAnGlAGt5A&dib_tag=se&keywords=cycle&qid=1708426630&sprefix=cycle%2Caps%2C264&sr=8-5',\n",
       " 'https://aax-eu.amazon.in/x/c/RCQhfiKJtp8Wk5t4781-uXsAAAGNximVTQMAAAH2AQBvbm9fdHhuX2JpZDMgICBvbm9fdHhuX2ltcDEgICBpDMu5/https://www.amazon.in/CRADIAC-Mountain-Suspension-7-9Wx76-0Lx40-6H-Unisex-Adult/dp/B0BTW1G9GB/ref=sxin_15_sbv_search_btf?content-id=amzn1.sym.4fe35c1d-da6a-41a4-967c-7a2315a8b22e%3Aamzn1.sym.4fe35c1d-da6a-41a4-967c-7a2315a8b22e&crid=RV9DLAON0Q6E&cv_ct_cx=cycle&dib=eyJ2IjoiMSJ9.ngWzE4PnGbsEWfOVChKACg.XMb6l_FtveoKrPk73ZQG87Ln5iYguMUeokYRYzT6Oyg&dib_tag=se&keywords=cycle&pd_rd_i=B0BTW1G9GB&pd_rd_r=7473bf8c-da76-4dde-9b85-22d31bfe49e3&pd_rd_w=KVW5t&pd_rd_wg=d3Hlk&pf_rd_p=4fe35c1d-da6a-41a4-967c-7a2315a8b22e&pf_rd_r=0883DM2JWSRG0D93CZKR&qid=1708426630&sbo=RZvfv%2F%2FHxDF%2BO5021pAnSA%3D%3D&sprefix=cycle%2Caps%2C264&sr=1-1-b614a050-8d70-4320-9c19-cc457ab2a351',\n",
       " 'https://www.amazon.in/QUESEC-Mercedes-Foldable-Folding-Bicycle/dp/B0BPC535F2/ref=sr_1_6?crid=RV9DLAON0Q6E&dib=eyJ2IjoiMSJ9.hg_33peHhkAq26rOmGl_KzzwKHnYrRb3OLMbTf4caBbld5tq8pdVWCDsvt55CvfnEfvRoX_6ZObsuXWRdzxUcmSwCF6pfTqrOzI-uHZGUEBlicVbb99aI4isRK4g3TVSO8hhHljgplPPedGgIv_6pmBoAeU4lcyud0em024grF_FQYLk5c-S922BhXjQwVbQkq-263sUOji__SRCIlEayvd5gipjuxWbZsiO4D7Rnq0.RBZiQfwjiYvppxZXvCBeb1xVFzTqUWff7zAnGlAGt5A&dib_tag=se&keywords=cycle&qid=1708426630&sprefix=cycle%2Caps%2C264&sr=8-6',\n",
       " 'https://www.amazon.in/Lifelong-LLBC2001-Tribe-Cycle-Yellow/dp/B096FYLB46/ref=sr_1_7?crid=RV9DLAON0Q6E&dib=eyJ2IjoiMSJ9.hg_33peHhkAq26rOmGl_KzzwKHnYrRb3OLMbTf4caBbld5tq8pdVWCDsvt55CvfnEfvRoX_6ZObsuXWRdzxUcmSwCF6pfTqrOzI-uHZGUEBlicVbb99aI4isRK4g3TVSO8hhHljgplPPedGgIv_6pmBoAeU4lcyud0em024grF_FQYLk5c-S922BhXjQwVbQkq-263sUOji__SRCIlEayvd5gipjuxWbZsiO4D7Rnq0.RBZiQfwjiYvppxZXvCBeb1xVFzTqUWff7zAnGlAGt5A&dib_tag=se&keywords=cycle&qid=1708426630&sprefix=cycle%2Caps%2C264&sr=8-7',\n",
       " 'https://www.amazon.in/Leader-Beast-Multispeed-Mountain-Suspension/dp/B0BHPBZSY8/ref=sr_1_8?crid=RV9DLAON0Q6E&dib=eyJ2IjoiMSJ9.hg_33peHhkAq26rOmGl_KzzwKHnYrRb3OLMbTf4caBbld5tq8pdVWCDsvt55CvfnEfvRoX_6ZObsuXWRdzxUcmSwCF6pfTqrOzI-uHZGUEBlicVbb99aI4isRK4g3TVSO8hhHljgplPPedGgIv_6pmBoAeU4lcyud0em024grF_FQYLk5c-S922BhXjQwVbQkq-263sUOji__SRCIlEayvd5gipjuxWbZsiO4D7Rnq0.RBZiQfwjiYvppxZXvCBeb1xVFzTqUWff7zAnGlAGt5A&dib_tag=se&keywords=cycle&qid=1708426630&sprefix=cycle%2Caps%2C264&sr=8-8',\n",
       " 'https://www.amazon.in/Leader-Spyder-27-5T-MTB-Cycle/dp/B0BSS17P4R/ref=sr_1_9?crid=RV9DLAON0Q6E&dib=eyJ2IjoiMSJ9.hg_33peHhkAq26rOmGl_KzzwKHnYrRb3OLMbTf4caBbld5tq8pdVWCDsvt55CvfnEfvRoX_6ZObsuXWRdzxUcmSwCF6pfTqrOzI-uHZGUEBlicVbb99aI4isRK4g3TVSO8hhHljgplPPedGgIv_6pmBoAeU4lcyud0em024grF_FQYLk5c-S922BhXjQwVbQkq-263sUOji__SRCIlEayvd5gipjuxWbZsiO4D7Rnq0.RBZiQfwjiYvppxZXvCBeb1xVFzTqUWff7zAnGlAGt5A&dib_tag=se&keywords=cycle&qid=1708426630&sprefix=cycle%2Caps%2C264&sr=8-9',\n",
       " 'https://www.amazon.in/Lifelong-Rigid-Mountain-Premium-Single/dp/B0BPH3KVRN/ref=sr_1_10?crid=RV9DLAON0Q6E&dib=eyJ2IjoiMSJ9.hg_33peHhkAq26rOmGl_KzzwKHnYrRb3OLMbTf4caBbld5tq8pdVWCDsvt55CvfnEfvRoX_6ZObsuXWRdzxUcmSwCF6pfTqrOzI-uHZGUEBlicVbb99aI4isRK4g3TVSO8hhHljgplPPedGgIv_6pmBoAeU4lcyud0em024grF_FQYLk5c-S922BhXjQwVbQkq-263sUOji__SRCIlEayvd5gipjuxWbZsiO4D7Rnq0.RBZiQfwjiYvppxZXvCBeb1xVFzTqUWff7zAnGlAGt5A&dib_tag=se&keywords=cycle&qid=1708426630&sprefix=cycle%2Caps%2C264&sr=8-10',\n",
       " 'https://www.amazon.in/sspa/click?ie=UTF8&spc=MTo1MDkwMTA2NDAxOTkwMDUwOjE3MDg0MjY2MzA6c3BfbXRmOjMwMDEzMjUxMzI5MzAzMjo6MDo6&url=%2FHORNBACK-Assembled-Foldable-Bicycle-Adults%2Fdp%2FB0CV7CZC14%2Fref%3Dsr_1_11%3Fcrid%3DRV9DLAON0Q6E%26dib%3DeyJ2IjoiMSJ9.hg_33peHhkAq26rOmGl_KzzwKHnYrRb3OLMbTf4caBbld5tq8pdVWCDsvt55CvfnEfvRoX_6ZObsuXWRdzxUcmSwCF6pfTqrOzI-uHZGUEBlicVbb99aI4isRK4g3TVSO8hhHljgplPPedGgIv_6pmBoAeU4lcyud0em024grF_FQYLk5c-S922BhXjQwVbQkq-263sUOji__SRCIlEayvd5gipjuxWbZsiO4D7Rnq0.RBZiQfwjiYvppxZXvCBeb1xVFzTqUWff7zAnGlAGt5A%26dib_tag%3Dse%26keywords%3Dcycle%26qid%3D1708426630%26sprefix%3Dcycle%252Caps%252C264%26sr%3D8-11-spons%26sp_csd%3Dd2lkZ2V0TmFtZT1zcF9tdGY%26psc%3D1',\n",
       " 'https://www.amazon.in/sspa/click?ie=UTF8&spc=MTo1MDkwMTA2NDAxOTkwMDUwOjE3MDg0MjY2MzA6c3BfbXRmOjMwMDEzMjUxMzI5MjczMjo6MDo6&url=%2FHORNBACK-Foldable-20-inch-Stainless-Mechanical%2Fdp%2FB0C7RGHSPL%2Fref%3Dsr_1_12%3Fcrid%3DRV9DLAON0Q6E%26dib%3DeyJ2IjoiMSJ9.hg_33peHhkAq26rOmGl_KzzwKHnYrRb3OLMbTf4caBbld5tq8pdVWCDsvt55CvfnEfvRoX_6ZObsuXWRdzxUcmSwCF6pfTqrOzI-uHZGUEBlicVbb99aI4isRK4g3TVSO8hhHljgplPPedGgIv_6pmBoAeU4lcyud0em024grF_FQYLk5c-S922BhXjQwVbQkq-263sUOji__SRCIlEayvd5gipjuxWbZsiO4D7Rnq0.RBZiQfwjiYvppxZXvCBeb1xVFzTqUWff7zAnGlAGt5A%26dib_tag%3Dse%26keywords%3Dcycle%26qid%3D1708426630%26sprefix%3Dcycle%252Caps%252C264%26sr%3D8-12-spons%26sp_csd%3Dd2lkZ2V0TmFtZT1zcF9tdGY%26psc%3D1',\n",
       " 'https://www.amazon.in/Leader-Mountain-Bicycle-Without-Suspension/dp/B0BYSCSTL7/ref=sr_1_13?crid=RV9DLAON0Q6E&dib=eyJ2IjoiMSJ9.hg_33peHhkAq26rOmGl_KzzwKHnYrRb3OLMbTf4caBbld5tq8pdVWCDsvt55CvfnEfvRoX_6ZObsuXWRdzxUcmSwCF6pfTqrOzI-uHZGUEBlicVbb99aI4isRK4g3TVSO8hhHljgplPPedGgIv_6pmBoAeU4lcyud0em024grF_FQYLk5c-S922BhXjQwVbQkq-263sUOji__SRCIlEayvd5gipjuxWbZsiO4D7Rnq0.RBZiQfwjiYvppxZXvCBeb1xVFzTqUWff7zAnGlAGt5A&dib_tag=se&keywords=cycle&qid=1708426630&sprefix=cycle%2Caps%2C264&sr=8-13',\n",
       " 'https://www.amazon.in/Urban-Terrain-UT7001S27-5-Accessories-Installation/dp/B09RH8MM2H/ref=sr_1_14?crid=RV9DLAON0Q6E&dib=eyJ2IjoiMSJ9.hg_33peHhkAq26rOmGl_KzzwKHnYrRb3OLMbTf4caBbld5tq8pdVWCDsvt55CvfnEfvRoX_6ZObsuXWRdzxUcmSwCF6pfTqrOzI-uHZGUEBlicVbb99aI4isRK4g3TVSO8hhHljgplPPedGgIv_6pmBoAeU4lcyud0em024grF_FQYLk5c-S922BhXjQwVbQkq-263sUOji__SRCIlEayvd5gipjuxWbZsiO4D7Rnq0.RBZiQfwjiYvppxZXvCBeb1xVFzTqUWff7zAnGlAGt5A&dib_tag=se&keywords=cycle&qid=1708426630&sprefix=cycle%2Caps%2C264&sr=8-14',\n",
       " 'https://www.amazon.in/Leader-Lady-Breeze-26T-Integrated/dp/B0BQMXMM61/ref=sr_1_15?crid=RV9DLAON0Q6E&dib=eyJ2IjoiMSJ9.hg_33peHhkAq26rOmGl_KzzwKHnYrRb3OLMbTf4caBbld5tq8pdVWCDsvt55CvfnEfvRoX_6ZObsuXWRdzxUcmSwCF6pfTqrOzI-uHZGUEBlicVbb99aI4isRK4g3TVSO8hhHljgplPPedGgIv_6pmBoAeU4lcyud0em024grF_FQYLk5c-S922BhXjQwVbQkq-263sUOji__SRCIlEayvd5gipjuxWbZsiO4D7Rnq0.RBZiQfwjiYvppxZXvCBeb1xVFzTqUWff7zAnGlAGt5A&dib_tag=se&keywords=cycle&qid=1708426630&sprefix=cycle%2Caps%2C264&sr=8-15',\n",
       " 'https://www.amazon.in/Urban-Terrain-UT1000-MTB-Installation/dp/B09DVZST2V/ref=sr_1_16?crid=RV9DLAON0Q6E&dib=eyJ2IjoiMSJ9.hg_33peHhkAq26rOmGl_KzzwKHnYrRb3OLMbTf4caBbld5tq8pdVWCDsvt55CvfnEfvRoX_6ZObsuXWRdzxUcmSwCF6pfTqrOzI-uHZGUEBlicVbb99aI4isRK4g3TVSO8hhHljgplPPedGgIv_6pmBoAeU4lcyud0em024grF_FQYLk5c-S922BhXjQwVbQkq-263sUOji__SRCIlEayvd5gipjuxWbZsiO4D7Rnq0.RBZiQfwjiYvppxZXvCBeb1xVFzTqUWff7zAnGlAGt5A&dib_tag=se&keywords=cycle&qid=1708426630&sprefix=cycle%2Caps%2C264&sr=8-16',\n",
       " 'https://www.amazon.in/VESCO-Mountain-Suspension-Single-Bicycle/dp/B0B8ZHZBQN/ref=sr_1_17?crid=RV9DLAON0Q6E&dib=eyJ2IjoiMSJ9.hg_33peHhkAq26rOmGl_KzzwKHnYrRb3OLMbTf4caBbld5tq8pdVWCDsvt55CvfnEfvRoX_6ZObsuXWRdzxUcmSwCF6pfTqrOzI-uHZGUEBlicVbb99aI4isRK4g3TVSO8hhHljgplPPedGgIv_6pmBoAeU4lcyud0em024grF_FQYLk5c-S922BhXjQwVbQkq-263sUOji__SRCIlEayvd5gipjuxWbZsiO4D7Rnq0.RBZiQfwjiYvppxZXvCBeb1xVFzTqUWff7zAnGlAGt5A&dib_tag=se&keywords=cycle&qid=1708426630&sprefix=cycle%2Caps%2C264&sr=8-17',\n",
       " 'https://www.amazon.in/Avon-Buke-Draco-Bicycles-Frame/dp/B0BYB592QR/ref=sr_1_18?crid=RV9DLAON0Q6E&dib=eyJ2IjoiMSJ9.hg_33peHhkAq26rOmGl_KzzwKHnYrRb3OLMbTf4caBbld5tq8pdVWCDsvt55CvfnEfvRoX_6ZObsuXWRdzxUcmSwCF6pfTqrOzI-uHZGUEBlicVbb99aI4isRK4g3TVSO8hhHljgplPPedGgIv_6pmBoAeU4lcyud0em024grF_FQYLk5c-S922BhXjQwVbQkq-263sUOji__SRCIlEayvd5gipjuxWbZsiO4D7Rnq0.RBZiQfwjiYvppxZXvCBeb1xVFzTqUWff7zAnGlAGt5A&dib_tag=se&keywords=cycle&qid=1708426630&sprefix=cycle%2Caps%2C264&sr=8-18',\n",
       " 'https://www.amazon.in/Leader-Gladiator-Multispeed-Speed-Suspension/dp/B08VNY6TMH/ref=sr_1_19?crid=RV9DLAON0Q6E&dib=eyJ2IjoiMSJ9.hg_33peHhkAq26rOmGl_KzzwKHnYrRb3OLMbTf4caBbld5tq8pdVWCDsvt55CvfnEfvRoX_6ZObsuXWRdzxUcmSwCF6pfTqrOzI-uHZGUEBlicVbb99aI4isRK4g3TVSO8hhHljgplPPedGgIv_6pmBoAeU4lcyud0em024grF_FQYLk5c-S922BhXjQwVbQkq-263sUOji__SRCIlEayvd5gipjuxWbZsiO4D7Rnq0.RBZiQfwjiYvppxZXvCBeb1xVFzTqUWff7zAnGlAGt5A&dib_tag=se&keywords=cycle&qid=1708426630&sprefix=cycle%2Caps%2C264&sr=8-19',\n",
       " 'https://www.amazon.in/Lifelong-27-5T-Gear-Cycle-Women/dp/B09XF4BPYJ/ref=sr_1_20?crid=RV9DLAON0Q6E&dib=eyJ2IjoiMSJ9.hg_33peHhkAq26rOmGl_KzzwKHnYrRb3OLMbTf4caBbld5tq8pdVWCDsvt55CvfnEfvRoX_6ZObsuXWRdzxUcmSwCF6pfTqrOzI-uHZGUEBlicVbb99aI4isRK4g3TVSO8hhHljgplPPedGgIv_6pmBoAeU4lcyud0em024grF_FQYLk5c-S922BhXjQwVbQkq-263sUOji__SRCIlEayvd5gipjuxWbZsiO4D7Rnq0.RBZiQfwjiYvppxZXvCBeb1xVFzTqUWff7zAnGlAGt5A&dib_tag=se&keywords=cycle&qid=1708426630&sprefix=cycle%2Caps%2C264&sr=8-20',\n",
       " 'https://www.amazon.in/sspa/click?ie=UTF8&spc=MTo1MDkwMTA2NDAxOTkwMDUwOjE3MDg0MjY2MzA6c3BfYnRmOjMwMDExNTQ4ODk2MDUzMjo6MDo6&url=%2FGANTON-XPLOID-26x300-MTB-DUAL-DISC-Front-Shocker-SEMI-TYRE-Single-Speed%2Fdp%2FB0C5WW8G2R%2Fref%3Dsr_1_21%3Fcrid%3DRV9DLAON0Q6E%26dib%3DeyJ2IjoiMSJ9.hg_33peHhkAq26rOmGl_KzzwKHnYrRb3OLMbTf4caBbld5tq8pdVWCDsvt55CvfnEfvRoX_6ZObsuXWRdzxUcmSwCF6pfTqrOzI-uHZGUEBlicVbb99aI4isRK4g3TVSO8hhHljgplPPedGgIv_6pmBoAeU4lcyud0em024grF_FQYLk5c-S922BhXjQwVbQkq-263sUOji__SRCIlEayvd5gipjuxWbZsiO4D7Rnq0.RBZiQfwjiYvppxZXvCBeb1xVFzTqUWff7zAnGlAGt5A%26dib_tag%3Dse%26keywords%3Dcycle%26qid%3D1708426630%26sprefix%3Dcycle%252Caps%252C264%26sr%3D8-21-spons%26sp_csd%3Dd2lkZ2V0TmFtZT1zcF9idGY%26psc%3D1',\n",
       " 'https://www.amazon.in/sspa/click?ie=UTF8&spc=MTo1MDkwMTA2NDAxOTkwMDUwOjE3MDg0MjY2MzA6c3BfYnRmOjMwMDEzMjQ4NDc4OTMzMjo6MDo6&url=%2FHORNBACK-Foldable-Electric-Removable-Battery%2Fdp%2FB0C7RD28Z1%2Fref%3Dsr_1_22%3Fcrid%3DRV9DLAON0Q6E%26dib%3DeyJ2IjoiMSJ9.hg_33peHhkAq26rOmGl_KzzwKHnYrRb3OLMbTf4caBbld5tq8pdVWCDsvt55CvfnEfvRoX_6ZObsuXWRdzxUcmSwCF6pfTqrOzI-uHZGUEBlicVbb99aI4isRK4g3TVSO8hhHljgplPPedGgIv_6pmBoAeU4lcyud0em024grF_FQYLk5c-S922BhXjQwVbQkq-263sUOji__SRCIlEayvd5gipjuxWbZsiO4D7Rnq0.RBZiQfwjiYvppxZXvCBeb1xVFzTqUWff7zAnGlAGt5A%26dib_tag%3Dse%26keywords%3Dcycle%26qid%3D1708426630%26sprefix%3Dcycle%252Caps%252C264%26sr%3D8-22-spons%26sp_csd%3Dd2lkZ2V0TmFtZT1zcF9idGY%26psc%3D1',\n",
       " 'https://aax-eu.amazon.in/x/c/RMcYdZtzAkmefDPCgnbYP3EAAAGNximVZwMAAAH2AQBvbm9fdHhuX2JpZDIgICBvbm9fdHhuX2ltcDEgICDcFZYG/https://www.amazon.in/Lifelong-Gear-Cycle-Women-Micro-Shifter/dp/B0BPHNZZL5/ref=sxbs_sbv_search_btf?content-id=amzn1.sym.7d6d801d-0b91-42f0-9ded-a1900c21a285%3Aamzn1.sym.7d6d801d-0b91-42f0-9ded-a1900c21a285&crid=RV9DLAON0Q6E&cv_ct_cx=cycle&dib=eyJ2IjoiMSJ9.39LnXO1V9jV_f3R1IA9Mvg.WtkccXMe_vG1g5B4T2vn5yRaWOZlzvXuzwGw76PNkWI&dib_tag=se&keywords=cycle&pd_rd_i=B0BPHNZZL5&pd_rd_r=eba39703-938e-4a22-b559-dcac5e0e79b8&pd_rd_w=bLXYe&pd_rd_wg=dgtvJ&pf_rd_p=7d6d801d-0b91-42f0-9ded-a1900c21a285&pf_rd_r=0883DM2JWSRG0D93CZKR&qid=1708426630&sbo=RZvfv%2F%2FHxDF%2BO5021pAnSA%3D%3D&sprefix=cycle%2Caps%2C264&sr=1-1-25dedf61-9bde-4412-952b-c956ef4fc546',\n",
       " 'https://www.amazon.in/sspa/click?ie=UTF8&spc=MTo1MDkwMTA2NDAxOTkwMDUwOjE3MDg0MjY2MzA6c3BfYXRmOjIwMTExOTYzODAxMDk4OjowOjo&url=%2FLifelong-Gear-Cycle-Women-Micro-Shifter%2Fdp%2FB0BPHNZZL5%2Fref%3Dsr_1_1%3Fcrid%3DRV9DLAON0Q6E%26dib%3DeyJ2IjoiMSJ9.hg_33peHhkAq26rOmGl_KzzwKHnYrRb3OLMbTf4caBbld5tq8pdVWCDsvt55CvfnEfvRoX_6ZObsuXWRdzxUcmSwCF6pfTqrOzI-uHZGUEBlicVbb99aI4isRK4g3TVSO8hhHljgplPPedGgIv_6pmBoAeU4lcyud0em024grF_FQYLk5c-S922BhXjQwVbQkq-263sUOji__SRCIlEayvd5gipjuxWbZsiO4D7Rnq0.RBZiQfwjiYvppxZXvCBeb1xVFzTqUWff7zAnGlAGt5A%26dib_tag%3Dse%26keywords%3Dcycle%26qid%3D1708426630%26sprefix%3Dcycle%252Caps%252C264%26sr%3D8-1-spons%26sp_csd%3Dd2lkZ2V0TmFtZT1zcF9hdGY%26psc%3D1',\n",
       " 'https://www.amazon.in/sspa/click?ie=UTF8&spc=MTo1MDkwMTA2NDAxOTkwMDUwOjE3MDg0MjY2MzA6c3BfYXRmOjIwMTE4NDE3MTI2MTk4OjowOjo&url=%2FLeader-Spyder-27-5T-MTB-Cycle%2Fdp%2FB0BSS17P4R%2Fref%3Dsr_1_2%3Fcrid%3DRV9DLAON0Q6E%26dib%3DeyJ2IjoiMSJ9.hg_33peHhkAq26rOmGl_KzzwKHnYrRb3OLMbTf4caBbld5tq8pdVWCDsvt55CvfnEfvRoX_6ZObsuXWRdzxUcmSwCF6pfTqrOzI-uHZGUEBlicVbb99aI4isRK4g3TVSO8hhHljgplPPedGgIv_6pmBoAeU4lcyud0em024grF_FQYLk5c-S922BhXjQwVbQkq-263sUOji__SRCIlEayvd5gipjuxWbZsiO4D7Rnq0.RBZiQfwjiYvppxZXvCBeb1xVFzTqUWff7zAnGlAGt5A%26dib_tag%3Dse%26keywords%3Dcycle%26qid%3D1708426630%26sprefix%3Dcycle%252Caps%252C264%26sr%3D8-2-spons%26sp_csd%3Dd2lkZ2V0TmFtZT1zcF9hdGY%26psc%3D1',\n",
       " 'https://www.amazon.in/Urban-Terrain-UT5000S27-5-Suspension-Installation/dp/B09N18WPNQ/ref=sr_1_3?crid=RV9DLAON0Q6E&dib=eyJ2IjoiMSJ9.hg_33peHhkAq26rOmGl_KzzwKHnYrRb3OLMbTf4caBbld5tq8pdVWCDsvt55CvfnEfvRoX_6ZObsuXWRdzxUcmSwCF6pfTqrOzI-uHZGUEBlicVbb99aI4isRK4g3TVSO8hhHljgplPPedGgIv_6pmBoAeU4lcyud0em024grF_FQYLk5c-S922BhXjQwVbQkq-263sUOji__SRCIlEayvd5gipjuxWbZsiO4D7Rnq0.RBZiQfwjiYvppxZXvCBeb1xVFzTqUWff7zAnGlAGt5A&dib_tag=se&keywords=cycle&qid=1708426630&sprefix=cycle%2Caps%2C264&sr=8-3',\n",
       " 'https://www.amazon.in/MONTRA-Downtown-Geared-700CX35C-Yellow/dp/B09V13XLB8/ref=sr_1_4?crid=RV9DLAON0Q6E&dib=eyJ2IjoiMSJ9.hg_33peHhkAq26rOmGl_KzzwKHnYrRb3OLMbTf4caBbld5tq8pdVWCDsvt55CvfnEfvRoX_6ZObsuXWRdzxUcmSwCF6pfTqrOzI-uHZGUEBlicVbb99aI4isRK4g3TVSO8hhHljgplPPedGgIv_6pmBoAeU4lcyud0em024grF_FQYLk5c-S922BhXjQwVbQkq-263sUOji__SRCIlEayvd5gipjuxWbZsiO4D7Rnq0.RBZiQfwjiYvppxZXvCBeb1xVFzTqUWff7zAnGlAGt5A&dib_tag=se&keywords=cycle&qid=1708426630&sprefix=cycle%2Caps%2C264&sr=8-4',\n",
       " 'https://www.amazon.in/Leader-Mountain-Bicycle-Without-Single/dp/B089M9HVQP/ref=sr_1_5?crid=RV9DLAON0Q6E&dib=eyJ2IjoiMSJ9.hg_33peHhkAq26rOmGl_KzzwKHnYrRb3OLMbTf4caBbld5tq8pdVWCDsvt55CvfnEfvRoX_6ZObsuXWRdzxUcmSwCF6pfTqrOzI-uHZGUEBlicVbb99aI4isRK4g3TVSO8hhHljgplPPedGgIv_6pmBoAeU4lcyud0em024grF_FQYLk5c-S922BhXjQwVbQkq-263sUOji__SRCIlEayvd5gipjuxWbZsiO4D7Rnq0.RBZiQfwjiYvppxZXvCBeb1xVFzTqUWff7zAnGlAGt5A&dib_tag=se&keywords=cycle&qid=1708426630&sprefix=cycle%2Caps%2C264&sr=8-5',\n",
       " 'https://aax-eu.amazon.in/x/c/RCQhfiKJtp8Wk5t4781-uXsAAAGNximVTQMAAAH2AQBvbm9fdHhuX2JpZDMgICBvbm9fdHhuX2ltcDEgICBpDMu5/https://www.amazon.in/CRADIAC-Mountain-Suspension-7-9Wx76-0Lx40-6H-Unisex-Adult/dp/B0BTW1G9GB/ref=sxin_15_sbv_search_btf?content-id=amzn1.sym.4fe35c1d-da6a-41a4-967c-7a2315a8b22e%3Aamzn1.sym.4fe35c1d-da6a-41a4-967c-7a2315a8b22e&crid=RV9DLAON0Q6E&cv_ct_cx=cycle&dib=eyJ2IjoiMSJ9.ngWzE4PnGbsEWfOVChKACg.XMb6l_FtveoKrPk73ZQG87Ln5iYguMUeokYRYzT6Oyg&dib_tag=se&keywords=cycle&pd_rd_i=B0BTW1G9GB&pd_rd_r=7473bf8c-da76-4dde-9b85-22d31bfe49e3&pd_rd_w=KVW5t&pd_rd_wg=d3Hlk&pf_rd_p=4fe35c1d-da6a-41a4-967c-7a2315a8b22e&pf_rd_r=0883DM2JWSRG0D93CZKR&qid=1708426630&sbo=RZvfv%2F%2FHxDF%2BO5021pAnSA%3D%3D&sprefix=cycle%2Caps%2C264&sr=1-1-b614a050-8d70-4320-9c19-cc457ab2a351',\n",
       " 'https://www.amazon.in/QUESEC-Mercedes-Foldable-Folding-Bicycle/dp/B0BPC535F2/ref=sr_1_6?crid=RV9DLAON0Q6E&dib=eyJ2IjoiMSJ9.hg_33peHhkAq26rOmGl_KzzwKHnYrRb3OLMbTf4caBbld5tq8pdVWCDsvt55CvfnEfvRoX_6ZObsuXWRdzxUcmSwCF6pfTqrOzI-uHZGUEBlicVbb99aI4isRK4g3TVSO8hhHljgplPPedGgIv_6pmBoAeU4lcyud0em024grF_FQYLk5c-S922BhXjQwVbQkq-263sUOji__SRCIlEayvd5gipjuxWbZsiO4D7Rnq0.RBZiQfwjiYvppxZXvCBeb1xVFzTqUWff7zAnGlAGt5A&dib_tag=se&keywords=cycle&qid=1708426630&sprefix=cycle%2Caps%2C264&sr=8-6',\n",
       " 'https://www.amazon.in/Lifelong-LLBC2001-Tribe-Cycle-Yellow/dp/B096FYLB46/ref=sr_1_7?crid=RV9DLAON0Q6E&dib=eyJ2IjoiMSJ9.hg_33peHhkAq26rOmGl_KzzwKHnYrRb3OLMbTf4caBbld5tq8pdVWCDsvt55CvfnEfvRoX_6ZObsuXWRdzxUcmSwCF6pfTqrOzI-uHZGUEBlicVbb99aI4isRK4g3TVSO8hhHljgplPPedGgIv_6pmBoAeU4lcyud0em024grF_FQYLk5c-S922BhXjQwVbQkq-263sUOji__SRCIlEayvd5gipjuxWbZsiO4D7Rnq0.RBZiQfwjiYvppxZXvCBeb1xVFzTqUWff7zAnGlAGt5A&dib_tag=se&keywords=cycle&qid=1708426630&sprefix=cycle%2Caps%2C264&sr=8-7',\n",
       " 'https://www.amazon.in/Leader-Beast-Multispeed-Mountain-Suspension/dp/B0BHPBZSY8/ref=sr_1_8?crid=RV9DLAON0Q6E&dib=eyJ2IjoiMSJ9.hg_33peHhkAq26rOmGl_KzzwKHnYrRb3OLMbTf4caBbld5tq8pdVWCDsvt55CvfnEfvRoX_6ZObsuXWRdzxUcmSwCF6pfTqrOzI-uHZGUEBlicVbb99aI4isRK4g3TVSO8hhHljgplPPedGgIv_6pmBoAeU4lcyud0em024grF_FQYLk5c-S922BhXjQwVbQkq-263sUOji__SRCIlEayvd5gipjuxWbZsiO4D7Rnq0.RBZiQfwjiYvppxZXvCBeb1xVFzTqUWff7zAnGlAGt5A&dib_tag=se&keywords=cycle&qid=1708426630&sprefix=cycle%2Caps%2C264&sr=8-8',\n",
       " 'https://www.amazon.in/Leader-Spyder-27-5T-MTB-Cycle/dp/B0BSS17P4R/ref=sr_1_9?crid=RV9DLAON0Q6E&dib=eyJ2IjoiMSJ9.hg_33peHhkAq26rOmGl_KzzwKHnYrRb3OLMbTf4caBbld5tq8pdVWCDsvt55CvfnEfvRoX_6ZObsuXWRdzxUcmSwCF6pfTqrOzI-uHZGUEBlicVbb99aI4isRK4g3TVSO8hhHljgplPPedGgIv_6pmBoAeU4lcyud0em024grF_FQYLk5c-S922BhXjQwVbQkq-263sUOji__SRCIlEayvd5gipjuxWbZsiO4D7Rnq0.RBZiQfwjiYvppxZXvCBeb1xVFzTqUWff7zAnGlAGt5A&dib_tag=se&keywords=cycle&qid=1708426630&sprefix=cycle%2Caps%2C264&sr=8-9',\n",
       " 'https://www.amazon.in/Lifelong-Rigid-Mountain-Premium-Single/dp/B0BPH3KVRN/ref=sr_1_10?crid=RV9DLAON0Q6E&dib=eyJ2IjoiMSJ9.hg_33peHhkAq26rOmGl_KzzwKHnYrRb3OLMbTf4caBbld5tq8pdVWCDsvt55CvfnEfvRoX_6ZObsuXWRdzxUcmSwCF6pfTqrOzI-uHZGUEBlicVbb99aI4isRK4g3TVSO8hhHljgplPPedGgIv_6pmBoAeU4lcyud0em024grF_FQYLk5c-S922BhXjQwVbQkq-263sUOji__SRCIlEayvd5gipjuxWbZsiO4D7Rnq0.RBZiQfwjiYvppxZXvCBeb1xVFzTqUWff7zAnGlAGt5A&dib_tag=se&keywords=cycle&qid=1708426630&sprefix=cycle%2Caps%2C264&sr=8-10',\n",
       " 'https://www.amazon.in/sspa/click?ie=UTF8&spc=MTo1MDkwMTA2NDAxOTkwMDUwOjE3MDg0MjY2MzA6c3BfbXRmOjMwMDEzMjUxMzI5MzAzMjo6MDo6&url=%2FHORNBACK-Assembled-Foldable-Bicycle-Adults%2Fdp%2FB0CV7CZC14%2Fref%3Dsr_1_11%3Fcrid%3DRV9DLAON0Q6E%26dib%3DeyJ2IjoiMSJ9.hg_33peHhkAq26rOmGl_KzzwKHnYrRb3OLMbTf4caBbld5tq8pdVWCDsvt55CvfnEfvRoX_6ZObsuXWRdzxUcmSwCF6pfTqrOzI-uHZGUEBlicVbb99aI4isRK4g3TVSO8hhHljgplPPedGgIv_6pmBoAeU4lcyud0em024grF_FQYLk5c-S922BhXjQwVbQkq-263sUOji__SRCIlEayvd5gipjuxWbZsiO4D7Rnq0.RBZiQfwjiYvppxZXvCBeb1xVFzTqUWff7zAnGlAGt5A%26dib_tag%3Dse%26keywords%3Dcycle%26qid%3D1708426630%26sprefix%3Dcycle%252Caps%252C264%26sr%3D8-11-spons%26sp_csd%3Dd2lkZ2V0TmFtZT1zcF9tdGY%26psc%3D1',\n",
       " 'https://www.amazon.in/sspa/click?ie=UTF8&spc=MTo1MDkwMTA2NDAxOTkwMDUwOjE3MDg0MjY2MzA6c3BfbXRmOjMwMDEzMjUxMzI5MjczMjo6MDo6&url=%2FHORNBACK-Foldable-20-inch-Stainless-Mechanical%2Fdp%2FB0C7RGHSPL%2Fref%3Dsr_1_12%3Fcrid%3DRV9DLAON0Q6E%26dib%3DeyJ2IjoiMSJ9.hg_33peHhkAq26rOmGl_KzzwKHnYrRb3OLMbTf4caBbld5tq8pdVWCDsvt55CvfnEfvRoX_6ZObsuXWRdzxUcmSwCF6pfTqrOzI-uHZGUEBlicVbb99aI4isRK4g3TVSO8hhHljgplPPedGgIv_6pmBoAeU4lcyud0em024grF_FQYLk5c-S922BhXjQwVbQkq-263sUOji__SRCIlEayvd5gipjuxWbZsiO4D7Rnq0.RBZiQfwjiYvppxZXvCBeb1xVFzTqUWff7zAnGlAGt5A%26dib_tag%3Dse%26keywords%3Dcycle%26qid%3D1708426630%26sprefix%3Dcycle%252Caps%252C264%26sr%3D8-12-spons%26sp_csd%3Dd2lkZ2V0TmFtZT1zcF9tdGY%26psc%3D1',\n",
       " 'https://www.amazon.in/Leader-Mountain-Bicycle-Without-Suspension/dp/B0BYSCSTL7/ref=sr_1_13?crid=RV9DLAON0Q6E&dib=eyJ2IjoiMSJ9.hg_33peHhkAq26rOmGl_KzzwKHnYrRb3OLMbTf4caBbld5tq8pdVWCDsvt55CvfnEfvRoX_6ZObsuXWRdzxUcmSwCF6pfTqrOzI-uHZGUEBlicVbb99aI4isRK4g3TVSO8hhHljgplPPedGgIv_6pmBoAeU4lcyud0em024grF_FQYLk5c-S922BhXjQwVbQkq-263sUOji__SRCIlEayvd5gipjuxWbZsiO4D7Rnq0.RBZiQfwjiYvppxZXvCBeb1xVFzTqUWff7zAnGlAGt5A&dib_tag=se&keywords=cycle&qid=1708426630&sprefix=cycle%2Caps%2C264&sr=8-13',\n",
       " 'https://www.amazon.in/Urban-Terrain-UT7001S27-5-Accessories-Installation/dp/B09RH8MM2H/ref=sr_1_14?crid=RV9DLAON0Q6E&dib=eyJ2IjoiMSJ9.hg_33peHhkAq26rOmGl_KzzwKHnYrRb3OLMbTf4caBbld5tq8pdVWCDsvt55CvfnEfvRoX_6ZObsuXWRdzxUcmSwCF6pfTqrOzI-uHZGUEBlicVbb99aI4isRK4g3TVSO8hhHljgplPPedGgIv_6pmBoAeU4lcyud0em024grF_FQYLk5c-S922BhXjQwVbQkq-263sUOji__SRCIlEayvd5gipjuxWbZsiO4D7Rnq0.RBZiQfwjiYvppxZXvCBeb1xVFzTqUWff7zAnGlAGt5A&dib_tag=se&keywords=cycle&qid=1708426630&sprefix=cycle%2Caps%2C264&sr=8-14',\n",
       " 'https://www.amazon.in/Leader-Lady-Breeze-26T-Integrated/dp/B0BQMXMM61/ref=sr_1_15?crid=RV9DLAON0Q6E&dib=eyJ2IjoiMSJ9.hg_33peHhkAq26rOmGl_KzzwKHnYrRb3OLMbTf4caBbld5tq8pdVWCDsvt55CvfnEfvRoX_6ZObsuXWRdzxUcmSwCF6pfTqrOzI-uHZGUEBlicVbb99aI4isRK4g3TVSO8hhHljgplPPedGgIv_6pmBoAeU4lcyud0em024grF_FQYLk5c-S922BhXjQwVbQkq-263sUOji__SRCIlEayvd5gipjuxWbZsiO4D7Rnq0.RBZiQfwjiYvppxZXvCBeb1xVFzTqUWff7zAnGlAGt5A&dib_tag=se&keywords=cycle&qid=1708426630&sprefix=cycle%2Caps%2C264&sr=8-15',\n",
       " 'https://www.amazon.in/Urban-Terrain-UT1000-MTB-Installation/dp/B09DVZST2V/ref=sr_1_16?crid=RV9DLAON0Q6E&dib=eyJ2IjoiMSJ9.hg_33peHhkAq26rOmGl_KzzwKHnYrRb3OLMbTf4caBbld5tq8pdVWCDsvt55CvfnEfvRoX_6ZObsuXWRdzxUcmSwCF6pfTqrOzI-uHZGUEBlicVbb99aI4isRK4g3TVSO8hhHljgplPPedGgIv_6pmBoAeU4lcyud0em024grF_FQYLk5c-S922BhXjQwVbQkq-263sUOji__SRCIlEayvd5gipjuxWbZsiO4D7Rnq0.RBZiQfwjiYvppxZXvCBeb1xVFzTqUWff7zAnGlAGt5A&dib_tag=se&keywords=cycle&qid=1708426630&sprefix=cycle%2Caps%2C264&sr=8-16',\n",
       " 'https://www.amazon.in/VESCO-Mountain-Suspension-Single-Bicycle/dp/B0B8ZHZBQN/ref=sr_1_17?crid=RV9DLAON0Q6E&dib=eyJ2IjoiMSJ9.hg_33peHhkAq26rOmGl_KzzwKHnYrRb3OLMbTf4caBbld5tq8pdVWCDsvt55CvfnEfvRoX_6ZObsuXWRdzxUcmSwCF6pfTqrOzI-uHZGUEBlicVbb99aI4isRK4g3TVSO8hhHljgplPPedGgIv_6pmBoAeU4lcyud0em024grF_FQYLk5c-S922BhXjQwVbQkq-263sUOji__SRCIlEayvd5gipjuxWbZsiO4D7Rnq0.RBZiQfwjiYvppxZXvCBeb1xVFzTqUWff7zAnGlAGt5A&dib_tag=se&keywords=cycle&qid=1708426630&sprefix=cycle%2Caps%2C264&sr=8-17',\n",
       " 'https://www.amazon.in/Avon-Buke-Draco-Bicycles-Frame/dp/B0BYB592QR/ref=sr_1_18?crid=RV9DLAON0Q6E&dib=eyJ2IjoiMSJ9.hg_33peHhkAq26rOmGl_KzzwKHnYrRb3OLMbTf4caBbld5tq8pdVWCDsvt55CvfnEfvRoX_6ZObsuXWRdzxUcmSwCF6pfTqrOzI-uHZGUEBlicVbb99aI4isRK4g3TVSO8hhHljgplPPedGgIv_6pmBoAeU4lcyud0em024grF_FQYLk5c-S922BhXjQwVbQkq-263sUOji__SRCIlEayvd5gipjuxWbZsiO4D7Rnq0.RBZiQfwjiYvppxZXvCBeb1xVFzTqUWff7zAnGlAGt5A&dib_tag=se&keywords=cycle&qid=1708426630&sprefix=cycle%2Caps%2C264&sr=8-18',\n",
       " 'https://www.amazon.in/Leader-Gladiator-Multispeed-Speed-Suspension/dp/B08VNY6TMH/ref=sr_1_19?crid=RV9DLAON0Q6E&dib=eyJ2IjoiMSJ9.hg_33peHhkAq26rOmGl_KzzwKHnYrRb3OLMbTf4caBbld5tq8pdVWCDsvt55CvfnEfvRoX_6ZObsuXWRdzxUcmSwCF6pfTqrOzI-uHZGUEBlicVbb99aI4isRK4g3TVSO8hhHljgplPPedGgIv_6pmBoAeU4lcyud0em024grF_FQYLk5c-S922BhXjQwVbQkq-263sUOji__SRCIlEayvd5gipjuxWbZsiO4D7Rnq0.RBZiQfwjiYvppxZXvCBeb1xVFzTqUWff7zAnGlAGt5A&dib_tag=se&keywords=cycle&qid=1708426630&sprefix=cycle%2Caps%2C264&sr=8-19',\n",
       " 'https://www.amazon.in/Lifelong-27-5T-Gear-Cycle-Women/dp/B09XF4BPYJ/ref=sr_1_20?crid=RV9DLAON0Q6E&dib=eyJ2IjoiMSJ9.hg_33peHhkAq26rOmGl_KzzwKHnYrRb3OLMbTf4caBbld5tq8pdVWCDsvt55CvfnEfvRoX_6ZObsuXWRdzxUcmSwCF6pfTqrOzI-uHZGUEBlicVbb99aI4isRK4g3TVSO8hhHljgplPPedGgIv_6pmBoAeU4lcyud0em024grF_FQYLk5c-S922BhXjQwVbQkq-263sUOji__SRCIlEayvd5gipjuxWbZsiO4D7Rnq0.RBZiQfwjiYvppxZXvCBeb1xVFzTqUWff7zAnGlAGt5A&dib_tag=se&keywords=cycle&qid=1708426630&sprefix=cycle%2Caps%2C264&sr=8-20',\n",
       " 'https://www.amazon.in/sspa/click?ie=UTF8&spc=MTo1MDkwMTA2NDAxOTkwMDUwOjE3MDg0MjY2MzA6c3BfYnRmOjMwMDExNTQ4ODk2MDUzMjo6MDo6&url=%2FGANTON-XPLOID-26x300-MTB-DUAL-DISC-Front-Shocker-SEMI-TYRE-Single-Speed%2Fdp%2FB0C5WW8G2R%2Fref%3Dsr_1_21%3Fcrid%3DRV9DLAON0Q6E%26dib%3DeyJ2IjoiMSJ9.hg_33peHhkAq26rOmGl_KzzwKHnYrRb3OLMbTf4caBbld5tq8pdVWCDsvt55CvfnEfvRoX_6ZObsuXWRdzxUcmSwCF6pfTqrOzI-uHZGUEBlicVbb99aI4isRK4g3TVSO8hhHljgplPPedGgIv_6pmBoAeU4lcyud0em024grF_FQYLk5c-S922BhXjQwVbQkq-263sUOji__SRCIlEayvd5gipjuxWbZsiO4D7Rnq0.RBZiQfwjiYvppxZXvCBeb1xVFzTqUWff7zAnGlAGt5A%26dib_tag%3Dse%26keywords%3Dcycle%26qid%3D1708426630%26sprefix%3Dcycle%252Caps%252C264%26sr%3D8-21-spons%26sp_csd%3Dd2lkZ2V0TmFtZT1zcF9idGY%26psc%3D1',\n",
       " 'https://www.amazon.in/sspa/click?ie=UTF8&spc=MTo1MDkwMTA2NDAxOTkwMDUwOjE3MDg0MjY2MzA6c3BfYnRmOjMwMDEzMjQ4NDc4OTMzMjo6MDo6&url=%2FHORNBACK-Foldable-Electric-Removable-Battery%2Fdp%2FB0C7RD28Z1%2Fref%3Dsr_1_22%3Fcrid%3DRV9DLAON0Q6E%26dib%3DeyJ2IjoiMSJ9.hg_33peHhkAq26rOmGl_KzzwKHnYrRb3OLMbTf4caBbld5tq8pdVWCDsvt55CvfnEfvRoX_6ZObsuXWRdzxUcmSwCF6pfTqrOzI-uHZGUEBlicVbb99aI4isRK4g3TVSO8hhHljgplPPedGgIv_6pmBoAeU4lcyud0em024grF_FQYLk5c-S922BhXjQwVbQkq-263sUOji__SRCIlEayvd5gipjuxWbZsiO4D7Rnq0.RBZiQfwjiYvppxZXvCBeb1xVFzTqUWff7zAnGlAGt5A%26dib_tag%3Dse%26keywords%3Dcycle%26qid%3D1708426630%26sprefix%3Dcycle%252Caps%252C264%26sr%3D8-22-spons%26sp_csd%3Dd2lkZ2V0TmFtZT1zcF9idGY%26psc%3D1',\n",
       " 'https://aax-eu.amazon.in/x/c/RMcYdZtzAkmefDPCgnbYP3EAAAGNximVZwMAAAH2AQBvbm9fdHhuX2JpZDIgICBvbm9fdHhuX2ltcDEgICDcFZYG/https://www.amazon.in/Lifelong-Gear-Cycle-Women-Micro-Shifter/dp/B0BPHNZZL5/ref=sxbs_sbv_search_btf?content-id=amzn1.sym.7d6d801d-0b91-42f0-9ded-a1900c21a285%3Aamzn1.sym.7d6d801d-0b91-42f0-9ded-a1900c21a285&crid=RV9DLAON0Q6E&cv_ct_cx=cycle&dib=eyJ2IjoiMSJ9.39LnXO1V9jV_f3R1IA9Mvg.WtkccXMe_vG1g5B4T2vn5yRaWOZlzvXuzwGw76PNkWI&dib_tag=se&keywords=cycle&pd_rd_i=B0BPHNZZL5&pd_rd_r=eba39703-938e-4a22-b559-dcac5e0e79b8&pd_rd_w=bLXYe&pd_rd_wg=dgtvJ&pf_rd_p=7d6d801d-0b91-42f0-9ded-a1900c21a285&pf_rd_r=0883DM2JWSRG0D93CZKR&qid=1708426630&sbo=RZvfv%2F%2FHxDF%2BO5021pAnSA%3D%3D&sprefix=cycle%2Caps%2C264&sr=1-1-25dedf61-9bde-4412-952b-c956ef4fc546',\n",
       " 'https://www.amazon.in/sspa/click?ie=UTF8&spc=MTo1MDkwMTA2NDAxOTkwMDUwOjE3MDg0MjY2MzA6c3BfYXRmOjIwMTExOTYzODAxMDk4OjowOjo&url=%2FLifelong-Gear-Cycle-Women-Micro-Shifter%2Fdp%2FB0BPHNZZL5%2Fref%3Dsr_1_1%3Fcrid%3DRV9DLAON0Q6E%26dib%3DeyJ2IjoiMSJ9.hg_33peHhkAq26rOmGl_KzzwKHnYrRb3OLMbTf4caBbld5tq8pdVWCDsvt55CvfnEfvRoX_6ZObsuXWRdzxUcmSwCF6pfTqrOzI-uHZGUEBlicVbb99aI4isRK4g3TVSO8hhHljgplPPedGgIv_6pmBoAeU4lcyud0em024grF_FQYLk5c-S922BhXjQwVbQkq-263sUOji__SRCIlEayvd5gipjuxWbZsiO4D7Rnq0.RBZiQfwjiYvppxZXvCBeb1xVFzTqUWff7zAnGlAGt5A%26dib_tag%3Dse%26keywords%3Dcycle%26qid%3D1708426630%26sprefix%3Dcycle%252Caps%252C264%26sr%3D8-1-spons%26sp_csd%3Dd2lkZ2V0TmFtZT1zcF9hdGY%26psc%3D1',\n",
       " 'https://www.amazon.in/sspa/click?ie=UTF8&spc=MTo1MDkwMTA2NDAxOTkwMDUwOjE3MDg0MjY2MzA6c3BfYXRmOjIwMTE4NDE3MTI2MTk4OjowOjo&url=%2FLeader-Spyder-27-5T-MTB-Cycle%2Fdp%2FB0BSS17P4R%2Fref%3Dsr_1_2%3Fcrid%3DRV9DLAON0Q6E%26dib%3DeyJ2IjoiMSJ9.hg_33peHhkAq26rOmGl_KzzwKHnYrRb3OLMbTf4caBbld5tq8pdVWCDsvt55CvfnEfvRoX_6ZObsuXWRdzxUcmSwCF6pfTqrOzI-uHZGUEBlicVbb99aI4isRK4g3TVSO8hhHljgplPPedGgIv_6pmBoAeU4lcyud0em024grF_FQYLk5c-S922BhXjQwVbQkq-263sUOji__SRCIlEayvd5gipjuxWbZsiO4D7Rnq0.RBZiQfwjiYvppxZXvCBeb1xVFzTqUWff7zAnGlAGt5A%26dib_tag%3Dse%26keywords%3Dcycle%26qid%3D1708426630%26sprefix%3Dcycle%252Caps%252C264%26sr%3D8-2-spons%26sp_csd%3Dd2lkZ2V0TmFtZT1zcF9hdGY%26psc%3D1',\n",
       " 'https://www.amazon.in/Urban-Terrain-UT5000S27-5-Suspension-Installation/dp/B09N18WPNQ/ref=sr_1_3?crid=RV9DLAON0Q6E&dib=eyJ2IjoiMSJ9.hg_33peHhkAq26rOmGl_KzzwKHnYrRb3OLMbTf4caBbld5tq8pdVWCDsvt55CvfnEfvRoX_6ZObsuXWRdzxUcmSwCF6pfTqrOzI-uHZGUEBlicVbb99aI4isRK4g3TVSO8hhHljgplPPedGgIv_6pmBoAeU4lcyud0em024grF_FQYLk5c-S922BhXjQwVbQkq-263sUOji__SRCIlEayvd5gipjuxWbZsiO4D7Rnq0.RBZiQfwjiYvppxZXvCBeb1xVFzTqUWff7zAnGlAGt5A&dib_tag=se&keywords=cycle&qid=1708426630&sprefix=cycle%2Caps%2C264&sr=8-3',\n",
       " 'https://www.amazon.in/MONTRA-Downtown-Geared-700CX35C-Yellow/dp/B09V13XLB8/ref=sr_1_4?crid=RV9DLAON0Q6E&dib=eyJ2IjoiMSJ9.hg_33peHhkAq26rOmGl_KzzwKHnYrRb3OLMbTf4caBbld5tq8pdVWCDsvt55CvfnEfvRoX_6ZObsuXWRdzxUcmSwCF6pfTqrOzI-uHZGUEBlicVbb99aI4isRK4g3TVSO8hhHljgplPPedGgIv_6pmBoAeU4lcyud0em024grF_FQYLk5c-S922BhXjQwVbQkq-263sUOji__SRCIlEayvd5gipjuxWbZsiO4D7Rnq0.RBZiQfwjiYvppxZXvCBeb1xVFzTqUWff7zAnGlAGt5A&dib_tag=se&keywords=cycle&qid=1708426630&sprefix=cycle%2Caps%2C264&sr=8-4',\n",
       " 'https://www.amazon.in/Leader-Mountain-Bicycle-Without-Single/dp/B089M9HVQP/ref=sr_1_5?crid=RV9DLAON0Q6E&dib=eyJ2IjoiMSJ9.hg_33peHhkAq26rOmGl_KzzwKHnYrRb3OLMbTf4caBbld5tq8pdVWCDsvt55CvfnEfvRoX_6ZObsuXWRdzxUcmSwCF6pfTqrOzI-uHZGUEBlicVbb99aI4isRK4g3TVSO8hhHljgplPPedGgIv_6pmBoAeU4lcyud0em024grF_FQYLk5c-S922BhXjQwVbQkq-263sUOji__SRCIlEayvd5gipjuxWbZsiO4D7Rnq0.RBZiQfwjiYvppxZXvCBeb1xVFzTqUWff7zAnGlAGt5A&dib_tag=se&keywords=cycle&qid=1708426630&sprefix=cycle%2Caps%2C264&sr=8-5',\n",
       " 'https://aax-eu.amazon.in/x/c/RCQhfiKJtp8Wk5t4781-uXsAAAGNximVTQMAAAH2AQBvbm9fdHhuX2JpZDMgICBvbm9fdHhuX2ltcDEgICBpDMu5/https://www.amazon.in/CRADIAC-Mountain-Suspension-7-9Wx76-0Lx40-6H-Unisex-Adult/dp/B0BTW1G9GB/ref=sxin_15_sbv_search_btf?content-id=amzn1.sym.4fe35c1d-da6a-41a4-967c-7a2315a8b22e%3Aamzn1.sym.4fe35c1d-da6a-41a4-967c-7a2315a8b22e&crid=RV9DLAON0Q6E&cv_ct_cx=cycle&dib=eyJ2IjoiMSJ9.ngWzE4PnGbsEWfOVChKACg.XMb6l_FtveoKrPk73ZQG87Ln5iYguMUeokYRYzT6Oyg&dib_tag=se&keywords=cycle&pd_rd_i=B0BTW1G9GB&pd_rd_r=7473bf8c-da76-4dde-9b85-22d31bfe49e3&pd_rd_w=KVW5t&pd_rd_wg=d3Hlk&pf_rd_p=4fe35c1d-da6a-41a4-967c-7a2315a8b22e&pf_rd_r=0883DM2JWSRG0D93CZKR&qid=1708426630&sbo=RZvfv%2F%2FHxDF%2BO5021pAnSA%3D%3D&sprefix=cycle%2Caps%2C264&sr=1-1-b614a050-8d70-4320-9c19-cc457ab2a351',\n",
       " 'https://www.amazon.in/QUESEC-Mercedes-Foldable-Folding-Bicycle/dp/B0BPC535F2/ref=sr_1_6?crid=RV9DLAON0Q6E&dib=eyJ2IjoiMSJ9.hg_33peHhkAq26rOmGl_KzzwKHnYrRb3OLMbTf4caBbld5tq8pdVWCDsvt55CvfnEfvRoX_6ZObsuXWRdzxUcmSwCF6pfTqrOzI-uHZGUEBlicVbb99aI4isRK4g3TVSO8hhHljgplPPedGgIv_6pmBoAeU4lcyud0em024grF_FQYLk5c-S922BhXjQwVbQkq-263sUOji__SRCIlEayvd5gipjuxWbZsiO4D7Rnq0.RBZiQfwjiYvppxZXvCBeb1xVFzTqUWff7zAnGlAGt5A&dib_tag=se&keywords=cycle&qid=1708426630&sprefix=cycle%2Caps%2C264&sr=8-6',\n",
       " 'https://www.amazon.in/Lifelong-LLBC2001-Tribe-Cycle-Yellow/dp/B096FYLB46/ref=sr_1_7?crid=RV9DLAON0Q6E&dib=eyJ2IjoiMSJ9.hg_33peHhkAq26rOmGl_KzzwKHnYrRb3OLMbTf4caBbld5tq8pdVWCDsvt55CvfnEfvRoX_6ZObsuXWRdzxUcmSwCF6pfTqrOzI-uHZGUEBlicVbb99aI4isRK4g3TVSO8hhHljgplPPedGgIv_6pmBoAeU4lcyud0em024grF_FQYLk5c-S922BhXjQwVbQkq-263sUOji__SRCIlEayvd5gipjuxWbZsiO4D7Rnq0.RBZiQfwjiYvppxZXvCBeb1xVFzTqUWff7zAnGlAGt5A&dib_tag=se&keywords=cycle&qid=1708426630&sprefix=cycle%2Caps%2C264&sr=8-7',\n",
       " 'https://www.amazon.in/Leader-Beast-Multispeed-Mountain-Suspension/dp/B0BHPBZSY8/ref=sr_1_8?crid=RV9DLAON0Q6E&dib=eyJ2IjoiMSJ9.hg_33peHhkAq26rOmGl_KzzwKHnYrRb3OLMbTf4caBbld5tq8pdVWCDsvt55CvfnEfvRoX_6ZObsuXWRdzxUcmSwCF6pfTqrOzI-uHZGUEBlicVbb99aI4isRK4g3TVSO8hhHljgplPPedGgIv_6pmBoAeU4lcyud0em024grF_FQYLk5c-S922BhXjQwVbQkq-263sUOji__SRCIlEayvd5gipjuxWbZsiO4D7Rnq0.RBZiQfwjiYvppxZXvCBeb1xVFzTqUWff7zAnGlAGt5A&dib_tag=se&keywords=cycle&qid=1708426630&sprefix=cycle%2Caps%2C264&sr=8-8',\n",
       " 'https://www.amazon.in/Leader-Spyder-27-5T-MTB-Cycle/dp/B0BSS17P4R/ref=sr_1_9?crid=RV9DLAON0Q6E&dib=eyJ2IjoiMSJ9.hg_33peHhkAq26rOmGl_KzzwKHnYrRb3OLMbTf4caBbld5tq8pdVWCDsvt55CvfnEfvRoX_6ZObsuXWRdzxUcmSwCF6pfTqrOzI-uHZGUEBlicVbb99aI4isRK4g3TVSO8hhHljgplPPedGgIv_6pmBoAeU4lcyud0em024grF_FQYLk5c-S922BhXjQwVbQkq-263sUOji__SRCIlEayvd5gipjuxWbZsiO4D7Rnq0.RBZiQfwjiYvppxZXvCBeb1xVFzTqUWff7zAnGlAGt5A&dib_tag=se&keywords=cycle&qid=1708426630&sprefix=cycle%2Caps%2C264&sr=8-9',\n",
       " 'https://www.amazon.in/Lifelong-Rigid-Mountain-Premium-Single/dp/B0BPH3KVRN/ref=sr_1_10?crid=RV9DLAON0Q6E&dib=eyJ2IjoiMSJ9.hg_33peHhkAq26rOmGl_KzzwKHnYrRb3OLMbTf4caBbld5tq8pdVWCDsvt55CvfnEfvRoX_6ZObsuXWRdzxUcmSwCF6pfTqrOzI-uHZGUEBlicVbb99aI4isRK4g3TVSO8hhHljgplPPedGgIv_6pmBoAeU4lcyud0em024grF_FQYLk5c-S922BhXjQwVbQkq-263sUOji__SRCIlEayvd5gipjuxWbZsiO4D7Rnq0.RBZiQfwjiYvppxZXvCBeb1xVFzTqUWff7zAnGlAGt5A&dib_tag=se&keywords=cycle&qid=1708426630&sprefix=cycle%2Caps%2C264&sr=8-10',\n",
       " 'https://www.amazon.in/sspa/click?ie=UTF8&spc=MTo1MDkwMTA2NDAxOTkwMDUwOjE3MDg0MjY2MzA6c3BfbXRmOjMwMDEzMjUxMzI5MzAzMjo6MDo6&url=%2FHORNBACK-Assembled-Foldable-Bicycle-Adults%2Fdp%2FB0CV7CZC14%2Fref%3Dsr_1_11%3Fcrid%3DRV9DLAON0Q6E%26dib%3DeyJ2IjoiMSJ9.hg_33peHhkAq26rOmGl_KzzwKHnYrRb3OLMbTf4caBbld5tq8pdVWCDsvt55CvfnEfvRoX_6ZObsuXWRdzxUcmSwCF6pfTqrOzI-uHZGUEBlicVbb99aI4isRK4g3TVSO8hhHljgplPPedGgIv_6pmBoAeU4lcyud0em024grF_FQYLk5c-S922BhXjQwVbQkq-263sUOji__SRCIlEayvd5gipjuxWbZsiO4D7Rnq0.RBZiQfwjiYvppxZXvCBeb1xVFzTqUWff7zAnGlAGt5A%26dib_tag%3Dse%26keywords%3Dcycle%26qid%3D1708426630%26sprefix%3Dcycle%252Caps%252C264%26sr%3D8-11-spons%26sp_csd%3Dd2lkZ2V0TmFtZT1zcF9tdGY%26psc%3D1',\n",
       " 'https://www.amazon.in/sspa/click?ie=UTF8&spc=MTo1MDkwMTA2NDAxOTkwMDUwOjE3MDg0MjY2MzA6c3BfbXRmOjMwMDEzMjUxMzI5MjczMjo6MDo6&url=%2FHORNBACK-Foldable-20-inch-Stainless-Mechanical%2Fdp%2FB0C7RGHSPL%2Fref%3Dsr_1_12%3Fcrid%3DRV9DLAON0Q6E%26dib%3DeyJ2IjoiMSJ9.hg_33peHhkAq26rOmGl_KzzwKHnYrRb3OLMbTf4caBbld5tq8pdVWCDsvt55CvfnEfvRoX_6ZObsuXWRdzxUcmSwCF6pfTqrOzI-uHZGUEBlicVbb99aI4isRK4g3TVSO8hhHljgplPPedGgIv_6pmBoAeU4lcyud0em024grF_FQYLk5c-S922BhXjQwVbQkq-263sUOji__SRCIlEayvd5gipjuxWbZsiO4D7Rnq0.RBZiQfwjiYvppxZXvCBeb1xVFzTqUWff7zAnGlAGt5A%26dib_tag%3Dse%26keywords%3Dcycle%26qid%3D1708426630%26sprefix%3Dcycle%252Caps%252C264%26sr%3D8-12-spons%26sp_csd%3Dd2lkZ2V0TmFtZT1zcF9tdGY%26psc%3D1',\n",
       " 'https://www.amazon.in/Leader-Mountain-Bicycle-Without-Suspension/dp/B0BYSCSTL7/ref=sr_1_13?crid=RV9DLAON0Q6E&dib=eyJ2IjoiMSJ9.hg_33peHhkAq26rOmGl_KzzwKHnYrRb3OLMbTf4caBbld5tq8pdVWCDsvt55CvfnEfvRoX_6ZObsuXWRdzxUcmSwCF6pfTqrOzI-uHZGUEBlicVbb99aI4isRK4g3TVSO8hhHljgplPPedGgIv_6pmBoAeU4lcyud0em024grF_FQYLk5c-S922BhXjQwVbQkq-263sUOji__SRCIlEayvd5gipjuxWbZsiO4D7Rnq0.RBZiQfwjiYvppxZXvCBeb1xVFzTqUWff7zAnGlAGt5A&dib_tag=se&keywords=cycle&qid=1708426630&sprefix=cycle%2Caps%2C264&sr=8-13',\n",
       " 'https://www.amazon.in/Urban-Terrain-UT7001S27-5-Accessories-Installation/dp/B09RH8MM2H/ref=sr_1_14?crid=RV9DLAON0Q6E&dib=eyJ2IjoiMSJ9.hg_33peHhkAq26rOmGl_KzzwKHnYrRb3OLMbTf4caBbld5tq8pdVWCDsvt55CvfnEfvRoX_6ZObsuXWRdzxUcmSwCF6pfTqrOzI-uHZGUEBlicVbb99aI4isRK4g3TVSO8hhHljgplPPedGgIv_6pmBoAeU4lcyud0em024grF_FQYLk5c-S922BhXjQwVbQkq-263sUOji__SRCIlEayvd5gipjuxWbZsiO4D7Rnq0.RBZiQfwjiYvppxZXvCBeb1xVFzTqUWff7zAnGlAGt5A&dib_tag=se&keywords=cycle&qid=1708426630&sprefix=cycle%2Caps%2C264&sr=8-14',\n",
       " 'https://www.amazon.in/Leader-Lady-Breeze-26T-Integrated/dp/B0BQMXMM61/ref=sr_1_15?crid=RV9DLAON0Q6E&dib=eyJ2IjoiMSJ9.hg_33peHhkAq26rOmGl_KzzwKHnYrRb3OLMbTf4caBbld5tq8pdVWCDsvt55CvfnEfvRoX_6ZObsuXWRdzxUcmSwCF6pfTqrOzI-uHZGUEBlicVbb99aI4isRK4g3TVSO8hhHljgplPPedGgIv_6pmBoAeU4lcyud0em024grF_FQYLk5c-S922BhXjQwVbQkq-263sUOji__SRCIlEayvd5gipjuxWbZsiO4D7Rnq0.RBZiQfwjiYvppxZXvCBeb1xVFzTqUWff7zAnGlAGt5A&dib_tag=se&keywords=cycle&qid=1708426630&sprefix=cycle%2Caps%2C264&sr=8-15',\n",
       " 'https://www.amazon.in/Urban-Terrain-UT1000-MTB-Installation/dp/B09DVZST2V/ref=sr_1_16?crid=RV9DLAON0Q6E&dib=eyJ2IjoiMSJ9.hg_33peHhkAq26rOmGl_KzzwKHnYrRb3OLMbTf4caBbld5tq8pdVWCDsvt55CvfnEfvRoX_6ZObsuXWRdzxUcmSwCF6pfTqrOzI-uHZGUEBlicVbb99aI4isRK4g3TVSO8hhHljgplPPedGgIv_6pmBoAeU4lcyud0em024grF_FQYLk5c-S922BhXjQwVbQkq-263sUOji__SRCIlEayvd5gipjuxWbZsiO4D7Rnq0.RBZiQfwjiYvppxZXvCBeb1xVFzTqUWff7zAnGlAGt5A&dib_tag=se&keywords=cycle&qid=1708426630&sprefix=cycle%2Caps%2C264&sr=8-16',\n",
       " 'https://www.amazon.in/VESCO-Mountain-Suspension-Single-Bicycle/dp/B0B8ZHZBQN/ref=sr_1_17?crid=RV9DLAON0Q6E&dib=eyJ2IjoiMSJ9.hg_33peHhkAq26rOmGl_KzzwKHnYrRb3OLMbTf4caBbld5tq8pdVWCDsvt55CvfnEfvRoX_6ZObsuXWRdzxUcmSwCF6pfTqrOzI-uHZGUEBlicVbb99aI4isRK4g3TVSO8hhHljgplPPedGgIv_6pmBoAeU4lcyud0em024grF_FQYLk5c-S922BhXjQwVbQkq-263sUOji__SRCIlEayvd5gipjuxWbZsiO4D7Rnq0.RBZiQfwjiYvppxZXvCBeb1xVFzTqUWff7zAnGlAGt5A&dib_tag=se&keywords=cycle&qid=1708426630&sprefix=cycle%2Caps%2C264&sr=8-17',\n",
       " 'https://www.amazon.in/Avon-Buke-Draco-Bicycles-Frame/dp/B0BYB592QR/ref=sr_1_18?crid=RV9DLAON0Q6E&dib=eyJ2IjoiMSJ9.hg_33peHhkAq26rOmGl_KzzwKHnYrRb3OLMbTf4caBbld5tq8pdVWCDsvt55CvfnEfvRoX_6ZObsuXWRdzxUcmSwCF6pfTqrOzI-uHZGUEBlicVbb99aI4isRK4g3TVSO8hhHljgplPPedGgIv_6pmBoAeU4lcyud0em024grF_FQYLk5c-S922BhXjQwVbQkq-263sUOji__SRCIlEayvd5gipjuxWbZsiO4D7Rnq0.RBZiQfwjiYvppxZXvCBeb1xVFzTqUWff7zAnGlAGt5A&dib_tag=se&keywords=cycle&qid=1708426630&sprefix=cycle%2Caps%2C264&sr=8-18',\n",
       " 'https://www.amazon.in/Leader-Gladiator-Multispeed-Speed-Suspension/dp/B08VNY6TMH/ref=sr_1_19?crid=RV9DLAON0Q6E&dib=eyJ2IjoiMSJ9.hg_33peHhkAq26rOmGl_KzzwKHnYrRb3OLMbTf4caBbld5tq8pdVWCDsvt55CvfnEfvRoX_6ZObsuXWRdzxUcmSwCF6pfTqrOzI-uHZGUEBlicVbb99aI4isRK4g3TVSO8hhHljgplPPedGgIv_6pmBoAeU4lcyud0em024grF_FQYLk5c-S922BhXjQwVbQkq-263sUOji__SRCIlEayvd5gipjuxWbZsiO4D7Rnq0.RBZiQfwjiYvppxZXvCBeb1xVFzTqUWff7zAnGlAGt5A&dib_tag=se&keywords=cycle&qid=1708426630&sprefix=cycle%2Caps%2C264&sr=8-19',\n",
       " 'https://www.amazon.in/Lifelong-27-5T-Gear-Cycle-Women/dp/B09XF4BPYJ/ref=sr_1_20?crid=RV9DLAON0Q6E&dib=eyJ2IjoiMSJ9.hg_33peHhkAq26rOmGl_KzzwKHnYrRb3OLMbTf4caBbld5tq8pdVWCDsvt55CvfnEfvRoX_6ZObsuXWRdzxUcmSwCF6pfTqrOzI-uHZGUEBlicVbb99aI4isRK4g3TVSO8hhHljgplPPedGgIv_6pmBoAeU4lcyud0em024grF_FQYLk5c-S922BhXjQwVbQkq-263sUOji__SRCIlEayvd5gipjuxWbZsiO4D7Rnq0.RBZiQfwjiYvppxZXvCBeb1xVFzTqUWff7zAnGlAGt5A&dib_tag=se&keywords=cycle&qid=1708426630&sprefix=cycle%2Caps%2C264&sr=8-20',\n",
       " 'https://www.amazon.in/sspa/click?ie=UTF8&spc=MTo1MDkwMTA2NDAxOTkwMDUwOjE3MDg0MjY2MzA6c3BfYnRmOjMwMDExNTQ4ODk2MDUzMjo6MDo6&url=%2FGANTON-XPLOID-26x300-MTB-DUAL-DISC-Front-Shocker-SEMI-TYRE-Single-Speed%2Fdp%2FB0C5WW8G2R%2Fref%3Dsr_1_21%3Fcrid%3DRV9DLAON0Q6E%26dib%3DeyJ2IjoiMSJ9.hg_33peHhkAq26rOmGl_KzzwKHnYrRb3OLMbTf4caBbld5tq8pdVWCDsvt55CvfnEfvRoX_6ZObsuXWRdzxUcmSwCF6pfTqrOzI-uHZGUEBlicVbb99aI4isRK4g3TVSO8hhHljgplPPedGgIv_6pmBoAeU4lcyud0em024grF_FQYLk5c-S922BhXjQwVbQkq-263sUOji__SRCIlEayvd5gipjuxWbZsiO4D7Rnq0.RBZiQfwjiYvppxZXvCBeb1xVFzTqUWff7zAnGlAGt5A%26dib_tag%3Dse%26keywords%3Dcycle%26qid%3D1708426630%26sprefix%3Dcycle%252Caps%252C264%26sr%3D8-21-spons%26sp_csd%3Dd2lkZ2V0TmFtZT1zcF9idGY%26psc%3D1',\n",
       " 'https://www.amazon.in/sspa/click?ie=UTF8&spc=MTo1MDkwMTA2NDAxOTkwMDUwOjE3MDg0MjY2MzA6c3BfYnRmOjMwMDEzMjQ4NDc4OTMzMjo6MDo6&url=%2FHORNBACK-Foldable-Electric-Removable-Battery%2Fdp%2FB0C7RD28Z1%2Fref%3Dsr_1_22%3Fcrid%3DRV9DLAON0Q6E%26dib%3DeyJ2IjoiMSJ9.hg_33peHhkAq26rOmGl_KzzwKHnYrRb3OLMbTf4caBbld5tq8pdVWCDsvt55CvfnEfvRoX_6ZObsuXWRdzxUcmSwCF6pfTqrOzI-uHZGUEBlicVbb99aI4isRK4g3TVSO8hhHljgplPPedGgIv_6pmBoAeU4lcyud0em024grF_FQYLk5c-S922BhXjQwVbQkq-263sUOji__SRCIlEayvd5gipjuxWbZsiO4D7Rnq0.RBZiQfwjiYvppxZXvCBeb1xVFzTqUWff7zAnGlAGt5A%26dib_tag%3Dse%26keywords%3Dcycle%26qid%3D1708426630%26sprefix%3Dcycle%252Caps%252C264%26sr%3D8-22-spons%26sp_csd%3Dd2lkZ2V0TmFtZT1zcF9idGY%26psc%3D1',\n",
       " 'https://aax-eu.amazon.in/x/c/RMcYdZtzAkmefDPCgnbYP3EAAAGNximVZwMAAAH2AQBvbm9fdHhuX2JpZDIgICBvbm9fdHhuX2ltcDEgICDcFZYG/https://www.amazon.in/Lifelong-Gear-Cycle-Women-Micro-Shifter/dp/B0BPHNZZL5/ref=sxbs_sbv_search_btf?content-id=amzn1.sym.7d6d801d-0b91-42f0-9ded-a1900c21a285%3Aamzn1.sym.7d6d801d-0b91-42f0-9ded-a1900c21a285&crid=RV9DLAON0Q6E&cv_ct_cx=cycle&dib=eyJ2IjoiMSJ9.39LnXO1V9jV_f3R1IA9Mvg.WtkccXMe_vG1g5B4T2vn5yRaWOZlzvXuzwGw76PNkWI&dib_tag=se&keywords=cycle&pd_rd_i=B0BPHNZZL5&pd_rd_r=eba39703-938e-4a22-b559-dcac5e0e79b8&pd_rd_w=bLXYe&pd_rd_wg=dgtvJ&pf_rd_p=7d6d801d-0b91-42f0-9ded-a1900c21a285&pf_rd_r=0883DM2JWSRG0D93CZKR&qid=1708426630&sbo=RZvfv%2F%2FHxDF%2BO5021pAnSA%3D%3D&sprefix=cycle%2Caps%2C264&sr=1-1-25dedf61-9bde-4412-952b-c956ef4fc546']"
      ]
     },
     "execution_count": 29,
     "metadata": {},
     "output_type": "execute_result"
    }
   ],
   "source": [
    "product_open_url"
   ]
  },
  {
   "cell_type": "code",
   "execution_count": 30,
   "id": "f5f635cc",
   "metadata": {},
   "outputs": [],
   "source": [
    "#scraping brand name for the product\n",
    "b_name=[]\n",
    "for i in product_open_url:\n",
    "    driver.get(i)\n",
    "    time.sleep(2)\n",
    "    try:\n",
    "        name=driver.find_element(By.XPATH,'/html/body/div[2]/div/div[5]/div[3]/div[4]/div[44]/div/table/tbody/tr[3]/td[2]/span')\n",
    "        b_name.append(name.text)\n",
    "    except NoSuchElementException :\n",
    "            b_name.append('-')"
   ]
  },
  {
   "cell_type": "code",
   "execution_count": 31,
   "id": "e301e369",
   "metadata": {},
   "outputs": [
    {
     "data": {
      "text/plain": [
       "72"
      ]
     },
     "execution_count": 31,
     "metadata": {},
     "output_type": "execute_result"
    }
   ],
   "source": [
    "len(b_name)"
   ]
  },
  {
   "cell_type": "code",
   "execution_count": 32,
   "id": "cb7f02e0",
   "metadata": {},
   "outputs": [
    {
     "data": {
      "text/plain": [
       "['Lifelong',\n",
       " 'Leader',\n",
       " 'Urban Terrain',\n",
       " '-',\n",
       " 'Leader',\n",
       " 'CRADIAC',\n",
       " 'QUESEC',\n",
       " 'Lifelong',\n",
       " '-',\n",
       " 'Leader',\n",
       " 'Lifelong',\n",
       " 'HORNBACK',\n",
       " 'HORNBACK',\n",
       " 'Leader',\n",
       " 'Urban Terrain',\n",
       " 'Leader',\n",
       " 'Urban Terrain',\n",
       " 'VESCO',\n",
       " 'Avon',\n",
       " 'Leader',\n",
       " 'Lifelong',\n",
       " 'GANTON',\n",
       " 'HORNBACK',\n",
       " 'Lifelong',\n",
       " 'Lifelong',\n",
       " 'Leader',\n",
       " 'Urban Terrain',\n",
       " '-',\n",
       " 'Leader',\n",
       " 'CRADIAC',\n",
       " 'QUESEC',\n",
       " 'Lifelong',\n",
       " '-',\n",
       " 'Leader',\n",
       " 'Lifelong',\n",
       " 'HORNBACK',\n",
       " 'HORNBACK',\n",
       " 'Leader',\n",
       " 'Urban Terrain',\n",
       " 'Leader',\n",
       " 'Urban Terrain',\n",
       " 'VESCO',\n",
       " 'Avon',\n",
       " 'Leader',\n",
       " 'Lifelong',\n",
       " 'GANTON',\n",
       " 'HORNBACK',\n",
       " 'Lifelong',\n",
       " 'Lifelong',\n",
       " 'Leader',\n",
       " 'Urban Terrain',\n",
       " '-',\n",
       " 'Leader',\n",
       " 'CRADIAC',\n",
       " 'QUESEC',\n",
       " 'Lifelong',\n",
       " '-',\n",
       " 'Leader',\n",
       " 'Lifelong',\n",
       " 'HORNBACK',\n",
       " 'HORNBACK',\n",
       " 'Leader',\n",
       " 'Urban Terrain',\n",
       " 'Leader',\n",
       " 'Urban Terrain',\n",
       " 'VESCO',\n",
       " 'Avon',\n",
       " '-',\n",
       " 'Lifelong',\n",
       " 'GANTON',\n",
       " 'HORNBACK',\n",
       " 'Lifelong']"
      ]
     },
     "execution_count": 32,
     "metadata": {},
     "output_type": "execute_result"
    }
   ],
   "source": [
    "b_name"
   ]
  },
  {
   "cell_type": "code",
   "execution_count": 33,
   "id": "5700d91a",
   "metadata": {},
   "outputs": [],
   "source": [
    "\n",
    "#scraping product type for the product\n",
    "\n",
    "b_product=[]\n",
    "\n",
    "for i in product_open_url:\n",
    "    driver.get(i)\n",
    "    time.sleep(2)\n",
    "    try:\n",
    "        product=driver.find_element(By.XPATH,'/html/body/div[2]/div/div[5]/div[3]/div[4]/div[44]/div/table/tbody/tr[1]/td[2]/span')\n",
    "        b_product.append(product.text)\n",
    "    except NoSuchElementException :\n",
    "            b_product.append('-')"
   ]
  },
  {
   "cell_type": "code",
   "execution_count": 34,
   "id": "b058c38e",
   "metadata": {},
   "outputs": [
    {
     "data": {
      "text/plain": [
       "72"
      ]
     },
     "execution_count": 34,
     "metadata": {},
     "output_type": "execute_result"
    }
   ],
   "source": [
    "len(b_product)"
   ]
  },
  {
   "cell_type": "code",
   "execution_count": 35,
   "id": "53c69563",
   "metadata": {},
   "outputs": [
    {
     "data": {
      "text/plain": [
       "['Road Bike',\n",
       " 'Mountain Bike',\n",
       " 'Mountain Bike',\n",
       " '-',\n",
       " 'Mountain Bike',\n",
       " 'Mountain Bike',\n",
       " 'Folding Bike',\n",
       " 'Kids Bike',\n",
       " '-',\n",
       " 'Mountain Bike',\n",
       " 'Road Bike',\n",
       " 'Hybrid Bike',\n",
       " 'Hybrid Bike',\n",
       " 'Mountain Bike',\n",
       " 'City Bike',\n",
       " 'Road Bike',\n",
       " 'Mountain Bike',\n",
       " 'Mountain Bike',\n",
       " 'City Bike',\n",
       " 'Mountain Bike',\n",
       " 'Freeride Bike',\n",
       " 'Mountain Bike',\n",
       " 'Electric Bike',\n",
       " 'Road Bike',\n",
       " 'Road Bike',\n",
       " 'Mountain Bike',\n",
       " 'Mountain Bike',\n",
       " '-',\n",
       " 'Mountain Bike',\n",
       " 'Mountain Bike',\n",
       " 'Folding Bike',\n",
       " 'Kids Bike',\n",
       " '-',\n",
       " 'Mountain Bike',\n",
       " 'Road Bike',\n",
       " 'Hybrid Bike',\n",
       " 'Hybrid Bike',\n",
       " 'Mountain Bike',\n",
       " 'City Bike',\n",
       " 'Road Bike',\n",
       " 'Mountain Bike',\n",
       " 'Mountain Bike',\n",
       " 'City Bike',\n",
       " 'Mountain Bike',\n",
       " 'Freeride Bike',\n",
       " 'Mountain Bike',\n",
       " 'Electric Bike',\n",
       " 'Road Bike',\n",
       " 'Road Bike',\n",
       " 'Mountain Bike',\n",
       " 'Mountain Bike',\n",
       " '-',\n",
       " 'Mountain Bike',\n",
       " 'Mountain Bike',\n",
       " 'Folding Bike',\n",
       " 'Kids Bike',\n",
       " '-',\n",
       " 'Mountain Bike',\n",
       " 'Road Bike',\n",
       " 'Hybrid Bike',\n",
       " 'Hybrid Bike',\n",
       " 'Mountain Bike',\n",
       " 'City Bike',\n",
       " 'Road Bike',\n",
       " 'Mountain Bike',\n",
       " 'Mountain Bike',\n",
       " 'City Bike',\n",
       " 'Mountain Bike',\n",
       " 'Freeride Bike',\n",
       " 'Mountain Bike',\n",
       " 'Electric Bike',\n",
       " 'Road Bike']"
      ]
     },
     "execution_count": 35,
     "metadata": {},
     "output_type": "execute_result"
    }
   ],
   "source": [
    "b_product"
   ]
  },
  {
   "cell_type": "code",
   "execution_count": null,
   "id": "3f2fb963",
   "metadata": {},
   "outputs": [],
   "source": []
  },
  {
   "cell_type": "code",
   "execution_count": 37,
   "id": "9b60c24a",
   "metadata": {},
   "outputs": [],
   "source": [
    "#scraping price of the product\n",
    "\n",
    "b_price=[]\n",
    "for i in product_open_url:\n",
    "    driver.get(i)\n",
    "    time.sleep(2)\n",
    "    try:\n",
    "        price=driver.find_element(By.XPATH,'/html/body/div[2]/div/div[5]/div[3]/div[1]/div[3]/div/div[1]/div/div/div/form/div/div/div/div/div[3]/div/div[1]/div/div/span[1]/span[2]/span[2]')\n",
    "        b_price.append(price.text)\n",
    "    except NoSuchElementException :\n",
    "            b_price.append('-')"
   ]
  },
  {
   "cell_type": "code",
   "execution_count": 38,
   "id": "840d8d8e",
   "metadata": {},
   "outputs": [
    {
     "data": {
      "text/plain": [
       "72"
      ]
     },
     "execution_count": 38,
     "metadata": {},
     "output_type": "execute_result"
    }
   ],
   "source": [
    "len(b_price)"
   ]
  },
  {
   "cell_type": "code",
   "execution_count": 39,
   "id": "919ac1c1",
   "metadata": {},
   "outputs": [
    {
     "data": {
      "text/plain": [
       "['7,999',\n",
       " '4,499',\n",
       " '6,499',\n",
       " '-',\n",
       " '3,999',\n",
       " '19,299',\n",
       " '11,497',\n",
       " '3,999',\n",
       " '-',\n",
       " '4,499',\n",
       " '4,499',\n",
       " '14,999',\n",
       " '22,999',\n",
       " '5,999',\n",
       " '4,999',\n",
       " '4,999',\n",
       " '10,999',\n",
       " '4,999',\n",
       " '4,899',\n",
       " '7,999',\n",
       " '11,499',\n",
       " '8,350',\n",
       " '44,999',\n",
       " '7,999',\n",
       " '7,999',\n",
       " '4,499',\n",
       " '6,499',\n",
       " '-',\n",
       " '3,999',\n",
       " '19,299',\n",
       " '11,497',\n",
       " '3,999',\n",
       " '-',\n",
       " '4,499',\n",
       " '4,499',\n",
       " '14,999',\n",
       " '22,999',\n",
       " '5,999',\n",
       " '4,999',\n",
       " '4,999',\n",
       " '10,999',\n",
       " '4,999',\n",
       " '4,899',\n",
       " '7,999',\n",
       " '11,499',\n",
       " '8,350',\n",
       " '44,999',\n",
       " '7,999',\n",
       " '7,999',\n",
       " '4,499',\n",
       " '6,499',\n",
       " '-',\n",
       " '3,999',\n",
       " '19,299',\n",
       " '11,497',\n",
       " '3,999',\n",
       " '-',\n",
       " '4,499',\n",
       " '4,499',\n",
       " '14,999',\n",
       " '22,999',\n",
       " '5,999',\n",
       " '4,999',\n",
       " '4,999',\n",
       " '10,999',\n",
       " '4,999',\n",
       " '4,899',\n",
       " '7,999',\n",
       " '11,499',\n",
       " '8,350',\n",
       " '44,999',\n",
       " '7,999']"
      ]
     },
     "execution_count": 39,
     "metadata": {},
     "output_type": "execute_result"
    }
   ],
   "source": [
    "b_price\n"
   ]
  },
  {
   "cell_type": "code",
   "execution_count": 40,
   "id": "891f58c6",
   "metadata": {},
   "outputs": [],
   "source": [
    "# scrapping delivery of the product\n",
    "\n",
    "\n",
    "b_delivery=[]\n",
    "for i in product_open_url:\n",
    "    driver.get(i)\n",
    "    time.sleep(2)\n",
    "    try:\n",
    "        delivery=driver.find_element(By.XPATH,'/html/body/div[2]/div/div[5]/div[3]/div[1]/div[3]/div/div[1]/div/div/div/form/div/div/div/div/div[4]/div/div[3]/div[10]/div[1]/div/div/div/span/span[1]')\n",
    "        b_delivery.append(delivery.text)\n",
    "    except NoSuchElementException :\n",
    "            b_delivery.append('-')\n",
    "\n"
   ]
  },
  {
   "cell_type": "code",
   "execution_count": 41,
   "id": "5ce9bbb4",
   "metadata": {},
   "outputs": [
    {
     "data": {
      "text/plain": [
       "72"
      ]
     },
     "execution_count": 41,
     "metadata": {},
     "output_type": "execute_result"
    }
   ],
   "source": [
    "len(b_delivery)"
   ]
  },
  {
   "cell_type": "code",
   "execution_count": 42,
   "id": "b7b2c64d",
   "metadata": {},
   "outputs": [
    {
     "data": {
      "text/plain": [
       "['Thursday, 22 February, 7 AM - 9 PM',\n",
       " 'Thursday, 22 February, 7 AM - 9 PM',\n",
       " 'Tuesday, 27 February, 8 AM - 5 PM',\n",
       " '-',\n",
       " 'Thursday, 22 February, 7 AM - 9 PM',\n",
       " '1 - 5 March',\n",
       " '26 - 29 February',\n",
       " 'Thursday, 22 February',\n",
       " '-',\n",
       " 'Thursday, 22 February, 7 AM - 9 PM',\n",
       " 'Friday, 1 March, 8 AM - 5 PM',\n",
       " '24 - 27 February',\n",
       " '24 - 27 February',\n",
       " 'Thursday, 22 February, 7 AM - 9 PM',\n",
       " 'Tuesday, 5 March, 8 AM - 5 PM',\n",
       " 'Thursday, 22 February, 7 AM - 9 PM',\n",
       " 'Thursday, 29 February, 8 AM - 5 PM',\n",
       " 'Tuesday, 27 February, 8 AM - 5 PM',\n",
       " 'Thursday, 22 February, 7 AM - 9 PM',\n",
       " 'Thursday, 22 February, 7 AM - 9 PM',\n",
       " 'Thursday, 22 February, 7 AM - 9 PM',\n",
       " '26 - 29 February',\n",
       " '24 - 27 February',\n",
       " 'Thursday, 22 February, 7 AM - 9 PM',\n",
       " 'Thursday, 22 February, 7 AM - 9 PM',\n",
       " 'Thursday, 22 February, 7 AM - 9 PM',\n",
       " 'Tuesday, 27 February, 8 AM - 5 PM',\n",
       " '-',\n",
       " 'Thursday, 22 February, 7 AM - 9 PM',\n",
       " '1 - 5 March',\n",
       " '26 - 29 February',\n",
       " 'Thursday, 22 February',\n",
       " '-',\n",
       " 'Thursday, 22 February, 7 AM - 9 PM',\n",
       " 'Friday, 1 March, 8 AM - 5 PM',\n",
       " '24 - 27 February',\n",
       " '24 - 27 February',\n",
       " 'Thursday, 22 February, 7 AM - 9 PM',\n",
       " 'Tuesday, 5 March, 8 AM - 5 PM',\n",
       " 'Thursday, 22 February, 7 AM - 9 PM',\n",
       " 'Thursday, 29 February, 8 AM - 5 PM',\n",
       " 'Tuesday, 27 February, 8 AM - 5 PM',\n",
       " 'Thursday, 22 February, 7 AM - 9 PM',\n",
       " 'Thursday, 22 February, 7 AM - 9 PM',\n",
       " 'Thursday, 22 February, 7 AM - 9 PM',\n",
       " '26 - 29 February',\n",
       " '24 - 27 February',\n",
       " 'Thursday, 22 February, 7 AM - 9 PM',\n",
       " 'Thursday, 22 February, 7 AM - 9 PM',\n",
       " 'Thursday, 22 February, 7 AM - 9 PM',\n",
       " 'Tuesday, 27 February, 8 AM - 5 PM',\n",
       " '-',\n",
       " 'Thursday, 22 February, 7 AM - 9 PM',\n",
       " '1 - 5 March',\n",
       " '26 - 29 February',\n",
       " 'Thursday, 22 February',\n",
       " '-',\n",
       " 'Thursday, 22 February, 7 AM - 9 PM',\n",
       " 'Friday, 1 March, 8 AM - 5 PM',\n",
       " '24 - 27 February',\n",
       " '24 - 27 February',\n",
       " 'Thursday, 22 February, 7 AM - 9 PM',\n",
       " 'Tuesday, 5 March, 8 AM - 5 PM',\n",
       " 'Thursday, 22 February, 7 AM - 9 PM',\n",
       " 'Thursday, 29 February, 8 AM - 5 PM',\n",
       " 'Tuesday, 27 February, 8 AM - 5 PM',\n",
       " 'Thursday, 22 February, 7 AM - 9 PM',\n",
       " 'Thursday, 22 February, 7 AM - 9 PM',\n",
       " 'Thursday, 22 February, 7 AM - 9 PM',\n",
       " '26 - 29 February',\n",
       " '24 - 27 February',\n",
       " 'Thursday, 22 February, 7 AM - 9 PM']"
      ]
     },
     "execution_count": 42,
     "metadata": {},
     "output_type": "execute_result"
    }
   ],
   "source": [
    "b_delivery"
   ]
  },
  {
   "cell_type": "code",
   "execution_count": 43,
   "id": "e4114bae",
   "metadata": {},
   "outputs": [],
   "source": [
    "# scraping data for avaibility\n",
    "\n",
    "b_avaibility=[]\n",
    "for i in product_open_url:\n",
    "    driver.get(i)\n",
    "    time.sleep(2)\n",
    "    try:\n",
    "        available=driver.find_element(By.XPATH,'/html/body/div[2]/div/div[5]/div[3]/div[1]/div[3]/div/div[1]/div/div/div/form/div/div/div/div/div[4]/div/div[5]/div/div[1]/span')\n",
    "        b_avaibility.append(available.text)\n",
    "    except NoSuchElementException :\n",
    "            b_avaibility.append('-')"
   ]
  },
  {
   "cell_type": "code",
   "execution_count": 44,
   "id": "fe0ade38",
   "metadata": {},
   "outputs": [
    {
     "data": {
      "text/plain": [
       "72"
      ]
     },
     "execution_count": 44,
     "metadata": {},
     "output_type": "execute_result"
    }
   ],
   "source": [
    "len(b_avaibility)"
   ]
  },
  {
   "cell_type": "code",
   "execution_count": 45,
   "id": "8f99db52",
   "metadata": {},
   "outputs": [
    {
     "data": {
      "text/plain": [
       "['In stock',\n",
       " 'In stock',\n",
       " 'In stock',\n",
       " '-',\n",
       " 'In stock',\n",
       " 'In stock',\n",
       " 'In stock',\n",
       " 'In stock',\n",
       " '-',\n",
       " 'In stock',\n",
       " 'In stock',\n",
       " 'In stock',\n",
       " 'In stock',\n",
       " 'In stock',\n",
       " 'In stock',\n",
       " 'In stock',\n",
       " 'In stock',\n",
       " 'In stock',\n",
       " 'In stock',\n",
       " 'In stock',\n",
       " 'In stock',\n",
       " 'In stock',\n",
       " 'In stock',\n",
       " 'In stock',\n",
       " 'In stock',\n",
       " 'In stock',\n",
       " 'In stock',\n",
       " '-',\n",
       " 'In stock',\n",
       " 'In stock',\n",
       " 'In stock',\n",
       " 'In stock',\n",
       " '-',\n",
       " 'In stock',\n",
       " 'In stock',\n",
       " 'In stock',\n",
       " 'In stock',\n",
       " 'In stock',\n",
       " 'In stock',\n",
       " 'In stock',\n",
       " 'In stock',\n",
       " 'In stock',\n",
       " 'In stock',\n",
       " 'In stock',\n",
       " 'In stock',\n",
       " 'In stock',\n",
       " 'In stock',\n",
       " 'In stock',\n",
       " 'In stock',\n",
       " 'In stock',\n",
       " 'In stock',\n",
       " '-',\n",
       " 'In stock',\n",
       " 'In stock',\n",
       " 'In stock',\n",
       " 'In stock',\n",
       " '-',\n",
       " 'In stock',\n",
       " 'In stock',\n",
       " 'In stock',\n",
       " 'In stock',\n",
       " 'In stock',\n",
       " 'In stock',\n",
       " 'In stock',\n",
       " 'In stock',\n",
       " 'In stock',\n",
       " 'In stock',\n",
       " 'In stock',\n",
       " 'In stock',\n",
       " 'In stock',\n",
       " 'In stock',\n",
       " 'In stock']"
      ]
     },
     "execution_count": 45,
     "metadata": {},
     "output_type": "execute_result"
    }
   ],
   "source": [
    "b_avaibility"
   ]
  },
  {
   "cell_type": "code",
   "execution_count": null,
   "id": "5b4eeaa0",
   "metadata": {},
   "outputs": [],
   "source": []
  },
  {
   "cell_type": "code",
   "execution_count": 46,
   "id": "4106b0a2",
   "metadata": {},
   "outputs": [
    {
     "data": {
      "text/html": [
       "<div>\n",
       "<style scoped>\n",
       "    .dataframe tbody tr th:only-of-type {\n",
       "        vertical-align: middle;\n",
       "    }\n",
       "\n",
       "    .dataframe tbody tr th {\n",
       "        vertical-align: top;\n",
       "    }\n",
       "\n",
       "    .dataframe thead th {\n",
       "        text-align: right;\n",
       "    }\n",
       "</style>\n",
       "<table border=\"1\" class=\"dataframe\">\n",
       "  <thead>\n",
       "    <tr style=\"text-align: right;\">\n",
       "      <th></th>\n",
       "      <th>Brand Name</th>\n",
       "      <th>Product Type</th>\n",
       "      <th>Price</th>\n",
       "      <th>Expected Delivery</th>\n",
       "      <th>Product Avaibility</th>\n",
       "    </tr>\n",
       "  </thead>\n",
       "  <tbody>\n",
       "    <tr>\n",
       "      <th>0</th>\n",
       "      <td>Lifelong</td>\n",
       "      <td>Road Bike</td>\n",
       "      <td>7,999</td>\n",
       "      <td>Thursday, 22 February, 7 AM - 9 PM</td>\n",
       "      <td>In stock</td>\n",
       "    </tr>\n",
       "    <tr>\n",
       "      <th>1</th>\n",
       "      <td>Leader</td>\n",
       "      <td>Mountain Bike</td>\n",
       "      <td>4,499</td>\n",
       "      <td>Thursday, 22 February, 7 AM - 9 PM</td>\n",
       "      <td>In stock</td>\n",
       "    </tr>\n",
       "    <tr>\n",
       "      <th>2</th>\n",
       "      <td>Urban Terrain</td>\n",
       "      <td>Mountain Bike</td>\n",
       "      <td>6,499</td>\n",
       "      <td>Tuesday, 27 February, 8 AM - 5 PM</td>\n",
       "      <td>In stock</td>\n",
       "    </tr>\n",
       "    <tr>\n",
       "      <th>3</th>\n",
       "      <td>-</td>\n",
       "      <td>-</td>\n",
       "      <td>-</td>\n",
       "      <td>-</td>\n",
       "      <td>-</td>\n",
       "    </tr>\n",
       "    <tr>\n",
       "      <th>4</th>\n",
       "      <td>Leader</td>\n",
       "      <td>Mountain Bike</td>\n",
       "      <td>3,999</td>\n",
       "      <td>Thursday, 22 February, 7 AM - 9 PM</td>\n",
       "      <td>In stock</td>\n",
       "    </tr>\n",
       "    <tr>\n",
       "      <th>...</th>\n",
       "      <td>...</td>\n",
       "      <td>...</td>\n",
       "      <td>...</td>\n",
       "      <td>...</td>\n",
       "      <td>...</td>\n",
       "    </tr>\n",
       "    <tr>\n",
       "      <th>67</th>\n",
       "      <td>-</td>\n",
       "      <td>Mountain Bike</td>\n",
       "      <td>7,999</td>\n",
       "      <td>Thursday, 22 February, 7 AM - 9 PM</td>\n",
       "      <td>In stock</td>\n",
       "    </tr>\n",
       "    <tr>\n",
       "      <th>68</th>\n",
       "      <td>Lifelong</td>\n",
       "      <td>Freeride Bike</td>\n",
       "      <td>11,499</td>\n",
       "      <td>Thursday, 22 February, 7 AM - 9 PM</td>\n",
       "      <td>In stock</td>\n",
       "    </tr>\n",
       "    <tr>\n",
       "      <th>69</th>\n",
       "      <td>GANTON</td>\n",
       "      <td>Mountain Bike</td>\n",
       "      <td>8,350</td>\n",
       "      <td>26 - 29 February</td>\n",
       "      <td>In stock</td>\n",
       "    </tr>\n",
       "    <tr>\n",
       "      <th>70</th>\n",
       "      <td>HORNBACK</td>\n",
       "      <td>Electric Bike</td>\n",
       "      <td>44,999</td>\n",
       "      <td>24 - 27 February</td>\n",
       "      <td>In stock</td>\n",
       "    </tr>\n",
       "    <tr>\n",
       "      <th>71</th>\n",
       "      <td>Lifelong</td>\n",
       "      <td>Road Bike</td>\n",
       "      <td>7,999</td>\n",
       "      <td>Thursday, 22 February, 7 AM - 9 PM</td>\n",
       "      <td>In stock</td>\n",
       "    </tr>\n",
       "  </tbody>\n",
       "</table>\n",
       "<p>72 rows × 5 columns</p>\n",
       "</div>"
      ],
      "text/plain": [
       "       Brand Name   Product Type   Price                   Expected Delivery  \\\n",
       "0        Lifelong      Road Bike   7,999  Thursday, 22 February, 7 AM - 9 PM   \n",
       "1          Leader  Mountain Bike   4,499  Thursday, 22 February, 7 AM - 9 PM   \n",
       "2   Urban Terrain  Mountain Bike   6,499   Tuesday, 27 February, 8 AM - 5 PM   \n",
       "3               -              -       -                                   -   \n",
       "4          Leader  Mountain Bike   3,999  Thursday, 22 February, 7 AM - 9 PM   \n",
       "..            ...            ...     ...                                 ...   \n",
       "67              -  Mountain Bike   7,999  Thursday, 22 February, 7 AM - 9 PM   \n",
       "68       Lifelong  Freeride Bike  11,499  Thursday, 22 February, 7 AM - 9 PM   \n",
       "69         GANTON  Mountain Bike   8,350                    26 - 29 February   \n",
       "70       HORNBACK  Electric Bike  44,999                    24 - 27 February   \n",
       "71       Lifelong      Road Bike   7,999  Thursday, 22 February, 7 AM - 9 PM   \n",
       "\n",
       "   Product Avaibility  \n",
       "0            In stock  \n",
       "1            In stock  \n",
       "2            In stock  \n",
       "3                   -  \n",
       "4            In stock  \n",
       "..                ...  \n",
       "67           In stock  \n",
       "68           In stock  \n",
       "69           In stock  \n",
       "70           In stock  \n",
       "71           In stock  \n",
       "\n",
       "[72 rows x 5 columns]"
      ]
     },
     "execution_count": 46,
     "metadata": {},
     "output_type": "execute_result"
    }
   ],
   "source": [
    "import pandas as pd\n",
    "df=pd.DataFrame({'Brand Name':b_name, 'Product Type':b_product,'Price':b_price, 'Expected Delivery':b_delivery,\n",
    "                 'Product Avaibility':b_avaibility})\n",
    "\n",
    "df"
   ]
  },
  {
   "cell_type": "code",
   "execution_count": 47,
   "id": "dd8f5d35",
   "metadata": {},
   "outputs": [],
   "source": [
    "df.to_csv('selenium assingment 3_1.csv')"
   ]
  },
  {
   "cell_type": "markdown",
   "id": "93fd4e96",
   "metadata": {},
   "source": [
    "# Q3"
   ]
  },
  {
   "cell_type": "code",
   "execution_count": 23,
   "id": "ec73ba03",
   "metadata": {},
   "outputs": [],
   "source": [
    "driver=webdriver.Chrome()"
   ]
  },
  {
   "cell_type": "code",
   "execution_count": 24,
   "id": "bf7eb118",
   "metadata": {},
   "outputs": [],
   "source": [
    "driver.get('https://images.google.com/')"
   ]
  },
  {
   "cell_type": "code",
   "execution_count": 25,
   "id": "175bafc5",
   "metadata": {},
   "outputs": [],
   "source": [
    "image=driver.find_element(By.XPATH,'/html/body/div[1]/div[3]/form/div[1]/div[1]/div[1]/div/div[2]/textarea')\n",
    "image.send_keys('cake')"
   ]
  },
  {
   "cell_type": "code",
   "execution_count": 27,
   "id": "a4009713",
   "metadata": {},
   "outputs": [],
   "source": [
    "search=driver.find_element(By.XPATH,'/html/body/div[1]/div[3]/form/div[1]/div[1]/div[1]/button')\n",
    "search.click()\n"
   ]
  },
  {
   "cell_type": "code",
   "execution_count": 100,
   "id": "49d24a4b",
   "metadata": {},
   "outputs": [
    {
     "data": {
      "text/plain": [
       "33"
      ]
     },
     "execution_count": 100,
     "metadata": {},
     "output_type": "execute_result"
    }
   ],
   "source": [
    "for _ in range(20):\n",
    "    driver.execute_script(\"window.scrollBy(0,500)\")\n",
    "    \n",
    "images= driver.find_elements(By.XPATH,'//img[@class=\"rg_i Q4LuWd\"]')\n",
    "\n",
    "img_urls = []\n",
    "img_data = []\n",
    "for image in images:\n",
    "    source= image.get_attribute('src')\n",
    "    if source is not None:\n",
    "        if(source[0:4] == 'http'):\n",
    "            img_urls.append(source)\n",
    "len(img_urls)\n",
    "\n",
    "\n",
    "    \n"
   ]
  },
  {
   "cell_type": "code",
   "execution_count": 101,
   "id": "9f6cdc1a",
   "metadata": {},
   "outputs": [
    {
     "name": "stdout",
     "output_type": "stream",
     "text": [
      "Downloading 0 of 10 images\n",
      "Downloading 1 of 10 images\n",
      "Downloading 2 of 10 images\n",
      "Downloading 3 of 10 images\n",
      "Downloading 4 of 10 images\n",
      "Downloading 5 of 10 images\n",
      "Downloading 6 of 10 images\n",
      "Downloading 7 of 10 images\n",
      "Downloading 8 of 10 images\n",
      "Downloading 9 of 10 images\n"
     ]
    }
   ],
   "source": [
    "for i in range(len(img_urls)):\n",
    "    if i >= 10:\n",
    "        break\n",
    "    print(\"Downloading {0} of {1} images\" .format(i, 10))\n",
    "    response= requests.get(img_urls[i])\n",
    "    file = open(r\"C:\\Users\\Priyanka\\OneDrive\\Desktop\\sl3 images\" +str(i)+\".jpg\", \"wb\")\n",
    "    file.write(response.content)"
   ]
  },
  {
   "cell_type": "code",
   "execution_count": 28,
   "id": "f9730bac",
   "metadata": {},
   "outputs": [],
   "source": [
    "driver.close()"
   ]
  },
  {
   "cell_type": "markdown",
   "id": "863bf458",
   "metadata": {},
   "source": [
    "# 4. program to find a smartphone details"
   ]
  },
  {
   "cell_type": "code",
   "execution_count": 103,
   "id": "812de3ee",
   "metadata": {},
   "outputs": [],
   "source": [
    "driver=webdriver.Chrome()"
   ]
  },
  {
   "cell_type": "code",
   "execution_count": 104,
   "id": "7b061d8b",
   "metadata": {},
   "outputs": [],
   "source": [
    "driver.get('https://flipkart.com')"
   ]
  },
  {
   "cell_type": "code",
   "execution_count": 105,
   "id": "52fd3d01",
   "metadata": {},
   "outputs": [],
   "source": [
    "product=driver.find_element(By.XPATH,'/html/body/div/div/div[1]/div[1]/div[2]/div[2]/form/div/div/input')\n",
    "product.send_keys('oneplus nord pixel 4a')"
   ]
  },
  {
   "cell_type": "code",
   "execution_count": 106,
   "id": "007622de",
   "metadata": {},
   "outputs": [],
   "source": [
    "search=driver.find_element(By.XPATH,'/html/body/div/div/div[1]/div[1]/div[2]/div[2]/form/div/button')\n",
    "search.click()"
   ]
  },
  {
   "cell_type": "code",
   "execution_count": 107,
   "id": "3c707ad9",
   "metadata": {},
   "outputs": [],
   "source": [
    "# fetching url to open each product\n",
    "\n",
    "product_open_url = []\n",
    "url=driver.find_elements(By.XPATH,'//a[@class=\"_1fQZEK\"]')\n",
    "for i in url:\n",
    "    product_open_url.append(i.get_attribute('href'))\n",
    "    "
   ]
  },
  {
   "cell_type": "code",
   "execution_count": 108,
   "id": "c3f76a71",
   "metadata": {},
   "outputs": [
    {
     "data": {
      "text/plain": [
       "9"
      ]
     },
     "execution_count": 108,
     "metadata": {},
     "output_type": "execute_result"
    }
   ],
   "source": [
    "len(url)"
   ]
  },
  {
   "cell_type": "code",
   "execution_count": 109,
   "id": "775e21bf",
   "metadata": {},
   "outputs": [
    {
     "data": {
      "text/plain": [
       "[<selenium.webdriver.remote.webelement.WebElement (session=\"973aa5b06858f5005bc785f8c9b4ac72\", element=\"95327E6324FAA199B60E6900A886259C_element_226\")>,\n",
       " <selenium.webdriver.remote.webelement.WebElement (session=\"973aa5b06858f5005bc785f8c9b4ac72\", element=\"95327E6324FAA199B60E6900A886259C_element_227\")>,\n",
       " <selenium.webdriver.remote.webelement.WebElement (session=\"973aa5b06858f5005bc785f8c9b4ac72\", element=\"95327E6324FAA199B60E6900A886259C_element_228\")>,\n",
       " <selenium.webdriver.remote.webelement.WebElement (session=\"973aa5b06858f5005bc785f8c9b4ac72\", element=\"95327E6324FAA199B60E6900A886259C_element_229\")>,\n",
       " <selenium.webdriver.remote.webelement.WebElement (session=\"973aa5b06858f5005bc785f8c9b4ac72\", element=\"95327E6324FAA199B60E6900A886259C_element_230\")>,\n",
       " <selenium.webdriver.remote.webelement.WebElement (session=\"973aa5b06858f5005bc785f8c9b4ac72\", element=\"95327E6324FAA199B60E6900A886259C_element_231\")>,\n",
       " <selenium.webdriver.remote.webelement.WebElement (session=\"973aa5b06858f5005bc785f8c9b4ac72\", element=\"95327E6324FAA199B60E6900A886259C_element_232\")>,\n",
       " <selenium.webdriver.remote.webelement.WebElement (session=\"973aa5b06858f5005bc785f8c9b4ac72\", element=\"95327E6324FAA199B60E6900A886259C_element_233\")>,\n",
       " <selenium.webdriver.remote.webelement.WebElement (session=\"973aa5b06858f5005bc785f8c9b4ac72\", element=\"95327E6324FAA199B60E6900A886259C_element_234\")>]"
      ]
     },
     "execution_count": 109,
     "metadata": {},
     "output_type": "execute_result"
    }
   ],
   "source": [
    "url"
   ]
  },
  {
   "cell_type": "code",
   "execution_count": 111,
   "id": "bdae2a48",
   "metadata": {},
   "outputs": [],
   "source": [
    "b_name=[]\n",
    "s_name=[]\n",
    "b_colour=[]\n",
    "b_ram=[]\n",
    "b_rom=[]\n",
    "b_pcamera=[]\n",
    "b_scamera=[]\n",
    "b_size=[]\n",
    "b_capacity=[]\n",
    "b_price=[]\n",
    "b_url=[]"
   ]
  },
  {
   "cell_type": "code",
   "execution_count": 112,
   "id": "732b319f",
   "metadata": {},
   "outputs": [],
   "source": [
    "# scraping brand name of the product\n",
    "\n",
    "for i in product_open_url:\n",
    "    driver.get(i)\n",
    "    time.sleep(2)\n",
    "    try:\n",
    "        name=driver.find_element(By.XPATH,'/html/body/div[1]/div/div[3]/div[1]/div[2]/div[1]/div[1]/div/div[4]/a')\n",
    "        b_name.append(name.text)\n",
    "    except NoSuchElementException :\n",
    "            b_name.append('-')\n"
   ]
  },
  {
   "cell_type": "code",
   "execution_count": 113,
   "id": "19e4823b",
   "metadata": {},
   "outputs": [
    {
     "data": {
      "text/plain": [
       "9"
      ]
     },
     "execution_count": 113,
     "metadata": {},
     "output_type": "execute_result"
    }
   ],
   "source": [
    "len(b_name)"
   ]
  },
  {
   "cell_type": "code",
   "execution_count": 114,
   "id": "52a3f1d2",
   "metadata": {},
   "outputs": [
    {
     "data": {
      "text/plain": [
       "['OnePlus Mobiles',\n",
       " 'OnePlus Mobiles',\n",
       " 'OnePlus Mobiles',\n",
       " 'OnePlus Mobiles',\n",
       " 'OnePlus Mobiles',\n",
       " 'OnePlus Mobiles',\n",
       " 'OnePlus Mobiles',\n",
       " 'OnePlus Mobiles',\n",
       " 'OnePlus Mobiles']"
      ]
     },
     "execution_count": 114,
     "metadata": {},
     "output_type": "execute_result"
    }
   ],
   "source": [
    "b_name"
   ]
  },
  {
   "cell_type": "code",
   "execution_count": 118,
   "id": "ff1d046c",
   "metadata": {},
   "outputs": [],
   "source": [
    "#scarping data for smartphone name\n",
    "\n",
    "for i in product_open_url:\n",
    "    driver.get(i)\n",
    "    time.sleep(2)\n",
    "    try:\n",
    "        sname=driver.find_element(By.XPATH,'/html/body/div[1]/div/div[3]/div[1]/div[2]/div[2]/div/div[1]/h1/span')\n",
    "        s_name.append(sname.text)\n",
    "    except NoSuchElementException :\n",
    "            s_name.append('-')"
   ]
  },
  {
   "cell_type": "code",
   "execution_count": 119,
   "id": "8ccfb3a6",
   "metadata": {},
   "outputs": [
    {
     "data": {
      "text/plain": [
       "18"
      ]
     },
     "execution_count": 119,
     "metadata": {},
     "output_type": "execute_result"
    }
   ],
   "source": [
    "len(s_name)"
   ]
  },
  {
   "cell_type": "code",
   "execution_count": 120,
   "id": "63f217f5",
   "metadata": {},
   "outputs": [
    {
     "data": {
      "text/plain": [
       "['Nord CE 2 5G',\n",
       " '-',\n",
       " '-',\n",
       " '-',\n",
       " '-',\n",
       " '-',\n",
       " '-',\n",
       " '-',\n",
       " '-',\n",
       " 'OnePlus Nord CE 2 5G (Bahama Blue, 128 GB)  (8 GB RAM)',\n",
       " 'OnePlus Nord CE 2 5G (Gray Mirror, 128 GB)  (8 GB RAM)',\n",
       " 'OnePlus Nord (Gray Onyx, 64 GB)  (6 GB RAM)',\n",
       " 'OnePlus Nord (Blue Marble, 128 GB)  (8 GB RAM)',\n",
       " 'OnePlus Nord (Blue Marble, 64 GB)  (6 GB RAM)',\n",
       " 'OnePlus Nord (Gray Onyx, 256 GB)  (12 GB RAM)',\n",
       " 'OnePlus Nord (Blue Marble, 256 GB)  (12 GB RAM)',\n",
       " 'OnePlus Nord (Gray Onyx, 128 GB)  (8 GB RAM)',\n",
       " 'OnePlus Nord CE 2 5G (Gray Mirror, 128 GB)  (6 GB RAM)']"
      ]
     },
     "execution_count": 120,
     "metadata": {},
     "output_type": "execute_result"
    }
   ],
   "source": [
    "s_name"
   ]
  },
  {
   "cell_type": "code",
   "execution_count": 61,
   "id": "5bc67155",
   "metadata": {},
   "outputs": [],
   "source": [
    "#scraping product for colour\n",
    "for i in product_open_url:\n",
    "    driver.get(i)\n",
    "    time.sleep(2)\n",
    "    try:\n",
    "        colour=driver.find_element(By.XPATH,'/html/body/div[1]/div/div[3]/div[1]/div[2]/div[2]/div/div[1]/h1/span')\n",
    "        b_colour.append(colour.text)\n",
    "    except NoSuchElementException :\n",
    "            b_colour.append('-')"
   ]
  },
  {
   "cell_type": "code",
   "execution_count": 62,
   "id": "5477fb16",
   "metadata": {},
   "outputs": [
    {
     "data": {
      "text/plain": [
       "9"
      ]
     },
     "execution_count": 62,
     "metadata": {},
     "output_type": "execute_result"
    }
   ],
   "source": [
    "len(b_colour)"
   ]
  },
  {
   "cell_type": "code",
   "execution_count": 63,
   "id": "cfc50d48",
   "metadata": {},
   "outputs": [
    {
     "data": {
      "text/plain": [
       "['OnePlus Nord CE 2 5G (Bahama Blue, 128 GB)  (8 GB RAM)',\n",
       " 'OnePlus Nord (Gray Onyx, 64 GB)  (6 GB RAM)',\n",
       " 'OnePlus Nord (Blue Marble, 128 GB)  (8 GB RAM)',\n",
       " 'OnePlus Nord (Blue Marble, 64 GB)  (6 GB RAM)',\n",
       " 'OnePlus Nord (Blue Marble, 256 GB)  (12 GB RAM)',\n",
       " 'OnePlus Nord (Gray Onyx, 128 GB)  (8 GB RAM)',\n",
       " 'OnePlus Nord (Gray Onyx, 256 GB)  (12 GB RAM)',\n",
       " 'OnePlus Nord CE 2 5G (Gray Mirror, 128 GB)  (8 GB RAM)',\n",
       " 'OnePlus Nord CE 2 5G (Gray Mirror, 128 GB)  (6 GB RAM)']"
      ]
     },
     "execution_count": 63,
     "metadata": {},
     "output_type": "execute_result"
    }
   ],
   "source": [
    "b_colour"
   ]
  },
  {
   "cell_type": "code",
   "execution_count": 64,
   "id": "56882f12",
   "metadata": {},
   "outputs": [],
   "source": [
    "#scraping product for ram\n",
    "\n",
    "for i in product_open_url:\n",
    "    driver.get(i)\n",
    "    time.sleep(2)\n",
    "    try:\n",
    "        ram=driver.find_element(By.XPATH,'/html/body/div[1]/div/div[3]/div[1]/div[2]/div[6]/div[1]/div/div[2]/ul/li[1]')\n",
    "        b_ram.append(ram.text)\n",
    "    except NoSuchElementException :\n",
    "            b_ram.append('-')"
   ]
  },
  {
   "cell_type": "code",
   "execution_count": 65,
   "id": "b92fdea5",
   "metadata": {},
   "outputs": [
    {
     "data": {
      "text/plain": [
       "9"
      ]
     },
     "execution_count": 65,
     "metadata": {},
     "output_type": "execute_result"
    }
   ],
   "source": [
    "len(b_ram)"
   ]
  },
  {
   "cell_type": "code",
   "execution_count": 66,
   "id": "926da663",
   "metadata": {},
   "outputs": [
    {
     "data": {
      "text/plain": [
       "['-',\n",
       " '6 GB RAM | 64 GB ROM',\n",
       " '8 GB RAM | 128 GB ROM',\n",
       " '6 GB RAM | 64 GB ROM',\n",
       " '12 GB RAM | 256 GB ROM',\n",
       " '8 GB RAM | 128 GB ROM',\n",
       " '12 GB RAM | 256 GB ROM',\n",
       " '-',\n",
       " '6 GB RAM | 128 GB ROM']"
      ]
     },
     "execution_count": 66,
     "metadata": {},
     "output_type": "execute_result"
    }
   ],
   "source": [
    "b_ram"
   ]
  },
  {
   "cell_type": "code",
   "execution_count": 67,
   "id": "afa40f39",
   "metadata": {},
   "outputs": [],
   "source": [
    "#scraping product for rom\n",
    "\n",
    "for i in product_open_url:\n",
    "    driver.get(i)\n",
    "    time.sleep(2)\n",
    "    try:\n",
    "        rom=driver.find_element(By.XPATH,'/html/body/div[1]/div/div[3]/div[1]/div[2]/div[6]/div[1]/div/div[2]/ul/li[1]')\n",
    "        b_rom.append(rom.text)\n",
    "    except NoSuchElementException :\n",
    "            b_rom.append('-')"
   ]
  },
  {
   "cell_type": "code",
   "execution_count": 68,
   "id": "79fe1118",
   "metadata": {},
   "outputs": [
    {
     "data": {
      "text/plain": [
       "9"
      ]
     },
     "execution_count": 68,
     "metadata": {},
     "output_type": "execute_result"
    }
   ],
   "source": [
    "len(b_rom)"
   ]
  },
  {
   "cell_type": "code",
   "execution_count": 69,
   "id": "b8716bf5",
   "metadata": {},
   "outputs": [
    {
     "data": {
      "text/plain": [
       "['8 GB RAM | 128 GB ROM',\n",
       " '6 GB RAM | 64 GB ROM',\n",
       " '8 GB RAM | 128 GB ROM',\n",
       " '6 GB RAM | 64 GB ROM',\n",
       " '12 GB RAM | 256 GB ROM',\n",
       " '8 GB RAM | 128 GB ROM',\n",
       " '12 GB RAM | 256 GB ROM',\n",
       " '-',\n",
       " '6 GB RAM | 128 GB ROM']"
      ]
     },
     "execution_count": 69,
     "metadata": {},
     "output_type": "execute_result"
    }
   ],
   "source": [
    "b_rom"
   ]
  },
  {
   "cell_type": "code",
   "execution_count": 70,
   "id": "00926e68",
   "metadata": {},
   "outputs": [],
   "source": [
    "#scraping data for  primary camera\n",
    "\n",
    "for i in product_open_url:\n",
    "    driver.get(i)\n",
    "    time.sleep(2)\n",
    "    try:\n",
    "        pcamera=driver.find_element(By.XPATH,'/html/body/div[1]/div/div[3]/div[1]/div[2]/div[6]/div[1]/div/div[2]/ul/li[3]')\n",
    "        b_pcamera.append(pcamera.text)\n",
    "    except NoSuchElementException :\n",
    "            b_pcamera.append('-')"
   ]
  },
  {
   "cell_type": "code",
   "execution_count": 71,
   "id": "8f72bae9",
   "metadata": {},
   "outputs": [
    {
     "data": {
      "text/plain": [
       "9"
      ]
     },
     "execution_count": 71,
     "metadata": {},
     "output_type": "execute_result"
    }
   ],
   "source": [
    "len(b_pcamera)"
   ]
  },
  {
   "cell_type": "code",
   "execution_count": 72,
   "id": "48d45573",
   "metadata": {},
   "outputs": [
    {
     "data": {
      "text/plain": [
       "['64MP Rear Camera',\n",
       " '48MP + 8MP | 32MP + 8MP Dual Front Camera',\n",
       " '48MP + 8MP | 32MP + 8MP Dual Front Camera',\n",
       " '48MP + 8MP | 32MP + 8MP Dual Front Camera',\n",
       " '48MP + 8MP | 32MP + 8MP Dual Front Camera',\n",
       " '48MP + 8MP | 32MP + 8MP Dual Front Camera',\n",
       " '48MP + 8MP | 32MP + 8MP Dual Front Camera',\n",
       " '-',\n",
       " '64MP Rear Camera | 16MP Front Camera']"
      ]
     },
     "execution_count": 72,
     "metadata": {},
     "output_type": "execute_result"
    }
   ],
   "source": [
    "b_pcamera"
   ]
  },
  {
   "cell_type": "code",
   "execution_count": 73,
   "id": "f14a6cbb",
   "metadata": {},
   "outputs": [],
   "source": [
    "#scraping data for secondary camera\n",
    "\n",
    "for i in product_open_url:\n",
    "    driver.get(i)\n",
    "    time.sleep(2)\n",
    "    try:\n",
    "        scamera=driver.find_element(By.XPATH,'/html/body/div[1]/div/div[3]/div[1]/div[2]/div[6]/div[1]/div/div[2]/ul/li[3]')\n",
    "        b_scamera.append(scamera.text)\n",
    "    except NoSuchElementException :\n",
    "            b_scamera.append('-')"
   ]
  },
  {
   "cell_type": "code",
   "execution_count": 74,
   "id": "88f0f65b",
   "metadata": {},
   "outputs": [
    {
     "data": {
      "text/plain": [
       "9"
      ]
     },
     "execution_count": 74,
     "metadata": {},
     "output_type": "execute_result"
    }
   ],
   "source": [
    "len(b_scamera)"
   ]
  },
  {
   "cell_type": "code",
   "execution_count": 75,
   "id": "1a012ca5",
   "metadata": {},
   "outputs": [
    {
     "data": {
      "text/plain": [
       "['64MP Rear Camera',\n",
       " '48MP + 8MP | 32MP + 8MP Dual Front Camera',\n",
       " '48MP + 8MP | 32MP + 8MP Dual Front Camera',\n",
       " '48MP + 8MP | 32MP + 8MP Dual Front Camera',\n",
       " '48MP + 8MP | 32MP + 8MP Dual Front Camera',\n",
       " '48MP + 8MP | 32MP + 8MP Dual Front Camera',\n",
       " '48MP + 8MP | 32MP + 8MP Dual Front Camera',\n",
       " '-',\n",
       " '64MP Rear Camera | 16MP Front Camera']"
      ]
     },
     "execution_count": 75,
     "metadata": {},
     "output_type": "execute_result"
    }
   ],
   "source": [
    "b_scamera"
   ]
  },
  {
   "cell_type": "code",
   "execution_count": 76,
   "id": "d177a3c4",
   "metadata": {},
   "outputs": [],
   "source": [
    "# scraping data for size\n",
    "\n",
    "for i in product_open_url:\n",
    "    driver.get(i)\n",
    "    time.sleep(2)\n",
    "    try:\n",
    "        size=driver.find_element(By.XPATH,'/html/body/div[1]/div/div[3]/div[1]/div[2]/div[6]/div[1]/div/div[2]/ul/li[2]')\n",
    "        b_size.append(size.text)\n",
    "    except NoSuchElementException :\n",
    "            b_size.append('-')"
   ]
  },
  {
   "cell_type": "code",
   "execution_count": 77,
   "id": "e9f5bd36",
   "metadata": {},
   "outputs": [
    {
     "data": {
      "text/plain": [
       "9"
      ]
     },
     "execution_count": 77,
     "metadata": {},
     "output_type": "execute_result"
    }
   ],
   "source": [
    "len(b_size)"
   ]
  },
  {
   "cell_type": "code",
   "execution_count": 78,
   "id": "e7f189b4",
   "metadata": {},
   "outputs": [
    {
     "data": {
      "text/plain": [
       "['16.33 cm (6.43 inch) Display',\n",
       " '16.36 cm (6.44 inch) Full HD+ Display',\n",
       " '16.36 cm (6.44 inch) Full HD+ Display',\n",
       " '16.36 cm (6.44 inch) Full HD+ Display',\n",
       " '16.36 cm (6.44 inch) Full HD+ Display',\n",
       " '16.36 cm (6.44 inch) Full HD+ Display',\n",
       " '16.36 cm (6.44 inch) Full HD+ Display',\n",
       " '-',\n",
       " '16.33 cm (6.43 inch) Display']"
      ]
     },
     "execution_count": 78,
     "metadata": {},
     "output_type": "execute_result"
    }
   ],
   "source": [
    "b_size"
   ]
  },
  {
   "cell_type": "code",
   "execution_count": 79,
   "id": "0265e3dc",
   "metadata": {},
   "outputs": [],
   "source": [
    "#scraping data for capacity\n",
    "\n",
    "for i in product_open_url:\n",
    "    driver.get(i)\n",
    "    time.sleep(2)\n",
    "    try:\n",
    "        capacity=driver.find_element(By.XPATH,'/html/body/div[1]/div/div[3]/div[1]/div[2]/div[6]/div[1]/div/div[2]/ul/li[4]')\n",
    "        b_capacity.append(capacity.text)\n",
    "    except NoSuchElementException :\n",
    "            b_capacity.append('-')"
   ]
  },
  {
   "cell_type": "code",
   "execution_count": 80,
   "id": "799b94b1",
   "metadata": {},
   "outputs": [
    {
     "data": {
      "text/plain": [
       "9"
      ]
     },
     "execution_count": 80,
     "metadata": {},
     "output_type": "execute_result"
    }
   ],
   "source": [
    "len(b_capacity)"
   ]
  },
  {
   "cell_type": "code",
   "execution_count": 81,
   "id": "06bd80d7",
   "metadata": {},
   "outputs": [
    {
     "data": {
      "text/plain": [
       "['4500 mAh Battery',\n",
       " '4115 mAh Battery',\n",
       " '4115 mAh Battery',\n",
       " '4115 mAh Battery',\n",
       " '4115 mAh Battery',\n",
       " '4115 mAh Battery',\n",
       " '4115 mAh Battery',\n",
       " '-',\n",
       " '4500 mAh Battery']"
      ]
     },
     "execution_count": 81,
     "metadata": {},
     "output_type": "execute_result"
    }
   ],
   "source": [
    "b_capacity"
   ]
  },
  {
   "cell_type": "code",
   "execution_count": 82,
   "id": "3943f48b",
   "metadata": {},
   "outputs": [],
   "source": [
    "#scraping data for price\n",
    "\n",
    "for i in product_open_url:\n",
    "    driver.get(i)\n",
    "    time.sleep(2)\n",
    "    try:\n",
    "        price=driver.find_element(By.XPATH,'/html/body/div[1]/div/div[3]/div[1]/div[2]/div[2]/div/div[3]/div[1]/div/div')\n",
    "        b_price.append(price.text)\n",
    "    except NoSuchElementException :\n",
    "            b_price.append('-')"
   ]
  },
  {
   "cell_type": "code",
   "execution_count": 83,
   "id": "67973378",
   "metadata": {},
   "outputs": [
    {
     "data": {
      "text/plain": [
       "9"
      ]
     },
     "execution_count": 83,
     "metadata": {},
     "output_type": "execute_result"
    }
   ],
   "source": [
    "len(b_price)"
   ]
  },
  {
   "cell_type": "code",
   "execution_count": 84,
   "id": "c1c08e82",
   "metadata": {},
   "outputs": [
    {
     "data": {
      "text/plain": [
       "['-', '-', '₹24,790', '-', '-', '-', '-', '₹17,999', '₹19,999']"
      ]
     },
     "execution_count": 84,
     "metadata": {},
     "output_type": "execute_result"
    }
   ],
   "source": [
    "b_price"
   ]
  },
  {
   "cell_type": "code",
   "execution_count": 85,
   "id": "cb01c0ea",
   "metadata": {},
   "outputs": [
    {
     "data": {
      "text/html": [
       "<div>\n",
       "<style scoped>\n",
       "    .dataframe tbody tr th:only-of-type {\n",
       "        vertical-align: middle;\n",
       "    }\n",
       "\n",
       "    .dataframe tbody tr th {\n",
       "        vertical-align: top;\n",
       "    }\n",
       "\n",
       "    .dataframe thead th {\n",
       "        text-align: right;\n",
       "    }\n",
       "</style>\n",
       "<table border=\"1\" class=\"dataframe\">\n",
       "  <thead>\n",
       "    <tr style=\"text-align: right;\">\n",
       "      <th></th>\n",
       "      <th>Brand Name</th>\n",
       "      <th>Smartphone Name</th>\n",
       "      <th>Colour</th>\n",
       "      <th>RAM</th>\n",
       "      <th>ROM</th>\n",
       "      <th>Primary Camera</th>\n",
       "      <th>Secondary Camera</th>\n",
       "      <th>Size</th>\n",
       "      <th>Capacity</th>\n",
       "      <th>price</th>\n",
       "    </tr>\n",
       "  </thead>\n",
       "  <tbody>\n",
       "    <tr>\n",
       "      <th>0</th>\n",
       "      <td>-</td>\n",
       "      <td>OnePlus Nord CE 2 5G (Bahama Blue, 128 GB)  (8...</td>\n",
       "      <td>OnePlus Nord CE 2 5G (Bahama Blue, 128 GB)  (8...</td>\n",
       "      <td>-</td>\n",
       "      <td>8 GB RAM | 128 GB ROM</td>\n",
       "      <td>64MP Rear Camera</td>\n",
       "      <td>64MP Rear Camera</td>\n",
       "      <td>16.33 cm (6.43 inch) Display</td>\n",
       "      <td>4500 mAh Battery</td>\n",
       "      <td>-</td>\n",
       "    </tr>\n",
       "    <tr>\n",
       "      <th>1</th>\n",
       "      <td>OnePlus Mobiles</td>\n",
       "      <td>OnePlus Nord (Gray Onyx, 64 GB)  (6 GB RAM)</td>\n",
       "      <td>OnePlus Nord (Gray Onyx, 64 GB)  (6 GB RAM)</td>\n",
       "      <td>6 GB RAM | 64 GB ROM</td>\n",
       "      <td>6 GB RAM | 64 GB ROM</td>\n",
       "      <td>48MP + 8MP | 32MP + 8MP Dual Front Camera</td>\n",
       "      <td>48MP + 8MP | 32MP + 8MP Dual Front Camera</td>\n",
       "      <td>16.36 cm (6.44 inch) Full HD+ Display</td>\n",
       "      <td>4115 mAh Battery</td>\n",
       "      <td>-</td>\n",
       "    </tr>\n",
       "    <tr>\n",
       "      <th>2</th>\n",
       "      <td>OnePlus Mobiles</td>\n",
       "      <td>OnePlus Nord (Blue Marble, 128 GB)  (8 GB RAM)</td>\n",
       "      <td>OnePlus Nord (Blue Marble, 128 GB)  (8 GB RAM)</td>\n",
       "      <td>8 GB RAM | 128 GB ROM</td>\n",
       "      <td>8 GB RAM | 128 GB ROM</td>\n",
       "      <td>48MP + 8MP | 32MP + 8MP Dual Front Camera</td>\n",
       "      <td>48MP + 8MP | 32MP + 8MP Dual Front Camera</td>\n",
       "      <td>16.36 cm (6.44 inch) Full HD+ Display</td>\n",
       "      <td>4115 mAh Battery</td>\n",
       "      <td>₹24,790</td>\n",
       "    </tr>\n",
       "    <tr>\n",
       "      <th>3</th>\n",
       "      <td>OnePlus Mobiles</td>\n",
       "      <td>OnePlus Nord (Blue Marble, 64 GB)  (6 GB RAM)</td>\n",
       "      <td>OnePlus Nord (Blue Marble, 64 GB)  (6 GB RAM)</td>\n",
       "      <td>6 GB RAM | 64 GB ROM</td>\n",
       "      <td>6 GB RAM | 64 GB ROM</td>\n",
       "      <td>48MP + 8MP | 32MP + 8MP Dual Front Camera</td>\n",
       "      <td>48MP + 8MP | 32MP + 8MP Dual Front Camera</td>\n",
       "      <td>16.36 cm (6.44 inch) Full HD+ Display</td>\n",
       "      <td>4115 mAh Battery</td>\n",
       "      <td>-</td>\n",
       "    </tr>\n",
       "    <tr>\n",
       "      <th>4</th>\n",
       "      <td>OnePlus Mobiles</td>\n",
       "      <td>OnePlus Nord (Blue Marble, 256 GB)  (12 GB RAM)</td>\n",
       "      <td>OnePlus Nord (Blue Marble, 256 GB)  (12 GB RAM)</td>\n",
       "      <td>12 GB RAM | 256 GB ROM</td>\n",
       "      <td>12 GB RAM | 256 GB ROM</td>\n",
       "      <td>48MP + 8MP | 32MP + 8MP Dual Front Camera</td>\n",
       "      <td>48MP + 8MP | 32MP + 8MP Dual Front Camera</td>\n",
       "      <td>16.36 cm (6.44 inch) Full HD+ Display</td>\n",
       "      <td>4115 mAh Battery</td>\n",
       "      <td>-</td>\n",
       "    </tr>\n",
       "    <tr>\n",
       "      <th>5</th>\n",
       "      <td>OnePlus Mobiles</td>\n",
       "      <td>OnePlus Nord (Gray Onyx, 128 GB)  (8 GB RAM)</td>\n",
       "      <td>OnePlus Nord (Gray Onyx, 128 GB)  (8 GB RAM)</td>\n",
       "      <td>8 GB RAM | 128 GB ROM</td>\n",
       "      <td>8 GB RAM | 128 GB ROM</td>\n",
       "      <td>48MP + 8MP | 32MP + 8MP Dual Front Camera</td>\n",
       "      <td>48MP + 8MP | 32MP + 8MP Dual Front Camera</td>\n",
       "      <td>16.36 cm (6.44 inch) Full HD+ Display</td>\n",
       "      <td>4115 mAh Battery</td>\n",
       "      <td>-</td>\n",
       "    </tr>\n",
       "    <tr>\n",
       "      <th>6</th>\n",
       "      <td>OnePlus Mobiles</td>\n",
       "      <td>OnePlus Nord (Gray Onyx, 256 GB)  (12 GB RAM)</td>\n",
       "      <td>OnePlus Nord (Gray Onyx, 256 GB)  (12 GB RAM)</td>\n",
       "      <td>12 GB RAM | 256 GB ROM</td>\n",
       "      <td>12 GB RAM | 256 GB ROM</td>\n",
       "      <td>48MP + 8MP | 32MP + 8MP Dual Front Camera</td>\n",
       "      <td>48MP + 8MP | 32MP + 8MP Dual Front Camera</td>\n",
       "      <td>16.36 cm (6.44 inch) Full HD+ Display</td>\n",
       "      <td>4115 mAh Battery</td>\n",
       "      <td>-</td>\n",
       "    </tr>\n",
       "    <tr>\n",
       "      <th>7</th>\n",
       "      <td>OnePlus Mobiles</td>\n",
       "      <td>OnePlus Nord CE 2 5G (Gray Mirror, 128 GB)  (8...</td>\n",
       "      <td>OnePlus Nord CE 2 5G (Gray Mirror, 128 GB)  (8...</td>\n",
       "      <td>-</td>\n",
       "      <td>-</td>\n",
       "      <td>-</td>\n",
       "      <td>-</td>\n",
       "      <td>-</td>\n",
       "      <td>-</td>\n",
       "      <td>₹17,999</td>\n",
       "    </tr>\n",
       "    <tr>\n",
       "      <th>8</th>\n",
       "      <td>OnePlus Mobiles</td>\n",
       "      <td>OnePlus Nord CE 2 5G (Gray Mirror, 128 GB)  (6...</td>\n",
       "      <td>OnePlus Nord CE 2 5G (Gray Mirror, 128 GB)  (6...</td>\n",
       "      <td>6 GB RAM | 128 GB ROM</td>\n",
       "      <td>6 GB RAM | 128 GB ROM</td>\n",
       "      <td>64MP Rear Camera | 16MP Front Camera</td>\n",
       "      <td>64MP Rear Camera | 16MP Front Camera</td>\n",
       "      <td>16.33 cm (6.43 inch) Display</td>\n",
       "      <td>4500 mAh Battery</td>\n",
       "      <td>₹19,999</td>\n",
       "    </tr>\n",
       "  </tbody>\n",
       "</table>\n",
       "</div>"
      ],
      "text/plain": [
       "        Brand Name                                    Smartphone Name  \\\n",
       "0                -  OnePlus Nord CE 2 5G (Bahama Blue, 128 GB)  (8...   \n",
       "1  OnePlus Mobiles        OnePlus Nord (Gray Onyx, 64 GB)  (6 GB RAM)   \n",
       "2  OnePlus Mobiles     OnePlus Nord (Blue Marble, 128 GB)  (8 GB RAM)   \n",
       "3  OnePlus Mobiles      OnePlus Nord (Blue Marble, 64 GB)  (6 GB RAM)   \n",
       "4  OnePlus Mobiles    OnePlus Nord (Blue Marble, 256 GB)  (12 GB RAM)   \n",
       "5  OnePlus Mobiles       OnePlus Nord (Gray Onyx, 128 GB)  (8 GB RAM)   \n",
       "6  OnePlus Mobiles      OnePlus Nord (Gray Onyx, 256 GB)  (12 GB RAM)   \n",
       "7  OnePlus Mobiles  OnePlus Nord CE 2 5G (Gray Mirror, 128 GB)  (8...   \n",
       "8  OnePlus Mobiles  OnePlus Nord CE 2 5G (Gray Mirror, 128 GB)  (6...   \n",
       "\n",
       "                                              Colour                     RAM  \\\n",
       "0  OnePlus Nord CE 2 5G (Bahama Blue, 128 GB)  (8...                       -   \n",
       "1        OnePlus Nord (Gray Onyx, 64 GB)  (6 GB RAM)    6 GB RAM | 64 GB ROM   \n",
       "2     OnePlus Nord (Blue Marble, 128 GB)  (8 GB RAM)   8 GB RAM | 128 GB ROM   \n",
       "3      OnePlus Nord (Blue Marble, 64 GB)  (6 GB RAM)    6 GB RAM | 64 GB ROM   \n",
       "4    OnePlus Nord (Blue Marble, 256 GB)  (12 GB RAM)  12 GB RAM | 256 GB ROM   \n",
       "5       OnePlus Nord (Gray Onyx, 128 GB)  (8 GB RAM)   8 GB RAM | 128 GB ROM   \n",
       "6      OnePlus Nord (Gray Onyx, 256 GB)  (12 GB RAM)  12 GB RAM | 256 GB ROM   \n",
       "7  OnePlus Nord CE 2 5G (Gray Mirror, 128 GB)  (8...                       -   \n",
       "8  OnePlus Nord CE 2 5G (Gray Mirror, 128 GB)  (6...   6 GB RAM | 128 GB ROM   \n",
       "\n",
       "                      ROM                             Primary Camera  \\\n",
       "0   8 GB RAM | 128 GB ROM                           64MP Rear Camera   \n",
       "1    6 GB RAM | 64 GB ROM  48MP + 8MP | 32MP + 8MP Dual Front Camera   \n",
       "2   8 GB RAM | 128 GB ROM  48MP + 8MP | 32MP + 8MP Dual Front Camera   \n",
       "3    6 GB RAM | 64 GB ROM  48MP + 8MP | 32MP + 8MP Dual Front Camera   \n",
       "4  12 GB RAM | 256 GB ROM  48MP + 8MP | 32MP + 8MP Dual Front Camera   \n",
       "5   8 GB RAM | 128 GB ROM  48MP + 8MP | 32MP + 8MP Dual Front Camera   \n",
       "6  12 GB RAM | 256 GB ROM  48MP + 8MP | 32MP + 8MP Dual Front Camera   \n",
       "7                       -                                          -   \n",
       "8   6 GB RAM | 128 GB ROM       64MP Rear Camera | 16MP Front Camera   \n",
       "\n",
       "                            Secondary Camera  \\\n",
       "0                           64MP Rear Camera   \n",
       "1  48MP + 8MP | 32MP + 8MP Dual Front Camera   \n",
       "2  48MP + 8MP | 32MP + 8MP Dual Front Camera   \n",
       "3  48MP + 8MP | 32MP + 8MP Dual Front Camera   \n",
       "4  48MP + 8MP | 32MP + 8MP Dual Front Camera   \n",
       "5  48MP + 8MP | 32MP + 8MP Dual Front Camera   \n",
       "6  48MP + 8MP | 32MP + 8MP Dual Front Camera   \n",
       "7                                          -   \n",
       "8       64MP Rear Camera | 16MP Front Camera   \n",
       "\n",
       "                                    Size          Capacity    price  \n",
       "0           16.33 cm (6.43 inch) Display  4500 mAh Battery        -  \n",
       "1  16.36 cm (6.44 inch) Full HD+ Display  4115 mAh Battery        -  \n",
       "2  16.36 cm (6.44 inch) Full HD+ Display  4115 mAh Battery  ₹24,790  \n",
       "3  16.36 cm (6.44 inch) Full HD+ Display  4115 mAh Battery        -  \n",
       "4  16.36 cm (6.44 inch) Full HD+ Display  4115 mAh Battery        -  \n",
       "5  16.36 cm (6.44 inch) Full HD+ Display  4115 mAh Battery        -  \n",
       "6  16.36 cm (6.44 inch) Full HD+ Display  4115 mAh Battery        -  \n",
       "7                                      -                 -  ₹17,999  \n",
       "8           16.33 cm (6.43 inch) Display  4500 mAh Battery  ₹19,999  "
      ]
     },
     "execution_count": 85,
     "metadata": {},
     "output_type": "execute_result"
    }
   ],
   "source": [
    "df=pd.DataFrame({'Brand Name':b_name, 'Smartphone Name':s_name,'Colour':b_colour, 'RAM':b_ram,'ROM':b_rom,'Primary Camera':b_pcamera,\n",
    "               'Secondary Camera':b_scamera, 'Size':b_size,'Capacity':b_capacity, 'price':b_price})\n",
    "\n",
    "df"
   ]
  },
  {
   "cell_type": "code",
   "execution_count": 86,
   "id": "2ef2f25a",
   "metadata": {},
   "outputs": [],
   "source": [
    "df.to_csv('selenium assingment 3.csv')"
   ]
  },
  {
   "cell_type": "code",
   "execution_count": 121,
   "id": "8b10e7c5",
   "metadata": {},
   "outputs": [],
   "source": [
    "driver.close()"
   ]
  },
  {
   "cell_type": "markdown",
   "id": "61d1ddfc",
   "metadata": {},
   "source": [
    "# Q5"
   ]
  },
  {
   "cell_type": "code",
   "execution_count": 126,
   "id": "99423d0e",
   "metadata": {},
   "outputs": [],
   "source": [
    "import re"
   ]
  },
  {
   "cell_type": "code",
   "execution_count": 122,
   "id": "fe7a1842",
   "metadata": {},
   "outputs": [],
   "source": [
    "driver=webdriver.Chrome()"
   ]
  },
  {
   "cell_type": "code",
   "execution_count": 123,
   "id": "24c0b87f",
   "metadata": {},
   "outputs": [],
   "source": [
    "driver.get('https://www.google.com/maps')"
   ]
  },
  {
   "cell_type": "code",
   "execution_count": 129,
   "id": "22db4f51",
   "metadata": {},
   "outputs": [
    {
     "name": "stdout",
     "output_type": "stream",
     "text": [
      "Enter City Name : mumbai\n",
      "URL Extracted:  https://www.google.com/maps/place/Mumbai,+Maharashtra/@19.0822507,72.8811862,10z/data=!3m1!4b1!4m6!3m5!1s0x3be7c6306644edc1:0x5da4ed8f8d648c69!8m2!3d19.0759837!4d72.8776559!16zL20vMDR2bXA?entry=ttu\n",
      "Latitude = 19.0822507, Longitude = 72.8811862\n"
     ]
    }
   ],
   "source": [
    "\n",
    "\n",
    "city = input('Enter City Name : ')                                         \n",
    "search = driver.find_element(By.XPATH,'/html/body/div[1]/div[3]/div[8]/div[3]/div[1]/div[1]/div/div[2]/form/input')                       \n",
    "search.clear()                                                         \n",
    "time.sleep(2)\n",
    "search.send_keys(city)                                                     \n",
    "button = driver.find_element(By.XPATH,'/html/body/div[1]/div[3]/div[8]/div[3]/div[1]/div[1]/div/div[2]/div[1]/button')              \n",
    "button.click()                                                             \n",
    "time.sleep(3)\n",
    "\n",
    "\n",
    "try:\n",
    "    url_string = driver.current_url\n",
    "    print(\"URL Extracted: \", url_string)\n",
    "    lat_lng = re.findall(r'@(.*)data',url_string)\n",
    "    if len(lat_lng):\n",
    "        lat_lng_list = lat_lng[0].split(\",\")\n",
    "        if len(lat_lng_list)>=2:\n",
    "            lat = lat_lng_list[0]\n",
    "            lng = lat_lng_list[1]\n",
    "        print(\"Latitude = {}, Longitude = {}\".format(lat, lng))\n",
    "\n",
    "except Exception as e:\n",
    "        print(\"Error: \", str(e))"
   ]
  },
  {
   "cell_type": "code",
   "execution_count": 130,
   "id": "c6d67792",
   "metadata": {},
   "outputs": [],
   "source": [
    "driver.close()"
   ]
  },
  {
   "cell_type": "markdown",
   "id": "a6c7c702",
   "metadata": {},
   "source": [
    "# 6 best gaming laptop"
   ]
  },
  {
   "cell_type": "code",
   "execution_count": 131,
   "id": "5e2660b6",
   "metadata": {},
   "outputs": [],
   "source": [
    "driver=webdriver.Chrome()"
   ]
  },
  {
   "cell_type": "code",
   "execution_count": 132,
   "id": "295638e6",
   "metadata": {},
   "outputs": [],
   "source": [
    "driver.get('https://www.digit.in/top-products/best-gaming-laptops-40.html')"
   ]
  },
  {
   "cell_type": "code",
   "execution_count": 133,
   "id": "0028832a",
   "metadata": {},
   "outputs": [],
   "source": [
    "#url to open each data\n",
    "\n",
    "product_open_url = []\n",
    "url=driver.find_elements(By.XPATH,'//h3[@class=\"font130 mt0 mb10 mobilesblockdisplay \"]/a')\n",
    "for i in url:\n",
    "    product_open_url.append(i.get_attribute('href'))\n",
    "    \n"
   ]
  },
  {
   "cell_type": "code",
   "execution_count": 134,
   "id": "59d2d827",
   "metadata": {},
   "outputs": [
    {
     "data": {
      "text/plain": [
       "7"
      ]
     },
     "execution_count": 134,
     "metadata": {},
     "output_type": "execute_result"
    }
   ],
   "source": [
    "len(url)"
   ]
  },
  {
   "cell_type": "code",
   "execution_count": 135,
   "id": "7f31b564",
   "metadata": {},
   "outputs": [
    {
     "data": {
      "text/plain": [
       "[<selenium.webdriver.remote.webelement.WebElement (session=\"d52e2c5702176a25d27434f000e979b7\", element=\"6DF044E9ED33199E2ADFEFC53BEBF3E5_element_79\")>,\n",
       " <selenium.webdriver.remote.webelement.WebElement (session=\"d52e2c5702176a25d27434f000e979b7\", element=\"6DF044E9ED33199E2ADFEFC53BEBF3E5_element_1093\")>,\n",
       " <selenium.webdriver.remote.webelement.WebElement (session=\"d52e2c5702176a25d27434f000e979b7\", element=\"6DF044E9ED33199E2ADFEFC53BEBF3E5_element_1109\")>,\n",
       " <selenium.webdriver.remote.webelement.WebElement (session=\"d52e2c5702176a25d27434f000e979b7\", element=\"6DF044E9ED33199E2ADFEFC53BEBF3E5_element_1126\")>,\n",
       " <selenium.webdriver.remote.webelement.WebElement (session=\"d52e2c5702176a25d27434f000e979b7\", element=\"6DF044E9ED33199E2ADFEFC53BEBF3E5_element_1143\")>,\n",
       " <selenium.webdriver.remote.webelement.WebElement (session=\"d52e2c5702176a25d27434f000e979b7\", element=\"6DF044E9ED33199E2ADFEFC53BEBF3E5_element_1160\")>,\n",
       " <selenium.webdriver.remote.webelement.WebElement (session=\"d52e2c5702176a25d27434f000e979b7\", element=\"6DF044E9ED33199E2ADFEFC53BEBF3E5_element_1177\")>]"
      ]
     },
     "execution_count": 135,
     "metadata": {},
     "output_type": "execute_result"
    }
   ],
   "source": [
    "url"
   ]
  },
  {
   "cell_type": "code",
   "execution_count": 136,
   "id": "c9e1d7d0",
   "metadata": {},
   "outputs": [],
   "source": [
    "l_name=[]\n",
    "l_description=[]\n",
    "l_specification=[]\n",
    "l_price=[]"
   ]
  },
  {
   "cell_type": "code",
   "execution_count": 142,
   "id": "fd4ff368",
   "metadata": {},
   "outputs": [],
   "source": [
    "#scraping data for laptop name\n",
    "\n",
    "for i in product_open_url:\n",
    "    driver.get(i)\n",
    "    time.sleep(2)\n",
    "    try:\n",
    "        name=driver.find_element(By.XPATH,'/html/body/div[1]/div[3]/div[1]/div/div/div/div/div[2]/div[1]/div[1]/h1')\n",
    "        l_name.append(name.text)\n",
    "    except NoSuchElementException :\n",
    "            l_name.append('-')"
   ]
  },
  {
   "cell_type": "code",
   "execution_count": 143,
   "id": "ab1acbc2",
   "metadata": {},
   "outputs": [
    {
     "data": {
      "text/plain": [
       "14"
      ]
     },
     "execution_count": 143,
     "metadata": {},
     "output_type": "execute_result"
    }
   ],
   "source": [
    "len(l_name)"
   ]
  },
  {
   "cell_type": "code",
   "execution_count": 144,
   "id": "9d476f99",
   "metadata": {},
   "outputs": [
    {
     "data": {
      "text/plain": [
       "['-', '-', '-', '-', '-', '-', '-', '-', '-', '-', '-', '-', '-', '-']"
      ]
     },
     "execution_count": 144,
     "metadata": {},
     "output_type": "execute_result"
    }
   ],
   "source": [
    "l_name"
   ]
  },
  {
   "cell_type": "code",
   "execution_count": 110,
   "id": "70c42410",
   "metadata": {},
   "outputs": [],
   "source": [
    "#scraping data for specification\n",
    "\n",
    "for i in product_open_url:\n",
    "    driver.get(i)\n",
    "    time.sleep(2)\n",
    "    try:\n",
    "        specification=driver.find_element(By.XPATH,'/html/body/div[2]/div[3]/div[1]/div/div/div/div/div[2]/div[4]/div[4]/div[1]/h4')\n",
    "        l_specification.append(specification.text)\n",
    "    except NoSuchElementException :\n",
    "            l_specification.append('-')"
   ]
  },
  {
   "cell_type": "code",
   "execution_count": 111,
   "id": "6f2a978e",
   "metadata": {},
   "outputs": [
    {
     "data": {
      "text/plain": [
       "7"
      ]
     },
     "execution_count": 111,
     "metadata": {},
     "output_type": "execute_result"
    }
   ],
   "source": [
    "len(l_specification)"
   ]
  },
  {
   "cell_type": "code",
   "execution_count": 112,
   "id": "d78e516d",
   "metadata": {},
   "outputs": [
    {
     "data": {
      "text/plain": [
       "['Videos',\n",
       " 'MSI GT77 Titan 12UHS-054IN 12th Gen Core i9-12900HX Specifications',\n",
       " 'Videos',\n",
       " '-',\n",
       " '-',\n",
       " 'ASUS ROG Zephyrus G14 Ryzen 9-6900HS (GA402RJZ-L4136WS) Specifications',\n",
       " 'MSI Cyborg 15 12th Gen Core i7-12650H (A12VF-205IN) Specifications']"
      ]
     },
     "execution_count": 112,
     "metadata": {},
     "output_type": "execute_result"
    }
   ],
   "source": [
    "l_specification"
   ]
  },
  {
   "cell_type": "code",
   "execution_count": 113,
   "id": "c1c84000",
   "metadata": {},
   "outputs": [],
   "source": [
    "#scraping data for product description\n",
    "\n",
    "for i in product_open_url:\n",
    "    driver.get(i)\n",
    "    time.sleep(2)\n",
    "    try:\n",
    "        description=driver.find_element(By.XPATH,'/html/body/div[2]/div[3]/div[1]/div/div/div/div/div[2]/div[4]/div[1]/div[2]/div/div/div[1]/div[1]')\n",
    "        l_description.append(description.text)\n",
    "    except NoSuchElementException :\n",
    "            l_description.append('-')"
   ]
  },
  {
   "cell_type": "code",
   "execution_count": 114,
   "id": "bbd415a7",
   "metadata": {},
   "outputs": [
    {
     "data": {
      "text/plain": [
       "7"
      ]
     },
     "execution_count": 114,
     "metadata": {},
     "output_type": "execute_result"
    }
   ],
   "source": [
    "len(l_description)"
   ]
  },
  {
   "cell_type": "code",
   "execution_count": 115,
   "id": "633503ac",
   "metadata": {},
   "outputs": [
    {
     "data": {
      "text/plain": [
       "['HP Omen 13th Gen Intel Core i7-13700HX,17.3 inch(43.9cm) QHD Gaming Laptop(16GB RAM/1TB...',\n",
       " '-',\n",
       " '-',\n",
       " '-',\n",
       " '-',\n",
       " '-',\n",
       " '-']"
      ]
     },
     "execution_count": 115,
     "metadata": {},
     "output_type": "execute_result"
    }
   ],
   "source": [
    "l_description"
   ]
  },
  {
   "cell_type": "code",
   "execution_count": 116,
   "id": "9aa746bb",
   "metadata": {},
   "outputs": [],
   "source": [
    "#scraping data for price\n",
    "\n",
    "for i in product_open_url:\n",
    "    driver.get(i)\n",
    "    time.sleep(2)\n",
    "    try:\n",
    "        price=driver.find_element(By.XPATH,'/html/body/div[2]/div[3]/div[1]/div/div/div/div/div[2]/div[1]/div[4]/div[9]/div[1]/div/div[2]/div[3]/div/div[1]')\n",
    "        l_price.append(price.text)\n",
    "    except NoSuchElementException :\n",
    "            l_price.append('-')"
   ]
  },
  {
   "cell_type": "code",
   "execution_count": 117,
   "id": "c3b5b4bc",
   "metadata": {},
   "outputs": [
    {
     "data": {
      "text/plain": [
       "7"
      ]
     },
     "execution_count": 117,
     "metadata": {},
     "output_type": "execute_result"
    }
   ],
   "source": [
    "len(l_price)"
   ]
  },
  {
   "cell_type": "code",
   "execution_count": 118,
   "id": "c55d0193",
   "metadata": {},
   "outputs": [
    {
     "data": {
      "text/plain": [
       "['out of stock',\n",
       " 'out of stock',\n",
       " 'out of stock',\n",
       " 'Rs. 289,990',\n",
       " 'Rs. 154,000',\n",
       " 'out of stock',\n",
       " '-']"
      ]
     },
     "execution_count": 118,
     "metadata": {},
     "output_type": "execute_result"
    }
   ],
   "source": [
    "l_price"
   ]
  },
  {
   "cell_type": "code",
   "execution_count": 119,
   "id": "6e278074",
   "metadata": {},
   "outputs": [
    {
     "data": {
      "text/html": [
       "<div>\n",
       "<style scoped>\n",
       "    .dataframe tbody tr th:only-of-type {\n",
       "        vertical-align: middle;\n",
       "    }\n",
       "\n",
       "    .dataframe tbody tr th {\n",
       "        vertical-align: top;\n",
       "    }\n",
       "\n",
       "    .dataframe thead th {\n",
       "        text-align: right;\n",
       "    }\n",
       "</style>\n",
       "<table border=\"1\" class=\"dataframe\">\n",
       "  <thead>\n",
       "    <tr style=\"text-align: right;\">\n",
       "      <th></th>\n",
       "      <th>Name</th>\n",
       "      <th>Description</th>\n",
       "      <th>Specification</th>\n",
       "      <th>Price</th>\n",
       "    </tr>\n",
       "  </thead>\n",
       "  <tbody>\n",
       "    <tr>\n",
       "      <th>0</th>\n",
       "      <td>HP Omen 17-Ck2008TX 13th Gen Core I7-13700HX</td>\n",
       "      <td>HP Omen 13th Gen Intel Core i7-13700HX,17.3 in...</td>\n",
       "      <td>Videos</td>\n",
       "      <td>out of stock</td>\n",
       "    </tr>\n",
       "    <tr>\n",
       "      <th>1</th>\n",
       "      <td>-</td>\n",
       "      <td>-</td>\n",
       "      <td>MSI GT77 Titan 12UHS-054IN 12th Gen Core i9-12...</td>\n",
       "      <td>out of stock</td>\n",
       "    </tr>\n",
       "    <tr>\n",
       "      <th>2</th>\n",
       "      <td>-</td>\n",
       "      <td>-</td>\n",
       "      <td>Videos</td>\n",
       "      <td>out of stock</td>\n",
       "    </tr>\n",
       "    <tr>\n",
       "      <th>3</th>\n",
       "      <td>-</td>\n",
       "      <td>-</td>\n",
       "      <td>-</td>\n",
       "      <td>Rs. 289,990</td>\n",
       "    </tr>\n",
       "    <tr>\n",
       "      <th>4</th>\n",
       "      <td>Acer Predator Helios Neo 16 13th Gen Core I7-1...</td>\n",
       "      <td>-</td>\n",
       "      <td>-</td>\n",
       "      <td>Rs. 154,000</td>\n",
       "    </tr>\n",
       "    <tr>\n",
       "      <th>5</th>\n",
       "      <td>ASUS ROG Zephyrus G14 Ryzen 9-6900HS (GA402RJZ...</td>\n",
       "      <td>-</td>\n",
       "      <td>ASUS ROG Zephyrus G14 Ryzen 9-6900HS (GA402RJZ...</td>\n",
       "      <td>out of stock</td>\n",
       "    </tr>\n",
       "    <tr>\n",
       "      <th>6</th>\n",
       "      <td>-</td>\n",
       "      <td>-</td>\n",
       "      <td>MSI Cyborg 15 12th Gen Core i7-12650H (A12VF-2...</td>\n",
       "      <td>-</td>\n",
       "    </tr>\n",
       "  </tbody>\n",
       "</table>\n",
       "</div>"
      ],
      "text/plain": [
       "                                                Name  \\\n",
       "0       HP Omen 17-Ck2008TX 13th Gen Core I7-13700HX   \n",
       "1                                                  -   \n",
       "2                                                  -   \n",
       "3                                                  -   \n",
       "4  Acer Predator Helios Neo 16 13th Gen Core I7-1...   \n",
       "5  ASUS ROG Zephyrus G14 Ryzen 9-6900HS (GA402RJZ...   \n",
       "6                                                  -   \n",
       "\n",
       "                                         Description  \\\n",
       "0  HP Omen 13th Gen Intel Core i7-13700HX,17.3 in...   \n",
       "1                                                  -   \n",
       "2                                                  -   \n",
       "3                                                  -   \n",
       "4                                                  -   \n",
       "5                                                  -   \n",
       "6                                                  -   \n",
       "\n",
       "                                       Specification         Price  \n",
       "0                                             Videos  out of stock  \n",
       "1  MSI GT77 Titan 12UHS-054IN 12th Gen Core i9-12...  out of stock  \n",
       "2                                             Videos  out of stock  \n",
       "3                                                  -   Rs. 289,990  \n",
       "4                                                  -   Rs. 154,000  \n",
       "5  ASUS ROG Zephyrus G14 Ryzen 9-6900HS (GA402RJZ...  out of stock  \n",
       "6  MSI Cyborg 15 12th Gen Core i7-12650H (A12VF-2...             -  "
      ]
     },
     "execution_count": 119,
     "metadata": {},
     "output_type": "execute_result"
    }
   ],
   "source": [
    "df=pd.DataFrame({'Name':l_name,'Description':l_description,'Specification':l_specification,'Price':l_price})\n",
    "\n",
    "df"
   ]
  },
  {
   "cell_type": "markdown",
   "id": "8ef255cf",
   "metadata": {},
   "source": [
    "# Q7"
   ]
  },
  {
   "cell_type": "code",
   "execution_count": 5,
   "id": "33a51c71",
   "metadata": {},
   "outputs": [],
   "source": [
    "import re"
   ]
  },
  {
   "cell_type": "code",
   "execution_count": 19,
   "id": "07ceb4a6",
   "metadata": {},
   "outputs": [],
   "source": [
    "driver=webdriver.Chrome()"
   ]
  },
  {
   "cell_type": "code",
   "execution_count": 20,
   "id": "51979c5c",
   "metadata": {},
   "outputs": [],
   "source": [
    "driver.get('https://www.forbes.com/billionaires/')"
   ]
  },
  {
   "cell_type": "code",
   "execution_count": 22,
   "id": "434a8834",
   "metadata": {},
   "outputs": [
    {
     "ename": "AttributeError",
     "evalue": "'str' object has no attribute 'text'",
     "output_type": "error",
     "traceback": [
      "\u001b[1;31m---------------------------------------------------------------------------\u001b[0m",
      "\u001b[1;31mAttributeError\u001b[0m                            Traceback (most recent call last)",
      "Cell \u001b[1;32mIn[22], line 7\u001b[0m\n\u001b[0;32m      5\u001b[0m b_rank\u001b[38;5;241m=\u001b[39m driver\u001b[38;5;241m.\u001b[39mfind_elements(By\u001b[38;5;241m.\u001b[39mXPATH,\u001b[38;5;124m'\u001b[39m\u001b[38;5;124m//div[@class=\u001b[39m\u001b[38;5;124m\"\u001b[39m\u001b[38;5;124mTable_netWorth___L4R5 Table_dataCell__2QCve\u001b[39m\u001b[38;5;124m\"\u001b[39m\u001b[38;5;124m]\u001b[39m\u001b[38;5;124m'\u001b[39m)\n\u001b[0;32m      6\u001b[0m \u001b[38;5;28;01mfor\u001b[39;00m i \u001b[38;5;129;01min\u001b[39;00m b_rank:\n\u001b[1;32m----> 7\u001b[0m     rank\u001b[38;5;241m=\u001b[39m\u001b[43mi\u001b[49m\u001b[38;5;241;43m.\u001b[39;49m\u001b[43mtext\u001b[49m\n\u001b[0;32m      8\u001b[0m     b_rank\u001b[38;5;241m.\u001b[39mappend(rank)\n",
      "\u001b[1;31mAttributeError\u001b[0m: 'str' object has no attribute 'text'"
     ]
    }
   ],
   "source": [
    "#  scrap data for name\n",
    "\n",
    "b_rank=[]\n",
    "\n",
    "b_rank= driver.find_elements(By.XPATH,'//div[@class=\"Table_netWorth___L4R5 Table_dataCell__2QCve\"]')\n",
    "for i in b_rank:\n",
    "    rank=i.text\n",
    "    b_rank.append(rank)\n"
   ]
  },
  {
   "cell_type": "code",
   "execution_count": 157,
   "id": "ba478673",
   "metadata": {},
   "outputs": [
    {
     "data": {
      "text/plain": [
       "1"
      ]
     },
     "execution_count": 157,
     "metadata": {},
     "output_type": "execute_result"
    }
   ],
   "source": [
    "len(b_name)"
   ]
  },
  {
   "cell_type": "code",
   "execution_count": 158,
   "id": "3af42398",
   "metadata": {},
   "outputs": [
    {
     "data": {
      "text/plain": [
       "['Bernard Arnault & family']"
      ]
     },
     "execution_count": 158,
     "metadata": {},
     "output_type": "execute_result"
    }
   ],
   "source": [
    "b_name"
   ]
  },
  {
   "cell_type": "code",
   "execution_count": 12,
   "id": "84711f7c",
   "metadata": {},
   "outputs": [],
   "source": [
    "driver.close()"
   ]
  },
  {
   "cell_type": "markdown",
   "id": "bea7dc15",
   "metadata": {},
   "source": [
    "# Q9"
   ]
  },
  {
   "cell_type": "code",
   "execution_count": 78,
   "id": "f80e1927",
   "metadata": {},
   "outputs": [],
   "source": [
    "driver=webdriver.Chrome()"
   ]
  },
  {
   "cell_type": "code",
   "execution_count": 57,
   "id": "4201c497",
   "metadata": {},
   "outputs": [],
   "source": [
    "driver.get('https://www.hostelworld.com/pwa/wds/s?q=London,%20England&country=London&city=London&type=city&id=3&from=2024-02-24&to=2024-02-27&guests=2&page=1')"
   ]
  },
  {
   "cell_type": "code",
   "execution_count": 61,
   "id": "64acb991",
   "metadata": {},
   "outputs": [],
   "source": [
    "product_open_url = []\n",
    "url=driver.find_elements(By.XPATH,'//a[@class=\"property-card-container\"]')\n",
    "for i in url:\n",
    "    product_open_url.append(i.get_attribute('href'))\n",
    "    "
   ]
  },
  {
   "cell_type": "code",
   "execution_count": 62,
   "id": "65df0738",
   "metadata": {},
   "outputs": [
    {
     "data": {
      "text/plain": [
       "33"
      ]
     },
     "execution_count": 62,
     "metadata": {},
     "output_type": "execute_result"
    }
   ],
   "source": [
    "len(url)"
   ]
  },
  {
   "cell_type": "code",
   "execution_count": 63,
   "id": "a9c03ffe",
   "metadata": {},
   "outputs": [
    {
     "data": {
      "text/plain": [
       "[<selenium.webdriver.remote.webelement.WebElement (session=\"589b6f954c0c6aeb6f1b0bb52e4004cc\", element=\"7CA74E2706C9A6551BA714CCE8B8421D_element_91\")>,\n",
       " <selenium.webdriver.remote.webelement.WebElement (session=\"589b6f954c0c6aeb6f1b0bb52e4004cc\", element=\"7CA74E2706C9A6551BA714CCE8B8421D_element_134\")>,\n",
       " <selenium.webdriver.remote.webelement.WebElement (session=\"589b6f954c0c6aeb6f1b0bb52e4004cc\", element=\"7CA74E2706C9A6551BA714CCE8B8421D_element_135\")>,\n",
       " <selenium.webdriver.remote.webelement.WebElement (session=\"589b6f954c0c6aeb6f1b0bb52e4004cc\", element=\"7CA74E2706C9A6551BA714CCE8B8421D_element_136\")>,\n",
       " <selenium.webdriver.remote.webelement.WebElement (session=\"589b6f954c0c6aeb6f1b0bb52e4004cc\", element=\"7CA74E2706C9A6551BA714CCE8B8421D_element_137\")>,\n",
       " <selenium.webdriver.remote.webelement.WebElement (session=\"589b6f954c0c6aeb6f1b0bb52e4004cc\", element=\"7CA74E2706C9A6551BA714CCE8B8421D_element_138\")>,\n",
       " <selenium.webdriver.remote.webelement.WebElement (session=\"589b6f954c0c6aeb6f1b0bb52e4004cc\", element=\"7CA74E2706C9A6551BA714CCE8B8421D_element_139\")>,\n",
       " <selenium.webdriver.remote.webelement.WebElement (session=\"589b6f954c0c6aeb6f1b0bb52e4004cc\", element=\"7CA74E2706C9A6551BA714CCE8B8421D_element_140\")>,\n",
       " <selenium.webdriver.remote.webelement.WebElement (session=\"589b6f954c0c6aeb6f1b0bb52e4004cc\", element=\"7CA74E2706C9A6551BA714CCE8B8421D_element_141\")>,\n",
       " <selenium.webdriver.remote.webelement.WebElement (session=\"589b6f954c0c6aeb6f1b0bb52e4004cc\", element=\"7CA74E2706C9A6551BA714CCE8B8421D_element_142\")>,\n",
       " <selenium.webdriver.remote.webelement.WebElement (session=\"589b6f954c0c6aeb6f1b0bb52e4004cc\", element=\"7CA74E2706C9A6551BA714CCE8B8421D_element_143\")>,\n",
       " <selenium.webdriver.remote.webelement.WebElement (session=\"589b6f954c0c6aeb6f1b0bb52e4004cc\", element=\"7CA74E2706C9A6551BA714CCE8B8421D_element_144\")>,\n",
       " <selenium.webdriver.remote.webelement.WebElement (session=\"589b6f954c0c6aeb6f1b0bb52e4004cc\", element=\"7CA74E2706C9A6551BA714CCE8B8421D_element_145\")>,\n",
       " <selenium.webdriver.remote.webelement.WebElement (session=\"589b6f954c0c6aeb6f1b0bb52e4004cc\", element=\"7CA74E2706C9A6551BA714CCE8B8421D_element_146\")>,\n",
       " <selenium.webdriver.remote.webelement.WebElement (session=\"589b6f954c0c6aeb6f1b0bb52e4004cc\", element=\"7CA74E2706C9A6551BA714CCE8B8421D_element_147\")>,\n",
       " <selenium.webdriver.remote.webelement.WebElement (session=\"589b6f954c0c6aeb6f1b0bb52e4004cc\", element=\"7CA74E2706C9A6551BA714CCE8B8421D_element_148\")>,\n",
       " <selenium.webdriver.remote.webelement.WebElement (session=\"589b6f954c0c6aeb6f1b0bb52e4004cc\", element=\"7CA74E2706C9A6551BA714CCE8B8421D_element_149\")>,\n",
       " <selenium.webdriver.remote.webelement.WebElement (session=\"589b6f954c0c6aeb6f1b0bb52e4004cc\", element=\"7CA74E2706C9A6551BA714CCE8B8421D_element_150\")>,\n",
       " <selenium.webdriver.remote.webelement.WebElement (session=\"589b6f954c0c6aeb6f1b0bb52e4004cc\", element=\"7CA74E2706C9A6551BA714CCE8B8421D_element_151\")>,\n",
       " <selenium.webdriver.remote.webelement.WebElement (session=\"589b6f954c0c6aeb6f1b0bb52e4004cc\", element=\"7CA74E2706C9A6551BA714CCE8B8421D_element_152\")>,\n",
       " <selenium.webdriver.remote.webelement.WebElement (session=\"589b6f954c0c6aeb6f1b0bb52e4004cc\", element=\"7CA74E2706C9A6551BA714CCE8B8421D_element_153\")>,\n",
       " <selenium.webdriver.remote.webelement.WebElement (session=\"589b6f954c0c6aeb6f1b0bb52e4004cc\", element=\"7CA74E2706C9A6551BA714CCE8B8421D_element_154\")>,\n",
       " <selenium.webdriver.remote.webelement.WebElement (session=\"589b6f954c0c6aeb6f1b0bb52e4004cc\", element=\"7CA74E2706C9A6551BA714CCE8B8421D_element_155\")>,\n",
       " <selenium.webdriver.remote.webelement.WebElement (session=\"589b6f954c0c6aeb6f1b0bb52e4004cc\", element=\"7CA74E2706C9A6551BA714CCE8B8421D_element_156\")>,\n",
       " <selenium.webdriver.remote.webelement.WebElement (session=\"589b6f954c0c6aeb6f1b0bb52e4004cc\", element=\"7CA74E2706C9A6551BA714CCE8B8421D_element_157\")>,\n",
       " <selenium.webdriver.remote.webelement.WebElement (session=\"589b6f954c0c6aeb6f1b0bb52e4004cc\", element=\"7CA74E2706C9A6551BA714CCE8B8421D_element_158\")>,\n",
       " <selenium.webdriver.remote.webelement.WebElement (session=\"589b6f954c0c6aeb6f1b0bb52e4004cc\", element=\"7CA74E2706C9A6551BA714CCE8B8421D_element_159\")>,\n",
       " <selenium.webdriver.remote.webelement.WebElement (session=\"589b6f954c0c6aeb6f1b0bb52e4004cc\", element=\"7CA74E2706C9A6551BA714CCE8B8421D_element_160\")>,\n",
       " <selenium.webdriver.remote.webelement.WebElement (session=\"589b6f954c0c6aeb6f1b0bb52e4004cc\", element=\"7CA74E2706C9A6551BA714CCE8B8421D_element_161\")>,\n",
       " <selenium.webdriver.remote.webelement.WebElement (session=\"589b6f954c0c6aeb6f1b0bb52e4004cc\", element=\"7CA74E2706C9A6551BA714CCE8B8421D_element_162\")>,\n",
       " <selenium.webdriver.remote.webelement.WebElement (session=\"589b6f954c0c6aeb6f1b0bb52e4004cc\", element=\"7CA74E2706C9A6551BA714CCE8B8421D_element_163\")>,\n",
       " <selenium.webdriver.remote.webelement.WebElement (session=\"589b6f954c0c6aeb6f1b0bb52e4004cc\", element=\"7CA74E2706C9A6551BA714CCE8B8421D_element_164\")>,\n",
       " <selenium.webdriver.remote.webelement.WebElement (session=\"589b6f954c0c6aeb6f1b0bb52e4004cc\", element=\"7CA74E2706C9A6551BA714CCE8B8421D_element_165\")>]"
      ]
     },
     "execution_count": 63,
     "metadata": {},
     "output_type": "execute_result"
    }
   ],
   "source": [
    "url"
   ]
  },
  {
   "cell_type": "code",
   "execution_count": 64,
   "id": "0170c657",
   "metadata": {},
   "outputs": [],
   "source": [
    "# scraping details for name of the hostel\n",
    "\n",
    "h_name=[]\n",
    "\n",
    "for i in product_open_url:\n",
    "    driver.get(i)\n",
    "    time.sleep(2)\n",
    "    try:\n",
    "        name=driver.find_element(By.XPATH,'/html/body/div[3]/div/div/div[2]/section/div[4]/div/div[1]/h1/div')\n",
    "        h_name.append(name.text)\n",
    "    except NoSuchElementException :\n",
    "            h_name.append('-')"
   ]
  },
  {
   "cell_type": "code",
   "execution_count": 66,
   "id": "a515f956",
   "metadata": {},
   "outputs": [
    {
     "data": {
      "text/plain": [
       "33"
      ]
     },
     "execution_count": 66,
     "metadata": {},
     "output_type": "execute_result"
    }
   ],
   "source": [
    "len(h_name)"
   ]
  },
  {
   "cell_type": "code",
   "execution_count": 38,
   "id": "93b779fc",
   "metadata": {},
   "outputs": [
    {
     "data": {
      "text/plain": [
       "[\"Wombat's City Hostel London\",\n",
       " 'Palmers Lodge - Swiss Cottage',\n",
       " \"St Christopher's Village\",\n",
       " \"Wombat's City Hostel London\",\n",
       " 'Palmers Lodge - Swiss Cottage',\n",
       " \"St Christopher's Village\",\n",
       " 'NX London Hostel',\n",
       " 'Onefam Notting Hill',\n",
       " 'Urbany Hostel London',\n",
       " 'Onefam Waterloo',\n",
       " 'No.8 Seven Sisters',\n",
       " 'Astor Hyde Park',\n",
       " 'Safestay London Elephant & Castle',\n",
       " 'Astor Museum Inn',\n",
       " 'No.8 Willesden Hostel London',\n",
       " 'Smart Hyde Park Inn Hostel',\n",
       " 'Smart Russell Square Hostel',\n",
       " 'Safestay London Kensington Holland Park',\n",
       " 'Clink261',\n",
       " 'Hostelle - women only hostel London',\n",
       " 'Queen Elizabeth Chelsea',\n",
       " 'Prime Backpackers Angel',\n",
       " 'YHA London Oxford Street',\n",
       " 'London Backpackers',\n",
       " 'Kabannas London St Pancras',\n",
       " \"St Christopher's Hammersmith\",\n",
       " 'Astor Victoria',\n",
       " 'Astor Kensington',\n",
       " 'Phoenix Hostel',\n",
       " \"St Christopher's Camden\",\n",
       " 'YHA London Central',\n",
       " \"St Christopher's Inn - Liverpool Street\",\n",
       " \"St Christopher's Shepherds Bush\"]"
      ]
     },
     "execution_count": 38,
     "metadata": {},
     "output_type": "execute_result"
    }
   ],
   "source": [
    "h_name"
   ]
  },
  {
   "cell_type": "code",
   "execution_count": 39,
   "id": "e1f9a0fd",
   "metadata": {},
   "outputs": [],
   "source": [
    "\n",
    "# scraping data for hostel ratings\n",
    "\n",
    "h_ratings=[]\n",
    "\n",
    "for i in product_open_url:\n",
    "    driver.get(i)\n",
    "    time.sleep(2)\n",
    "    try:\n",
    "        rating=driver.find_element(By.XPATH,'/html/body/div[3]/div/div/div[2]/section/div[8]/div/div[1]/div[1]/div[1]')\n",
    "        h_ratings.append(rating.text)\n",
    "    except NoSuchElementException :\n",
    "            h_ratings.append('-')"
   ]
  },
  {
   "cell_type": "code",
   "execution_count": 40,
   "id": "6180f7e6",
   "metadata": {},
   "outputs": [
    {
     "data": {
      "text/plain": [
       "33"
      ]
     },
     "execution_count": 40,
     "metadata": {},
     "output_type": "execute_result"
    }
   ],
   "source": [
    "len(h_ratings)"
   ]
  },
  {
   "cell_type": "code",
   "execution_count": 41,
   "id": "b50286e0",
   "metadata": {},
   "outputs": [
    {
     "data": {
      "text/plain": [
       "['9.1',\n",
       " '8.8',\n",
       " '7.8',\n",
       " '9.1',\n",
       " '8.8',\n",
       " '7.8',\n",
       " '8.9',\n",
       " '9.6',\n",
       " '9.5',\n",
       " '9.6',\n",
       " '7.8',\n",
       " '8.3',\n",
       " '7.3',\n",
       " '8.4',\n",
       " '7.2',\n",
       " '7.7',\n",
       " '7.5',\n",
       " '6.9',\n",
       " '8.1',\n",
       " '8.8',\n",
       " '7.4',\n",
       " '8.7',\n",
       " '9.0',\n",
       " '8.1',\n",
       " '8.2',\n",
       " '7.6',\n",
       " '7.3',\n",
       " '8.5',\n",
       " '6.3',\n",
       " '7.2',\n",
       " '9.1',\n",
       " '8.2',\n",
       " '7.6']"
      ]
     },
     "execution_count": 41,
     "metadata": {},
     "output_type": "execute_result"
    }
   ],
   "source": [
    "h_ratings"
   ]
  },
  {
   "cell_type": "code",
   "execution_count": 45,
   "id": "ed291176",
   "metadata": {},
   "outputs": [],
   "source": [
    "# scraping data for hostel reviews\n",
    "\n",
    "h_reviews=[]\n",
    "\n",
    "for i in product_open_url:\n",
    "    driver.get(i)\n",
    "    time.sleep(2)\n",
    "    try:\n",
    "        review=driver.find_element(By.XPATH,'/html/body/div[3]/div/div/div[2]/section/div[8]/div/div[1]/div[1]/div[2]/div[2]')\n",
    "        h_reviews.append(review.text)\n",
    "    except NoSuchElementException :\n",
    "            h_reviews.append('-')"
   ]
  },
  {
   "cell_type": "code",
   "execution_count": 46,
   "id": "4b5966dc",
   "metadata": {},
   "outputs": [
    {
     "data": {
      "text/plain": [
       "33"
      ]
     },
     "execution_count": 46,
     "metadata": {},
     "output_type": "execute_result"
    }
   ],
   "source": [
    "len(h_reviews)"
   ]
  },
  {
   "cell_type": "code",
   "execution_count": 47,
   "id": "6942e186",
   "metadata": {},
   "outputs": [
    {
     "data": {
      "text/plain": [
       "['15960 Total Reviews',\n",
       " '15991 Total Reviews',\n",
       " '12892 Total Reviews',\n",
       " '15960 Total Reviews',\n",
       " '15991 Total Reviews',\n",
       " '12892 Total Reviews',\n",
       " '2165 Total Reviews',\n",
       " '2621 Total Reviews',\n",
       " '1137 Total Reviews',\n",
       " '160 Total Reviews',\n",
       " '4183 Total Reviews',\n",
       " '12337 Total Reviews',\n",
       " '5288 Total Reviews',\n",
       " '9464 Total Reviews',\n",
       " '5209 Total Reviews',\n",
       " '6805 Total Reviews',\n",
       " '10218 Total Reviews',\n",
       " '1793 Total Reviews',\n",
       " '532 Total Reviews',\n",
       " '125 Total Reviews',\n",
       " '3696 Total Reviews',\n",
       " '875 Total Reviews',\n",
       " '4704 Total Reviews',\n",
       " '4569 Total Reviews',\n",
       " '2979 Total Reviews',\n",
       " '4397 Total Reviews',\n",
       " '15106 Total Reviews',\n",
       " '6597 Total Reviews',\n",
       " '4629 Total Reviews',\n",
       " '4141 Total Reviews',\n",
       " '4790 Total Reviews',\n",
       " '560 Total Reviews',\n",
       " '836 Total Reviews']"
      ]
     },
     "execution_count": 47,
     "metadata": {},
     "output_type": "execute_result"
    }
   ],
   "source": [
    "h_reviews"
   ]
  },
  {
   "cell_type": "code",
   "execution_count": 48,
   "id": "f813caa6",
   "metadata": {},
   "outputs": [],
   "source": [
    "# scraping data for private room price\n",
    "h_pprice=[]\n",
    "\n",
    "for i in product_open_url:\n",
    "    driver.get(i)\n",
    "    time.sleep(2)\n",
    "    try:\n",
    "        pprice=driver.find_element(By.XPATH,'/html/body/div[3]/div/div/div[2]/section/div[10]/div/div/section/div/div[1]/div/div[1]/div[2]/div[1]/div[2]/div[1]/div/div[1]/div[2]/div[1]')\n",
    "        h_pprice.append(pprice.text)\n",
    "    except NoSuchElementException :\n",
    "            h_pprice.append('-')"
   ]
  },
  {
   "cell_type": "code",
   "execution_count": 49,
   "id": "de486bca",
   "metadata": {},
   "outputs": [
    {
     "data": {
      "text/plain": [
       "33"
      ]
     },
     "execution_count": 49,
     "metadata": {},
     "output_type": "execute_result"
    }
   ],
   "source": [
    "len(h_pprice)"
   ]
  },
  {
   "cell_type": "code",
   "execution_count": 50,
   "id": "334b9709",
   "metadata": {},
   "outputs": [
    {
     "data": {
      "text/plain": [
       "['Rs12232.76',\n",
       " '-',\n",
       " 'Rs2255.61',\n",
       " 'Rs12232.76',\n",
       " '-',\n",
       " 'Rs2255.61',\n",
       " '-',\n",
       " '-',\n",
       " '-',\n",
       " '-',\n",
       " '-',\n",
       " '-',\n",
       " '-',\n",
       " '-',\n",
       " '-',\n",
       " '-',\n",
       " '-',\n",
       " '-',\n",
       " '-',\n",
       " '-',\n",
       " '-',\n",
       " '-',\n",
       " '-',\n",
       " '-',\n",
       " '-',\n",
       " 'Rs1525.42',\n",
       " '-',\n",
       " '-',\n",
       " 'Rs1727.90',\n",
       " 'Rs2025.85',\n",
       " '-',\n",
       " '-',\n",
       " '-']"
      ]
     },
     "execution_count": 50,
     "metadata": {},
     "output_type": "execute_result"
    }
   ],
   "source": [
    "h_pprice"
   ]
  },
  {
   "cell_type": "code",
   "execution_count": 51,
   "id": "7c256669",
   "metadata": {},
   "outputs": [],
   "source": [
    "h_dprice=[]\n",
    "\n",
    "for i in product_open_url:\n",
    "    driver.get(i)\n",
    "    time.sleep(2)\n",
    "    try:\n",
    "        dprice=driver.find_element(By.XPATH,'/html/body/div[3]/div/div/div[2]/section/div[10]/div/div/section/div/div/div[2]/div[2]/div[2]/div[1]/div[2]/div[1]/div/div[1]/div[2]/div[1]')\n",
    "        h_dprice.append(dprice.text)\n",
    "    except NoSuchElementException :\n",
    "            h_dprice.append('-')"
   ]
  },
  {
   "cell_type": "code",
   "execution_count": 52,
   "id": "9a1b57d1",
   "metadata": {},
   "outputs": [
    {
     "data": {
      "text/plain": [
       "33"
      ]
     },
     "execution_count": 52,
     "metadata": {},
     "output_type": "execute_result"
    }
   ],
   "source": [
    "len(h_dprice)"
   ]
  },
  {
   "cell_type": "code",
   "execution_count": 53,
   "id": "fb8356dc",
   "metadata": {},
   "outputs": [
    {
     "data": {
      "text/plain": [
       "['Rs3643.60',\n",
       " '-',\n",
       " '-',\n",
       " 'Rs3643.60',\n",
       " '-',\n",
       " '-',\n",
       " '-',\n",
       " '-',\n",
       " '-',\n",
       " '-',\n",
       " '-',\n",
       " '-',\n",
       " '-',\n",
       " '-',\n",
       " '-',\n",
       " '-',\n",
       " '-',\n",
       " '-',\n",
       " '-',\n",
       " '-',\n",
       " '-',\n",
       " '-',\n",
       " '-',\n",
       " '-',\n",
       " '-',\n",
       " '-',\n",
       " '-',\n",
       " '-',\n",
       " '-',\n",
       " '-',\n",
       " '-',\n",
       " '-',\n",
       " '-']"
      ]
     },
     "execution_count": 53,
     "metadata": {},
     "output_type": "execute_result"
    }
   ],
   "source": [
    "h_dprice"
   ]
  },
  {
   "cell_type": "code",
   "execution_count": 67,
   "id": "3309aafb",
   "metadata": {},
   "outputs": [],
   "source": [
    "#scraping data for hostel description\n",
    "\n",
    "h_description=[]\n",
    "\n",
    "for i in product_open_url:\n",
    "    driver.get(i)\n",
    "    time.sleep(2)\n",
    "    try:\n",
    "        description=driver.find_element(By.XPATH,'/html/body/div[3]/div/div/div[2]/section/div[8]/div/div[2]/div[3]/div/div[2]')\n",
    "        h_description.append(description.text)\n",
    "    except NoSuchElementException :\n",
    "            h_description.append('-')"
   ]
  },
  {
   "cell_type": "code",
   "execution_count": 68,
   "id": "4f7d9ed9",
   "metadata": {},
   "outputs": [
    {
     "data": {
      "text/plain": [
       "33"
      ]
     },
     "execution_count": 68,
     "metadata": {},
     "output_type": "execute_result"
    }
   ],
   "source": [
    "len(h_description)"
   ]
  },
  {
   "cell_type": "code",
   "execution_count": 69,
   "id": "c99aee16",
   "metadata": {},
   "outputs": [
    {
     "data": {
      "text/plain": [
       "[\"A safe haven in the middle of the metropolis: We took a traditional brick building with roots dating back to the 1800s and set a new standard for hostel life in the UK.\\nWhat was once sailors' accommodation is now a hostel that caters for all the needs of the modern traveller. With great attention to detail, we have created a hostel in London that celebrates the heritage of our historic building.\\nThe old oak that once formed part of sturdy ships and churches is now immortalised in our furnishings throughout the house. The beers you drink here will be served on a bar made from 500 year old wood!\\n\\nOur Wombat's City Hostel is located in the London Borough of Tower Hamlets, right next to the famous Tower Bridge and Tower of London, charming markets, authentic pubs and many other places of historical interest.\\nA short walk will take you to trendy Shoreditch with its vibrant street art, the lively nightlife of Hoxton Square and Old Street and finally Brick Lane, which has become one of the most popular spots.\\nAll other London attractions are easily accessible by public transport: Aldgate East and Tower Bridge underground and DLR stations are just a stone's throw away. \\n\\nAfter a long and exciting day in London, our hostel awaits you with a cosy courtyard, a spacious lobby with our own Wombat's Cafe (exclusive Wombat's Roast included) and womBAR. Here you can relax and enjoy our always unexpected offers.\\nAll rooms are equipped with en-suite bathroom and private lockers. \\n\\nIncludes:\\n- Bed linen.\\n- WiFi.\\n- Our own Wombat's city maps.\\n- Wombat's Café.\\n- The womBAR for endless parties.\\n- A guest kitchen open to all who want to satisfy their own culinary needs.\\n- 24/7 reception.\\n- Secure luggage storage.\\n- Rental items (umbrellas, hairdryers, adaptors: everything a traveller could need).\\n- Coin-operated laundry facilities (washing and drying), so you can revitalise your clothes!\\n\\nOur famous Tasty Brekkie buffet guarantees you enough energy for your exciting day in London. You can buy breakfast for an economical price at reception.\\n\\n(Minimum age 18 years).\\n\\nNON-REFUNDABLE RESERVATIONS:\\n* Full payment is required at the time of booking and is non-refundable.\\n* If you leave early, cancel or do not honour this booking, you will not be refunded.\\n* Any extension of this stay requires a new booking for the additional dates, subject to availability and current rates.\\n\\nIn the event of invalid credit card details, you will be contacted by our team. You will have 48 hours to provide valid credit card details, otherwise we reserve the right to cancel the booking.\",\n",
       " '-',\n",
       " '-',\n",
       " \"A safe haven in the middle of the metropolis: We took a traditional brick building with roots dating back to the 1800s and set a new standard for hostel life in the UK.\\nWhat was once sailors' accommodation is now a hostel that caters for all the needs of the modern traveller. With great attention to detail, we have created a hostel in London that celebrates the heritage of our historic building.\\nThe old oak that once formed part of sturdy ships and churches is now immortalised in our furnishings throughout the house. The beers you drink here will be served on a bar made from 500 year old wood!\\n\\nOur Wombat's City Hostel is located in the London Borough of Tower Hamlets, right next to the famous Tower Bridge and Tower of London, charming markets, authentic pubs and many other places of historical interest.\\nA short walk will take you to trendy Shoreditch with its vibrant street art, the lively nightlife of Hoxton Square and Old Street and finally Brick Lane, which has become one of the most popular spots.\\nAll other London attractions are easily accessible by public transport: Aldgate East and Tower Bridge underground and DLR stations are just a stone's throw away. \\n\\nAfter a long and exciting day in London, our hostel awaits you with a cosy courtyard, a spacious lobby with our own Wombat's Cafe (exclusive Wombat's Roast included) and womBAR. Here you can relax and enjoy our always unexpected offers.\\nAll rooms are equipped with en-suite bathroom and private lockers. \\n\\nIncludes:\\n- Bed linen.\\n- WiFi.\\n- Our own Wombat's city maps.\\n- Wombat's Café.\\n- The womBAR for endless parties.\\n- A guest kitchen open to all who want to satisfy their own culinary needs.\\n- 24/7 reception.\\n- Secure luggage storage.\\n- Rental items (umbrellas, hairdryers, adaptors: everything a traveller could need).\\n- Coin-operated laundry facilities (washing and drying), so you can revitalise your clothes!\\n\\nOur famous Tasty Brekkie buffet guarantees you enough energy for your exciting day in London. You can buy breakfast for an economical price at reception.\\n\\n(Minimum age 18 years).\\n\\nNON-REFUNDABLE RESERVATIONS:\\n* Full payment is required at the time of booking and is non-refundable.\\n* If you leave early, cancel or do not honour this booking, you will not be refunded.\\n* Any extension of this stay requires a new booking for the additional dates, subject to availability and current rates.\\n\\nIn the event of invalid credit card details, you will be contacted by our team. You will have 48 hours to provide valid credit card details, otherwise we reserve the right to cancel the booking.\",\n",
       " '-',\n",
       " '-',\n",
       " 'Welcome to NX London Hostel!\\n\\nPLEASE READ INFORMATION BELOW IN FULL\\n\\nNX London offers Budget accommodation close to a station and a 24hrs service bus stop. We\\'re among the cheapest hostels in London that offer you FREE breakfast, FREE High speed Wi-Fi, FREE linen and towels, FREE food cupboard and FREE refreshments. We strive to offer value for money but LET\\'S BE REAL, don\\'t come to us with expectations of a boutique Hostel or an affordable Hotel. \\n\\nWe\\'re located close to New Cross Gate or New Cross Tube/ Train lines with easy access to London Bridge or connection to the Jubilee Line. We are also a short bus ride (15 minutes) away to the O2, if you are coming to London for a concert or event.\\n\\nFACILITIES:\\nReception is open 4:00pm to 1:00am (please DO NOT try to arrive prior to this hours unless early check-in or luggage drop are arranged in advance)\\nLuggage storage £5 per luggage per day and needs to be pre-arranged\\nFree High-speed Wi-Fi \\nFree Breakfast\\nFree Food cupboard\\nFree refreshments\\nFree linen and towels \\nFree ear plugs (For light sleepers)\\nSecure Lockers (Chargeable £2/day)\\nSelf Catering Kitchens.\\nCommon Room with Digital TV.\\nBoard-games (to borrow with a refundable deposit)\\nEarly check-in (subject to availability) starts at 1:00pm and needs to be arranged and paid in advance with surcharge of £10 per person\\nLate check-in (1:00am-3:00am) needs to be arranged and paid in advance with surcharge of £10 per reservation\\nLate check-out (subject to availability) up to 3:00pm and needs to be arranged and paid in advance with surcharge of £15 per person plus a full night stay if not pre-arranged the night before. \\n\\nMINORS POLICY: \\nWe do not accept customers under 18 years old unless they are part of a group staying in a private room with a guardian above 25 years old. Children under 6 years of age are not allowed under any circumstances. If your booking includes minors, you have to email prior processing a reservation in order to confirm ages and provide written parental consent (if applicable), otherwise you will be refused the accommodation with no refunds (a partial voucher could be provided for a future stay). Any issue has to be addressed directly at Reception by the adult guests acting as guardians for the underline reservation. We do not offer child care services and we are not responsible for any minor staying at our property. We cater primarily to adult guests and expect everyone to behave responsibly and respectfully at all times. Third party complains will be automatically dismissed. \\n\\nPREPAYMENT:\\n*All reservations must be PREPAID the day of booking and are NON REFUNDABLE. \\n*Unpaid reservations WILL BE SUBJECT TO AVAILABILITY AND MIGHT INCUR A 20%-40% SURCHARGE if they\\'re not fully paid upon reserving. \\nAll of our reservations are NON-REFUNDABLE regardless of circumstances. This includes, but is not limited to, cancellations made by the guest, changes in travel plans, bonafide errors, medical emergencies, bereavement or any other reasons for not being able to stay at the property. By making a reservation, you agreed to this NON-REFUNDABLE policy and acknowledged that you shall not be entitled to receive a refund for any reason. We kindly ask all of our guests to consider this policy before making a booking and ensure that their travel plans align with the hostel\\'s terms and conditions. However, if you need to cancel before your arrival day, you can request a partial courtesy voucher to use in the future at the Manager\\'s discretion.\\n\\nPUB NEXT DOOR:\\nThe Pub next door to the hostel often features live music / DJs. Please note that, since this is a well known live music venue, things can get noisy on the Hostel\\'s lower levels. If that\\'s a concern please request ear plugs (provided free or charge) or an upper floor room upon reserving (subject to availability). This is a separate business and we don’t have any affiliation with them. \\n\\nWHAT TO EXPECT:\\n*Our Standards are in line with the accommodation type we offer (BUDGET HOSTEL). The NX London is not a Hotel, the shared nature of our dormitory rooms might occasionally result into clutter. Bathrooms are located in the hallways and partaken with other guests, some wait-time might be required on peak times. \\n*In order to maintain our prices low, we kept \"on location amenities\" to a minimum: There are no toiletries, air conditioning and/or a mini-bar in the rooms. We feature a mix of long term and leisure guests, this gives the ambience a uniquely quirky character, as a consequence it would be impossible to meet everybody\\'s taste. Discriminatory comments or behavior won\\'t be tolerated.\\n*Our 10 bed dorm can host up to 10 guests! If you\\'re not comfortable sharing the space with that many people (and their belongings) please consider booking a different dorm or request an upgrade with price difference (subject to availability). \\n* The hostel is primarily designed for adults and we expect our guests to act in a responsible and respectful manner at all times. \\n* Upon reserving, you agree and acknowledge that our staff is trained to enforce our policies and procedures in a firm and assertive manner, holding everybody to a high standard of behavior and with zero-tolerance policy for any breaches. If they instruct you to follow a particular rule or procedure, we kindly request that you comply with their directions. We ask that guests understand that repeated breaches of policy can put a strain on our staff. \\n* Being uncomfortable with a high level of enforcement or the manner in which our staff members communicate shall not constitute grounds for a complain.\\n\\nADDITIONAL INFORMATION:\\n*Reception ONLY opens 4:00pm to 1:00am. \\n*Property is not wheelchair accessible*\\n*We do not accept customers over 65 years old unless they are part of a group staying in a private room. We reserve the right to refuse your accommodation at any stage according to the manager discretion. \\n *Groups of 9 guests or more need to send group request.\\n* Check-in time is from 4:00pm-1:00am. Guests arriving between 1:00am-3:00am need to email at least 24hrs in advance to confirm their reservation, pay their late arrival fee and fill out the required online check in form in order not to be be considered a no show.\\nPlease note that in case of no-show, the underlining reservation would be forfeited in accordance to policy (where an applicable 100% cancelation fee shall apply) Any new booking resulting from a no-show would be subject to availability and a £20 re-booking fee. If you fail to pre-arrange late check in or arrive by 1:00am the reservation will be considered a no show with applicable charges.\\n*No-Shows and Early check-outs will always result into a full (100%) charge and shall never constitute basis for a monetary refund regardless of circumstances. A transferable courtesy credit voucher, to be redeemed at our property might be offered at the Manager\\'s discretion.\\n*We DO require a valid ID for all arrivals including UK/EU residents. Expired ones or without a clear or damaged photo are not valid to check-in. \\n*A refundable £10.00 Key Deposit shall be required upon arrival.\\nShould loss of any key reasonably require a locksmith to be called and/or locksmith services to be carried out, guests shall be liable for any locksmith\\'s fees.\\nUpon departure guests should use the express check-out box located by the entrance to drop their key sets, where the corresponding deposit would be refunded directly to the payment method on file for the booking. Those whom wish to check-out early, or retrieve their key deposit in cash, are invited to report to Reception before 1:00 AM the night prior to leaving.',\n",
       " \"The perfect place for solo travelers to connect, explore and party! Join the Onefam Family and let us show you the beautiful city of London!\\n\\nWhat really makes our hostel unique and what has helped us win HostelWorld awards year after year, are our amazing team and incredibly social atmosphere.\\nOur staff are travelers just like you, but we are not just here to party. We will cook you dinner, take you on daytime adventures, and share our expert knowledge of the city.\\n\\nIf you still need more convincing, our location is in the absolute heart of Notting Hill (surely you have seen the film!), one of London's most beautiful neighborhoods. We are walking distance from many major tourist attractions such as Portobello Market, Hyde Park & Kensington Palace!\\n\\n- WHY US? \\nSocial but responsible.\\nDay and night, we have free activities for our Onefam guests. At Onefam you arrive as a solo traveler and you leave with a family.\\n\\n- OUR FACILITIES\\nSleep well, feel well & make friends.\\n\\n. Fully equipped kitchen.\\n. Terrace area.\\n. Common areas all designed for different moods. To relax, to work or to party.\\n. Laundry facilities to keep you smelling fresh.\\n. Personal lockers, outlets and light in all rooms.\\n. No curfew, so you can come and go 24 hours per day as you please.\\n\\nWe are currently following all procedural advice from local governments and taking every necessary measure to ensure your safety, comfort and happiness.\\n. We are up to speed with local government guidelines, advice from WHO and the CDC.\\n. Deep cleaning throughout our hostels has been increased.\\n. We offer sanitization in all common areas and public spaces.\\n\\n- CANCELLATION POLICY \\nThis property has a 2 day cancellation policy. Failure to cancel within this time will result in a cancellation charge equal to the first night of your stay.\\n\\nNon-refundable rates: If your booking is non-refundable. If you choose to cancel your booking, or in the case of a no-show, you will still be charged the full cost of your booking.\\n\\n- POLICIES & CONDITIONS\\nCheck-in from 3:30 PM to 11:30 PM. For late check-in, please email the hostel in advance. \\nCheck-out at 11 AM \\n\\n-SEVEN DAYS LIMIT \\nWe have a limit of 7 days to stay per guest, whether that be in the same reservation or divided in different ones. \\n\\n-Age Limit \\nWe have an age limit of 18 - 36 years old. If you are outside of this age range upon arrival to the hostel, we have the right to cancel your booking without refund of your deposit, as well as charging the applicable cancellation fee.\\n\\nWe look forward to greeting you in London!\",\n",
       " \"Welcome to Urbany Hostel London! Ideal for the solo traveller, we offer you a perfect spot to explore the city, make friends, party and feel at home.\\n\\nWe are a social youth hostel (for travellers 18 - 40 years) located in Notting Hill; a cosmopolitan and multicultural neighbourhood where you can easily walk to Portobello Market, Hyde Park and Kensington palace, a few of the most popular sites in London.\\n\\nSet in a Victorian terraced house built in the 1800s, offering a cosy social lounge, fully equipped kitchen, large outdoor terrace and indoor dining area. We are the perfect balance to relax, party and or work. For anyone travelling with heavy luggage, it is important to note that there are 4 floors with no elevator . \\n\\nFEEL THE URBANY VIBE:\\n\\nOur staff members are just like our guests, friendly, sociable, international and incredibly helpful! They will make sure you know your way around the city.\\n\\nWe offer a range of daily activities around London; from pub crawls, nights out and FREE dinners on selected days. \\n\\nWe have a variety of shared mixed dormitories, whilst also offering private rooms for those who prefer not to share.\\n\\nFree high-speed Wi-Fi is available everywhere, even in your room.\\n\\nLuggage storage is also available for free if you arrive before check-in or are leaving after check-out (only for the day).\\n\\nWe offer: towel rental (2 GBP) and basic laundry service wash/dry (7 GBP).\\n\\n24/7 CCTV throughout the whole building for added security.\\n\\n\\nCHECK - IN POLICIES\\n\\n- ALL our guests must be between 18 - 40 YEARS. If you are outside of this age range upon arrival to the hostel, we have the right to cancel your booking without refund of your deposit, as well as charging the applicable cancellation fee.\\n\\n- A physical VALID government issued ID, Passport, Driving license, and National identity cards (No paper or phone copies) is required to stay with us.\\n\\n-Please ensure your arrival time is between 8 AM - 11 PM. Alternatively please let us know if you will be arriving outside these hours. \\n\\n-Check in to rooms is from 3 PM - 11 PM\\n-Check out before 11 AM\\n\\nWe do require a £10 CASH key deposit (which you will receive back upon return). Ours key's have 24/7 access so there is no curfew - you can get in and out as much as you like.\\n\\nWe can't wait to welcome you to our wonderful home and enjoy this amazing city!\",\n",
       " 'Come join us at our newest Onefam location in central London! If you’re looking for a place to make friends for life and explore this amazing city look no further! \\n\\nWhat makes our hostel unique is our ability to bring people together and create amazing experiences for our guests because we are an extremely social hostel. \\n\\nOur super friendly staff offers amazing day tours to the many beautiful attractions in London as well as a free dinner cooked by the staff and nights out to remember forever! \\n\\nIf you still need some convincing, our location is super central which provides quick transportation to anywhere you want to visit in the city via the tube! We are right near the beautiful Thames River, the London Eye, the Imperial War Museum (one of the best in London), Westminster Abbey, Sealife Aquarium and Big Ben along with other hidden gems! \\n\\nWHY US? \\nSocial but responsible.\\nDay and night, we have free activities for our Onefam guests. At Onefam you arrive as a solo traveler and you leave with a family.\\n\\n- OUR FACILITIES\\nSleep well, feel well & make friends.\\n. Fully equipped kitchen.\\n. Terrace area\\n. Big common area designed for different moods. To relax, to work or to socialize with other guests.\\n. Personal lockers, outlets and light in all rooms.\\n. No curfew, so you can come and go 24 hours per day as you please. \\n\\n- CANCELLATION POLICY \\nThis property has a 2 day cancellation policy. Failure to cancel within this time will result in a cancellation charge equal to the first night of your stay.\\nNon-refundable rates: If your booking is non-refundable. If you choose to cancel your booking, or in the case of a no-show, you will still be charged the full cost of your booking.\\n\\n- POLICIES & CONDITIONS\\nCheck-in from 3:30 PM. For late check-in, please email the hostel in advance. \\nCheck-out at 11 AM \\n\\n-SEVEN DAYS LIMIT \\nWe have a limit of 7 days to stay per guest, whether that be in the same reservation or divided in different ones. \\n\\n-Age Limit \\nWe have an age limit of 18 - 36 years old. If you are outside of this age range upon arrival to the hostel, we have the right to cancel your booking without refund of your deposit, as well as charging the applicable cancellation fee.\\n\\nWe look forward to greeting you in London!',\n",
       " \"For Great Facilities, Comfort & Affordability you can't go past No.8 Seven Sisters! We provide Excellent Service and ensure that all of our Guests get Everything they want from their time in London. We cater exclusively for the Young & Young at Heart Backpacker 18-48, Photo IDs are required on Check In, as we have Entertainment on Weekends and operate a Very 'Bustling' and Social Hostel.\\n\\n- Free WiFi\\n- Full Facility Kitchen\\n- Secure Storage Facilities & 24Hr Key Card Access\\n- Pool Table & Darts Board\\n- Satellite TV\\n- Traditional English Pub & Beer Garden\\n- Entertainment on Weekends!\\n- Young & Young at Heart Backpackers 18-48 Years Old Only.\\n- Payment by Cash only on Check in. (Credit cards not accepted)\\n- £20 Key Deposit (Fully Refunded On Check-Out)\\n- No refunds are made following Check-In. \\n- Groups of 8 or less only. Facilities cannot cater for larger groups unfortunately.\\n\\nReception is open from 9:30am-11pm. Check in is from 12pm. PLEASE NOTE that Check In will NOT be possible outside these hours. If you are running late or will be arriving slightly outside our reception hours, please contact us to see if there is a possibility of us accommodating your arrival outside of opening hours.\\n\\nAs guests arrive and depart at varying times and numbers, it is impossible for us to guarantee that all group bookings can be allocated in one room together. Nevertheless we always try to keep groups together.\\n\\nWhether it is your first time in London or you are a seasoned traveller, No.8 has everything you need (and a few extras) and will ensure that your stay in London is definitely Enjoyable & Comfortable!\\n\\nWe look forward to Welcoming you at No.8 Seven Sisters!\",\n",
       " '-',\n",
       " '-',\n",
       " '-',\n",
       " 'At No.8 we take pride in our Customer Service and ensure that all of our Guests get everything they want from their time in London. We cater for the Young & Young at Heart Backpacker 18-48 only, Photo IDs will be required on Check In. We have Live Entertainment on Weekends within our Traditional English Pub, along with the usual range of pub entertainment and banter!\\n\\n- Free High-Speed WiFi\\n- Full Facility Kitchen, Dining Space & Outdoor Deck\\n- Secure Storage Facilities & 24 Hr Key Card Access\\n- Large Lounge - Pool Table, Chess Table, Couches, Satellite TV & Darts Board etc. \\n- Traditional English Pub & Beer Garden\\n- Young & Young at Heart Backpackers 18-48 only. ID on Check-In Required.\\n- Payment by Cash only on Check in (Cards not accepted)\\n- £20 Key Deposit (Fully Refunded On Check-Out)\\n- No refunds are made following Check-In\\n- Reception is open from 9:30am-11:00pm.\\n- Groups of 8 or less only. Facilities cannot cater for larger groups unfortunately.\\n\\n\\nCheck in: 12pm - 11pm\\nPLEASE NOTE that Check In will NOT be possible outside these hours. If you are running late or will be arriving slightly outside our check in hours, please contact us to see if there is a possibility of us accommodating your arrival outside of check in hours.\\n\\nWhether it is your first time in London or you are a seasoned traveller, No.8 has everything you need (and a few extras) to ensure that your stay in London is definitely Enjoyable & Comfortable!',\n",
       " 'Smart Hyde Park Inn Hostel is perfectly located in the heart of Central London, created with the traveler on a budget in mind. Located just off Londoners and Europeans most popular shopping areas, Portobello Market, Knightsbridge and Oxford Street, we are less than 100 meters from Hyde Park. Every room is key card locked as is entry to the main part of the building, security lockers in every room.\\n\\nWe offer value for money accommodation but still ensure that your safety and comfort are our primary concerns. Every room has been built with the backpacker in mind, each room has custom build beds, design with privacy and functionality in mind. The beds have curtains and panels ensuring that your stay is private and comfortable.',\n",
       " '-',\n",
       " \"Safestay Holland Park\\n\\nSafestay Holland Park is ideally located in the heart of London, nestled within one of the capital's most prestigious parks. This stunning hostel consists of 3 buildings, including the East Wing of the park's original Jacobean building, and surrounds our private courtyard garden.\\n\\nThe property has been fully refurbished to the high standards for which Safestay is renowned. \\n\\nThe Grade 1 listed building is located on the edge of London's famous Holland Park (search for Holland walk and duchess of Bedford Walk on your maps) and will provide Safestay guests with the opportunity to stay in the heart of one of the capital's desirable neighborhoods. The property dates back to 1605 along with a 1950's extension and is situated in a huge garden within the middle of one of London's most beautiful parks.\\n\\nHistoric, Jacobean splendor, in a great city location. Who says you can't have it all? This mansion in the middle of Holland Park was visited by Sir Walter Scott, Lord Byron, and Dickens. Today it offers large, comfortable rooms to you. \\n\\nThree different houses with a range of standard & ensuite rooms as well as family rooms & private rooms for everyone!\\nPool room, breakfast room & restaurant as well as the garden, & the whole Park itself with its famous beautiful woodland trails, manicured lawns, the Kyoto Japanese Garden with its resident Coi, and a fantastic ice cream stand in the middle.\\nOpened in 1952, Holland Park used to be a private estate belonging to the Earl of Holland. During the 19th century, the Holland House attracted high-profile visitors from various walks of life, from the politician, Lord Palmerston, to the poet, Lord Byron.\\n\\nSafestay Holland Park has excellent transport links and is within easy reach of The Natural History Museum, Holland Park Avenue, Notting Hill Gate, Portobello Market, Harrods, The Science Museum, Hyde Park, Westfield Shopping Centre, and Kensington Palace Gardens.\\n\\nDormitory style and range in size from 2 beds upwards. They offer mixed accommodation. Clean fresh sheets are included in the price. Lockers are available in rooms. Padlocks available for sale\\n\\nGuest will be required to show an official ID with photo at upon arrival. City tax is included.\\n\\nPerson under the age of 18 years are only allowed to stay in private rooms or dormitory rooms that are booked for use of one family or group of persons, and can't share a dormitory rooms with other guests. People under 18 years of age must travel with their parents or legal guardian.\\n\\nPolicies & Conditions:\\n\\nCheck in from 15:00 to 24:00.\\nCheck out before 10:00.\\n\\nPayment upon arrival only by credit/debit cards. \\nCancellation policy: 24 hours before arrival. \\nThis property may pre-authorize your card before arrival.\\n\\nBreakfast not included \\nNo outside alcohol is allowed at all.\\n\\n\\nHIGHLIGHTS: \\n\\n- The electronic lock on the door\\n- High quality purple linen\\n- Outdoor space / terrace \\n- Individual lockers\\n- Big common space\\n- Luggage room (additional cost applied)\\n- Laundry (additional cost applied)\\n- Free Wi-Fi \\n- Organized events at least once a week\\n- 24/7 Reception. No curfew.\\n- Non smoking.\\n\\nFOR GROUPS:\\n\\nPlease note that for the group bookings for more than 10 people, different prepayment policies may apply. Please note that if the reservations are made for 10 guests, the hostel has a right to charge the prepayment from the card. Large groups (more than 30 people) are a subject to availability. The Hostel Manager reserves the right not to accept large groups, depending on the individual situation (availability, number of nights etc) or to charge the prepayment. Please contact the property directly for the group reservation details.\\nFor any special requests or to get more information, never hesitate to contact us directly! \\n\\nTHE MOST IMPORTANT THING: We are always happy to see you at our place! :)\",\n",
       " '-',\n",
       " \"Hostelle is the first and only all-women hostel in London. Hostelle was started with the idea to provide a safe and fun place for women who are traveling to Amsterdam, Barcelona, or London to stay so that they only need to focus on sightseeing and enjoying themselves while they are here. For women travelers with a small budget Hostelle is ideal, we are very well communicated with the airport and the city center. \\n\\nLondon has a lot of different attractions and interesting places to visit. Because there are so many options, we from Hostelle have made a list of the absolute must-visits in London.\\n\\nHyde Park:\\nHyde Park is presumably the foremost notable park in London, it’s among the biggest. The park has historical significance, having hosted a variety of demonstrations and protests together with protests by suffragettes. The park hosts many performances weekly in addition to activities like paddle-boating, seeing several swans, and taking in a breath of fresh air in the center of the city. A must-visit.\\n\\nWestminster:\\nWestminster is home to the Houses of Parliament and the world-famous Big Ben. Big Ben is the name of the bell housed within the iconic clock tower, and it still chimes every hour.\\nYou can also find Westminster Abbey here, which is open to the public most days. Whilst visiting these landmarks, be sure to rest your feet in Parliament Square which features statues of important political individuals including Nelson Mandela and Winston Churchill.\\n\\nCamden:\\nCamden is a well-known cultural neighborhood in north London. Known for its alternative culture, the crowds here are filled with goths, punks, rockabillies, and tourists alike. Camden has a vibrant body mod community, and you will find several piercing and tattoo shops in this part of town.\\n\\nLondon Eye:\\nA trip to London isn’t complete without a visit to the iconic London Eye. Originally constructed to celebrate the millennium, the Eye is a giant Ferris wheel offering gorgeous views across the city. At night, the wheel is lit up in seasonal colors and is the centerpiece of London’s annual New Year’s fireworks display.\\n\\nHostelle London LTD Policy and Condition:\\n \\nCancellation Policy: 2 days before arrival. In case of a late cancellation or no show, you will be charged the first night of your stay. The non-refundable reservation can't be modified or canceled free of charge. \\n\\nCheck in from 14.00 to 00.00 (24/7 reception)\\n** Arriving later than 00:00 is possible please let us know your expected arrival time so the reception will be there to check you in.\\n\\nCheck out before 11.00 am\\n** Late checkout is not possible. You are welcome to stay in the common areas after check out time. \\n \\nPayments\\nNon-refundable reservations: these are always paid in advance. The provided credit card will be charged after we receive the reservation. \\nStandard reservation: these need to be paid on arrival with cash or card. We accept all types of cards. \\n** All taxes are included in the price. \\n \\nGeneral:\\n- 24 hours reception.\\n- No curfew\\n- We do not offer breakfast service, we have a fully equipped kitchen so the guests can make their dishes. \\n- We have a minimum age of 16 years old. Only when accompanied by a parent or a guardian we do allow children from the age of 12 years to stay in Hostelle.\",\n",
       " \"PLEASE NOTE WE ONLY ACCEPT GUESTS FROM THE AGE OF 18-40 with GOVERNMENT ISSUED PHOTO ID, such as driving licence, passport, national ID card. \\nStudent cards and proof of age cards are not accepted. \\n\\nThe Queen Elizabeth Youth Hostel is located above a historic pub in the posh borough of Hammersmith and Fulham. Located conveniently between the Imperial Wharf Overground and the Fulham Broadway Tube Station, we are just a quick train ride away from London's hottest tourist attractions.\\n\\nLocated less than 5 minutes from the River Thames and 10 minutes to Chelsea FC's home stadium, Stamford Bridge. This is a prime location for those looking for a peaceful and enjoyable stay. Not far you will find green spaces, great shopping and easy transport connections to Central London. We are also located just off King's Road, one of the most fashionable streets in the world.\\n\\nFacilities:\\nCheap, vegan-friendly breakfast buffet\\nLinen Included \\nFree WiFi Internet\\nNo Lock Out\\nNo Curfew \\nBar with cheap drinks for guests\\n24/Hour Check-in/Check-out\\nSecure Locker Storage\\nTwo-Week Maximum Stay\\n\\n-------------------------------------------------------------------------\\n\\n\\n\\nCheck-in is from 15:00 to 00:00 -- if you arrive before 15:00 you can store your bag for FREE in our secure luggage room.\\nAny check-in between 00:01 to 11:00 will be charged a £4 fee.\\n\\nCheck-out is at 11:00 -- Luggage storage is available upon departure for a nominal fee.\\n\\nDue to UK alcohol licensing laws, you are not allowed to bring or consume outside alcohol on the premises. \\n\\nWi-Fi is available in nearly all of our rooms, depending on your Wi-Fi device. It is specifically not available in our 17-bed dorm. All of our rooms do have electrical points, enabling you to charge your electronic devices. \\n\\nWe can't wait to see you here at Queen Elizabeth!\",\n",
       " \"The hostel is housed in a historic building in beautiful Angel (borough of Islington). \\n\\nOur goal is to create a space for travellers to explore the exciting fast paced life of London, and, at the same time, have a safe environment to relax and recharge, meet likeminded people and share unique experiences.\\n\\nWe are just moments from the bars, restaurants and nightlife of Upper Street and Shoreditch, and 150 metres (5 minute walk) from Angel tube station which gets you to all of the best parts of London in minutes. \\n\\nAngel is a vibrant part of London. On the edge of the City centre, and yet still a traditional local community. \\nIslington has been the home to reformists for centuries, so behind that elegant facade lies the beating heart of change. Islington is home to many local attractions that will let you see a different side of London than the normal tourist haunts.\\n\\nYou can enjoy free unlimited high speed WiFi in all areas, a massive fully equipped kitchen for you to cook (we know how expensive London is to eat out), and a chill-out lounge to while away the hours and make new friends. \\n\\nWe don't have a bar on site, so you can either sample the many local pubs or bring your own drinks back. We host lots of fun events, movie nights, games evenings and delicious dinners which all can enjoy - to name a few.\\n\\nThere's free tea and coffee all day, a free computer, TV, board games, book exchange, hairdryers, towels, travel advice, and more for you to enjoy. \\nFeel safe at Prime Angel with 24 hour security and CCTV. We have lockers (bring your own padlock) and luggage storage on the day of arrival and departure.\\n\\nAlso, please note that since the building is almost 200 years old there is no elevator (free work out).\\n\\nPrime Backpackers Policies & Conditions:\\n\\nStrictly no Hen or Stag parties, or group bookings for more than 8 people. \\nIf we suspect that you are a Hen or Stag party when you arrive then we reserve the right to cancel your booking and not refund any monies paid. \\nSame goes for groups bigger than 8 that come in two (or more) separate reservations but actually are one group (we really don't want to do that).\\n\\nCheck in from 15:00 to 21:00 . \\nCheck out before 11:00\\n\\nCancellation policy: \\nNon-refundable rate = we charge the full amount immediately and do not refund in case of a cancellation. \\n\\nStandard rate = we charge the first nights stay when you make the booking and this is non-refundable. You can cancel for free anytime prior to 7 days before check-in, otherwise the full rate is charged. \\n\\nWe may offer to postpone your stay to another date, if the cancellation is outside of your control. However, this is decided by our Hostel Manager. The deposit paid to Hostelworld is paid to them, and can only be recovered through them. \\n\\nIf you do not arrive, or cancel outside of the stated cancellation period, we will charge for the whole of your stay irrespective of the deposit you paid.\\n\\nOnce you have arrived no refunds are payable.\\n\\nPayment upon arrival by credit cards and/or debit cards. We do not accept cash payments. \\nThis property may pre-authorise your card before arrival.\\n\\nNon-refundable reservations may be charged in full at any point after the reservation has been made. (Please have the credit card you used for the reservation at check in).\\n\\nTaxes included. \\nBreakfast not included.\\n\\nGeneral: \\nNo curfew. \\nOur reception is open from 9am to 9pm, seven days a week. If you plan on arriving outside of these times, please let us know.\\n\\nGuests under the age of 18 can only be accommodated in the private rooms, if accompanied by an adult. Please remember that we do not accommodate groups of 8 people or more. Any reservations made for more than 8 people will be cancelled. We have maximum stay of 14 nights per guest (not reservation but person). Any reservations exceeding these 14 nights will be cancelled.\\n\\nMandatory Requirements:\\nHave the guest pay using the PDQ machine (with a pin).\\nPay via bank transfer\",\n",
       " '-',\n",
       " \"IMPORTANT NOTICE: \\n\\nThis hostel is for 18 - 35-year olds ONLY. \\nCheck In is from 2 pm to 1 am and Checkout is Before 10 am. Passport, Identity Card or Driver License is Required from all Guests. We accept cash in British Pounds and most cards. Please, note the reception is opened between 8am and 1am only. \\n\\n'Your home away from home' \\n\\nLooking for a great central London Hostel? Your search can come to rest to at London Backpackers Youth Hostel in Hendon. \\nWe are moment from Hendon Central Underground station, minutes from the heart of London and easy access to nearby airports (detailed instructions of how to find the Hostel will be emailed to you once your Booking is made).\\n\\nWe take pride of providing excellent hostel facilities for your stay, whether for a single night or several.\\nFor Group Bookings please contact the Hostel Directly.\\nIf you are looking for long term accommodation, email us for rooms and prices available for quarantining and long stay. \\n\\nOur rates are truly inexpensive, but our hostel is jam-packed with amenities tailored for young, and young at heart, people looking for a comfort at a modest price with a friendly atmosphere.\\n\\nBookings made on this or any website are Not Valid for Existing Guests. If you are and Existing Guest and make an Online Booking, your Booking will be honored but you will be charged the Full Nightly Rate.\\nIn the event of a NO SHOW or LATE CANCELLATION, Guests will be charged a Cancellation Fee Equal to the First Night of the Booking.\\n\\nWHAT YOU CAN EXPECT:\\n\\nOur facilities supply free linen, blankets, private rooms with towels, internet access, TV, literature, City Maps and UK Sim Cards, and a fully fitted kitchen for cooking (with Fridge/Freezers, Oven, Stoves, Microwave, Toaster and Kettle). You will not find another cheap London Youth Hostel that provide clean showers and toilets, plus hot water guaranteed 24h a day. For your convenience we also provide a laundry room with washer and dryer. Bunk Beds with Privacy Curtain, USB Charging Ports, Power Sockets, Reading Light and Locker. (Bring a Padlock or purchase from Reception). Sports Equipment for the nearby Hendon Park, just up the road with a large football field, tennis courts, basketball courts and it is a great place to get active during the day or to chill out with friends in the evening.\\n\\nYou can also enjoy a Pool game in our brand-new basement, equipped with seats and TV for more comfort!\\n\\nWe want your stay to be carefree and we ensure that by offering lockers and luggage room for your use in securing your property during your stay. The Hostel is covered by CCTV and there is 24hr Key Card Access with No Curfew.\\n\\nMoreover, you can find plenty of coffee shops and restaurants around the hostel and for every taste! \\n\\nFor your convenience you will find Tesco, Sainsbury's, and other international shops 2 min walk from the hostel. They are all opened until late at night, even on the Sunday. \\n\\nWe are a 10-minute walk away from Middlesex University as well as Brent Cross shopping centre. The Royal Air Force museum is right by the next underground station!\\n\\nNOTE: you must confirm your booking 24 hours prior to arrival by email to let us know you still want it; if you need to moify, please email us at info@londonbackpackers.com.\",\n",
       " '-',\n",
       " '-',\n",
       " '-',\n",
       " '-',\n",
       " 'The Phoenix Bar & Hostel, housed in a homely English-style pub located between Hyde park and Regents park, the Phoenix is perfect located and walking distance to all main attractions, train stations, tubes being only 100+ yards away. \\n\\nWe are an award winning backpackers hostel. Operating for 13 years we take all of our guests safety and security seriously but we also know how to party! Enjoying a mixed entertainments program down at the bar, Comedy Night, Karaoke, Quiz nights... Lounge area to relax watch TV or a movie. \\n\\nCome and join us on your next trip to London! \\n\\nAt the Phoenix Hostel we understand the health and safety concerns of travellers and can assure all guests we are doing everything possible to make your experience safe and enjoyable. A must: Government approved ID on check in for all members of your group!\\n\\nThe health and safety of our guests and staff are our number one priority, therefore we have updated our current standards and conditions to reflect this. \\n\\n*Please note we are operating on LIMITED reception working hours*\\n\\nAt the Phoenix Hostel we understand the health and safety concerns of travellers and can assure all guests we are doing everything possible to make your experience safe and enjoyable. A must: Government approved ID on check in for all members of your group!\\n\\nThe health and safety of our guests and staff are our number one priority, therefore we have updated our current standards and conditions to reflect this. \\n\\n£10 key deposit required upon check-in. cash. Refunded on check out.\\n\\nHostel reception open hours:\\n***We have 24 Hours Reception*** \\n\\nGuests can check-in from 2pm on day of arrival (If arriving earlier, guests may leave their luggage in our holding room until check-in)\\n\\nCheck-out of rooms by 10AM\\n\\nForms of ID accepted:\\nUK/ROI Driving Licence\\nEU/EEA Identity Card \\nInternational Passport\\nIf you do not have these forms of ID, and wish to stay here, please contact us. \\n\\nGuests can cancel their reservation up to 2 days before Check in date. After this date the full amount will be charged. \\nPayment is taken in full upon arrival, and is non-refundable should the guest wish to alter their booking after check in.',\n",
       " '-',\n",
       " \"Our Liverpool Street hostel is the newest of our London hostels, built only in 2017. Just a stroll away from London's coolest neighbourhood Shoreditch, we're perfectly located if you're looking for a fun mix of young locals, businessmen and partying travellers. Wake up surrounded by skyscrapers with The Gherkin on your doorstep, plus you'll only be a 5 minute walk from Moorgate AND Liverpool Street tube stations. We're set right above a traditional and charming British pub. There is a continental breakfast available every morning for just £5 a day which can be purchased at reception.on arrival.\\n\\nYou won't have to wander far before you reach Shoreditch and its abundance of amazing rooftop bars, the famous street art of Brick Lane and the awesome Old Spitalfields Market street food stalls. There's no place better to base yourself than in London's most bustling neighbourhood.\\n\\n*Please note that we require an in date government approved - drivers license, passport or national ID card at check-in.\\n\\n**Guests under the age of 18 must stay in a private room with guardians. They cannot share in general dormitory rooms with people who are not part of their own group or family. Under-18s are not allowed in the bars or pubs.\\n\\n***Please note: non-refundable reservations will be fully charged at the time of booking.\",\n",
       " '-',\n",
       " '-']"
      ]
     },
     "execution_count": 69,
     "metadata": {},
     "output_type": "execute_result"
    }
   ],
   "source": [
    "h_description"
   ]
  },
  {
   "cell_type": "code",
   "execution_count": 70,
   "id": "7af5e456",
   "metadata": {},
   "outputs": [],
   "source": [
    "h_facilities=[]\n",
    "\n",
    "for i in product_open_url:\n",
    "    driver.get(i)\n",
    "    time.sleep(2)\n",
    "    try:\n",
    "        facility=driver.find_element(By.XPATH,'/html/body/div[3]/div/div/div[2]/section/div[13]/div/ul/li[1]/ul')\n",
    "        h_facilities.append(facility.text)\n",
    "    except NoSuchElementException :\n",
    "            h_facilities.append('-')"
   ]
  },
  {
   "cell_type": "code",
   "execution_count": 71,
   "id": "3786a606",
   "metadata": {},
   "outputs": [
    {
     "data": {
      "text/plain": [
       "33"
      ]
     },
     "execution_count": 71,
     "metadata": {},
     "output_type": "execute_result"
    }
   ],
   "source": [
    "len(h_facilities)"
   ]
  },
  {
   "cell_type": "code",
   "execution_count": 72,
   "id": "6c72e7b6",
   "metadata": {},
   "outputs": [
    {
     "data": {
      "text/plain": [
       "['Linen Included Free City Maps Free WiFi Free Internet Access',\n",
       " '-',\n",
       " 'Linen Included Free WiFi Free Internet Access',\n",
       " 'Linen Included Free City Maps Free WiFi Free Internet Access',\n",
       " 'Linen Included Free WiFi Free Internet Access',\n",
       " 'Linen Included Free WiFi Free Internet Access',\n",
       " '-',\n",
       " 'Linen Included Free WiFi Free Internet Access',\n",
       " '-',\n",
       " '-',\n",
       " '-',\n",
       " '-',\n",
       " '-',\n",
       " '-',\n",
       " '-',\n",
       " '-',\n",
       " 'Linen Included Free City Maps Free WiFi Free Internet Access Free City Tour',\n",
       " '-',\n",
       " 'Linen Included Free City Maps Free WiFi',\n",
       " '-',\n",
       " 'Linen Included Free City Maps Free WiFi Free Internet Access',\n",
       " '-',\n",
       " '-',\n",
       " '-',\n",
       " '-',\n",
       " '-',\n",
       " '-',\n",
       " '-',\n",
       " '-',\n",
       " '-',\n",
       " '-',\n",
       " '-',\n",
       " '-']"
      ]
     },
     "execution_count": 72,
     "metadata": {},
     "output_type": "execute_result"
    }
   ],
   "source": [
    "h_facilities"
   ]
  },
  {
   "cell_type": "code",
   "execution_count": 75,
   "id": "b4178c3e",
   "metadata": {},
   "outputs": [
    {
     "data": {
      "text/html": [
       "<div>\n",
       "<style scoped>\n",
       "    .dataframe tbody tr th:only-of-type {\n",
       "        vertical-align: middle;\n",
       "    }\n",
       "\n",
       "    .dataframe tbody tr th {\n",
       "        vertical-align: top;\n",
       "    }\n",
       "\n",
       "    .dataframe thead th {\n",
       "        text-align: right;\n",
       "    }\n",
       "</style>\n",
       "<table border=\"1\" class=\"dataframe\">\n",
       "  <thead>\n",
       "    <tr style=\"text-align: right;\">\n",
       "      <th></th>\n",
       "      <th>Hostel Name</th>\n",
       "      <th>Hostel Rating</th>\n",
       "      <th>Hostel total reviews</th>\n",
       "      <th>Hostel Private Room Price</th>\n",
       "      <th>Hostel Dormen Room Price</th>\n",
       "      <th>Hostel Description</th>\n",
       "      <th>Hostel Facilities</th>\n",
       "    </tr>\n",
       "  </thead>\n",
       "  <tbody>\n",
       "    <tr>\n",
       "      <th>0</th>\n",
       "      <td>Wombat's City Hostel London</td>\n",
       "      <td>9.1</td>\n",
       "      <td>15960 Total Reviews</td>\n",
       "      <td>Rs12232.76</td>\n",
       "      <td>Rs3643.60</td>\n",
       "      <td>A safe haven in the middle of the metropolis: ...</td>\n",
       "      <td>Linen Included Free City Maps Free WiFi Free I...</td>\n",
       "    </tr>\n",
       "    <tr>\n",
       "      <th>1</th>\n",
       "      <td>Palmers Lodge - Swiss Cottage</td>\n",
       "      <td>8.8</td>\n",
       "      <td>15991 Total Reviews</td>\n",
       "      <td>-</td>\n",
       "      <td>-</td>\n",
       "      <td>-</td>\n",
       "      <td>-</td>\n",
       "    </tr>\n",
       "    <tr>\n",
       "      <th>2</th>\n",
       "      <td>St Christopher's Village</td>\n",
       "      <td>7.8</td>\n",
       "      <td>12892 Total Reviews</td>\n",
       "      <td>Rs2255.61</td>\n",
       "      <td>-</td>\n",
       "      <td>-</td>\n",
       "      <td>Linen Included Free WiFi Free Internet Access</td>\n",
       "    </tr>\n",
       "    <tr>\n",
       "      <th>3</th>\n",
       "      <td>Wombat's City Hostel London</td>\n",
       "      <td>9.1</td>\n",
       "      <td>15960 Total Reviews</td>\n",
       "      <td>Rs12232.76</td>\n",
       "      <td>Rs3643.60</td>\n",
       "      <td>A safe haven in the middle of the metropolis: ...</td>\n",
       "      <td>Linen Included Free City Maps Free WiFi Free I...</td>\n",
       "    </tr>\n",
       "    <tr>\n",
       "      <th>4</th>\n",
       "      <td>Palmers Lodge - Swiss Cottage</td>\n",
       "      <td>8.8</td>\n",
       "      <td>15991 Total Reviews</td>\n",
       "      <td>-</td>\n",
       "      <td>-</td>\n",
       "      <td>-</td>\n",
       "      <td>Linen Included Free WiFi Free Internet Access</td>\n",
       "    </tr>\n",
       "    <tr>\n",
       "      <th>5</th>\n",
       "      <td>St Christopher's Village</td>\n",
       "      <td>7.8</td>\n",
       "      <td>12892 Total Reviews</td>\n",
       "      <td>Rs2255.61</td>\n",
       "      <td>-</td>\n",
       "      <td>-</td>\n",
       "      <td>Linen Included Free WiFi Free Internet Access</td>\n",
       "    </tr>\n",
       "    <tr>\n",
       "      <th>6</th>\n",
       "      <td>NX London Hostel</td>\n",
       "      <td>8.9</td>\n",
       "      <td>2165 Total Reviews</td>\n",
       "      <td>-</td>\n",
       "      <td>-</td>\n",
       "      <td>Welcome to NX London Hostel!\\n\\nPLEASE READ IN...</td>\n",
       "      <td>-</td>\n",
       "    </tr>\n",
       "    <tr>\n",
       "      <th>7</th>\n",
       "      <td>Onefam Notting Hill</td>\n",
       "      <td>9.6</td>\n",
       "      <td>2621 Total Reviews</td>\n",
       "      <td>-</td>\n",
       "      <td>-</td>\n",
       "      <td>The perfect place for solo travelers to connec...</td>\n",
       "      <td>Linen Included Free WiFi Free Internet Access</td>\n",
       "    </tr>\n",
       "    <tr>\n",
       "      <th>8</th>\n",
       "      <td>Urbany Hostel London</td>\n",
       "      <td>9.5</td>\n",
       "      <td>1137 Total Reviews</td>\n",
       "      <td>-</td>\n",
       "      <td>-</td>\n",
       "      <td>Welcome to Urbany Hostel London! Ideal for the...</td>\n",
       "      <td>-</td>\n",
       "    </tr>\n",
       "    <tr>\n",
       "      <th>9</th>\n",
       "      <td>Onefam Waterloo</td>\n",
       "      <td>9.6</td>\n",
       "      <td>160 Total Reviews</td>\n",
       "      <td>-</td>\n",
       "      <td>-</td>\n",
       "      <td>Come join us at our newest Onefam location in ...</td>\n",
       "      <td>-</td>\n",
       "    </tr>\n",
       "    <tr>\n",
       "      <th>10</th>\n",
       "      <td>No.8 Seven Sisters</td>\n",
       "      <td>7.8</td>\n",
       "      <td>4183 Total Reviews</td>\n",
       "      <td>-</td>\n",
       "      <td>-</td>\n",
       "      <td>For Great Facilities, Comfort &amp; Affordability ...</td>\n",
       "      <td>-</td>\n",
       "    </tr>\n",
       "    <tr>\n",
       "      <th>11</th>\n",
       "      <td>Astor Hyde Park</td>\n",
       "      <td>8.3</td>\n",
       "      <td>12337 Total Reviews</td>\n",
       "      <td>-</td>\n",
       "      <td>-</td>\n",
       "      <td>-</td>\n",
       "      <td>-</td>\n",
       "    </tr>\n",
       "    <tr>\n",
       "      <th>12</th>\n",
       "      <td>Safestay London Elephant &amp; Castle</td>\n",
       "      <td>7.3</td>\n",
       "      <td>5288 Total Reviews</td>\n",
       "      <td>-</td>\n",
       "      <td>-</td>\n",
       "      <td>-</td>\n",
       "      <td>-</td>\n",
       "    </tr>\n",
       "    <tr>\n",
       "      <th>13</th>\n",
       "      <td>Astor Museum Inn</td>\n",
       "      <td>8.4</td>\n",
       "      <td>9464 Total Reviews</td>\n",
       "      <td>-</td>\n",
       "      <td>-</td>\n",
       "      <td>-</td>\n",
       "      <td>-</td>\n",
       "    </tr>\n",
       "    <tr>\n",
       "      <th>14</th>\n",
       "      <td>No.8 Willesden Hostel London</td>\n",
       "      <td>7.2</td>\n",
       "      <td>5209 Total Reviews</td>\n",
       "      <td>-</td>\n",
       "      <td>-</td>\n",
       "      <td>At No.8 we take pride in our Customer Service ...</td>\n",
       "      <td>-</td>\n",
       "    </tr>\n",
       "    <tr>\n",
       "      <th>15</th>\n",
       "      <td>Smart Hyde Park Inn Hostel</td>\n",
       "      <td>7.7</td>\n",
       "      <td>6805 Total Reviews</td>\n",
       "      <td>-</td>\n",
       "      <td>-</td>\n",
       "      <td>Smart Hyde Park Inn Hostel is perfectly locate...</td>\n",
       "      <td>-</td>\n",
       "    </tr>\n",
       "    <tr>\n",
       "      <th>16</th>\n",
       "      <td>Smart Russell Square Hostel</td>\n",
       "      <td>7.5</td>\n",
       "      <td>10218 Total Reviews</td>\n",
       "      <td>-</td>\n",
       "      <td>-</td>\n",
       "      <td>-</td>\n",
       "      <td>Linen Included Free City Maps Free WiFi Free I...</td>\n",
       "    </tr>\n",
       "    <tr>\n",
       "      <th>17</th>\n",
       "      <td>Safestay London Kensington Holland Park</td>\n",
       "      <td>6.9</td>\n",
       "      <td>1793 Total Reviews</td>\n",
       "      <td>-</td>\n",
       "      <td>-</td>\n",
       "      <td>Safestay Holland Park\\n\\nSafestay Holland Park...</td>\n",
       "      <td>-</td>\n",
       "    </tr>\n",
       "    <tr>\n",
       "      <th>18</th>\n",
       "      <td>Clink261</td>\n",
       "      <td>8.1</td>\n",
       "      <td>532 Total Reviews</td>\n",
       "      <td>-</td>\n",
       "      <td>-</td>\n",
       "      <td>-</td>\n",
       "      <td>Linen Included Free City Maps Free WiFi</td>\n",
       "    </tr>\n",
       "    <tr>\n",
       "      <th>19</th>\n",
       "      <td>Hostelle - women only hostel London</td>\n",
       "      <td>8.8</td>\n",
       "      <td>125 Total Reviews</td>\n",
       "      <td>-</td>\n",
       "      <td>-</td>\n",
       "      <td>Hostelle is the first and only all-women hoste...</td>\n",
       "      <td>-</td>\n",
       "    </tr>\n",
       "    <tr>\n",
       "      <th>20</th>\n",
       "      <td>Queen Elizabeth Chelsea</td>\n",
       "      <td>7.4</td>\n",
       "      <td>3696 Total Reviews</td>\n",
       "      <td>-</td>\n",
       "      <td>-</td>\n",
       "      <td>PLEASE NOTE WE ONLY ACCEPT GUESTS FROM THE AGE...</td>\n",
       "      <td>Linen Included Free City Maps Free WiFi Free I...</td>\n",
       "    </tr>\n",
       "    <tr>\n",
       "      <th>21</th>\n",
       "      <td>Prime Backpackers Angel</td>\n",
       "      <td>8.7</td>\n",
       "      <td>875 Total Reviews</td>\n",
       "      <td>-</td>\n",
       "      <td>-</td>\n",
       "      <td>The hostel is housed in a historic building in...</td>\n",
       "      <td>-</td>\n",
       "    </tr>\n",
       "    <tr>\n",
       "      <th>22</th>\n",
       "      <td>YHA London Oxford Street</td>\n",
       "      <td>9.0</td>\n",
       "      <td>4704 Total Reviews</td>\n",
       "      <td>-</td>\n",
       "      <td>-</td>\n",
       "      <td>-</td>\n",
       "      <td>-</td>\n",
       "    </tr>\n",
       "    <tr>\n",
       "      <th>23</th>\n",
       "      <td>London Backpackers</td>\n",
       "      <td>8.1</td>\n",
       "      <td>4569 Total Reviews</td>\n",
       "      <td>-</td>\n",
       "      <td>-</td>\n",
       "      <td>IMPORTANT NOTICE: \\n\\nThis hostel is for 18 - ...</td>\n",
       "      <td>-</td>\n",
       "    </tr>\n",
       "    <tr>\n",
       "      <th>24</th>\n",
       "      <td>Kabannas London St Pancras</td>\n",
       "      <td>8.2</td>\n",
       "      <td>2979 Total Reviews</td>\n",
       "      <td>-</td>\n",
       "      <td>-</td>\n",
       "      <td>-</td>\n",
       "      <td>-</td>\n",
       "    </tr>\n",
       "    <tr>\n",
       "      <th>25</th>\n",
       "      <td>St Christopher's Hammersmith</td>\n",
       "      <td>7.6</td>\n",
       "      <td>4397 Total Reviews</td>\n",
       "      <td>Rs1525.42</td>\n",
       "      <td>-</td>\n",
       "      <td>-</td>\n",
       "      <td>-</td>\n",
       "    </tr>\n",
       "    <tr>\n",
       "      <th>26</th>\n",
       "      <td>Astor Victoria</td>\n",
       "      <td>7.3</td>\n",
       "      <td>15106 Total Reviews</td>\n",
       "      <td>-</td>\n",
       "      <td>-</td>\n",
       "      <td>-</td>\n",
       "      <td>-</td>\n",
       "    </tr>\n",
       "    <tr>\n",
       "      <th>27</th>\n",
       "      <td>Astor Kensington</td>\n",
       "      <td>8.5</td>\n",
       "      <td>6597 Total Reviews</td>\n",
       "      <td>-</td>\n",
       "      <td>-</td>\n",
       "      <td>-</td>\n",
       "      <td>-</td>\n",
       "    </tr>\n",
       "    <tr>\n",
       "      <th>28</th>\n",
       "      <td>Phoenix Hostel</td>\n",
       "      <td>6.3</td>\n",
       "      <td>4629 Total Reviews</td>\n",
       "      <td>Rs1727.90</td>\n",
       "      <td>-</td>\n",
       "      <td>The Phoenix Bar &amp; Hostel, housed in a homely E...</td>\n",
       "      <td>-</td>\n",
       "    </tr>\n",
       "    <tr>\n",
       "      <th>29</th>\n",
       "      <td>St Christopher's Camden</td>\n",
       "      <td>7.2</td>\n",
       "      <td>4141 Total Reviews</td>\n",
       "      <td>Rs2025.85</td>\n",
       "      <td>-</td>\n",
       "      <td>-</td>\n",
       "      <td>-</td>\n",
       "    </tr>\n",
       "    <tr>\n",
       "      <th>30</th>\n",
       "      <td>St Christopher's Inn - Liverpool Street</td>\n",
       "      <td>9.1</td>\n",
       "      <td>4790 Total Reviews</td>\n",
       "      <td>-</td>\n",
       "      <td>-</td>\n",
       "      <td>Our Liverpool Street hostel is the newest of o...</td>\n",
       "      <td>-</td>\n",
       "    </tr>\n",
       "    <tr>\n",
       "      <th>31</th>\n",
       "      <td>St Christopher's Shepherds Bush</td>\n",
       "      <td>8.2</td>\n",
       "      <td>560 Total Reviews</td>\n",
       "      <td>-</td>\n",
       "      <td>-</td>\n",
       "      <td>-</td>\n",
       "      <td>-</td>\n",
       "    </tr>\n",
       "    <tr>\n",
       "      <th>32</th>\n",
       "      <td>YHA London St Pauls</td>\n",
       "      <td>7.6</td>\n",
       "      <td>836 Total Reviews</td>\n",
       "      <td>-</td>\n",
       "      <td>-</td>\n",
       "      <td>-</td>\n",
       "      <td>-</td>\n",
       "    </tr>\n",
       "  </tbody>\n",
       "</table>\n",
       "</div>"
      ],
      "text/plain": [
       "                                Hostel Name Hostel Rating  \\\n",
       "0               Wombat's City Hostel London           9.1   \n",
       "1             Palmers Lodge - Swiss Cottage           8.8   \n",
       "2                  St Christopher's Village           7.8   \n",
       "3               Wombat's City Hostel London           9.1   \n",
       "4             Palmers Lodge - Swiss Cottage           8.8   \n",
       "5                  St Christopher's Village           7.8   \n",
       "6                          NX London Hostel           8.9   \n",
       "7                       Onefam Notting Hill           9.6   \n",
       "8                      Urbany Hostel London           9.5   \n",
       "9                           Onefam Waterloo           9.6   \n",
       "10                       No.8 Seven Sisters           7.8   \n",
       "11                          Astor Hyde Park           8.3   \n",
       "12        Safestay London Elephant & Castle           7.3   \n",
       "13                         Astor Museum Inn           8.4   \n",
       "14             No.8 Willesden Hostel London           7.2   \n",
       "15               Smart Hyde Park Inn Hostel           7.7   \n",
       "16              Smart Russell Square Hostel           7.5   \n",
       "17  Safestay London Kensington Holland Park           6.9   \n",
       "18                                 Clink261           8.1   \n",
       "19      Hostelle - women only hostel London           8.8   \n",
       "20                  Queen Elizabeth Chelsea           7.4   \n",
       "21                  Prime Backpackers Angel           8.7   \n",
       "22                 YHA London Oxford Street           9.0   \n",
       "23                       London Backpackers           8.1   \n",
       "24               Kabannas London St Pancras           8.2   \n",
       "25             St Christopher's Hammersmith           7.6   \n",
       "26                           Astor Victoria           7.3   \n",
       "27                         Astor Kensington           8.5   \n",
       "28                           Phoenix Hostel           6.3   \n",
       "29                  St Christopher's Camden           7.2   \n",
       "30  St Christopher's Inn - Liverpool Street           9.1   \n",
       "31          St Christopher's Shepherds Bush           8.2   \n",
       "32                      YHA London St Pauls           7.6   \n",
       "\n",
       "   Hostel total reviews Hostel Private Room Price Hostel Dormen Room Price  \\\n",
       "0   15960 Total Reviews                Rs12232.76                Rs3643.60   \n",
       "1   15991 Total Reviews                         -                        -   \n",
       "2   12892 Total Reviews                 Rs2255.61                        -   \n",
       "3   15960 Total Reviews                Rs12232.76                Rs3643.60   \n",
       "4   15991 Total Reviews                         -                        -   \n",
       "5   12892 Total Reviews                 Rs2255.61                        -   \n",
       "6    2165 Total Reviews                         -                        -   \n",
       "7    2621 Total Reviews                         -                        -   \n",
       "8    1137 Total Reviews                         -                        -   \n",
       "9     160 Total Reviews                         -                        -   \n",
       "10   4183 Total Reviews                         -                        -   \n",
       "11  12337 Total Reviews                         -                        -   \n",
       "12   5288 Total Reviews                         -                        -   \n",
       "13   9464 Total Reviews                         -                        -   \n",
       "14   5209 Total Reviews                         -                        -   \n",
       "15   6805 Total Reviews                         -                        -   \n",
       "16  10218 Total Reviews                         -                        -   \n",
       "17   1793 Total Reviews                         -                        -   \n",
       "18    532 Total Reviews                         -                        -   \n",
       "19    125 Total Reviews                         -                        -   \n",
       "20   3696 Total Reviews                         -                        -   \n",
       "21    875 Total Reviews                         -                        -   \n",
       "22   4704 Total Reviews                         -                        -   \n",
       "23   4569 Total Reviews                         -                        -   \n",
       "24   2979 Total Reviews                         -                        -   \n",
       "25   4397 Total Reviews                 Rs1525.42                        -   \n",
       "26  15106 Total Reviews                         -                        -   \n",
       "27   6597 Total Reviews                         -                        -   \n",
       "28   4629 Total Reviews                 Rs1727.90                        -   \n",
       "29   4141 Total Reviews                 Rs2025.85                        -   \n",
       "30   4790 Total Reviews                         -                        -   \n",
       "31    560 Total Reviews                         -                        -   \n",
       "32    836 Total Reviews                         -                        -   \n",
       "\n",
       "                                   Hostel Description  \\\n",
       "0   A safe haven in the middle of the metropolis: ...   \n",
       "1                                                   -   \n",
       "2                                                   -   \n",
       "3   A safe haven in the middle of the metropolis: ...   \n",
       "4                                                   -   \n",
       "5                                                   -   \n",
       "6   Welcome to NX London Hostel!\\n\\nPLEASE READ IN...   \n",
       "7   The perfect place for solo travelers to connec...   \n",
       "8   Welcome to Urbany Hostel London! Ideal for the...   \n",
       "9   Come join us at our newest Onefam location in ...   \n",
       "10  For Great Facilities, Comfort & Affordability ...   \n",
       "11                                                  -   \n",
       "12                                                  -   \n",
       "13                                                  -   \n",
       "14  At No.8 we take pride in our Customer Service ...   \n",
       "15  Smart Hyde Park Inn Hostel is perfectly locate...   \n",
       "16                                                  -   \n",
       "17  Safestay Holland Park\\n\\nSafestay Holland Park...   \n",
       "18                                                  -   \n",
       "19  Hostelle is the first and only all-women hoste...   \n",
       "20  PLEASE NOTE WE ONLY ACCEPT GUESTS FROM THE AGE...   \n",
       "21  The hostel is housed in a historic building in...   \n",
       "22                                                  -   \n",
       "23  IMPORTANT NOTICE: \\n\\nThis hostel is for 18 - ...   \n",
       "24                                                  -   \n",
       "25                                                  -   \n",
       "26                                                  -   \n",
       "27                                                  -   \n",
       "28  The Phoenix Bar & Hostel, housed in a homely E...   \n",
       "29                                                  -   \n",
       "30  Our Liverpool Street hostel is the newest of o...   \n",
       "31                                                  -   \n",
       "32                                                  -   \n",
       "\n",
       "                                    Hostel Facilities  \n",
       "0   Linen Included Free City Maps Free WiFi Free I...  \n",
       "1                                                   -  \n",
       "2       Linen Included Free WiFi Free Internet Access  \n",
       "3   Linen Included Free City Maps Free WiFi Free I...  \n",
       "4       Linen Included Free WiFi Free Internet Access  \n",
       "5       Linen Included Free WiFi Free Internet Access  \n",
       "6                                                   -  \n",
       "7       Linen Included Free WiFi Free Internet Access  \n",
       "8                                                   -  \n",
       "9                                                   -  \n",
       "10                                                  -  \n",
       "11                                                  -  \n",
       "12                                                  -  \n",
       "13                                                  -  \n",
       "14                                                  -  \n",
       "15                                                  -  \n",
       "16  Linen Included Free City Maps Free WiFi Free I...  \n",
       "17                                                  -  \n",
       "18            Linen Included Free City Maps Free WiFi  \n",
       "19                                                  -  \n",
       "20  Linen Included Free City Maps Free WiFi Free I...  \n",
       "21                                                  -  \n",
       "22                                                  -  \n",
       "23                                                  -  \n",
       "24                                                  -  \n",
       "25                                                  -  \n",
       "26                                                  -  \n",
       "27                                                  -  \n",
       "28                                                  -  \n",
       "29                                                  -  \n",
       "30                                                  -  \n",
       "31                                                  -  \n",
       "32                                                  -  "
      ]
     },
     "execution_count": 75,
     "metadata": {},
     "output_type": "execute_result"
    }
   ],
   "source": [
    "df= pd.DataFrame({'Hostel Name':h_name, 'Hostel Rating':h_ratings, 'Hostel total reviews':h_reviews, 'Hostel Private Room Price':h_pprice, \n",
    "                 'Hostel Dormen Room Price':h_dprice, 'Hostel Description':h_description, 'Hostel Facilities':h_facilities})\n",
    "\n",
    "df\n"
   ]
  },
  {
   "cell_type": "code",
   "execution_count": 79,
   "id": "3b4e37fc",
   "metadata": {},
   "outputs": [],
   "source": [
    "driver.close()"
   ]
  },
  {
   "cell_type": "code",
   "execution_count": null,
   "id": "ab896529",
   "metadata": {},
   "outputs": [],
   "source": []
  }
 ],
 "metadata": {
  "kernelspec": {
   "display_name": "Python 3 (ipykernel)",
   "language": "python",
   "name": "python3"
  },
  "language_info": {
   "codemirror_mode": {
    "name": "ipython",
    "version": 3
   },
   "file_extension": ".py",
   "mimetype": "text/x-python",
   "name": "python",
   "nbconvert_exporter": "python",
   "pygments_lexer": "ipython3",
   "version": "3.10.9"
  }
 },
 "nbformat": 4,
 "nbformat_minor": 5
}
