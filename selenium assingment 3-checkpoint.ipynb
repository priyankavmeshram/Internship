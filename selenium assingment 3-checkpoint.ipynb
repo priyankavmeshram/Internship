{
 "cells": [
  {
   "cell_type": "code",
   "execution_count": 1,
   "id": "573b58d0",
   "metadata": {},
   "outputs": [
    {
     "name": "stdout",
     "output_type": "stream",
     "text": [
      "Requirement already satisfied: selenium in c:\\users\\priyanka\\anaconda3\\lib\\site-packages (4.17.2)\n",
      "Requirement already satisfied: typing_extensions>=4.9.0 in c:\\users\\priyanka\\anaconda3\\lib\\site-packages (from selenium) (4.9.0)\n",
      "Requirement already satisfied: trio-websocket~=0.9 in c:\\users\\priyanka\\anaconda3\\lib\\site-packages (from selenium) (0.11.1)\n",
      "Requirement already satisfied: certifi>=2021.10.8 in c:\\users\\priyanka\\anaconda3\\lib\\site-packages (from selenium) (2023.5.7)\n",
      "Requirement already satisfied: trio~=0.17 in c:\\users\\priyanka\\anaconda3\\lib\\site-packages (from selenium) (0.24.0)\n",
      "Requirement already satisfied: urllib3[socks]<3,>=1.26 in c:\\users\\priyanka\\anaconda3\\lib\\site-packages (from selenium) (1.26.14)\n",
      "Requirement already satisfied: cffi>=1.14 in c:\\users\\priyanka\\anaconda3\\lib\\site-packages (from trio~=0.17->selenium) (1.15.1)\n",
      "Requirement already satisfied: attrs>=20.1.0 in c:\\users\\priyanka\\anaconda3\\lib\\site-packages (from trio~=0.17->selenium) (22.1.0)\n",
      "Requirement already satisfied: idna in c:\\users\\priyanka\\anaconda3\\lib\\site-packages (from trio~=0.17->selenium) (3.4)\n",
      "Requirement already satisfied: outcome in c:\\users\\priyanka\\anaconda3\\lib\\site-packages (from trio~=0.17->selenium) (1.3.0.post0)\n",
      "Requirement already satisfied: exceptiongroup in c:\\users\\priyanka\\anaconda3\\lib\\site-packages (from trio~=0.17->selenium) (1.2.0)\n",
      "Requirement already satisfied: sniffio>=1.3.0 in c:\\users\\priyanka\\anaconda3\\lib\\site-packages (from trio~=0.17->selenium) (1.3.0)\n",
      "Requirement already satisfied: sortedcontainers in c:\\users\\priyanka\\anaconda3\\lib\\site-packages (from trio~=0.17->selenium) (2.4.0)\n",
      "Requirement already satisfied: wsproto>=0.14 in c:\\users\\priyanka\\anaconda3\\lib\\site-packages (from trio-websocket~=0.9->selenium) (1.2.0)\n",
      "Requirement already satisfied: PySocks!=1.5.7,<2.0,>=1.5.6 in c:\\users\\priyanka\\anaconda3\\lib\\site-packages (from urllib3[socks]<3,>=1.26->selenium) (1.7.1)\n",
      "Requirement already satisfied: pycparser in c:\\users\\priyanka\\anaconda3\\lib\\site-packages (from cffi>=1.14->trio~=0.17->selenium) (2.21)\n",
      "Requirement already satisfied: h11<1,>=0.9.0 in c:\\users\\priyanka\\anaconda3\\lib\\site-packages (from wsproto>=0.14->trio-websocket~=0.9->selenium) (0.14.0)\n"
     ]
    }
   ],
   "source": [
    "!pip install selenium"
   ]
  },
  {
   "cell_type": "code",
   "execution_count": 28,
   "id": "9522c48c",
   "metadata": {},
   "outputs": [],
   "source": [
    "import selenium\n",
    "import pandas as pd\n",
    "import time\n",
    "from bs4 import BeautifulSoup\n",
    "from selenium import webdriver\n",
    "from selenium.common.exceptions import StaleElementReferenceException, NoSuchElementException\n",
    "import requests\n",
    "from selenium.webdriver.common.by import By"
   ]
  },
  {
   "cell_type": "markdown",
   "id": "e5a7160a",
   "metadata": {},
   "source": [
    "# 1. program to search product in amazon website"
   ]
  },
  {
   "cell_type": "code",
   "execution_count": 73,
   "id": "5067f8d5",
   "metadata": {},
   "outputs": [],
   "source": [
    "driver=webdriver.Chrome()"
   ]
  },
  {
   "cell_type": "code",
   "execution_count": 74,
   "id": "14717c0e",
   "metadata": {},
   "outputs": [],
   "source": [
    "driver.get('https://www.amazon.in/')"
   ]
  },
  {
   "cell_type": "code",
   "execution_count": 75,
   "id": "017373f9",
   "metadata": {},
   "outputs": [],
   "source": [
    "products=driver.find_element(By.XPATH,'/html/body/div[1]/header/div/div[1]/div[2]/div/form/div[2]/div[1]/input')\n",
    "products.send_keys('cycle')"
   ]
  },
  {
   "cell_type": "code",
   "execution_count": 76,
   "id": "515d76a0",
   "metadata": {},
   "outputs": [],
   "source": [
    "search=driver.find_element(By.XPATH,'/html/body/div[1]/header/div/div[1]/div[2]/div/form/div[3]/div/span/input')\n",
    "search.click()"
   ]
  },
  {
   "cell_type": "markdown",
   "id": "24372f7d",
   "metadata": {},
   "source": [
    "# 2.scraping data for the products"
   ]
  },
  {
   "cell_type": "code",
   "execution_count": 63,
   "id": "fbfae98f",
   "metadata": {},
   "outputs": [],
   "source": [
    "#fetching url to open each product\n",
    "\n",
    "product_open_url = []\n",
    "start=0\n",
    "end=3\n",
    "for page in range(start,end):\n",
    "    url=driver.find_elements(By.XPATH,'//a[@class=\"a-link-normal s-underline-text s-underline-link-text s-link-style a-text-normal\"]')\n",
    "    for i in url:\n",
    "        product_open_url.append(i.get_attribute('href'))\n",
    "    next_button=driver.find_element(By.XPATH,'/html/body/div[1]/div[1]/div[1]/div[1]/div/span[1]/div[1]/div[29]/div/div/span/a[3]')"
   ]
  },
  {
   "cell_type": "code",
   "execution_count": 64,
   "id": "cad38093",
   "metadata": {},
   "outputs": [
    {
     "data": {
      "text/plain": [
       "72"
      ]
     },
     "execution_count": 64,
     "metadata": {},
     "output_type": "execute_result"
    }
   ],
   "source": [
    "len(product_open_url)"
   ]
  },
  {
   "cell_type": "code",
   "execution_count": 65,
   "id": "75fe4aa1",
   "metadata": {
    "scrolled": false
   },
   "outputs": [
    {
     "data": {
      "text/plain": [
       "['https://www.amazon.in/sspa/click?ie=UTF8&spc=MTo0MTUzMTYzNDE5MDcwNDc6MTcwODE3NTQ3ODpzcF9hdGY6MjAxMTg0MTcxMjYxOTg6OjA6Og&url=%2FLeader-Spyder-27-5T-MTB-Cycle%2Fdp%2FB0BSS17P4R%2Fref%3Dsr_1_1_sspa%3Fcrid%3D2QD74H0Z8RRZV%26dib%3DeyJ2IjoiMSJ9.ldtRRSaCp5RZzHwJGxE6-J2dkV7baLMkhYDmykAzxfT1KZa7gvEBiS47zLr8gkbGW3xhl5caQhHbczlKl9jQQaZTV1NEvKE7mBFoTWevYcK2bk7wQR7JwfFHJL8oEgsEuXnFdIA86IFwDgUGWO5lpGmD3Bv-IsOxGUMefT-kk754BOrLKOht478VMu56GwIA0hvg88GKYBQtTwSeYCmrOxqqVo4MMkIJjbmPRDxRfh0.Yzapxa2qx7Jq9p0nwaC_Aj-nBQAbdlCBDuyvS92EK-w%26dib_tag%3Dse%26keywords%3Dcycle%26qid%3D1708175478%26sprefix%3Dcycle%252Caps%252C328%26sr%3D8-1-spons%26sp_csd%3Dd2lkZ2V0TmFtZT1zcF9hdGY%26psc%3D1',\n",
       " 'https://www.amazon.in/sspa/click?ie=UTF8&spc=MTo0MTUzMTYzNDE5MDcwNDc6MTcwODE3NTQ3ODpzcF9hdGY6MzAwMDY1MTYzMjEyMjMyOjowOjo&url=%2FLeader-Spyder-Multispeed-Mountain-Suspension%2Fdp%2FB0BHP986PQ%2Fref%3Dsr_1_2_sspa%3Fcrid%3D2QD74H0Z8RRZV%26dib%3DeyJ2IjoiMSJ9.ldtRRSaCp5RZzHwJGxE6-J2dkV7baLMkhYDmykAzxfT1KZa7gvEBiS47zLr8gkbGW3xhl5caQhHbczlKl9jQQaZTV1NEvKE7mBFoTWevYcK2bk7wQR7JwfFHJL8oEgsEuXnFdIA86IFwDgUGWO5lpGmD3Bv-IsOxGUMefT-kk754BOrLKOht478VMu56GwIA0hvg88GKYBQtTwSeYCmrOxqqVo4MMkIJjbmPRDxRfh0.Yzapxa2qx7Jq9p0nwaC_Aj-nBQAbdlCBDuyvS92EK-w%26dib_tag%3Dse%26keywords%3Dcycle%26qid%3D1708175478%26sprefix%3Dcycle%252Caps%252C328%26sr%3D8-2-spons%26sp_csd%3Dd2lkZ2V0TmFtZT1zcF9hdGY%26psc%3D1',\n",
       " 'https://www.amazon.in/Urban-Terrain-UT5000S27-5-Suspension-Installation/dp/B09N18WPNQ/ref=sr_1_3?crid=2QD74H0Z8RRZV&dib=eyJ2IjoiMSJ9.ldtRRSaCp5RZzHwJGxE6-J2dkV7baLMkhYDmykAzxfT1KZa7gvEBiS47zLr8gkbGW3xhl5caQhHbczlKl9jQQaZTV1NEvKE7mBFoTWevYcK2bk7wQR7JwfFHJL8oEgsEuXnFdIA86IFwDgUGWO5lpGmD3Bv-IsOxGUMefT-kk754BOrLKOht478VMu56GwIA0hvg88GKYBQtTwSeYCmrOxqqVo4MMkIJjbmPRDxRfh0.Yzapxa2qx7Jq9p0nwaC_Aj-nBQAbdlCBDuyvS92EK-w&dib_tag=se&keywords=cycle&qid=1708175478&sprefix=cycle%2Caps%2C328&sr=8-3',\n",
       " 'https://www.amazon.in/Lifelong-Rigid-Mountain-Premium-Single/dp/B0BPH3KVRN/ref=sr_1_4?crid=2QD74H0Z8RRZV&dib=eyJ2IjoiMSJ9.ldtRRSaCp5RZzHwJGxE6-J2dkV7baLMkhYDmykAzxfT1KZa7gvEBiS47zLr8gkbGW3xhl5caQhHbczlKl9jQQaZTV1NEvKE7mBFoTWevYcK2bk7wQR7JwfFHJL8oEgsEuXnFdIA86IFwDgUGWO5lpGmD3Bv-IsOxGUMefT-kk754BOrLKOht478VMu56GwIA0hvg88GKYBQtTwSeYCmrOxqqVo4MMkIJjbmPRDxRfh0.Yzapxa2qx7Jq9p0nwaC_Aj-nBQAbdlCBDuyvS92EK-w&dib_tag=se&keywords=cycle&qid=1708175478&sprefix=cycle%2Caps%2C328&sr=8-4',\n",
       " 'https://www.amazon.in/Lifelong-LLBC2001-Tribe-Cycle-Yellow/dp/B096FYLB46/ref=sr_1_5?crid=2QD74H0Z8RRZV&dib=eyJ2IjoiMSJ9.ldtRRSaCp5RZzHwJGxE6-J2dkV7baLMkhYDmykAzxfT1KZa7gvEBiS47zLr8gkbGW3xhl5caQhHbczlKl9jQQaZTV1NEvKE7mBFoTWevYcK2bk7wQR7JwfFHJL8oEgsEuXnFdIA86IFwDgUGWO5lpGmD3Bv-IsOxGUMefT-kk754BOrLKOht478VMu56GwIA0hvg88GKYBQtTwSeYCmrOxqqVo4MMkIJjbmPRDxRfh0.Yzapxa2qx7Jq9p0nwaC_Aj-nBQAbdlCBDuyvS92EK-w&dib_tag=se&keywords=cycle&qid=1708175478&sprefix=cycle%2Caps%2C328&sr=8-5',\n",
       " 'https://aax-eu.amazon.in/x/c/RP5REMB8RD5IakaJstU7ifgAAAGNtzFOegMAAAH2AQBvbm9fdHhuX2JpZDMgICBvbm9fdHhuX2ltcDEgICCsngFD/https://www.amazon.in/Lifelong-Gear-Cycle-Women-Micro-Shifter/dp/B0BPHNZZL5/ref=sxin_15_sbv_search_btf?content-id=amzn1.sym.4fe35c1d-da6a-41a4-967c-7a2315a8b22e%3Aamzn1.sym.4fe35c1d-da6a-41a4-967c-7a2315a8b22e&crid=2QD74H0Z8RRZV&cv_ct_cx=cycle&dib=eyJ2IjoiMSJ9.39LnXO1V9jV_f3R1IA9Mvg.khjq6717E23zkOwFWxut8Uo2c0HgqXOC_CDRM4bpFEs&dib_tag=se&keywords=cycle&pd_rd_i=B0BPHNZZL5&pd_rd_r=e76bda78-540b-4545-b57e-4f2a6c355147&pd_rd_w=rjl9I&pd_rd_wg=3fC5D&pf_rd_p=4fe35c1d-da6a-41a4-967c-7a2315a8b22e&pf_rd_r=SHF0XN4PFD66V6Z6KQQZ&qid=1708175478&sbo=RZvfv%2F%2FHxDF%2BO5021pAnSA%3D%3D&sprefix=cycle%2Caps%2C328&sr=1-1-b614a050-8d70-4320-9c19-cc457ab2a351',\n",
       " 'https://www.amazon.in/Leader-Mountain-Bicycle-Without-Single/dp/B089M9HVQP/ref=sr_1_6?crid=2QD74H0Z8RRZV&dib=eyJ2IjoiMSJ9.ldtRRSaCp5RZzHwJGxE6-J2dkV7baLMkhYDmykAzxfT1KZa7gvEBiS47zLr8gkbGW3xhl5caQhHbczlKl9jQQaZTV1NEvKE7mBFoTWevYcK2bk7wQR7JwfFHJL8oEgsEuXnFdIA86IFwDgUGWO5lpGmD3Bv-IsOxGUMefT-kk754BOrLKOht478VMu56GwIA0hvg88GKYBQtTwSeYCmrOxqqVo4MMkIJjbmPRDxRfh0.Yzapxa2qx7Jq9p0nwaC_Aj-nBQAbdlCBDuyvS92EK-w&dib_tag=se&keywords=cycle&qid=1708175478&sprefix=cycle%2Caps%2C328&sr=8-6',\n",
       " 'https://www.amazon.in/QUESEC-Mercedes-Foldable-Folding-Bicycle/dp/B0BPC535F2/ref=sr_1_7?crid=2QD74H0Z8RRZV&dib=eyJ2IjoiMSJ9.ldtRRSaCp5RZzHwJGxE6-J2dkV7baLMkhYDmykAzxfT1KZa7gvEBiS47zLr8gkbGW3xhl5caQhHbczlKl9jQQaZTV1NEvKE7mBFoTWevYcK2bk7wQR7JwfFHJL8oEgsEuXnFdIA86IFwDgUGWO5lpGmD3Bv-IsOxGUMefT-kk754BOrLKOht478VMu56GwIA0hvg88GKYBQtTwSeYCmrOxqqVo4MMkIJjbmPRDxRfh0.Yzapxa2qx7Jq9p0nwaC_Aj-nBQAbdlCBDuyvS92EK-w&dib_tag=se&keywords=cycle&qid=1708175478&sprefix=cycle%2Caps%2C328&sr=8-7',\n",
       " 'https://www.amazon.in/Leader-Mountain-Bicycle-Without-Suspension/dp/B0BYSCSTL7/ref=sr_1_8?crid=2QD74H0Z8RRZV&dib=eyJ2IjoiMSJ9.ldtRRSaCp5RZzHwJGxE6-J2dkV7baLMkhYDmykAzxfT1KZa7gvEBiS47zLr8gkbGW3xhl5caQhHbczlKl9jQQaZTV1NEvKE7mBFoTWevYcK2bk7wQR7JwfFHJL8oEgsEuXnFdIA86IFwDgUGWO5lpGmD3Bv-IsOxGUMefT-kk754BOrLKOht478VMu56GwIA0hvg88GKYBQtTwSeYCmrOxqqVo4MMkIJjbmPRDxRfh0.Yzapxa2qx7Jq9p0nwaC_Aj-nBQAbdlCBDuyvS92EK-w&dib_tag=se&keywords=cycle&qid=1708175478&sprefix=cycle%2Caps%2C328&sr=8-8',\n",
       " 'https://www.amazon.in/Leader-Premium-inbuilt-Carrier-Mountain/dp/B0CVH3VY2Z/ref=sr_1_9?crid=2QD74H0Z8RRZV&dib=eyJ2IjoiMSJ9.ldtRRSaCp5RZzHwJGxE6-J2dkV7baLMkhYDmykAzxfT1KZa7gvEBiS47zLr8gkbGW3xhl5caQhHbczlKl9jQQaZTV1NEvKE7mBFoTWevYcK2bk7wQR7JwfFHJL8oEgsEuXnFdIA86IFwDgUGWO5lpGmD3Bv-IsOxGUMefT-kk754BOrLKOht478VMu56GwIA0hvg88GKYBQtTwSeYCmrOxqqVo4MMkIJjbmPRDxRfh0.Yzapxa2qx7Jq9p0nwaC_Aj-nBQAbdlCBDuyvS92EK-w&dib_tag=se&keywords=cycle&qid=1708175478&sprefix=cycle%2Caps%2C328&sr=8-9',\n",
       " 'https://www.amazon.in/Leader-Lady-Breeze-26T-Integrated/dp/B0BQMXMM61/ref=sr_1_10?crid=2QD74H0Z8RRZV&dib=eyJ2IjoiMSJ9.ldtRRSaCp5RZzHwJGxE6-J2dkV7baLMkhYDmykAzxfT1KZa7gvEBiS47zLr8gkbGW3xhl5caQhHbczlKl9jQQaZTV1NEvKE7mBFoTWevYcK2bk7wQR7JwfFHJL8oEgsEuXnFdIA86IFwDgUGWO5lpGmD3Bv-IsOxGUMefT-kk754BOrLKOht478VMu56GwIA0hvg88GKYBQtTwSeYCmrOxqqVo4MMkIJjbmPRDxRfh0.Yzapxa2qx7Jq9p0nwaC_Aj-nBQAbdlCBDuyvS92EK-w&dib_tag=se&keywords=cycle&qid=1708175478&sprefix=cycle%2Caps%2C328&sr=8-10',\n",
       " 'https://www.amazon.in/sspa/click?ie=UTF8&spc=MTo0MTUzMTYzNDE5MDcwNDc6MTcwODE3NTQ3ODpzcF9tdGY6MzAwMDY3MDc4MTQ2MDMyOjowOjo&url=%2FAvon-Bicycles-Nest-Cycle-Wheel%2Fdp%2FB0BY73NLC9%2Fref%3Dsr_1_11_sspa%3Fcrid%3D2QD74H0Z8RRZV%26dib%3DeyJ2IjoiMSJ9.ldtRRSaCp5RZzHwJGxE6-J2dkV7baLMkhYDmykAzxfT1KZa7gvEBiS47zLr8gkbGW3xhl5caQhHbczlKl9jQQaZTV1NEvKE7mBFoTWevYcK2bk7wQR7JwfFHJL8oEgsEuXnFdIA86IFwDgUGWO5lpGmD3Bv-IsOxGUMefT-kk754BOrLKOht478VMu56GwIA0hvg88GKYBQtTwSeYCmrOxqqVo4MMkIJjbmPRDxRfh0.Yzapxa2qx7Jq9p0nwaC_Aj-nBQAbdlCBDuyvS92EK-w%26dib_tag%3Dse%26keywords%3Dcycle%26qid%3D1708175478%26sprefix%3Dcycle%252Caps%252C328%26sr%3D8-11-spons%26sp_csd%3Dd2lkZ2V0TmFtZT1zcF9tdGY%26psc%3D1',\n",
       " 'https://www.amazon.in/sspa/click?ie=UTF8&spc=MTo0MTUzMTYzNDE5MDcwNDc6MTcwODE3NTQ3ODpzcF9tdGY6MzAwMDk0OTg4MjE5OTMyOjowOjo&url=%2FSYNERGY-Electric-Throttle-Pre-Assembled-Warranty%2Fdp%2FB0CNK4TNW1%2Fref%3Dsr_1_12_sspa%3Fcrid%3D2QD74H0Z8RRZV%26dib%3DeyJ2IjoiMSJ9.ldtRRSaCp5RZzHwJGxE6-J2dkV7baLMkhYDmykAzxfT1KZa7gvEBiS47zLr8gkbGW3xhl5caQhHbczlKl9jQQaZTV1NEvKE7mBFoTWevYcK2bk7wQR7JwfFHJL8oEgsEuXnFdIA86IFwDgUGWO5lpGmD3Bv-IsOxGUMefT-kk754BOrLKOht478VMu56GwIA0hvg88GKYBQtTwSeYCmrOxqqVo4MMkIJjbmPRDxRfh0.Yzapxa2qx7Jq9p0nwaC_Aj-nBQAbdlCBDuyvS92EK-w%26dib_tag%3Dse%26keywords%3Dcycle%26qid%3D1708175478%26sprefix%3Dcycle%252Caps%252C328%26sr%3D8-12-spons%26sp_csd%3Dd2lkZ2V0TmFtZT1zcF9tdGY%26psc%3D1',\n",
       " 'https://www.amazon.in/Urban-Terrain-UT7001S27-5-Accessories-Installation/dp/B09RH8MM2H/ref=sr_1_13?crid=2QD74H0Z8RRZV&dib=eyJ2IjoiMSJ9.ldtRRSaCp5RZzHwJGxE6-J2dkV7baLMkhYDmykAzxfT1KZa7gvEBiS47zLr8gkbGW3xhl5caQhHbczlKl9jQQaZTV1NEvKE7mBFoTWevYcK2bk7wQR7JwfFHJL8oEgsEuXnFdIA86IFwDgUGWO5lpGmD3Bv-IsOxGUMefT-kk754BOrLKOht478VMu56GwIA0hvg88GKYBQtTwSeYCmrOxqqVo4MMkIJjbmPRDxRfh0.Yzapxa2qx7Jq9p0nwaC_Aj-nBQAbdlCBDuyvS92EK-w&dib_tag=se&keywords=cycle&qid=1708175478&sprefix=cycle%2Caps%2C328&sr=8-13',\n",
       " 'https://www.amazon.in/Urban-Terrain-Mountain-Suspension-Tracking/dp/B0CHYBXZG9/ref=sr_1_14?crid=2QD74H0Z8RRZV&dib=eyJ2IjoiMSJ9.ldtRRSaCp5RZzHwJGxE6-J2dkV7baLMkhYDmykAzxfT1KZa7gvEBiS47zLr8gkbGW3xhl5caQhHbczlKl9jQQaZTV1NEvKE7mBFoTWevYcK2bk7wQR7JwfFHJL8oEgsEuXnFdIA86IFwDgUGWO5lpGmD3Bv-IsOxGUMefT-kk754BOrLKOht478VMu56GwIA0hvg88GKYBQtTwSeYCmrOxqqVo4MMkIJjbmPRDxRfh0.Yzapxa2qx7Jq9p0nwaC_Aj-nBQAbdlCBDuyvS92EK-w&dib_tag=se&keywords=cycle&qid=1708175478&sprefix=cycle%2Caps%2C328&sr=8-14',\n",
       " 'https://www.amazon.in/Leader-Spyder-27-5T-MTB-Cycle/dp/B0BSS17P4R/ref=sr_1_15?crid=2QD74H0Z8RRZV&dib=eyJ2IjoiMSJ9.ldtRRSaCp5RZzHwJGxE6-J2dkV7baLMkhYDmykAzxfT1KZa7gvEBiS47zLr8gkbGW3xhl5caQhHbczlKl9jQQaZTV1NEvKE7mBFoTWevYcK2bk7wQR7JwfFHJL8oEgsEuXnFdIA86IFwDgUGWO5lpGmD3Bv-IsOxGUMefT-kk754BOrLKOht478VMu56GwIA0hvg88GKYBQtTwSeYCmrOxqqVo4MMkIJjbmPRDxRfh0.Yzapxa2qx7Jq9p0nwaC_Aj-nBQAbdlCBDuyvS92EK-w&dib_tag=se&keywords=cycle&qid=1708175478&sprefix=cycle%2Caps%2C328&sr=8-15',\n",
       " 'https://www.amazon.in/Urban-Terrain-UT1000-MTB-Installation/dp/B09DVZST2V/ref=sr_1_16?crid=2QD74H0Z8RRZV&dib=eyJ2IjoiMSJ9.ldtRRSaCp5RZzHwJGxE6-J2dkV7baLMkhYDmykAzxfT1KZa7gvEBiS47zLr8gkbGW3xhl5caQhHbczlKl9jQQaZTV1NEvKE7mBFoTWevYcK2bk7wQR7JwfFHJL8oEgsEuXnFdIA86IFwDgUGWO5lpGmD3Bv-IsOxGUMefT-kk754BOrLKOht478VMu56GwIA0hvg88GKYBQtTwSeYCmrOxqqVo4MMkIJjbmPRDxRfh0.Yzapxa2qx7Jq9p0nwaC_Aj-nBQAbdlCBDuyvS92EK-w&dib_tag=se&keywords=cycle&qid=1708175478&sprefix=cycle%2Caps%2C328&sr=8-16',\n",
       " 'https://www.amazon.in/EMotorad-Electric-Bicycle-Tensile-Suspension/dp/B0CQC5WMLN/ref=sr_1_17?crid=2QD74H0Z8RRZV&dib=eyJ2IjoiMSJ9.ldtRRSaCp5RZzHwJGxE6-J2dkV7baLMkhYDmykAzxfT1KZa7gvEBiS47zLr8gkbGW3xhl5caQhHbczlKl9jQQaZTV1NEvKE7mBFoTWevYcK2bk7wQR7JwfFHJL8oEgsEuXnFdIA86IFwDgUGWO5lpGmD3Bv-IsOxGUMefT-kk754BOrLKOht478VMu56GwIA0hvg88GKYBQtTwSeYCmrOxqqVo4MMkIJjbmPRDxRfh0.Yzapxa2qx7Jq9p0nwaC_Aj-nBQAbdlCBDuyvS92EK-w&dib_tag=se&keywords=cycle&qid=1708175478&sprefix=cycle%2Caps%2C328&sr=8-17',\n",
       " 'https://www.amazon.in/Geekay-Hashtag-Single-Speed-Brakes/dp/B0792X1LXJ/ref=sr_1_18?crid=2QD74H0Z8RRZV&dib=eyJ2IjoiMSJ9.ldtRRSaCp5RZzHwJGxE6-J2dkV7baLMkhYDmykAzxfT1KZa7gvEBiS47zLr8gkbGW3xhl5caQhHbczlKl9jQQaZTV1NEvKE7mBFoTWevYcK2bk7wQR7JwfFHJL8oEgsEuXnFdIA86IFwDgUGWO5lpGmD3Bv-IsOxGUMefT-kk754BOrLKOht478VMu56GwIA0hvg88GKYBQtTwSeYCmrOxqqVo4MMkIJjbmPRDxRfh0.Yzapxa2qx7Jq9p0nwaC_Aj-nBQAbdlCBDuyvS92EK-w&dib_tag=se&keywords=cycle&qid=1708175478&sprefix=cycle%2Caps%2C328&sr=8-18',\n",
       " 'https://www.amazon.in/Leader-Fusion-Multi-Speed-Grear/dp/B0BYVKWNHT/ref=sr_1_19?crid=2QD74H0Z8RRZV&dib=eyJ2IjoiMSJ9.ldtRRSaCp5RZzHwJGxE6-J2dkV7baLMkhYDmykAzxfT1KZa7gvEBiS47zLr8gkbGW3xhl5caQhHbczlKl9jQQaZTV1NEvKE7mBFoTWevYcK2bk7wQR7JwfFHJL8oEgsEuXnFdIA86IFwDgUGWO5lpGmD3Bv-IsOxGUMefT-kk754BOrLKOht478VMu56GwIA0hvg88GKYBQtTwSeYCmrOxqqVo4MMkIJjbmPRDxRfh0.Yzapxa2qx7Jq9p0nwaC_Aj-nBQAbdlCBDuyvS92EK-w&dib_tag=se&keywords=cycle&qid=1708175478&sprefix=cycle%2Caps%2C328&sr=8-19',\n",
       " 'https://www.amazon.in/Leader-Beast-Multispeed-Mountain-Suspension/dp/B0BHPBZSY8/ref=sr_1_20?crid=2QD74H0Z8RRZV&dib=eyJ2IjoiMSJ9.ldtRRSaCp5RZzHwJGxE6-J2dkV7baLMkhYDmykAzxfT1KZa7gvEBiS47zLr8gkbGW3xhl5caQhHbczlKl9jQQaZTV1NEvKE7mBFoTWevYcK2bk7wQR7JwfFHJL8oEgsEuXnFdIA86IFwDgUGWO5lpGmD3Bv-IsOxGUMefT-kk754BOrLKOht478VMu56GwIA0hvg88GKYBQtTwSeYCmrOxqqVo4MMkIJjbmPRDxRfh0.Yzapxa2qx7Jq9p0nwaC_Aj-nBQAbdlCBDuyvS92EK-w&dib_tag=se&keywords=cycle&qid=1708175478&sprefix=cycle%2Caps%2C328&sr=8-20',\n",
       " 'https://www.amazon.in/sspa/click?ie=UTF8&spc=MTo0MTUzMTYzNDE5MDcwNDc6MTcwODE3NTQ3ODpzcF9idGY6MjAxNjIwMjM5OTExOTg6OjA6Og&url=%2FCockatoo-Travis-Installation-Warranty-T3-Green%2Fdp%2FB0BVKQJ6MM%2Fref%3Dsr_1_21_sspa%3Fcrid%3D2QD74H0Z8RRZV%26dib%3DeyJ2IjoiMSJ9.ldtRRSaCp5RZzHwJGxE6-J2dkV7baLMkhYDmykAzxfT1KZa7gvEBiS47zLr8gkbGW3xhl5caQhHbczlKl9jQQaZTV1NEvKE7mBFoTWevYcK2bk7wQR7JwfFHJL8oEgsEuXnFdIA86IFwDgUGWO5lpGmD3Bv-IsOxGUMefT-kk754BOrLKOht478VMu56GwIA0hvg88GKYBQtTwSeYCmrOxqqVo4MMkIJjbmPRDxRfh0.Yzapxa2qx7Jq9p0nwaC_Aj-nBQAbdlCBDuyvS92EK-w%26dib_tag%3Dse%26keywords%3Dcycle%26qid%3D1708175478%26sprefix%3Dcycle%252Caps%252C328%26sr%3D8-21-spons%26sp_csd%3Dd2lkZ2V0TmFtZT1zcF9idGY%26psc%3D1',\n",
       " 'https://www.amazon.in/sspa/click?ie=UTF8&spc=MTo0MTUzMTYzNDE5MDcwNDc6MTcwODE3NTQ3ODpzcF9idGY6MjAwMjU5NzEwNjMyOTg6OjA6Og&url=%2FLeader-Mountain-Bicycle-Without-Single%2Fdp%2FB089M9HVQP%2Fref%3Dsr_1_22_sspa%3Fcrid%3D2QD74H0Z8RRZV%26dib%3DeyJ2IjoiMSJ9.ldtRRSaCp5RZzHwJGxE6-J2dkV7baLMkhYDmykAzxfT1KZa7gvEBiS47zLr8gkbGW3xhl5caQhHbczlKl9jQQaZTV1NEvKE7mBFoTWevYcK2bk7wQR7JwfFHJL8oEgsEuXnFdIA86IFwDgUGWO5lpGmD3Bv-IsOxGUMefT-kk754BOrLKOht478VMu56GwIA0hvg88GKYBQtTwSeYCmrOxqqVo4MMkIJjbmPRDxRfh0.Yzapxa2qx7Jq9p0nwaC_Aj-nBQAbdlCBDuyvS92EK-w%26dib_tag%3Dse%26keywords%3Dcycle%26qid%3D1708175478%26sprefix%3Dcycle%252Caps%252C328%26sr%3D8-22-spons%26sp_csd%3Dd2lkZ2V0TmFtZT1zcF9idGY%26psc%3D1',\n",
       " 'https://aax-eu.amazon.in/x/c/ROg_bHYzlmaQ-atk8_gF050AAAGNtzFOjAMAAAH2AQBvbm9fdHhuX2JpZDEgICBvbm9fdHhuX2ltcDEgICDT7S6F/https://www.amazon.in/Leader-Beast-Multispeed-Mountain-Suspension/dp/B0BHPBZSY8/ref=sxbs_sbv_search_btf?content-id=amzn1.sym.7d6d801d-0b91-42f0-9ded-a1900c21a285%3Aamzn1.sym.7d6d801d-0b91-42f0-9ded-a1900c21a285&crid=2QD74H0Z8RRZV&cv_ct_cx=cycle&dib=eyJ2IjoiMSJ9.KOnBZwPghq8eGuFMEgqEnQ.iEJ_QEKVptaYq_H5gEGO9IBXDUrti_qWh6MCAHHrEEU&dib_tag=se&keywords=cycle&pd_rd_i=B0BHPBZSY8&pd_rd_r=cd17a8f0-7676-487a-8c78-a8050b6904ba&pd_rd_w=bLo85&pd_rd_wg=nj5Pa&pf_rd_p=7d6d801d-0b91-42f0-9ded-a1900c21a285&pf_rd_r=SHF0XN4PFD66V6Z6KQQZ&qid=1708175478&sbo=RZvfv%2F%2FHxDF%2BO5021pAnSA%3D%3D&sprefix=cycle%2Caps%2C328&sr=1-1-25dedf61-9bde-4412-952b-c956ef4fc546',\n",
       " 'https://www.amazon.in/sspa/click?ie=UTF8&spc=MTo0MTUzMTYzNDE5MDcwNDc6MTcwODE3NTQ3ODpzcF9hdGY6MjAxMTg0MTcxMjYxOTg6OjA6Og&url=%2FLeader-Spyder-27-5T-MTB-Cycle%2Fdp%2FB0BSS17P4R%2Fref%3Dsr_1_1_sspa%3Fcrid%3D2QD74H0Z8RRZV%26dib%3DeyJ2IjoiMSJ9.ldtRRSaCp5RZzHwJGxE6-J2dkV7baLMkhYDmykAzxfT1KZa7gvEBiS47zLr8gkbGW3xhl5caQhHbczlKl9jQQaZTV1NEvKE7mBFoTWevYcK2bk7wQR7JwfFHJL8oEgsEuXnFdIA86IFwDgUGWO5lpGmD3Bv-IsOxGUMefT-kk754BOrLKOht478VMu56GwIA0hvg88GKYBQtTwSeYCmrOxqqVo4MMkIJjbmPRDxRfh0.Yzapxa2qx7Jq9p0nwaC_Aj-nBQAbdlCBDuyvS92EK-w%26dib_tag%3Dse%26keywords%3Dcycle%26qid%3D1708175478%26sprefix%3Dcycle%252Caps%252C328%26sr%3D8-1-spons%26sp_csd%3Dd2lkZ2V0TmFtZT1zcF9hdGY%26psc%3D1',\n",
       " 'https://www.amazon.in/sspa/click?ie=UTF8&spc=MTo0MTUzMTYzNDE5MDcwNDc6MTcwODE3NTQ3ODpzcF9hdGY6MzAwMDY1MTYzMjEyMjMyOjowOjo&url=%2FLeader-Spyder-Multispeed-Mountain-Suspension%2Fdp%2FB0BHP986PQ%2Fref%3Dsr_1_2_sspa%3Fcrid%3D2QD74H0Z8RRZV%26dib%3DeyJ2IjoiMSJ9.ldtRRSaCp5RZzHwJGxE6-J2dkV7baLMkhYDmykAzxfT1KZa7gvEBiS47zLr8gkbGW3xhl5caQhHbczlKl9jQQaZTV1NEvKE7mBFoTWevYcK2bk7wQR7JwfFHJL8oEgsEuXnFdIA86IFwDgUGWO5lpGmD3Bv-IsOxGUMefT-kk754BOrLKOht478VMu56GwIA0hvg88GKYBQtTwSeYCmrOxqqVo4MMkIJjbmPRDxRfh0.Yzapxa2qx7Jq9p0nwaC_Aj-nBQAbdlCBDuyvS92EK-w%26dib_tag%3Dse%26keywords%3Dcycle%26qid%3D1708175478%26sprefix%3Dcycle%252Caps%252C328%26sr%3D8-2-spons%26sp_csd%3Dd2lkZ2V0TmFtZT1zcF9hdGY%26psc%3D1',\n",
       " 'https://www.amazon.in/Urban-Terrain-UT5000S27-5-Suspension-Installation/dp/B09N18WPNQ/ref=sr_1_3?crid=2QD74H0Z8RRZV&dib=eyJ2IjoiMSJ9.ldtRRSaCp5RZzHwJGxE6-J2dkV7baLMkhYDmykAzxfT1KZa7gvEBiS47zLr8gkbGW3xhl5caQhHbczlKl9jQQaZTV1NEvKE7mBFoTWevYcK2bk7wQR7JwfFHJL8oEgsEuXnFdIA86IFwDgUGWO5lpGmD3Bv-IsOxGUMefT-kk754BOrLKOht478VMu56GwIA0hvg88GKYBQtTwSeYCmrOxqqVo4MMkIJjbmPRDxRfh0.Yzapxa2qx7Jq9p0nwaC_Aj-nBQAbdlCBDuyvS92EK-w&dib_tag=se&keywords=cycle&qid=1708175478&sprefix=cycle%2Caps%2C328&sr=8-3',\n",
       " 'https://www.amazon.in/Lifelong-Rigid-Mountain-Premium-Single/dp/B0BPH3KVRN/ref=sr_1_4?crid=2QD74H0Z8RRZV&dib=eyJ2IjoiMSJ9.ldtRRSaCp5RZzHwJGxE6-J2dkV7baLMkhYDmykAzxfT1KZa7gvEBiS47zLr8gkbGW3xhl5caQhHbczlKl9jQQaZTV1NEvKE7mBFoTWevYcK2bk7wQR7JwfFHJL8oEgsEuXnFdIA86IFwDgUGWO5lpGmD3Bv-IsOxGUMefT-kk754BOrLKOht478VMu56GwIA0hvg88GKYBQtTwSeYCmrOxqqVo4MMkIJjbmPRDxRfh0.Yzapxa2qx7Jq9p0nwaC_Aj-nBQAbdlCBDuyvS92EK-w&dib_tag=se&keywords=cycle&qid=1708175478&sprefix=cycle%2Caps%2C328&sr=8-4',\n",
       " 'https://www.amazon.in/Lifelong-LLBC2001-Tribe-Cycle-Yellow/dp/B096FYLB46/ref=sr_1_5?crid=2QD74H0Z8RRZV&dib=eyJ2IjoiMSJ9.ldtRRSaCp5RZzHwJGxE6-J2dkV7baLMkhYDmykAzxfT1KZa7gvEBiS47zLr8gkbGW3xhl5caQhHbczlKl9jQQaZTV1NEvKE7mBFoTWevYcK2bk7wQR7JwfFHJL8oEgsEuXnFdIA86IFwDgUGWO5lpGmD3Bv-IsOxGUMefT-kk754BOrLKOht478VMu56GwIA0hvg88GKYBQtTwSeYCmrOxqqVo4MMkIJjbmPRDxRfh0.Yzapxa2qx7Jq9p0nwaC_Aj-nBQAbdlCBDuyvS92EK-w&dib_tag=se&keywords=cycle&qid=1708175478&sprefix=cycle%2Caps%2C328&sr=8-5',\n",
       " 'https://aax-eu.amazon.in/x/c/RP5REMB8RD5IakaJstU7ifgAAAGNtzFOegMAAAH2AQBvbm9fdHhuX2JpZDMgICBvbm9fdHhuX2ltcDEgICCsngFD/https://www.amazon.in/Lifelong-Gear-Cycle-Women-Micro-Shifter/dp/B0BPHNZZL5/ref=sxin_15_sbv_search_btf?content-id=amzn1.sym.4fe35c1d-da6a-41a4-967c-7a2315a8b22e%3Aamzn1.sym.4fe35c1d-da6a-41a4-967c-7a2315a8b22e&crid=2QD74H0Z8RRZV&cv_ct_cx=cycle&dib=eyJ2IjoiMSJ9.39LnXO1V9jV_f3R1IA9Mvg.khjq6717E23zkOwFWxut8Uo2c0HgqXOC_CDRM4bpFEs&dib_tag=se&keywords=cycle&pd_rd_i=B0BPHNZZL5&pd_rd_r=e76bda78-540b-4545-b57e-4f2a6c355147&pd_rd_w=rjl9I&pd_rd_wg=3fC5D&pf_rd_p=4fe35c1d-da6a-41a4-967c-7a2315a8b22e&pf_rd_r=SHF0XN4PFD66V6Z6KQQZ&qid=1708175478&sbo=RZvfv%2F%2FHxDF%2BO5021pAnSA%3D%3D&sprefix=cycle%2Caps%2C328&sr=1-1-b614a050-8d70-4320-9c19-cc457ab2a351',\n",
       " 'https://www.amazon.in/Leader-Mountain-Bicycle-Without-Single/dp/B089M9HVQP/ref=sr_1_6?crid=2QD74H0Z8RRZV&dib=eyJ2IjoiMSJ9.ldtRRSaCp5RZzHwJGxE6-J2dkV7baLMkhYDmykAzxfT1KZa7gvEBiS47zLr8gkbGW3xhl5caQhHbczlKl9jQQaZTV1NEvKE7mBFoTWevYcK2bk7wQR7JwfFHJL8oEgsEuXnFdIA86IFwDgUGWO5lpGmD3Bv-IsOxGUMefT-kk754BOrLKOht478VMu56GwIA0hvg88GKYBQtTwSeYCmrOxqqVo4MMkIJjbmPRDxRfh0.Yzapxa2qx7Jq9p0nwaC_Aj-nBQAbdlCBDuyvS92EK-w&dib_tag=se&keywords=cycle&qid=1708175478&sprefix=cycle%2Caps%2C328&sr=8-6',\n",
       " 'https://www.amazon.in/QUESEC-Mercedes-Foldable-Folding-Bicycle/dp/B0BPC535F2/ref=sr_1_7?crid=2QD74H0Z8RRZV&dib=eyJ2IjoiMSJ9.ldtRRSaCp5RZzHwJGxE6-J2dkV7baLMkhYDmykAzxfT1KZa7gvEBiS47zLr8gkbGW3xhl5caQhHbczlKl9jQQaZTV1NEvKE7mBFoTWevYcK2bk7wQR7JwfFHJL8oEgsEuXnFdIA86IFwDgUGWO5lpGmD3Bv-IsOxGUMefT-kk754BOrLKOht478VMu56GwIA0hvg88GKYBQtTwSeYCmrOxqqVo4MMkIJjbmPRDxRfh0.Yzapxa2qx7Jq9p0nwaC_Aj-nBQAbdlCBDuyvS92EK-w&dib_tag=se&keywords=cycle&qid=1708175478&sprefix=cycle%2Caps%2C328&sr=8-7',\n",
       " 'https://www.amazon.in/Leader-Mountain-Bicycle-Without-Suspension/dp/B0BYSCSTL7/ref=sr_1_8?crid=2QD74H0Z8RRZV&dib=eyJ2IjoiMSJ9.ldtRRSaCp5RZzHwJGxE6-J2dkV7baLMkhYDmykAzxfT1KZa7gvEBiS47zLr8gkbGW3xhl5caQhHbczlKl9jQQaZTV1NEvKE7mBFoTWevYcK2bk7wQR7JwfFHJL8oEgsEuXnFdIA86IFwDgUGWO5lpGmD3Bv-IsOxGUMefT-kk754BOrLKOht478VMu56GwIA0hvg88GKYBQtTwSeYCmrOxqqVo4MMkIJjbmPRDxRfh0.Yzapxa2qx7Jq9p0nwaC_Aj-nBQAbdlCBDuyvS92EK-w&dib_tag=se&keywords=cycle&qid=1708175478&sprefix=cycle%2Caps%2C328&sr=8-8',\n",
       " 'https://www.amazon.in/Leader-Premium-inbuilt-Carrier-Mountain/dp/B0CVH3VY2Z/ref=sr_1_9?crid=2QD74H0Z8RRZV&dib=eyJ2IjoiMSJ9.ldtRRSaCp5RZzHwJGxE6-J2dkV7baLMkhYDmykAzxfT1KZa7gvEBiS47zLr8gkbGW3xhl5caQhHbczlKl9jQQaZTV1NEvKE7mBFoTWevYcK2bk7wQR7JwfFHJL8oEgsEuXnFdIA86IFwDgUGWO5lpGmD3Bv-IsOxGUMefT-kk754BOrLKOht478VMu56GwIA0hvg88GKYBQtTwSeYCmrOxqqVo4MMkIJjbmPRDxRfh0.Yzapxa2qx7Jq9p0nwaC_Aj-nBQAbdlCBDuyvS92EK-w&dib_tag=se&keywords=cycle&qid=1708175478&sprefix=cycle%2Caps%2C328&sr=8-9',\n",
       " 'https://www.amazon.in/Leader-Lady-Breeze-26T-Integrated/dp/B0BQMXMM61/ref=sr_1_10?crid=2QD74H0Z8RRZV&dib=eyJ2IjoiMSJ9.ldtRRSaCp5RZzHwJGxE6-J2dkV7baLMkhYDmykAzxfT1KZa7gvEBiS47zLr8gkbGW3xhl5caQhHbczlKl9jQQaZTV1NEvKE7mBFoTWevYcK2bk7wQR7JwfFHJL8oEgsEuXnFdIA86IFwDgUGWO5lpGmD3Bv-IsOxGUMefT-kk754BOrLKOht478VMu56GwIA0hvg88GKYBQtTwSeYCmrOxqqVo4MMkIJjbmPRDxRfh0.Yzapxa2qx7Jq9p0nwaC_Aj-nBQAbdlCBDuyvS92EK-w&dib_tag=se&keywords=cycle&qid=1708175478&sprefix=cycle%2Caps%2C328&sr=8-10',\n",
       " 'https://www.amazon.in/sspa/click?ie=UTF8&spc=MTo0MTUzMTYzNDE5MDcwNDc6MTcwODE3NTQ3ODpzcF9tdGY6MzAwMDY3MDc4MTQ2MDMyOjowOjo&url=%2FAvon-Bicycles-Nest-Cycle-Wheel%2Fdp%2FB0BY73NLC9%2Fref%3Dsr_1_11_sspa%3Fcrid%3D2QD74H0Z8RRZV%26dib%3DeyJ2IjoiMSJ9.ldtRRSaCp5RZzHwJGxE6-J2dkV7baLMkhYDmykAzxfT1KZa7gvEBiS47zLr8gkbGW3xhl5caQhHbczlKl9jQQaZTV1NEvKE7mBFoTWevYcK2bk7wQR7JwfFHJL8oEgsEuXnFdIA86IFwDgUGWO5lpGmD3Bv-IsOxGUMefT-kk754BOrLKOht478VMu56GwIA0hvg88GKYBQtTwSeYCmrOxqqVo4MMkIJjbmPRDxRfh0.Yzapxa2qx7Jq9p0nwaC_Aj-nBQAbdlCBDuyvS92EK-w%26dib_tag%3Dse%26keywords%3Dcycle%26qid%3D1708175478%26sprefix%3Dcycle%252Caps%252C328%26sr%3D8-11-spons%26sp_csd%3Dd2lkZ2V0TmFtZT1zcF9tdGY%26psc%3D1',\n",
       " 'https://www.amazon.in/sspa/click?ie=UTF8&spc=MTo0MTUzMTYzNDE5MDcwNDc6MTcwODE3NTQ3ODpzcF9tdGY6MzAwMDk0OTg4MjE5OTMyOjowOjo&url=%2FSYNERGY-Electric-Throttle-Pre-Assembled-Warranty%2Fdp%2FB0CNK4TNW1%2Fref%3Dsr_1_12_sspa%3Fcrid%3D2QD74H0Z8RRZV%26dib%3DeyJ2IjoiMSJ9.ldtRRSaCp5RZzHwJGxE6-J2dkV7baLMkhYDmykAzxfT1KZa7gvEBiS47zLr8gkbGW3xhl5caQhHbczlKl9jQQaZTV1NEvKE7mBFoTWevYcK2bk7wQR7JwfFHJL8oEgsEuXnFdIA86IFwDgUGWO5lpGmD3Bv-IsOxGUMefT-kk754BOrLKOht478VMu56GwIA0hvg88GKYBQtTwSeYCmrOxqqVo4MMkIJjbmPRDxRfh0.Yzapxa2qx7Jq9p0nwaC_Aj-nBQAbdlCBDuyvS92EK-w%26dib_tag%3Dse%26keywords%3Dcycle%26qid%3D1708175478%26sprefix%3Dcycle%252Caps%252C328%26sr%3D8-12-spons%26sp_csd%3Dd2lkZ2V0TmFtZT1zcF9tdGY%26psc%3D1',\n",
       " 'https://www.amazon.in/Urban-Terrain-UT7001S27-5-Accessories-Installation/dp/B09RH8MM2H/ref=sr_1_13?crid=2QD74H0Z8RRZV&dib=eyJ2IjoiMSJ9.ldtRRSaCp5RZzHwJGxE6-J2dkV7baLMkhYDmykAzxfT1KZa7gvEBiS47zLr8gkbGW3xhl5caQhHbczlKl9jQQaZTV1NEvKE7mBFoTWevYcK2bk7wQR7JwfFHJL8oEgsEuXnFdIA86IFwDgUGWO5lpGmD3Bv-IsOxGUMefT-kk754BOrLKOht478VMu56GwIA0hvg88GKYBQtTwSeYCmrOxqqVo4MMkIJjbmPRDxRfh0.Yzapxa2qx7Jq9p0nwaC_Aj-nBQAbdlCBDuyvS92EK-w&dib_tag=se&keywords=cycle&qid=1708175478&sprefix=cycle%2Caps%2C328&sr=8-13',\n",
       " 'https://www.amazon.in/Urban-Terrain-Mountain-Suspension-Tracking/dp/B0CHYBXZG9/ref=sr_1_14?crid=2QD74H0Z8RRZV&dib=eyJ2IjoiMSJ9.ldtRRSaCp5RZzHwJGxE6-J2dkV7baLMkhYDmykAzxfT1KZa7gvEBiS47zLr8gkbGW3xhl5caQhHbczlKl9jQQaZTV1NEvKE7mBFoTWevYcK2bk7wQR7JwfFHJL8oEgsEuXnFdIA86IFwDgUGWO5lpGmD3Bv-IsOxGUMefT-kk754BOrLKOht478VMu56GwIA0hvg88GKYBQtTwSeYCmrOxqqVo4MMkIJjbmPRDxRfh0.Yzapxa2qx7Jq9p0nwaC_Aj-nBQAbdlCBDuyvS92EK-w&dib_tag=se&keywords=cycle&qid=1708175478&sprefix=cycle%2Caps%2C328&sr=8-14',\n",
       " 'https://www.amazon.in/Leader-Spyder-27-5T-MTB-Cycle/dp/B0BSS17P4R/ref=sr_1_15?crid=2QD74H0Z8RRZV&dib=eyJ2IjoiMSJ9.ldtRRSaCp5RZzHwJGxE6-J2dkV7baLMkhYDmykAzxfT1KZa7gvEBiS47zLr8gkbGW3xhl5caQhHbczlKl9jQQaZTV1NEvKE7mBFoTWevYcK2bk7wQR7JwfFHJL8oEgsEuXnFdIA86IFwDgUGWO5lpGmD3Bv-IsOxGUMefT-kk754BOrLKOht478VMu56GwIA0hvg88GKYBQtTwSeYCmrOxqqVo4MMkIJjbmPRDxRfh0.Yzapxa2qx7Jq9p0nwaC_Aj-nBQAbdlCBDuyvS92EK-w&dib_tag=se&keywords=cycle&qid=1708175478&sprefix=cycle%2Caps%2C328&sr=8-15',\n",
       " 'https://www.amazon.in/Urban-Terrain-UT1000-MTB-Installation/dp/B09DVZST2V/ref=sr_1_16?crid=2QD74H0Z8RRZV&dib=eyJ2IjoiMSJ9.ldtRRSaCp5RZzHwJGxE6-J2dkV7baLMkhYDmykAzxfT1KZa7gvEBiS47zLr8gkbGW3xhl5caQhHbczlKl9jQQaZTV1NEvKE7mBFoTWevYcK2bk7wQR7JwfFHJL8oEgsEuXnFdIA86IFwDgUGWO5lpGmD3Bv-IsOxGUMefT-kk754BOrLKOht478VMu56GwIA0hvg88GKYBQtTwSeYCmrOxqqVo4MMkIJjbmPRDxRfh0.Yzapxa2qx7Jq9p0nwaC_Aj-nBQAbdlCBDuyvS92EK-w&dib_tag=se&keywords=cycle&qid=1708175478&sprefix=cycle%2Caps%2C328&sr=8-16',\n",
       " 'https://www.amazon.in/EMotorad-Electric-Bicycle-Tensile-Suspension/dp/B0CQC5WMLN/ref=sr_1_17?crid=2QD74H0Z8RRZV&dib=eyJ2IjoiMSJ9.ldtRRSaCp5RZzHwJGxE6-J2dkV7baLMkhYDmykAzxfT1KZa7gvEBiS47zLr8gkbGW3xhl5caQhHbczlKl9jQQaZTV1NEvKE7mBFoTWevYcK2bk7wQR7JwfFHJL8oEgsEuXnFdIA86IFwDgUGWO5lpGmD3Bv-IsOxGUMefT-kk754BOrLKOht478VMu56GwIA0hvg88GKYBQtTwSeYCmrOxqqVo4MMkIJjbmPRDxRfh0.Yzapxa2qx7Jq9p0nwaC_Aj-nBQAbdlCBDuyvS92EK-w&dib_tag=se&keywords=cycle&qid=1708175478&sprefix=cycle%2Caps%2C328&sr=8-17',\n",
       " 'https://www.amazon.in/Geekay-Hashtag-Single-Speed-Brakes/dp/B0792X1LXJ/ref=sr_1_18?crid=2QD74H0Z8RRZV&dib=eyJ2IjoiMSJ9.ldtRRSaCp5RZzHwJGxE6-J2dkV7baLMkhYDmykAzxfT1KZa7gvEBiS47zLr8gkbGW3xhl5caQhHbczlKl9jQQaZTV1NEvKE7mBFoTWevYcK2bk7wQR7JwfFHJL8oEgsEuXnFdIA86IFwDgUGWO5lpGmD3Bv-IsOxGUMefT-kk754BOrLKOht478VMu56GwIA0hvg88GKYBQtTwSeYCmrOxqqVo4MMkIJjbmPRDxRfh0.Yzapxa2qx7Jq9p0nwaC_Aj-nBQAbdlCBDuyvS92EK-w&dib_tag=se&keywords=cycle&qid=1708175478&sprefix=cycle%2Caps%2C328&sr=8-18',\n",
       " 'https://www.amazon.in/Leader-Fusion-Multi-Speed-Grear/dp/B0BYVKWNHT/ref=sr_1_19?crid=2QD74H0Z8RRZV&dib=eyJ2IjoiMSJ9.ldtRRSaCp5RZzHwJGxE6-J2dkV7baLMkhYDmykAzxfT1KZa7gvEBiS47zLr8gkbGW3xhl5caQhHbczlKl9jQQaZTV1NEvKE7mBFoTWevYcK2bk7wQR7JwfFHJL8oEgsEuXnFdIA86IFwDgUGWO5lpGmD3Bv-IsOxGUMefT-kk754BOrLKOht478VMu56GwIA0hvg88GKYBQtTwSeYCmrOxqqVo4MMkIJjbmPRDxRfh0.Yzapxa2qx7Jq9p0nwaC_Aj-nBQAbdlCBDuyvS92EK-w&dib_tag=se&keywords=cycle&qid=1708175478&sprefix=cycle%2Caps%2C328&sr=8-19',\n",
       " 'https://www.amazon.in/Leader-Beast-Multispeed-Mountain-Suspension/dp/B0BHPBZSY8/ref=sr_1_20?crid=2QD74H0Z8RRZV&dib=eyJ2IjoiMSJ9.ldtRRSaCp5RZzHwJGxE6-J2dkV7baLMkhYDmykAzxfT1KZa7gvEBiS47zLr8gkbGW3xhl5caQhHbczlKl9jQQaZTV1NEvKE7mBFoTWevYcK2bk7wQR7JwfFHJL8oEgsEuXnFdIA86IFwDgUGWO5lpGmD3Bv-IsOxGUMefT-kk754BOrLKOht478VMu56GwIA0hvg88GKYBQtTwSeYCmrOxqqVo4MMkIJjbmPRDxRfh0.Yzapxa2qx7Jq9p0nwaC_Aj-nBQAbdlCBDuyvS92EK-w&dib_tag=se&keywords=cycle&qid=1708175478&sprefix=cycle%2Caps%2C328&sr=8-20',\n",
       " 'https://www.amazon.in/sspa/click?ie=UTF8&spc=MTo0MTUzMTYzNDE5MDcwNDc6MTcwODE3NTQ3ODpzcF9idGY6MjAxNjIwMjM5OTExOTg6OjA6Og&url=%2FCockatoo-Travis-Installation-Warranty-T3-Green%2Fdp%2FB0BVKQJ6MM%2Fref%3Dsr_1_21_sspa%3Fcrid%3D2QD74H0Z8RRZV%26dib%3DeyJ2IjoiMSJ9.ldtRRSaCp5RZzHwJGxE6-J2dkV7baLMkhYDmykAzxfT1KZa7gvEBiS47zLr8gkbGW3xhl5caQhHbczlKl9jQQaZTV1NEvKE7mBFoTWevYcK2bk7wQR7JwfFHJL8oEgsEuXnFdIA86IFwDgUGWO5lpGmD3Bv-IsOxGUMefT-kk754BOrLKOht478VMu56GwIA0hvg88GKYBQtTwSeYCmrOxqqVo4MMkIJjbmPRDxRfh0.Yzapxa2qx7Jq9p0nwaC_Aj-nBQAbdlCBDuyvS92EK-w%26dib_tag%3Dse%26keywords%3Dcycle%26qid%3D1708175478%26sprefix%3Dcycle%252Caps%252C328%26sr%3D8-21-spons%26sp_csd%3Dd2lkZ2V0TmFtZT1zcF9idGY%26psc%3D1',\n",
       " 'https://www.amazon.in/sspa/click?ie=UTF8&spc=MTo0MTUzMTYzNDE5MDcwNDc6MTcwODE3NTQ3ODpzcF9idGY6MjAwMjU5NzEwNjMyOTg6OjA6Og&url=%2FLeader-Mountain-Bicycle-Without-Single%2Fdp%2FB089M9HVQP%2Fref%3Dsr_1_22_sspa%3Fcrid%3D2QD74H0Z8RRZV%26dib%3DeyJ2IjoiMSJ9.ldtRRSaCp5RZzHwJGxE6-J2dkV7baLMkhYDmykAzxfT1KZa7gvEBiS47zLr8gkbGW3xhl5caQhHbczlKl9jQQaZTV1NEvKE7mBFoTWevYcK2bk7wQR7JwfFHJL8oEgsEuXnFdIA86IFwDgUGWO5lpGmD3Bv-IsOxGUMefT-kk754BOrLKOht478VMu56GwIA0hvg88GKYBQtTwSeYCmrOxqqVo4MMkIJjbmPRDxRfh0.Yzapxa2qx7Jq9p0nwaC_Aj-nBQAbdlCBDuyvS92EK-w%26dib_tag%3Dse%26keywords%3Dcycle%26qid%3D1708175478%26sprefix%3Dcycle%252Caps%252C328%26sr%3D8-22-spons%26sp_csd%3Dd2lkZ2V0TmFtZT1zcF9idGY%26psc%3D1',\n",
       " 'https://aax-eu.amazon.in/x/c/ROg_bHYzlmaQ-atk8_gF050AAAGNtzFOjAMAAAH2AQBvbm9fdHhuX2JpZDEgICBvbm9fdHhuX2ltcDEgICDT7S6F/https://www.amazon.in/Leader-Beast-Multispeed-Mountain-Suspension/dp/B0BHPBZSY8/ref=sxbs_sbv_search_btf?content-id=amzn1.sym.7d6d801d-0b91-42f0-9ded-a1900c21a285%3Aamzn1.sym.7d6d801d-0b91-42f0-9ded-a1900c21a285&crid=2QD74H0Z8RRZV&cv_ct_cx=cycle&dib=eyJ2IjoiMSJ9.KOnBZwPghq8eGuFMEgqEnQ.iEJ_QEKVptaYq_H5gEGO9IBXDUrti_qWh6MCAHHrEEU&dib_tag=se&keywords=cycle&pd_rd_i=B0BHPBZSY8&pd_rd_r=cd17a8f0-7676-487a-8c78-a8050b6904ba&pd_rd_w=bLo85&pd_rd_wg=nj5Pa&pf_rd_p=7d6d801d-0b91-42f0-9ded-a1900c21a285&pf_rd_r=SHF0XN4PFD66V6Z6KQQZ&qid=1708175478&sbo=RZvfv%2F%2FHxDF%2BO5021pAnSA%3D%3D&sprefix=cycle%2Caps%2C328&sr=1-1-25dedf61-9bde-4412-952b-c956ef4fc546',\n",
       " 'https://www.amazon.in/sspa/click?ie=UTF8&spc=MTo0MTUzMTYzNDE5MDcwNDc6MTcwODE3NTQ3ODpzcF9hdGY6MjAxMTg0MTcxMjYxOTg6OjA6Og&url=%2FLeader-Spyder-27-5T-MTB-Cycle%2Fdp%2FB0BSS17P4R%2Fref%3Dsr_1_1_sspa%3Fcrid%3D2QD74H0Z8RRZV%26dib%3DeyJ2IjoiMSJ9.ldtRRSaCp5RZzHwJGxE6-J2dkV7baLMkhYDmykAzxfT1KZa7gvEBiS47zLr8gkbGW3xhl5caQhHbczlKl9jQQaZTV1NEvKE7mBFoTWevYcK2bk7wQR7JwfFHJL8oEgsEuXnFdIA86IFwDgUGWO5lpGmD3Bv-IsOxGUMefT-kk754BOrLKOht478VMu56GwIA0hvg88GKYBQtTwSeYCmrOxqqVo4MMkIJjbmPRDxRfh0.Yzapxa2qx7Jq9p0nwaC_Aj-nBQAbdlCBDuyvS92EK-w%26dib_tag%3Dse%26keywords%3Dcycle%26qid%3D1708175478%26sprefix%3Dcycle%252Caps%252C328%26sr%3D8-1-spons%26sp_csd%3Dd2lkZ2V0TmFtZT1zcF9hdGY%26psc%3D1',\n",
       " 'https://www.amazon.in/sspa/click?ie=UTF8&spc=MTo0MTUzMTYzNDE5MDcwNDc6MTcwODE3NTQ3ODpzcF9hdGY6MzAwMDY1MTYzMjEyMjMyOjowOjo&url=%2FLeader-Spyder-Multispeed-Mountain-Suspension%2Fdp%2FB0BHP986PQ%2Fref%3Dsr_1_2_sspa%3Fcrid%3D2QD74H0Z8RRZV%26dib%3DeyJ2IjoiMSJ9.ldtRRSaCp5RZzHwJGxE6-J2dkV7baLMkhYDmykAzxfT1KZa7gvEBiS47zLr8gkbGW3xhl5caQhHbczlKl9jQQaZTV1NEvKE7mBFoTWevYcK2bk7wQR7JwfFHJL8oEgsEuXnFdIA86IFwDgUGWO5lpGmD3Bv-IsOxGUMefT-kk754BOrLKOht478VMu56GwIA0hvg88GKYBQtTwSeYCmrOxqqVo4MMkIJjbmPRDxRfh0.Yzapxa2qx7Jq9p0nwaC_Aj-nBQAbdlCBDuyvS92EK-w%26dib_tag%3Dse%26keywords%3Dcycle%26qid%3D1708175478%26sprefix%3Dcycle%252Caps%252C328%26sr%3D8-2-spons%26sp_csd%3Dd2lkZ2V0TmFtZT1zcF9hdGY%26psc%3D1',\n",
       " 'https://www.amazon.in/Urban-Terrain-UT5000S27-5-Suspension-Installation/dp/B09N18WPNQ/ref=sr_1_3?crid=2QD74H0Z8RRZV&dib=eyJ2IjoiMSJ9.ldtRRSaCp5RZzHwJGxE6-J2dkV7baLMkhYDmykAzxfT1KZa7gvEBiS47zLr8gkbGW3xhl5caQhHbczlKl9jQQaZTV1NEvKE7mBFoTWevYcK2bk7wQR7JwfFHJL8oEgsEuXnFdIA86IFwDgUGWO5lpGmD3Bv-IsOxGUMefT-kk754BOrLKOht478VMu56GwIA0hvg88GKYBQtTwSeYCmrOxqqVo4MMkIJjbmPRDxRfh0.Yzapxa2qx7Jq9p0nwaC_Aj-nBQAbdlCBDuyvS92EK-w&dib_tag=se&keywords=cycle&qid=1708175478&sprefix=cycle%2Caps%2C328&sr=8-3',\n",
       " 'https://www.amazon.in/Lifelong-Rigid-Mountain-Premium-Single/dp/B0BPH3KVRN/ref=sr_1_4?crid=2QD74H0Z8RRZV&dib=eyJ2IjoiMSJ9.ldtRRSaCp5RZzHwJGxE6-J2dkV7baLMkhYDmykAzxfT1KZa7gvEBiS47zLr8gkbGW3xhl5caQhHbczlKl9jQQaZTV1NEvKE7mBFoTWevYcK2bk7wQR7JwfFHJL8oEgsEuXnFdIA86IFwDgUGWO5lpGmD3Bv-IsOxGUMefT-kk754BOrLKOht478VMu56GwIA0hvg88GKYBQtTwSeYCmrOxqqVo4MMkIJjbmPRDxRfh0.Yzapxa2qx7Jq9p0nwaC_Aj-nBQAbdlCBDuyvS92EK-w&dib_tag=se&keywords=cycle&qid=1708175478&sprefix=cycle%2Caps%2C328&sr=8-4',\n",
       " 'https://www.amazon.in/Lifelong-LLBC2001-Tribe-Cycle-Yellow/dp/B096FYLB46/ref=sr_1_5?crid=2QD74H0Z8RRZV&dib=eyJ2IjoiMSJ9.ldtRRSaCp5RZzHwJGxE6-J2dkV7baLMkhYDmykAzxfT1KZa7gvEBiS47zLr8gkbGW3xhl5caQhHbczlKl9jQQaZTV1NEvKE7mBFoTWevYcK2bk7wQR7JwfFHJL8oEgsEuXnFdIA86IFwDgUGWO5lpGmD3Bv-IsOxGUMefT-kk754BOrLKOht478VMu56GwIA0hvg88GKYBQtTwSeYCmrOxqqVo4MMkIJjbmPRDxRfh0.Yzapxa2qx7Jq9p0nwaC_Aj-nBQAbdlCBDuyvS92EK-w&dib_tag=se&keywords=cycle&qid=1708175478&sprefix=cycle%2Caps%2C328&sr=8-5',\n",
       " 'https://aax-eu.amazon.in/x/c/RP5REMB8RD5IakaJstU7ifgAAAGNtzFOegMAAAH2AQBvbm9fdHhuX2JpZDMgICBvbm9fdHhuX2ltcDEgICCsngFD/https://www.amazon.in/Lifelong-Gear-Cycle-Women-Micro-Shifter/dp/B0BPHNZZL5/ref=sxin_15_sbv_search_btf?content-id=amzn1.sym.4fe35c1d-da6a-41a4-967c-7a2315a8b22e%3Aamzn1.sym.4fe35c1d-da6a-41a4-967c-7a2315a8b22e&crid=2QD74H0Z8RRZV&cv_ct_cx=cycle&dib=eyJ2IjoiMSJ9.39LnXO1V9jV_f3R1IA9Mvg.khjq6717E23zkOwFWxut8Uo2c0HgqXOC_CDRM4bpFEs&dib_tag=se&keywords=cycle&pd_rd_i=B0BPHNZZL5&pd_rd_r=e76bda78-540b-4545-b57e-4f2a6c355147&pd_rd_w=rjl9I&pd_rd_wg=3fC5D&pf_rd_p=4fe35c1d-da6a-41a4-967c-7a2315a8b22e&pf_rd_r=SHF0XN4PFD66V6Z6KQQZ&qid=1708175478&sbo=RZvfv%2F%2FHxDF%2BO5021pAnSA%3D%3D&sprefix=cycle%2Caps%2C328&sr=1-1-b614a050-8d70-4320-9c19-cc457ab2a351',\n",
       " 'https://www.amazon.in/Leader-Mountain-Bicycle-Without-Single/dp/B089M9HVQP/ref=sr_1_6?crid=2QD74H0Z8RRZV&dib=eyJ2IjoiMSJ9.ldtRRSaCp5RZzHwJGxE6-J2dkV7baLMkhYDmykAzxfT1KZa7gvEBiS47zLr8gkbGW3xhl5caQhHbczlKl9jQQaZTV1NEvKE7mBFoTWevYcK2bk7wQR7JwfFHJL8oEgsEuXnFdIA86IFwDgUGWO5lpGmD3Bv-IsOxGUMefT-kk754BOrLKOht478VMu56GwIA0hvg88GKYBQtTwSeYCmrOxqqVo4MMkIJjbmPRDxRfh0.Yzapxa2qx7Jq9p0nwaC_Aj-nBQAbdlCBDuyvS92EK-w&dib_tag=se&keywords=cycle&qid=1708175478&sprefix=cycle%2Caps%2C328&sr=8-6',\n",
       " 'https://www.amazon.in/QUESEC-Mercedes-Foldable-Folding-Bicycle/dp/B0BPC535F2/ref=sr_1_7?crid=2QD74H0Z8RRZV&dib=eyJ2IjoiMSJ9.ldtRRSaCp5RZzHwJGxE6-J2dkV7baLMkhYDmykAzxfT1KZa7gvEBiS47zLr8gkbGW3xhl5caQhHbczlKl9jQQaZTV1NEvKE7mBFoTWevYcK2bk7wQR7JwfFHJL8oEgsEuXnFdIA86IFwDgUGWO5lpGmD3Bv-IsOxGUMefT-kk754BOrLKOht478VMu56GwIA0hvg88GKYBQtTwSeYCmrOxqqVo4MMkIJjbmPRDxRfh0.Yzapxa2qx7Jq9p0nwaC_Aj-nBQAbdlCBDuyvS92EK-w&dib_tag=se&keywords=cycle&qid=1708175478&sprefix=cycle%2Caps%2C328&sr=8-7',\n",
       " 'https://www.amazon.in/Leader-Mountain-Bicycle-Without-Suspension/dp/B0BYSCSTL7/ref=sr_1_8?crid=2QD74H0Z8RRZV&dib=eyJ2IjoiMSJ9.ldtRRSaCp5RZzHwJGxE6-J2dkV7baLMkhYDmykAzxfT1KZa7gvEBiS47zLr8gkbGW3xhl5caQhHbczlKl9jQQaZTV1NEvKE7mBFoTWevYcK2bk7wQR7JwfFHJL8oEgsEuXnFdIA86IFwDgUGWO5lpGmD3Bv-IsOxGUMefT-kk754BOrLKOht478VMu56GwIA0hvg88GKYBQtTwSeYCmrOxqqVo4MMkIJjbmPRDxRfh0.Yzapxa2qx7Jq9p0nwaC_Aj-nBQAbdlCBDuyvS92EK-w&dib_tag=se&keywords=cycle&qid=1708175478&sprefix=cycle%2Caps%2C328&sr=8-8',\n",
       " 'https://www.amazon.in/Leader-Premium-inbuilt-Carrier-Mountain/dp/B0CVH3VY2Z/ref=sr_1_9?crid=2QD74H0Z8RRZV&dib=eyJ2IjoiMSJ9.ldtRRSaCp5RZzHwJGxE6-J2dkV7baLMkhYDmykAzxfT1KZa7gvEBiS47zLr8gkbGW3xhl5caQhHbczlKl9jQQaZTV1NEvKE7mBFoTWevYcK2bk7wQR7JwfFHJL8oEgsEuXnFdIA86IFwDgUGWO5lpGmD3Bv-IsOxGUMefT-kk754BOrLKOht478VMu56GwIA0hvg88GKYBQtTwSeYCmrOxqqVo4MMkIJjbmPRDxRfh0.Yzapxa2qx7Jq9p0nwaC_Aj-nBQAbdlCBDuyvS92EK-w&dib_tag=se&keywords=cycle&qid=1708175478&sprefix=cycle%2Caps%2C328&sr=8-9',\n",
       " 'https://www.amazon.in/Leader-Lady-Breeze-26T-Integrated/dp/B0BQMXMM61/ref=sr_1_10?crid=2QD74H0Z8RRZV&dib=eyJ2IjoiMSJ9.ldtRRSaCp5RZzHwJGxE6-J2dkV7baLMkhYDmykAzxfT1KZa7gvEBiS47zLr8gkbGW3xhl5caQhHbczlKl9jQQaZTV1NEvKE7mBFoTWevYcK2bk7wQR7JwfFHJL8oEgsEuXnFdIA86IFwDgUGWO5lpGmD3Bv-IsOxGUMefT-kk754BOrLKOht478VMu56GwIA0hvg88GKYBQtTwSeYCmrOxqqVo4MMkIJjbmPRDxRfh0.Yzapxa2qx7Jq9p0nwaC_Aj-nBQAbdlCBDuyvS92EK-w&dib_tag=se&keywords=cycle&qid=1708175478&sprefix=cycle%2Caps%2C328&sr=8-10',\n",
       " 'https://www.amazon.in/sspa/click?ie=UTF8&spc=MTo0MTUzMTYzNDE5MDcwNDc6MTcwODE3NTQ3ODpzcF9tdGY6MzAwMDY3MDc4MTQ2MDMyOjowOjo&url=%2FAvon-Bicycles-Nest-Cycle-Wheel%2Fdp%2FB0BY73NLC9%2Fref%3Dsr_1_11_sspa%3Fcrid%3D2QD74H0Z8RRZV%26dib%3DeyJ2IjoiMSJ9.ldtRRSaCp5RZzHwJGxE6-J2dkV7baLMkhYDmykAzxfT1KZa7gvEBiS47zLr8gkbGW3xhl5caQhHbczlKl9jQQaZTV1NEvKE7mBFoTWevYcK2bk7wQR7JwfFHJL8oEgsEuXnFdIA86IFwDgUGWO5lpGmD3Bv-IsOxGUMefT-kk754BOrLKOht478VMu56GwIA0hvg88GKYBQtTwSeYCmrOxqqVo4MMkIJjbmPRDxRfh0.Yzapxa2qx7Jq9p0nwaC_Aj-nBQAbdlCBDuyvS92EK-w%26dib_tag%3Dse%26keywords%3Dcycle%26qid%3D1708175478%26sprefix%3Dcycle%252Caps%252C328%26sr%3D8-11-spons%26sp_csd%3Dd2lkZ2V0TmFtZT1zcF9tdGY%26psc%3D1',\n",
       " 'https://www.amazon.in/sspa/click?ie=UTF8&spc=MTo0MTUzMTYzNDE5MDcwNDc6MTcwODE3NTQ3ODpzcF9tdGY6MzAwMDk0OTg4MjE5OTMyOjowOjo&url=%2FSYNERGY-Electric-Throttle-Pre-Assembled-Warranty%2Fdp%2FB0CNK4TNW1%2Fref%3Dsr_1_12_sspa%3Fcrid%3D2QD74H0Z8RRZV%26dib%3DeyJ2IjoiMSJ9.ldtRRSaCp5RZzHwJGxE6-J2dkV7baLMkhYDmykAzxfT1KZa7gvEBiS47zLr8gkbGW3xhl5caQhHbczlKl9jQQaZTV1NEvKE7mBFoTWevYcK2bk7wQR7JwfFHJL8oEgsEuXnFdIA86IFwDgUGWO5lpGmD3Bv-IsOxGUMefT-kk754BOrLKOht478VMu56GwIA0hvg88GKYBQtTwSeYCmrOxqqVo4MMkIJjbmPRDxRfh0.Yzapxa2qx7Jq9p0nwaC_Aj-nBQAbdlCBDuyvS92EK-w%26dib_tag%3Dse%26keywords%3Dcycle%26qid%3D1708175478%26sprefix%3Dcycle%252Caps%252C328%26sr%3D8-12-spons%26sp_csd%3Dd2lkZ2V0TmFtZT1zcF9tdGY%26psc%3D1',\n",
       " 'https://www.amazon.in/Urban-Terrain-UT7001S27-5-Accessories-Installation/dp/B09RH8MM2H/ref=sr_1_13?crid=2QD74H0Z8RRZV&dib=eyJ2IjoiMSJ9.ldtRRSaCp5RZzHwJGxE6-J2dkV7baLMkhYDmykAzxfT1KZa7gvEBiS47zLr8gkbGW3xhl5caQhHbczlKl9jQQaZTV1NEvKE7mBFoTWevYcK2bk7wQR7JwfFHJL8oEgsEuXnFdIA86IFwDgUGWO5lpGmD3Bv-IsOxGUMefT-kk754BOrLKOht478VMu56GwIA0hvg88GKYBQtTwSeYCmrOxqqVo4MMkIJjbmPRDxRfh0.Yzapxa2qx7Jq9p0nwaC_Aj-nBQAbdlCBDuyvS92EK-w&dib_tag=se&keywords=cycle&qid=1708175478&sprefix=cycle%2Caps%2C328&sr=8-13',\n",
       " 'https://www.amazon.in/Urban-Terrain-Mountain-Suspension-Tracking/dp/B0CHYBXZG9/ref=sr_1_14?crid=2QD74H0Z8RRZV&dib=eyJ2IjoiMSJ9.ldtRRSaCp5RZzHwJGxE6-J2dkV7baLMkhYDmykAzxfT1KZa7gvEBiS47zLr8gkbGW3xhl5caQhHbczlKl9jQQaZTV1NEvKE7mBFoTWevYcK2bk7wQR7JwfFHJL8oEgsEuXnFdIA86IFwDgUGWO5lpGmD3Bv-IsOxGUMefT-kk754BOrLKOht478VMu56GwIA0hvg88GKYBQtTwSeYCmrOxqqVo4MMkIJjbmPRDxRfh0.Yzapxa2qx7Jq9p0nwaC_Aj-nBQAbdlCBDuyvS92EK-w&dib_tag=se&keywords=cycle&qid=1708175478&sprefix=cycle%2Caps%2C328&sr=8-14',\n",
       " 'https://www.amazon.in/Leader-Spyder-27-5T-MTB-Cycle/dp/B0BSS17P4R/ref=sr_1_15?crid=2QD74H0Z8RRZV&dib=eyJ2IjoiMSJ9.ldtRRSaCp5RZzHwJGxE6-J2dkV7baLMkhYDmykAzxfT1KZa7gvEBiS47zLr8gkbGW3xhl5caQhHbczlKl9jQQaZTV1NEvKE7mBFoTWevYcK2bk7wQR7JwfFHJL8oEgsEuXnFdIA86IFwDgUGWO5lpGmD3Bv-IsOxGUMefT-kk754BOrLKOht478VMu56GwIA0hvg88GKYBQtTwSeYCmrOxqqVo4MMkIJjbmPRDxRfh0.Yzapxa2qx7Jq9p0nwaC_Aj-nBQAbdlCBDuyvS92EK-w&dib_tag=se&keywords=cycle&qid=1708175478&sprefix=cycle%2Caps%2C328&sr=8-15',\n",
       " 'https://www.amazon.in/Urban-Terrain-UT1000-MTB-Installation/dp/B09DVZST2V/ref=sr_1_16?crid=2QD74H0Z8RRZV&dib=eyJ2IjoiMSJ9.ldtRRSaCp5RZzHwJGxE6-J2dkV7baLMkhYDmykAzxfT1KZa7gvEBiS47zLr8gkbGW3xhl5caQhHbczlKl9jQQaZTV1NEvKE7mBFoTWevYcK2bk7wQR7JwfFHJL8oEgsEuXnFdIA86IFwDgUGWO5lpGmD3Bv-IsOxGUMefT-kk754BOrLKOht478VMu56GwIA0hvg88GKYBQtTwSeYCmrOxqqVo4MMkIJjbmPRDxRfh0.Yzapxa2qx7Jq9p0nwaC_Aj-nBQAbdlCBDuyvS92EK-w&dib_tag=se&keywords=cycle&qid=1708175478&sprefix=cycle%2Caps%2C328&sr=8-16',\n",
       " 'https://www.amazon.in/EMotorad-Electric-Bicycle-Tensile-Suspension/dp/B0CQC5WMLN/ref=sr_1_17?crid=2QD74H0Z8RRZV&dib=eyJ2IjoiMSJ9.ldtRRSaCp5RZzHwJGxE6-J2dkV7baLMkhYDmykAzxfT1KZa7gvEBiS47zLr8gkbGW3xhl5caQhHbczlKl9jQQaZTV1NEvKE7mBFoTWevYcK2bk7wQR7JwfFHJL8oEgsEuXnFdIA86IFwDgUGWO5lpGmD3Bv-IsOxGUMefT-kk754BOrLKOht478VMu56GwIA0hvg88GKYBQtTwSeYCmrOxqqVo4MMkIJjbmPRDxRfh0.Yzapxa2qx7Jq9p0nwaC_Aj-nBQAbdlCBDuyvS92EK-w&dib_tag=se&keywords=cycle&qid=1708175478&sprefix=cycle%2Caps%2C328&sr=8-17',\n",
       " 'https://www.amazon.in/Geekay-Hashtag-Single-Speed-Brakes/dp/B0792X1LXJ/ref=sr_1_18?crid=2QD74H0Z8RRZV&dib=eyJ2IjoiMSJ9.ldtRRSaCp5RZzHwJGxE6-J2dkV7baLMkhYDmykAzxfT1KZa7gvEBiS47zLr8gkbGW3xhl5caQhHbczlKl9jQQaZTV1NEvKE7mBFoTWevYcK2bk7wQR7JwfFHJL8oEgsEuXnFdIA86IFwDgUGWO5lpGmD3Bv-IsOxGUMefT-kk754BOrLKOht478VMu56GwIA0hvg88GKYBQtTwSeYCmrOxqqVo4MMkIJjbmPRDxRfh0.Yzapxa2qx7Jq9p0nwaC_Aj-nBQAbdlCBDuyvS92EK-w&dib_tag=se&keywords=cycle&qid=1708175478&sprefix=cycle%2Caps%2C328&sr=8-18',\n",
       " 'https://www.amazon.in/Leader-Fusion-Multi-Speed-Grear/dp/B0BYVKWNHT/ref=sr_1_19?crid=2QD74H0Z8RRZV&dib=eyJ2IjoiMSJ9.ldtRRSaCp5RZzHwJGxE6-J2dkV7baLMkhYDmykAzxfT1KZa7gvEBiS47zLr8gkbGW3xhl5caQhHbczlKl9jQQaZTV1NEvKE7mBFoTWevYcK2bk7wQR7JwfFHJL8oEgsEuXnFdIA86IFwDgUGWO5lpGmD3Bv-IsOxGUMefT-kk754BOrLKOht478VMu56GwIA0hvg88GKYBQtTwSeYCmrOxqqVo4MMkIJjbmPRDxRfh0.Yzapxa2qx7Jq9p0nwaC_Aj-nBQAbdlCBDuyvS92EK-w&dib_tag=se&keywords=cycle&qid=1708175478&sprefix=cycle%2Caps%2C328&sr=8-19',\n",
       " 'https://www.amazon.in/Leader-Beast-Multispeed-Mountain-Suspension/dp/B0BHPBZSY8/ref=sr_1_20?crid=2QD74H0Z8RRZV&dib=eyJ2IjoiMSJ9.ldtRRSaCp5RZzHwJGxE6-J2dkV7baLMkhYDmykAzxfT1KZa7gvEBiS47zLr8gkbGW3xhl5caQhHbczlKl9jQQaZTV1NEvKE7mBFoTWevYcK2bk7wQR7JwfFHJL8oEgsEuXnFdIA86IFwDgUGWO5lpGmD3Bv-IsOxGUMefT-kk754BOrLKOht478VMu56GwIA0hvg88GKYBQtTwSeYCmrOxqqVo4MMkIJjbmPRDxRfh0.Yzapxa2qx7Jq9p0nwaC_Aj-nBQAbdlCBDuyvS92EK-w&dib_tag=se&keywords=cycle&qid=1708175478&sprefix=cycle%2Caps%2C328&sr=8-20',\n",
       " 'https://www.amazon.in/sspa/click?ie=UTF8&spc=MTo0MTUzMTYzNDE5MDcwNDc6MTcwODE3NTQ3ODpzcF9idGY6MjAxNjIwMjM5OTExOTg6OjA6Og&url=%2FCockatoo-Travis-Installation-Warranty-T3-Green%2Fdp%2FB0BVKQJ6MM%2Fref%3Dsr_1_21_sspa%3Fcrid%3D2QD74H0Z8RRZV%26dib%3DeyJ2IjoiMSJ9.ldtRRSaCp5RZzHwJGxE6-J2dkV7baLMkhYDmykAzxfT1KZa7gvEBiS47zLr8gkbGW3xhl5caQhHbczlKl9jQQaZTV1NEvKE7mBFoTWevYcK2bk7wQR7JwfFHJL8oEgsEuXnFdIA86IFwDgUGWO5lpGmD3Bv-IsOxGUMefT-kk754BOrLKOht478VMu56GwIA0hvg88GKYBQtTwSeYCmrOxqqVo4MMkIJjbmPRDxRfh0.Yzapxa2qx7Jq9p0nwaC_Aj-nBQAbdlCBDuyvS92EK-w%26dib_tag%3Dse%26keywords%3Dcycle%26qid%3D1708175478%26sprefix%3Dcycle%252Caps%252C328%26sr%3D8-21-spons%26sp_csd%3Dd2lkZ2V0TmFtZT1zcF9idGY%26psc%3D1',\n",
       " 'https://www.amazon.in/sspa/click?ie=UTF8&spc=MTo0MTUzMTYzNDE5MDcwNDc6MTcwODE3NTQ3ODpzcF9idGY6MjAwMjU5NzEwNjMyOTg6OjA6Og&url=%2FLeader-Mountain-Bicycle-Without-Single%2Fdp%2FB089M9HVQP%2Fref%3Dsr_1_22_sspa%3Fcrid%3D2QD74H0Z8RRZV%26dib%3DeyJ2IjoiMSJ9.ldtRRSaCp5RZzHwJGxE6-J2dkV7baLMkhYDmykAzxfT1KZa7gvEBiS47zLr8gkbGW3xhl5caQhHbczlKl9jQQaZTV1NEvKE7mBFoTWevYcK2bk7wQR7JwfFHJL8oEgsEuXnFdIA86IFwDgUGWO5lpGmD3Bv-IsOxGUMefT-kk754BOrLKOht478VMu56GwIA0hvg88GKYBQtTwSeYCmrOxqqVo4MMkIJjbmPRDxRfh0.Yzapxa2qx7Jq9p0nwaC_Aj-nBQAbdlCBDuyvS92EK-w%26dib_tag%3Dse%26keywords%3Dcycle%26qid%3D1708175478%26sprefix%3Dcycle%252Caps%252C328%26sr%3D8-22-spons%26sp_csd%3Dd2lkZ2V0TmFtZT1zcF9idGY%26psc%3D1',\n",
       " 'https://aax-eu.amazon.in/x/c/ROg_bHYzlmaQ-atk8_gF050AAAGNtzFOjAMAAAH2AQBvbm9fdHhuX2JpZDEgICBvbm9fdHhuX2ltcDEgICDT7S6F/https://www.amazon.in/Leader-Beast-Multispeed-Mountain-Suspension/dp/B0BHPBZSY8/ref=sxbs_sbv_search_btf?content-id=amzn1.sym.7d6d801d-0b91-42f0-9ded-a1900c21a285%3Aamzn1.sym.7d6d801d-0b91-42f0-9ded-a1900c21a285&crid=2QD74H0Z8RRZV&cv_ct_cx=cycle&dib=eyJ2IjoiMSJ9.KOnBZwPghq8eGuFMEgqEnQ.iEJ_QEKVptaYq_H5gEGO9IBXDUrti_qWh6MCAHHrEEU&dib_tag=se&keywords=cycle&pd_rd_i=B0BHPBZSY8&pd_rd_r=cd17a8f0-7676-487a-8c78-a8050b6904ba&pd_rd_w=bLo85&pd_rd_wg=nj5Pa&pf_rd_p=7d6d801d-0b91-42f0-9ded-a1900c21a285&pf_rd_r=SHF0XN4PFD66V6Z6KQQZ&qid=1708175478&sbo=RZvfv%2F%2FHxDF%2BO5021pAnSA%3D%3D&sprefix=cycle%2Caps%2C328&sr=1-1-25dedf61-9bde-4412-952b-c956ef4fc546']"
      ]
     },
     "execution_count": 65,
     "metadata": {},
     "output_type": "execute_result"
    }
   ],
   "source": [
    "product_open_url"
   ]
  },
  {
   "cell_type": "code",
   "execution_count": 52,
   "id": "f5f635cc",
   "metadata": {},
   "outputs": [],
   "source": [
    "#scraping brand name for the product\n",
    "b_name=[]\n",
    "for i in product_open_url:\n",
    "    driver.get(i)\n",
    "    time.sleep(2)\n",
    "    try:\n",
    "        name=driver.find_element(By.XPATH,'/html/body/div[2]/div/div[6]/div[3]/div[4]/div[1]/div/h1/span')\n",
    "        b_name.append(name.text)\n",
    "    except NoSuchElementException :\n",
    "            b_name.append('-')"
   ]
  },
  {
   "cell_type": "code",
   "execution_count": null,
   "id": "2bf22836",
   "metadata": {},
   "outputs": [],
   "source": []
  },
  {
   "cell_type": "code",
   "execution_count": 53,
   "id": "e301e369",
   "metadata": {},
   "outputs": [
    {
     "data": {
      "text/plain": [
       "72"
      ]
     },
     "execution_count": 53,
     "metadata": {},
     "output_type": "execute_result"
    }
   ],
   "source": [
    "len(b_name)"
   ]
  },
  {
   "cell_type": "code",
   "execution_count": 54,
   "id": "cb7f02e0",
   "metadata": {},
   "outputs": [
    {
     "data": {
      "text/plain": [
       "['-',\n",
       " 'Leader Spyder 27.5T Multispeed (7 Speed) Mountain Bike with Front Suspension & Dual Disc Brake - MATT Black/Orange. Ideal for 12 + Years (Frame: 19 Inches)',\n",
       " '-',\n",
       " '-',\n",
       " '-',\n",
       " '-',\n",
       " '-',\n",
       " '-',\n",
       " '-',\n",
       " '-',\n",
       " '-',\n",
       " '-',\n",
       " 'Hercules Mountain Bike Brut Plus Rigid Rf 26T Sporty Smart Red/Black Steel Bike/Bicycle for Boys (Frame: 17 Inches)',\n",
       " '-',\n",
       " '-',\n",
       " '-',\n",
       " '-',\n",
       " '-',\n",
       " '-',\n",
       " '-',\n",
       " 'Leader Fusion 26T Multi Speed (21 Speed) Grear Cycle with Rigid Fork and Power Brake - Hybrid Cycle/City Bike',\n",
       " '-',\n",
       " '-',\n",
       " 'Leader Beast 26T Multispeed (7 Speed) Mountain Bike with Front Suspension & Dual Disc Brake - MATT Black/SEA Green. Ideal for 12 + Years (Frame: 18 Inches)',\n",
       " '-',\n",
       " 'Leader Spyder 27.5T Multispeed (7 Speed) Mountain Bike with Front Suspension & Dual Disc Brake - MATT Black/Orange. Ideal for 12 + Years (Frame: 19 Inches)',\n",
       " '-',\n",
       " '-',\n",
       " '-',\n",
       " '-',\n",
       " '-',\n",
       " '-',\n",
       " '-',\n",
       " '-',\n",
       " '-',\n",
       " '-',\n",
       " 'Hercules Mountain Bike Brut Plus Rigid Rf 26T Sporty Smart Red/Black Steel Bike/Bicycle for Boys (Frame: 17 Inches)',\n",
       " '-',\n",
       " '-',\n",
       " '-',\n",
       " '-',\n",
       " '-',\n",
       " '-',\n",
       " '-',\n",
       " 'Leader Fusion 26T Multi Speed (21 Speed) Grear Cycle with Rigid Fork and Power Brake - Hybrid Cycle/City Bike',\n",
       " '-',\n",
       " '-',\n",
       " 'Leader Beast 26T Multispeed (7 Speed) Mountain Bike with Front Suspension & Dual Disc Brake - MATT Black/SEA Green. Ideal for 12 + Years (Frame: 18 Inches)',\n",
       " '-',\n",
       " 'Leader Spyder 27.5T Multispeed (7 Speed) Mountain Bike with Front Suspension & Dual Disc Brake - MATT Black/Orange. Ideal for 12 + Years (Frame: 19 Inches)',\n",
       " '-',\n",
       " '-',\n",
       " '-',\n",
       " '-',\n",
       " '-',\n",
       " '-',\n",
       " '-',\n",
       " '-',\n",
       " '-',\n",
       " '-',\n",
       " 'Hercules Mountain Bike Brut Plus Rigid Rf 26T Sporty Smart Red/Black Steel Bike/Bicycle for Boys (Frame: 17 Inches)',\n",
       " '-',\n",
       " '-',\n",
       " '-',\n",
       " '-',\n",
       " '-',\n",
       " '-',\n",
       " '-',\n",
       " 'Leader Fusion 26T Multi Speed (21 Speed) Grear Cycle with Rigid Fork and Power Brake - Hybrid Cycle/City Bike',\n",
       " '-',\n",
       " '-',\n",
       " 'Leader Beast 26T Multispeed (7 Speed) Mountain Bike with Front Suspension & Dual Disc Brake - MATT Black/SEA Green. Ideal for 12 + Years (Frame: 18 Inches)']"
      ]
     },
     "execution_count": 54,
     "metadata": {},
     "output_type": "execute_result"
    }
   ],
   "source": [
    "b_name"
   ]
  },
  {
   "cell_type": "code",
   "execution_count": 55,
   "id": "9b60c24a",
   "metadata": {},
   "outputs": [],
   "source": [
    "b_price=[]\n",
    "for i in product_open_url:\n",
    "    driver.get(i)\n",
    "    time.sleep(2)\n",
    "    try:\n",
    "        price=driver.find_element(By.XPATH,'/html/body/div[2]/div/div[6]/div[3]/div[4]/div[11]/div/div/div[4]/div[1]/span[3]/span[2]/span[2]')\n",
    "        b_price.append(price.text)\n",
    "    except NoSuchElementException :\n",
    "            b_price.append('-')"
   ]
  },
  {
   "cell_type": "code",
   "execution_count": 56,
   "id": "840d8d8e",
   "metadata": {},
   "outputs": [
    {
     "data": {
      "text/plain": [
       "72"
      ]
     },
     "execution_count": 56,
     "metadata": {},
     "output_type": "execute_result"
    }
   ],
   "source": [
    "len(b_price)"
   ]
  },
  {
   "cell_type": "code",
   "execution_count": 57,
   "id": "919ac1c1",
   "metadata": {},
   "outputs": [
    {
     "data": {
      "text/plain": [
       "['-',\n",
       " '7,999',\n",
       " '-',\n",
       " '-',\n",
       " '-',\n",
       " '-',\n",
       " '-',\n",
       " '-',\n",
       " '-',\n",
       " '-',\n",
       " '-',\n",
       " '-',\n",
       " '8,599',\n",
       " '-',\n",
       " '-',\n",
       " '-',\n",
       " '-',\n",
       " '-',\n",
       " '-',\n",
       " '-',\n",
       " '6,499',\n",
       " '-',\n",
       " '-',\n",
       " '7,399',\n",
       " '-',\n",
       " '7,999',\n",
       " '-',\n",
       " '-',\n",
       " '-',\n",
       " '-',\n",
       " '-',\n",
       " '-',\n",
       " '-',\n",
       " '-',\n",
       " '-',\n",
       " '-',\n",
       " '8,599',\n",
       " '-',\n",
       " '-',\n",
       " '-',\n",
       " '-',\n",
       " '-',\n",
       " '-',\n",
       " '-',\n",
       " '6,499',\n",
       " '-',\n",
       " '-',\n",
       " '7,399',\n",
       " '-',\n",
       " '7,999',\n",
       " '-',\n",
       " '-',\n",
       " '-',\n",
       " '-',\n",
       " '-',\n",
       " '-',\n",
       " '-',\n",
       " '-',\n",
       " '-',\n",
       " '-',\n",
       " '8,599',\n",
       " '-',\n",
       " '-',\n",
       " '-',\n",
       " '-',\n",
       " '-',\n",
       " '-',\n",
       " '-',\n",
       " '6,499',\n",
       " '-',\n",
       " '-',\n",
       " '7,399']"
      ]
     },
     "execution_count": 57,
     "metadata": {},
     "output_type": "execute_result"
    }
   ],
   "source": [
    "b_price\n"
   ]
  },
  {
   "cell_type": "code",
   "execution_count": 66,
   "id": "891f58c6",
   "metadata": {},
   "outputs": [],
   "source": [
    "# scrapping delivery of the product\n",
    "\n",
    "\n",
    "b_delivery=[]\n",
    "for i in product_open_url:\n",
    "    driver.get(i)\n",
    "    time.sleep(2)\n",
    "    try:\n",
    "        delivery=driver.find_element(By.XPATH,'/html/body/div[2]/div/div[6]/div[3]/div[1]/div[3]/div/div[1]/div/div/div/form/div/div/div/div/div[4]/div/div[3]/div[10]/div[1]/div/div/div/span/span[1]')\n",
    "        b_delivery.append(delivery.text)\n",
    "    except NoSuchElementException :\n",
    "            b_delivery.append('-')\n",
    "\n"
   ]
  },
  {
   "cell_type": "code",
   "execution_count": 67,
   "id": "5ce9bbb4",
   "metadata": {},
   "outputs": [
    {
     "data": {
      "text/plain": [
       "72"
      ]
     },
     "execution_count": 67,
     "metadata": {},
     "output_type": "execute_result"
    }
   ],
   "source": [
    "len(b_delivery)"
   ]
  },
  {
   "cell_type": "code",
   "execution_count": 68,
   "id": "b7b2c64d",
   "metadata": {},
   "outputs": [
    {
     "data": {
      "text/plain": [
       "['-',\n",
       " 'Monday, 26 February, 8 AM - 5 PM',\n",
       " '-',\n",
       " '-',\n",
       " '-',\n",
       " '-',\n",
       " '-',\n",
       " '-',\n",
       " '-',\n",
       " '-',\n",
       " '-',\n",
       " '-',\n",
       " '-',\n",
       " '-',\n",
       " '-',\n",
       " '-',\n",
       " '-',\n",
       " '-',\n",
       " '-',\n",
       " 'Monday, 26 February, 8 AM - 5 PM',\n",
       " 'Monday, 26 February, 8 AM - 5 PM',\n",
       " '-',\n",
       " '-',\n",
       " 'Monday, 26 February, 8 AM - 5 PM',\n",
       " '-',\n",
       " 'Monday, 26 February, 8 AM - 5 PM',\n",
       " '-',\n",
       " '-',\n",
       " '-',\n",
       " '-',\n",
       " '-',\n",
       " '-',\n",
       " '-',\n",
       " '-',\n",
       " '-',\n",
       " '-',\n",
       " '-',\n",
       " '-',\n",
       " '-',\n",
       " '-',\n",
       " '-',\n",
       " '-',\n",
       " '-',\n",
       " 'Monday, 26 February, 8 AM - 5 PM',\n",
       " 'Monday, 26 February, 8 AM - 5 PM',\n",
       " '-',\n",
       " '-',\n",
       " 'Monday, 26 February, 8 AM - 5 PM',\n",
       " '-',\n",
       " 'Monday, 26 February, 8 AM - 5 PM',\n",
       " '-',\n",
       " '-',\n",
       " '-',\n",
       " '-',\n",
       " '-',\n",
       " '-',\n",
       " '-',\n",
       " '-',\n",
       " '-',\n",
       " '-',\n",
       " '-',\n",
       " '-',\n",
       " '-',\n",
       " '-',\n",
       " '-',\n",
       " '-',\n",
       " '-',\n",
       " 'Monday, 26 February, 8 AM - 5 PM',\n",
       " 'Monday, 26 February, 8 AM - 5 PM',\n",
       " '-',\n",
       " '-',\n",
       " 'Monday, 26 February, 8 AM - 5 PM']"
      ]
     },
     "execution_count": 68,
     "metadata": {},
     "output_type": "execute_result"
    }
   ],
   "source": [
    "b_delivery"
   ]
  },
  {
   "cell_type": "code",
   "execution_count": 79,
   "id": "e4114bae",
   "metadata": {},
   "outputs": [],
   "source": [
    "# scraping data for ratings\n",
    "\n",
    "b_rating=[]\n",
    "for i in product_open_url:\n",
    "    driver.get(i)\n",
    "    time.sleep(2)\n",
    "    try:\n",
    "        rate=driver.find_element(By.XPATH,'/html/body/div[2]/div/div[6]/div[3]/div[4]/div[5]/div/span[1]/span/span[1]')\n",
    "        b_rating.append(rate.text)\n",
    "    except NoSuchElementException :\n",
    "            b_rating.append('-')"
   ]
  },
  {
   "cell_type": "code",
   "execution_count": 80,
   "id": "fe0ade38",
   "metadata": {},
   "outputs": [
    {
     "data": {
      "text/plain": [
       "72"
      ]
     },
     "execution_count": 80,
     "metadata": {},
     "output_type": "execute_result"
    }
   ],
   "source": [
    "len(b_rating)"
   ]
  },
  {
   "cell_type": "code",
   "execution_count": 81,
   "id": "d12db001",
   "metadata": {},
   "outputs": [
    {
     "data": {
      "text/plain": [
       "['-',\n",
       " '3.6',\n",
       " '-',\n",
       " '-',\n",
       " '-',\n",
       " '-',\n",
       " '-',\n",
       " '-',\n",
       " '-',\n",
       " '-',\n",
       " '-',\n",
       " '-',\n",
       " '-',\n",
       " '-',\n",
       " '-',\n",
       " '-',\n",
       " '-',\n",
       " '-',\n",
       " '-',\n",
       " '3.9',\n",
       " '3.9',\n",
       " '-',\n",
       " '-',\n",
       " '3.9',\n",
       " '-',\n",
       " '3.6',\n",
       " '-',\n",
       " '-',\n",
       " '-',\n",
       " '-',\n",
       " '-',\n",
       " '-',\n",
       " '-',\n",
       " '-',\n",
       " '-',\n",
       " '-',\n",
       " '-',\n",
       " '-',\n",
       " '-',\n",
       " '-',\n",
       " '-',\n",
       " '-',\n",
       " '-',\n",
       " '3.9',\n",
       " '3.9',\n",
       " '-',\n",
       " '-',\n",
       " '3.9',\n",
       " '-',\n",
       " '3.6',\n",
       " '-',\n",
       " '-',\n",
       " '-',\n",
       " '-',\n",
       " '-',\n",
       " '-',\n",
       " '-',\n",
       " '-',\n",
       " '-',\n",
       " '-',\n",
       " '-',\n",
       " '-',\n",
       " '-',\n",
       " '-',\n",
       " '-',\n",
       " '-',\n",
       " '-',\n",
       " '3.9',\n",
       " '3.9',\n",
       " '-',\n",
       " '-',\n",
       " '3.9']"
      ]
     },
     "execution_count": 81,
     "metadata": {},
     "output_type": "execute_result"
    }
   ],
   "source": [
    "b_rating"
   ]
  },
  {
   "cell_type": "code",
   "execution_count": 82,
   "id": "4106b0a2",
   "metadata": {},
   "outputs": [
    {
     "data": {
      "text/html": [
       "<div>\n",
       "<style scoped>\n",
       "    .dataframe tbody tr th:only-of-type {\n",
       "        vertical-align: middle;\n",
       "    }\n",
       "\n",
       "    .dataframe tbody tr th {\n",
       "        vertical-align: top;\n",
       "    }\n",
       "\n",
       "    .dataframe thead th {\n",
       "        text-align: right;\n",
       "    }\n",
       "</style>\n",
       "<table border=\"1\" class=\"dataframe\">\n",
       "  <thead>\n",
       "    <tr style=\"text-align: right;\">\n",
       "      <th></th>\n",
       "      <th>Brand Name</th>\n",
       "      <th>Price</th>\n",
       "      <th>Expected Delivery</th>\n",
       "      <th>Product Rating</th>\n",
       "    </tr>\n",
       "  </thead>\n",
       "  <tbody>\n",
       "    <tr>\n",
       "      <th>0</th>\n",
       "      <td>-</td>\n",
       "      <td>-</td>\n",
       "      <td>-</td>\n",
       "      <td>-</td>\n",
       "    </tr>\n",
       "    <tr>\n",
       "      <th>1</th>\n",
       "      <td>Leader Spyder 27.5T Multispeed (7 Speed) Mount...</td>\n",
       "      <td>7,999</td>\n",
       "      <td>Monday, 26 February, 8 AM - 5 PM</td>\n",
       "      <td>3.6</td>\n",
       "    </tr>\n",
       "    <tr>\n",
       "      <th>2</th>\n",
       "      <td>-</td>\n",
       "      <td>-</td>\n",
       "      <td>-</td>\n",
       "      <td>-</td>\n",
       "    </tr>\n",
       "    <tr>\n",
       "      <th>3</th>\n",
       "      <td>-</td>\n",
       "      <td>-</td>\n",
       "      <td>-</td>\n",
       "      <td>-</td>\n",
       "    </tr>\n",
       "    <tr>\n",
       "      <th>4</th>\n",
       "      <td>-</td>\n",
       "      <td>-</td>\n",
       "      <td>-</td>\n",
       "      <td>-</td>\n",
       "    </tr>\n",
       "    <tr>\n",
       "      <th>...</th>\n",
       "      <td>...</td>\n",
       "      <td>...</td>\n",
       "      <td>...</td>\n",
       "      <td>...</td>\n",
       "    </tr>\n",
       "    <tr>\n",
       "      <th>67</th>\n",
       "      <td>-</td>\n",
       "      <td>-</td>\n",
       "      <td>Monday, 26 February, 8 AM - 5 PM</td>\n",
       "      <td>3.9</td>\n",
       "    </tr>\n",
       "    <tr>\n",
       "      <th>68</th>\n",
       "      <td>Leader Fusion 26T Multi Speed (21 Speed) Grear...</td>\n",
       "      <td>6,499</td>\n",
       "      <td>Monday, 26 February, 8 AM - 5 PM</td>\n",
       "      <td>3.9</td>\n",
       "    </tr>\n",
       "    <tr>\n",
       "      <th>69</th>\n",
       "      <td>-</td>\n",
       "      <td>-</td>\n",
       "      <td>-</td>\n",
       "      <td>-</td>\n",
       "    </tr>\n",
       "    <tr>\n",
       "      <th>70</th>\n",
       "      <td>-</td>\n",
       "      <td>-</td>\n",
       "      <td>-</td>\n",
       "      <td>-</td>\n",
       "    </tr>\n",
       "    <tr>\n",
       "      <th>71</th>\n",
       "      <td>Leader Beast 26T Multispeed (7 Speed) Mountain...</td>\n",
       "      <td>7,399</td>\n",
       "      <td>Monday, 26 February, 8 AM - 5 PM</td>\n",
       "      <td>3.9</td>\n",
       "    </tr>\n",
       "  </tbody>\n",
       "</table>\n",
       "<p>72 rows × 4 columns</p>\n",
       "</div>"
      ],
      "text/plain": [
       "                                           Brand Name  Price  \\\n",
       "0                                                   -      -   \n",
       "1   Leader Spyder 27.5T Multispeed (7 Speed) Mount...  7,999   \n",
       "2                                                   -      -   \n",
       "3                                                   -      -   \n",
       "4                                                   -      -   \n",
       "..                                                ...    ...   \n",
       "67                                                  -      -   \n",
       "68  Leader Fusion 26T Multi Speed (21 Speed) Grear...  6,499   \n",
       "69                                                  -      -   \n",
       "70                                                  -      -   \n",
       "71  Leader Beast 26T Multispeed (7 Speed) Mountain...  7,399   \n",
       "\n",
       "                   Expected Delivery Product Rating  \n",
       "0                                  -              -  \n",
       "1   Monday, 26 February, 8 AM - 5 PM            3.6  \n",
       "2                                  -              -  \n",
       "3                                  -              -  \n",
       "4                                  -              -  \n",
       "..                               ...            ...  \n",
       "67  Monday, 26 February, 8 AM - 5 PM            3.9  \n",
       "68  Monday, 26 February, 8 AM - 5 PM            3.9  \n",
       "69                                 -              -  \n",
       "70                                 -              -  \n",
       "71  Monday, 26 February, 8 AM - 5 PM            3.9  \n",
       "\n",
       "[72 rows x 4 columns]"
      ]
     },
     "execution_count": 82,
     "metadata": {},
     "output_type": "execute_result"
    }
   ],
   "source": [
    "import pandas as pd\n",
    "df=pd.DataFrame({'Brand Name':b_name, 'Price':b_price, 'Expected Delivery':b_delivery, 'Product Rating':b_rating})\n",
    "\n",
    "df"
   ]
  },
  {
   "cell_type": "raw",
   "id": "511ce2a1",
   "metadata": {},
   "source": []
  },
  {
   "cell_type": "markdown",
   "id": "863bf458",
   "metadata": {},
   "source": [
    "# 4. program to find a smartphone details"
   ]
  },
  {
   "cell_type": "code",
   "execution_count": 40,
   "id": "812de3ee",
   "metadata": {},
   "outputs": [],
   "source": [
    "driver=webdriver.Chrome()"
   ]
  },
  {
   "cell_type": "code",
   "execution_count": 41,
   "id": "7b061d8b",
   "metadata": {},
   "outputs": [],
   "source": [
    "driver.get('https://flipkart.com')"
   ]
  },
  {
   "cell_type": "code",
   "execution_count": 42,
   "id": "52fd3d01",
   "metadata": {},
   "outputs": [],
   "source": [
    "product=driver.find_element(By.XPATH,'/html/body/div/div/div[1]/div[1]/div[2]/div[2]/form/div/div/input')\n",
    "product.send_keys('oneplus nord pixel 4a')"
   ]
  },
  {
   "cell_type": "code",
   "execution_count": 43,
   "id": "007622de",
   "metadata": {},
   "outputs": [],
   "source": [
    "search=driver.find_element(By.XPATH,'/html/body/div/div/div[1]/div[1]/div[2]/div[2]/form/div/button')\n",
    "search.click()"
   ]
  },
  {
   "cell_type": "code",
   "execution_count": 44,
   "id": "3c707ad9",
   "metadata": {},
   "outputs": [],
   "source": [
    "# fetching url to open each product\n",
    "\n",
    "product_open_url = []\n",
    "url=driver.find_elements(By.XPATH,'//a[@class=\"_1fQZEK\"]')\n",
    "for i in url:\n",
    "    product_open_url.append(i.get_attribute('href'))\n",
    "    "
   ]
  },
  {
   "cell_type": "code",
   "execution_count": 45,
   "id": "c3f76a71",
   "metadata": {},
   "outputs": [
    {
     "data": {
      "text/plain": [
       "9"
      ]
     },
     "execution_count": 45,
     "metadata": {},
     "output_type": "execute_result"
    }
   ],
   "source": [
    "len(url)"
   ]
  },
  {
   "cell_type": "code",
   "execution_count": 46,
   "id": "775e21bf",
   "metadata": {},
   "outputs": [
    {
     "data": {
      "text/plain": [
       "[<selenium.webdriver.remote.webelement.WebElement (session=\"eb53eb5411f3e9fc09ff77b3a1ef6836\", element=\"93886EA3AA11E22324A2A244562B519E_element_253\")>,\n",
       " <selenium.webdriver.remote.webelement.WebElement (session=\"eb53eb5411f3e9fc09ff77b3a1ef6836\", element=\"93886EA3AA11E22324A2A244562B519E_element_367\")>,\n",
       " <selenium.webdriver.remote.webelement.WebElement (session=\"eb53eb5411f3e9fc09ff77b3a1ef6836\", element=\"93886EA3AA11E22324A2A244562B519E_element_368\")>,\n",
       " <selenium.webdriver.remote.webelement.WebElement (session=\"eb53eb5411f3e9fc09ff77b3a1ef6836\", element=\"93886EA3AA11E22324A2A244562B519E_element_369\")>,\n",
       " <selenium.webdriver.remote.webelement.WebElement (session=\"eb53eb5411f3e9fc09ff77b3a1ef6836\", element=\"93886EA3AA11E22324A2A244562B519E_element_370\")>,\n",
       " <selenium.webdriver.remote.webelement.WebElement (session=\"eb53eb5411f3e9fc09ff77b3a1ef6836\", element=\"93886EA3AA11E22324A2A244562B519E_element_371\")>,\n",
       " <selenium.webdriver.remote.webelement.WebElement (session=\"eb53eb5411f3e9fc09ff77b3a1ef6836\", element=\"93886EA3AA11E22324A2A244562B519E_element_372\")>,\n",
       " <selenium.webdriver.remote.webelement.WebElement (session=\"eb53eb5411f3e9fc09ff77b3a1ef6836\", element=\"93886EA3AA11E22324A2A244562B519E_element_373\")>,\n",
       " <selenium.webdriver.remote.webelement.WebElement (session=\"eb53eb5411f3e9fc09ff77b3a1ef6836\", element=\"93886EA3AA11E22324A2A244562B519E_element_374\")>]"
      ]
     },
     "execution_count": 46,
     "metadata": {},
     "output_type": "execute_result"
    }
   ],
   "source": [
    "url"
   ]
  },
  {
   "cell_type": "code",
   "execution_count": 54,
   "id": "bdae2a48",
   "metadata": {},
   "outputs": [],
   "source": [
    "b_name=[]\n",
    "s_name=[]\n",
    "b_colour=[]\n",
    "b_ram=[]\n",
    "b_rom=[]\n",
    "b_pcamera=[]\n",
    "b_scamera=[]\n",
    "b_size=[]\n",
    "b_capacity=[]\n",
    "b_price=[]\n",
    "b_url=[]"
   ]
  },
  {
   "cell_type": "code",
   "execution_count": 55,
   "id": "732b319f",
   "metadata": {},
   "outputs": [],
   "source": [
    "# scraping brand name of the product\n",
    "\n",
    "for i in product_open_url:\n",
    "    driver.get(i)\n",
    "    time.sleep(2)\n",
    "    try:\n",
    "        name=driver.find_element(By.XPATH,'/html/body/div[1]/div/div[3]/div[1]/div[2]/div[1]/div[1]/div/div[4]/a')\n",
    "        b_name.append(name.text)\n",
    "    except NoSuchElementException :\n",
    "            b_name.append('-')\n"
   ]
  },
  {
   "cell_type": "code",
   "execution_count": 56,
   "id": "19e4823b",
   "metadata": {},
   "outputs": [
    {
     "data": {
      "text/plain": [
       "9"
      ]
     },
     "execution_count": 56,
     "metadata": {},
     "output_type": "execute_result"
    }
   ],
   "source": [
    "len(b_name)"
   ]
  },
  {
   "cell_type": "code",
   "execution_count": 57,
   "id": "52a3f1d2",
   "metadata": {},
   "outputs": [
    {
     "data": {
      "text/plain": [
       "['-',\n",
       " 'OnePlus Mobiles',\n",
       " 'OnePlus Mobiles',\n",
       " 'OnePlus Mobiles',\n",
       " 'OnePlus Mobiles',\n",
       " 'OnePlus Mobiles',\n",
       " 'OnePlus Mobiles',\n",
       " 'OnePlus Mobiles',\n",
       " 'OnePlus Mobiles']"
      ]
     },
     "execution_count": 57,
     "metadata": {},
     "output_type": "execute_result"
    }
   ],
   "source": [
    "b_name"
   ]
  },
  {
   "cell_type": "code",
   "execution_count": 58,
   "id": "ff1d046c",
   "metadata": {},
   "outputs": [],
   "source": [
    "#scarping data for smartphone name\n",
    "\n",
    "for i in product_open_url:\n",
    "    driver.get(i)\n",
    "    time.sleep(2)\n",
    "    try:\n",
    "        sname=driver.find_element(By.XPATH,'/html/body/div[1]/div/div[3]/div[1]/div[2]/div[2]/div/div[1]/h1/span')\n",
    "        s_name.append(sname.text)\n",
    "    except NoSuchElementException :\n",
    "            s_name.append('-')"
   ]
  },
  {
   "cell_type": "code",
   "execution_count": 59,
   "id": "8ccfb3a6",
   "metadata": {},
   "outputs": [
    {
     "data": {
      "text/plain": [
       "9"
      ]
     },
     "execution_count": 59,
     "metadata": {},
     "output_type": "execute_result"
    }
   ],
   "source": [
    "len(s_name)"
   ]
  },
  {
   "cell_type": "code",
   "execution_count": 60,
   "id": "63f217f5",
   "metadata": {},
   "outputs": [
    {
     "data": {
      "text/plain": [
       "['OnePlus Nord CE 2 5G (Bahama Blue, 128 GB)  (8 GB RAM)',\n",
       " 'OnePlus Nord (Gray Onyx, 64 GB)  (6 GB RAM)',\n",
       " 'OnePlus Nord (Blue Marble, 128 GB)  (8 GB RAM)',\n",
       " 'OnePlus Nord (Blue Marble, 64 GB)  (6 GB RAM)',\n",
       " 'OnePlus Nord (Blue Marble, 256 GB)  (12 GB RAM)',\n",
       " 'OnePlus Nord (Gray Onyx, 128 GB)  (8 GB RAM)',\n",
       " 'OnePlus Nord (Gray Onyx, 256 GB)  (12 GB RAM)',\n",
       " 'OnePlus Nord CE 2 5G (Gray Mirror, 128 GB)  (8 GB RAM)',\n",
       " 'OnePlus Nord CE 2 5G (Gray Mirror, 128 GB)  (6 GB RAM)']"
      ]
     },
     "execution_count": 60,
     "metadata": {},
     "output_type": "execute_result"
    }
   ],
   "source": [
    "s_name"
   ]
  },
  {
   "cell_type": "code",
   "execution_count": 61,
   "id": "5bc67155",
   "metadata": {},
   "outputs": [],
   "source": [
    "#scraping product for colour\n",
    "for i in product_open_url:\n",
    "    driver.get(i)\n",
    "    time.sleep(2)\n",
    "    try:\n",
    "        colour=driver.find_element(By.XPATH,'/html/body/div[1]/div/div[3]/div[1]/div[2]/div[2]/div/div[1]/h1/span')\n",
    "        b_colour.append(colour.text)\n",
    "    except NoSuchElementException :\n",
    "            b_colour.append('-')"
   ]
  },
  {
   "cell_type": "code",
   "execution_count": 62,
   "id": "5477fb16",
   "metadata": {},
   "outputs": [
    {
     "data": {
      "text/plain": [
       "9"
      ]
     },
     "execution_count": 62,
     "metadata": {},
     "output_type": "execute_result"
    }
   ],
   "source": [
    "len(b_colour)"
   ]
  },
  {
   "cell_type": "code",
   "execution_count": 63,
   "id": "cfc50d48",
   "metadata": {},
   "outputs": [
    {
     "data": {
      "text/plain": [
       "['OnePlus Nord CE 2 5G (Bahama Blue, 128 GB)  (8 GB RAM)',\n",
       " 'OnePlus Nord (Gray Onyx, 64 GB)  (6 GB RAM)',\n",
       " 'OnePlus Nord (Blue Marble, 128 GB)  (8 GB RAM)',\n",
       " 'OnePlus Nord (Blue Marble, 64 GB)  (6 GB RAM)',\n",
       " 'OnePlus Nord (Blue Marble, 256 GB)  (12 GB RAM)',\n",
       " 'OnePlus Nord (Gray Onyx, 128 GB)  (8 GB RAM)',\n",
       " 'OnePlus Nord (Gray Onyx, 256 GB)  (12 GB RAM)',\n",
       " 'OnePlus Nord CE 2 5G (Gray Mirror, 128 GB)  (8 GB RAM)',\n",
       " 'OnePlus Nord CE 2 5G (Gray Mirror, 128 GB)  (6 GB RAM)']"
      ]
     },
     "execution_count": 63,
     "metadata": {},
     "output_type": "execute_result"
    }
   ],
   "source": [
    "b_colour"
   ]
  },
  {
   "cell_type": "code",
   "execution_count": 64,
   "id": "56882f12",
   "metadata": {},
   "outputs": [],
   "source": [
    "#scraping product for ram\n",
    "\n",
    "for i in product_open_url:\n",
    "    driver.get(i)\n",
    "    time.sleep(2)\n",
    "    try:\n",
    "        ram=driver.find_element(By.XPATH,'/html/body/div[1]/div/div[3]/div[1]/div[2]/div[6]/div[1]/div/div[2]/ul/li[1]')\n",
    "        b_ram.append(ram.text)\n",
    "    except NoSuchElementException :\n",
    "            b_ram.append('-')"
   ]
  },
  {
   "cell_type": "code",
   "execution_count": 65,
   "id": "b92fdea5",
   "metadata": {},
   "outputs": [
    {
     "data": {
      "text/plain": [
       "9"
      ]
     },
     "execution_count": 65,
     "metadata": {},
     "output_type": "execute_result"
    }
   ],
   "source": [
    "len(b_ram)"
   ]
  },
  {
   "cell_type": "code",
   "execution_count": 66,
   "id": "926da663",
   "metadata": {},
   "outputs": [
    {
     "data": {
      "text/plain": [
       "['-',\n",
       " '6 GB RAM | 64 GB ROM',\n",
       " '8 GB RAM | 128 GB ROM',\n",
       " '6 GB RAM | 64 GB ROM',\n",
       " '12 GB RAM | 256 GB ROM',\n",
       " '8 GB RAM | 128 GB ROM',\n",
       " '12 GB RAM | 256 GB ROM',\n",
       " '-',\n",
       " '6 GB RAM | 128 GB ROM']"
      ]
     },
     "execution_count": 66,
     "metadata": {},
     "output_type": "execute_result"
    }
   ],
   "source": [
    "b_ram"
   ]
  },
  {
   "cell_type": "code",
   "execution_count": 67,
   "id": "afa40f39",
   "metadata": {},
   "outputs": [],
   "source": [
    "#scraping product for rom\n",
    "\n",
    "for i in product_open_url:\n",
    "    driver.get(i)\n",
    "    time.sleep(2)\n",
    "    try:\n",
    "        rom=driver.find_element(By.XPATH,'/html/body/div[1]/div/div[3]/div[1]/div[2]/div[6]/div[1]/div/div[2]/ul/li[1]')\n",
    "        b_rom.append(rom.text)\n",
    "    except NoSuchElementException :\n",
    "            b_rom.append('-')"
   ]
  },
  {
   "cell_type": "code",
   "execution_count": 68,
   "id": "79fe1118",
   "metadata": {},
   "outputs": [
    {
     "data": {
      "text/plain": [
       "9"
      ]
     },
     "execution_count": 68,
     "metadata": {},
     "output_type": "execute_result"
    }
   ],
   "source": [
    "len(b_rom)"
   ]
  },
  {
   "cell_type": "code",
   "execution_count": 69,
   "id": "b8716bf5",
   "metadata": {},
   "outputs": [
    {
     "data": {
      "text/plain": [
       "['8 GB RAM | 128 GB ROM',\n",
       " '6 GB RAM | 64 GB ROM',\n",
       " '8 GB RAM | 128 GB ROM',\n",
       " '6 GB RAM | 64 GB ROM',\n",
       " '12 GB RAM | 256 GB ROM',\n",
       " '8 GB RAM | 128 GB ROM',\n",
       " '12 GB RAM | 256 GB ROM',\n",
       " '-',\n",
       " '6 GB RAM | 128 GB ROM']"
      ]
     },
     "execution_count": 69,
     "metadata": {},
     "output_type": "execute_result"
    }
   ],
   "source": [
    "b_rom"
   ]
  },
  {
   "cell_type": "code",
   "execution_count": 70,
   "id": "00926e68",
   "metadata": {},
   "outputs": [],
   "source": [
    "#scraping data for  primary camera\n",
    "\n",
    "for i in product_open_url:\n",
    "    driver.get(i)\n",
    "    time.sleep(2)\n",
    "    try:\n",
    "        pcamera=driver.find_element(By.XPATH,'/html/body/div[1]/div/div[3]/div[1]/div[2]/div[6]/div[1]/div/div[2]/ul/li[3]')\n",
    "        b_pcamera.append(pcamera.text)\n",
    "    except NoSuchElementException :\n",
    "            b_pcamera.append('-')"
   ]
  },
  {
   "cell_type": "code",
   "execution_count": 71,
   "id": "8f72bae9",
   "metadata": {},
   "outputs": [
    {
     "data": {
      "text/plain": [
       "9"
      ]
     },
     "execution_count": 71,
     "metadata": {},
     "output_type": "execute_result"
    }
   ],
   "source": [
    "len(b_pcamera)"
   ]
  },
  {
   "cell_type": "code",
   "execution_count": 72,
   "id": "48d45573",
   "metadata": {},
   "outputs": [
    {
     "data": {
      "text/plain": [
       "['64MP Rear Camera',\n",
       " '48MP + 8MP | 32MP + 8MP Dual Front Camera',\n",
       " '48MP + 8MP | 32MP + 8MP Dual Front Camera',\n",
       " '48MP + 8MP | 32MP + 8MP Dual Front Camera',\n",
       " '48MP + 8MP | 32MP + 8MP Dual Front Camera',\n",
       " '48MP + 8MP | 32MP + 8MP Dual Front Camera',\n",
       " '48MP + 8MP | 32MP + 8MP Dual Front Camera',\n",
       " '-',\n",
       " '64MP Rear Camera | 16MP Front Camera']"
      ]
     },
     "execution_count": 72,
     "metadata": {},
     "output_type": "execute_result"
    }
   ],
   "source": [
    "b_pcamera"
   ]
  },
  {
   "cell_type": "code",
   "execution_count": 73,
   "id": "f14a6cbb",
   "metadata": {},
   "outputs": [],
   "source": [
    "#scraping data for secondary camera\n",
    "\n",
    "for i in product_open_url:\n",
    "    driver.get(i)\n",
    "    time.sleep(2)\n",
    "    try:\n",
    "        scamera=driver.find_element(By.XPATH,'/html/body/div[1]/div/div[3]/div[1]/div[2]/div[6]/div[1]/div/div[2]/ul/li[3]')\n",
    "        b_scamera.append(scamera.text)\n",
    "    except NoSuchElementException :\n",
    "            b_scamera.append('-')"
   ]
  },
  {
   "cell_type": "code",
   "execution_count": 74,
   "id": "88f0f65b",
   "metadata": {},
   "outputs": [
    {
     "data": {
      "text/plain": [
       "9"
      ]
     },
     "execution_count": 74,
     "metadata": {},
     "output_type": "execute_result"
    }
   ],
   "source": [
    "len(b_scamera)"
   ]
  },
  {
   "cell_type": "code",
   "execution_count": 75,
   "id": "1a012ca5",
   "metadata": {},
   "outputs": [
    {
     "data": {
      "text/plain": [
       "['64MP Rear Camera',\n",
       " '48MP + 8MP | 32MP + 8MP Dual Front Camera',\n",
       " '48MP + 8MP | 32MP + 8MP Dual Front Camera',\n",
       " '48MP + 8MP | 32MP + 8MP Dual Front Camera',\n",
       " '48MP + 8MP | 32MP + 8MP Dual Front Camera',\n",
       " '48MP + 8MP | 32MP + 8MP Dual Front Camera',\n",
       " '48MP + 8MP | 32MP + 8MP Dual Front Camera',\n",
       " '-',\n",
       " '64MP Rear Camera | 16MP Front Camera']"
      ]
     },
     "execution_count": 75,
     "metadata": {},
     "output_type": "execute_result"
    }
   ],
   "source": [
    "b_scamera"
   ]
  },
  {
   "cell_type": "code",
   "execution_count": 76,
   "id": "d177a3c4",
   "metadata": {},
   "outputs": [],
   "source": [
    "# scraping data for size\n",
    "\n",
    "for i in product_open_url:\n",
    "    driver.get(i)\n",
    "    time.sleep(2)\n",
    "    try:\n",
    "        size=driver.find_element(By.XPATH,'/html/body/div[1]/div/div[3]/div[1]/div[2]/div[6]/div[1]/div/div[2]/ul/li[2]')\n",
    "        b_size.append(size.text)\n",
    "    except NoSuchElementException :\n",
    "            b_size.append('-')"
   ]
  },
  {
   "cell_type": "code",
   "execution_count": 77,
   "id": "e9f5bd36",
   "metadata": {},
   "outputs": [
    {
     "data": {
      "text/plain": [
       "9"
      ]
     },
     "execution_count": 77,
     "metadata": {},
     "output_type": "execute_result"
    }
   ],
   "source": [
    "len(b_size)"
   ]
  },
  {
   "cell_type": "code",
   "execution_count": 78,
   "id": "e7f189b4",
   "metadata": {},
   "outputs": [
    {
     "data": {
      "text/plain": [
       "['16.33 cm (6.43 inch) Display',\n",
       " '16.36 cm (6.44 inch) Full HD+ Display',\n",
       " '16.36 cm (6.44 inch) Full HD+ Display',\n",
       " '16.36 cm (6.44 inch) Full HD+ Display',\n",
       " '16.36 cm (6.44 inch) Full HD+ Display',\n",
       " '16.36 cm (6.44 inch) Full HD+ Display',\n",
       " '16.36 cm (6.44 inch) Full HD+ Display',\n",
       " '-',\n",
       " '16.33 cm (6.43 inch) Display']"
      ]
     },
     "execution_count": 78,
     "metadata": {},
     "output_type": "execute_result"
    }
   ],
   "source": [
    "b_size"
   ]
  },
  {
   "cell_type": "code",
   "execution_count": 79,
   "id": "0265e3dc",
   "metadata": {},
   "outputs": [],
   "source": [
    "#scraping data for capacity\n",
    "\n",
    "for i in product_open_url:\n",
    "    driver.get(i)\n",
    "    time.sleep(2)\n",
    "    try:\n",
    "        capacity=driver.find_element(By.XPATH,'/html/body/div[1]/div/div[3]/div[1]/div[2]/div[6]/div[1]/div/div[2]/ul/li[4]')\n",
    "        b_capacity.append(capacity.text)\n",
    "    except NoSuchElementException :\n",
    "            b_capacity.append('-')"
   ]
  },
  {
   "cell_type": "code",
   "execution_count": 80,
   "id": "799b94b1",
   "metadata": {},
   "outputs": [
    {
     "data": {
      "text/plain": [
       "9"
      ]
     },
     "execution_count": 80,
     "metadata": {},
     "output_type": "execute_result"
    }
   ],
   "source": [
    "len(b_capacity)"
   ]
  },
  {
   "cell_type": "code",
   "execution_count": 81,
   "id": "06bd80d7",
   "metadata": {},
   "outputs": [
    {
     "data": {
      "text/plain": [
       "['4500 mAh Battery',\n",
       " '4115 mAh Battery',\n",
       " '4115 mAh Battery',\n",
       " '4115 mAh Battery',\n",
       " '4115 mAh Battery',\n",
       " '4115 mAh Battery',\n",
       " '4115 mAh Battery',\n",
       " '-',\n",
       " '4500 mAh Battery']"
      ]
     },
     "execution_count": 81,
     "metadata": {},
     "output_type": "execute_result"
    }
   ],
   "source": [
    "b_capacity"
   ]
  },
  {
   "cell_type": "code",
   "execution_count": 82,
   "id": "3943f48b",
   "metadata": {},
   "outputs": [],
   "source": [
    "#scraping data for price\n",
    "\n",
    "for i in product_open_url:\n",
    "    driver.get(i)\n",
    "    time.sleep(2)\n",
    "    try:\n",
    "        price=driver.find_element(By.XPATH,'/html/body/div[1]/div/div[3]/div[1]/div[2]/div[2]/div/div[3]/div[1]/div/div')\n",
    "        b_price.append(price.text)\n",
    "    except NoSuchElementException :\n",
    "            b_price.append('-')"
   ]
  },
  {
   "cell_type": "code",
   "execution_count": 83,
   "id": "67973378",
   "metadata": {},
   "outputs": [
    {
     "data": {
      "text/plain": [
       "9"
      ]
     },
     "execution_count": 83,
     "metadata": {},
     "output_type": "execute_result"
    }
   ],
   "source": [
    "len(b_price)"
   ]
  },
  {
   "cell_type": "code",
   "execution_count": 84,
   "id": "c1c08e82",
   "metadata": {},
   "outputs": [
    {
     "data": {
      "text/plain": [
       "['-', '-', '₹24,790', '-', '-', '-', '-', '₹17,999', '₹19,999']"
      ]
     },
     "execution_count": 84,
     "metadata": {},
     "output_type": "execute_result"
    }
   ],
   "source": [
    "b_price"
   ]
  },
  {
   "cell_type": "code",
   "execution_count": 85,
   "id": "cb01c0ea",
   "metadata": {},
   "outputs": [
    {
     "data": {
      "text/html": [
       "<div>\n",
       "<style scoped>\n",
       "    .dataframe tbody tr th:only-of-type {\n",
       "        vertical-align: middle;\n",
       "    }\n",
       "\n",
       "    .dataframe tbody tr th {\n",
       "        vertical-align: top;\n",
       "    }\n",
       "\n",
       "    .dataframe thead th {\n",
       "        text-align: right;\n",
       "    }\n",
       "</style>\n",
       "<table border=\"1\" class=\"dataframe\">\n",
       "  <thead>\n",
       "    <tr style=\"text-align: right;\">\n",
       "      <th></th>\n",
       "      <th>Brand Name</th>\n",
       "      <th>Smartphone Name</th>\n",
       "      <th>Colour</th>\n",
       "      <th>RAM</th>\n",
       "      <th>ROM</th>\n",
       "      <th>Primary Camera</th>\n",
       "      <th>Secondary Camera</th>\n",
       "      <th>Size</th>\n",
       "      <th>Capacity</th>\n",
       "      <th>price</th>\n",
       "    </tr>\n",
       "  </thead>\n",
       "  <tbody>\n",
       "    <tr>\n",
       "      <th>0</th>\n",
       "      <td>-</td>\n",
       "      <td>OnePlus Nord CE 2 5G (Bahama Blue, 128 GB)  (8...</td>\n",
       "      <td>OnePlus Nord CE 2 5G (Bahama Blue, 128 GB)  (8...</td>\n",
       "      <td>-</td>\n",
       "      <td>8 GB RAM | 128 GB ROM</td>\n",
       "      <td>64MP Rear Camera</td>\n",
       "      <td>64MP Rear Camera</td>\n",
       "      <td>16.33 cm (6.43 inch) Display</td>\n",
       "      <td>4500 mAh Battery</td>\n",
       "      <td>-</td>\n",
       "    </tr>\n",
       "    <tr>\n",
       "      <th>1</th>\n",
       "      <td>OnePlus Mobiles</td>\n",
       "      <td>OnePlus Nord (Gray Onyx, 64 GB)  (6 GB RAM)</td>\n",
       "      <td>OnePlus Nord (Gray Onyx, 64 GB)  (6 GB RAM)</td>\n",
       "      <td>6 GB RAM | 64 GB ROM</td>\n",
       "      <td>6 GB RAM | 64 GB ROM</td>\n",
       "      <td>48MP + 8MP | 32MP + 8MP Dual Front Camera</td>\n",
       "      <td>48MP + 8MP | 32MP + 8MP Dual Front Camera</td>\n",
       "      <td>16.36 cm (6.44 inch) Full HD+ Display</td>\n",
       "      <td>4115 mAh Battery</td>\n",
       "      <td>-</td>\n",
       "    </tr>\n",
       "    <tr>\n",
       "      <th>2</th>\n",
       "      <td>OnePlus Mobiles</td>\n",
       "      <td>OnePlus Nord (Blue Marble, 128 GB)  (8 GB RAM)</td>\n",
       "      <td>OnePlus Nord (Blue Marble, 128 GB)  (8 GB RAM)</td>\n",
       "      <td>8 GB RAM | 128 GB ROM</td>\n",
       "      <td>8 GB RAM | 128 GB ROM</td>\n",
       "      <td>48MP + 8MP | 32MP + 8MP Dual Front Camera</td>\n",
       "      <td>48MP + 8MP | 32MP + 8MP Dual Front Camera</td>\n",
       "      <td>16.36 cm (6.44 inch) Full HD+ Display</td>\n",
       "      <td>4115 mAh Battery</td>\n",
       "      <td>₹24,790</td>\n",
       "    </tr>\n",
       "    <tr>\n",
       "      <th>3</th>\n",
       "      <td>OnePlus Mobiles</td>\n",
       "      <td>OnePlus Nord (Blue Marble, 64 GB)  (6 GB RAM)</td>\n",
       "      <td>OnePlus Nord (Blue Marble, 64 GB)  (6 GB RAM)</td>\n",
       "      <td>6 GB RAM | 64 GB ROM</td>\n",
       "      <td>6 GB RAM | 64 GB ROM</td>\n",
       "      <td>48MP + 8MP | 32MP + 8MP Dual Front Camera</td>\n",
       "      <td>48MP + 8MP | 32MP + 8MP Dual Front Camera</td>\n",
       "      <td>16.36 cm (6.44 inch) Full HD+ Display</td>\n",
       "      <td>4115 mAh Battery</td>\n",
       "      <td>-</td>\n",
       "    </tr>\n",
       "    <tr>\n",
       "      <th>4</th>\n",
       "      <td>OnePlus Mobiles</td>\n",
       "      <td>OnePlus Nord (Blue Marble, 256 GB)  (12 GB RAM)</td>\n",
       "      <td>OnePlus Nord (Blue Marble, 256 GB)  (12 GB RAM)</td>\n",
       "      <td>12 GB RAM | 256 GB ROM</td>\n",
       "      <td>12 GB RAM | 256 GB ROM</td>\n",
       "      <td>48MP + 8MP | 32MP + 8MP Dual Front Camera</td>\n",
       "      <td>48MP + 8MP | 32MP + 8MP Dual Front Camera</td>\n",
       "      <td>16.36 cm (6.44 inch) Full HD+ Display</td>\n",
       "      <td>4115 mAh Battery</td>\n",
       "      <td>-</td>\n",
       "    </tr>\n",
       "    <tr>\n",
       "      <th>5</th>\n",
       "      <td>OnePlus Mobiles</td>\n",
       "      <td>OnePlus Nord (Gray Onyx, 128 GB)  (8 GB RAM)</td>\n",
       "      <td>OnePlus Nord (Gray Onyx, 128 GB)  (8 GB RAM)</td>\n",
       "      <td>8 GB RAM | 128 GB ROM</td>\n",
       "      <td>8 GB RAM | 128 GB ROM</td>\n",
       "      <td>48MP + 8MP | 32MP + 8MP Dual Front Camera</td>\n",
       "      <td>48MP + 8MP | 32MP + 8MP Dual Front Camera</td>\n",
       "      <td>16.36 cm (6.44 inch) Full HD+ Display</td>\n",
       "      <td>4115 mAh Battery</td>\n",
       "      <td>-</td>\n",
       "    </tr>\n",
       "    <tr>\n",
       "      <th>6</th>\n",
       "      <td>OnePlus Mobiles</td>\n",
       "      <td>OnePlus Nord (Gray Onyx, 256 GB)  (12 GB RAM)</td>\n",
       "      <td>OnePlus Nord (Gray Onyx, 256 GB)  (12 GB RAM)</td>\n",
       "      <td>12 GB RAM | 256 GB ROM</td>\n",
       "      <td>12 GB RAM | 256 GB ROM</td>\n",
       "      <td>48MP + 8MP | 32MP + 8MP Dual Front Camera</td>\n",
       "      <td>48MP + 8MP | 32MP + 8MP Dual Front Camera</td>\n",
       "      <td>16.36 cm (6.44 inch) Full HD+ Display</td>\n",
       "      <td>4115 mAh Battery</td>\n",
       "      <td>-</td>\n",
       "    </tr>\n",
       "    <tr>\n",
       "      <th>7</th>\n",
       "      <td>OnePlus Mobiles</td>\n",
       "      <td>OnePlus Nord CE 2 5G (Gray Mirror, 128 GB)  (8...</td>\n",
       "      <td>OnePlus Nord CE 2 5G (Gray Mirror, 128 GB)  (8...</td>\n",
       "      <td>-</td>\n",
       "      <td>-</td>\n",
       "      <td>-</td>\n",
       "      <td>-</td>\n",
       "      <td>-</td>\n",
       "      <td>-</td>\n",
       "      <td>₹17,999</td>\n",
       "    </tr>\n",
       "    <tr>\n",
       "      <th>8</th>\n",
       "      <td>OnePlus Mobiles</td>\n",
       "      <td>OnePlus Nord CE 2 5G (Gray Mirror, 128 GB)  (6...</td>\n",
       "      <td>OnePlus Nord CE 2 5G (Gray Mirror, 128 GB)  (6...</td>\n",
       "      <td>6 GB RAM | 128 GB ROM</td>\n",
       "      <td>6 GB RAM | 128 GB ROM</td>\n",
       "      <td>64MP Rear Camera | 16MP Front Camera</td>\n",
       "      <td>64MP Rear Camera | 16MP Front Camera</td>\n",
       "      <td>16.33 cm (6.43 inch) Display</td>\n",
       "      <td>4500 mAh Battery</td>\n",
       "      <td>₹19,999</td>\n",
       "    </tr>\n",
       "  </tbody>\n",
       "</table>\n",
       "</div>"
      ],
      "text/plain": [
       "        Brand Name                                    Smartphone Name  \\\n",
       "0                -  OnePlus Nord CE 2 5G (Bahama Blue, 128 GB)  (8...   \n",
       "1  OnePlus Mobiles        OnePlus Nord (Gray Onyx, 64 GB)  (6 GB RAM)   \n",
       "2  OnePlus Mobiles     OnePlus Nord (Blue Marble, 128 GB)  (8 GB RAM)   \n",
       "3  OnePlus Mobiles      OnePlus Nord (Blue Marble, 64 GB)  (6 GB RAM)   \n",
       "4  OnePlus Mobiles    OnePlus Nord (Blue Marble, 256 GB)  (12 GB RAM)   \n",
       "5  OnePlus Mobiles       OnePlus Nord (Gray Onyx, 128 GB)  (8 GB RAM)   \n",
       "6  OnePlus Mobiles      OnePlus Nord (Gray Onyx, 256 GB)  (12 GB RAM)   \n",
       "7  OnePlus Mobiles  OnePlus Nord CE 2 5G (Gray Mirror, 128 GB)  (8...   \n",
       "8  OnePlus Mobiles  OnePlus Nord CE 2 5G (Gray Mirror, 128 GB)  (6...   \n",
       "\n",
       "                                              Colour                     RAM  \\\n",
       "0  OnePlus Nord CE 2 5G (Bahama Blue, 128 GB)  (8...                       -   \n",
       "1        OnePlus Nord (Gray Onyx, 64 GB)  (6 GB RAM)    6 GB RAM | 64 GB ROM   \n",
       "2     OnePlus Nord (Blue Marble, 128 GB)  (8 GB RAM)   8 GB RAM | 128 GB ROM   \n",
       "3      OnePlus Nord (Blue Marble, 64 GB)  (6 GB RAM)    6 GB RAM | 64 GB ROM   \n",
       "4    OnePlus Nord (Blue Marble, 256 GB)  (12 GB RAM)  12 GB RAM | 256 GB ROM   \n",
       "5       OnePlus Nord (Gray Onyx, 128 GB)  (8 GB RAM)   8 GB RAM | 128 GB ROM   \n",
       "6      OnePlus Nord (Gray Onyx, 256 GB)  (12 GB RAM)  12 GB RAM | 256 GB ROM   \n",
       "7  OnePlus Nord CE 2 5G (Gray Mirror, 128 GB)  (8...                       -   \n",
       "8  OnePlus Nord CE 2 5G (Gray Mirror, 128 GB)  (6...   6 GB RAM | 128 GB ROM   \n",
       "\n",
       "                      ROM                             Primary Camera  \\\n",
       "0   8 GB RAM | 128 GB ROM                           64MP Rear Camera   \n",
       "1    6 GB RAM | 64 GB ROM  48MP + 8MP | 32MP + 8MP Dual Front Camera   \n",
       "2   8 GB RAM | 128 GB ROM  48MP + 8MP | 32MP + 8MP Dual Front Camera   \n",
       "3    6 GB RAM | 64 GB ROM  48MP + 8MP | 32MP + 8MP Dual Front Camera   \n",
       "4  12 GB RAM | 256 GB ROM  48MP + 8MP | 32MP + 8MP Dual Front Camera   \n",
       "5   8 GB RAM | 128 GB ROM  48MP + 8MP | 32MP + 8MP Dual Front Camera   \n",
       "6  12 GB RAM | 256 GB ROM  48MP + 8MP | 32MP + 8MP Dual Front Camera   \n",
       "7                       -                                          -   \n",
       "8   6 GB RAM | 128 GB ROM       64MP Rear Camera | 16MP Front Camera   \n",
       "\n",
       "                            Secondary Camera  \\\n",
       "0                           64MP Rear Camera   \n",
       "1  48MP + 8MP | 32MP + 8MP Dual Front Camera   \n",
       "2  48MP + 8MP | 32MP + 8MP Dual Front Camera   \n",
       "3  48MP + 8MP | 32MP + 8MP Dual Front Camera   \n",
       "4  48MP + 8MP | 32MP + 8MP Dual Front Camera   \n",
       "5  48MP + 8MP | 32MP + 8MP Dual Front Camera   \n",
       "6  48MP + 8MP | 32MP + 8MP Dual Front Camera   \n",
       "7                                          -   \n",
       "8       64MP Rear Camera | 16MP Front Camera   \n",
       "\n",
       "                                    Size          Capacity    price  \n",
       "0           16.33 cm (6.43 inch) Display  4500 mAh Battery        -  \n",
       "1  16.36 cm (6.44 inch) Full HD+ Display  4115 mAh Battery        -  \n",
       "2  16.36 cm (6.44 inch) Full HD+ Display  4115 mAh Battery  ₹24,790  \n",
       "3  16.36 cm (6.44 inch) Full HD+ Display  4115 mAh Battery        -  \n",
       "4  16.36 cm (6.44 inch) Full HD+ Display  4115 mAh Battery        -  \n",
       "5  16.36 cm (6.44 inch) Full HD+ Display  4115 mAh Battery        -  \n",
       "6  16.36 cm (6.44 inch) Full HD+ Display  4115 mAh Battery        -  \n",
       "7                                      -                 -  ₹17,999  \n",
       "8           16.33 cm (6.43 inch) Display  4500 mAh Battery  ₹19,999  "
      ]
     },
     "execution_count": 85,
     "metadata": {},
     "output_type": "execute_result"
    }
   ],
   "source": [
    "df=pd.DataFrame({'Brand Name':b_name, 'Smartphone Name':s_name,'Colour':b_colour, 'RAM':b_ram,'ROM':b_rom,'Primary Camera':b_pcamera,\n",
    "               'Secondary Camera':b_scamera, 'Size':b_size,'Capacity':b_capacity, 'price':b_price})\n",
    "\n",
    "df"
   ]
  },
  {
   "cell_type": "code",
   "execution_count": 86,
   "id": "2ef2f25a",
   "metadata": {},
   "outputs": [],
   "source": [
    "df.to_csv('selenium assingment 3.csv')"
   ]
  },
  {
   "cell_type": "code",
   "execution_count": 87,
   "id": "8b10e7c5",
   "metadata": {},
   "outputs": [],
   "source": [
    "driver.close()"
   ]
  },
  {
   "cell_type": "markdown",
   "id": "a6c7c702",
   "metadata": {},
   "source": [
    "# 6 best gaming laptop"
   ]
  },
  {
   "cell_type": "code",
   "execution_count": 101,
   "id": "5e2660b6",
   "metadata": {},
   "outputs": [],
   "source": [
    "driver=webdriver.Chrome()"
   ]
  },
  {
   "cell_type": "code",
   "execution_count": 102,
   "id": "295638e6",
   "metadata": {},
   "outputs": [],
   "source": [
    "driver.get('https://www.digit.in/top-products/best-gaming-laptops-40.html')"
   ]
  },
  {
   "cell_type": "code",
   "execution_count": 103,
   "id": "0028832a",
   "metadata": {},
   "outputs": [],
   "source": [
    "#url to open each data\n",
    "\n",
    "product_open_url = []\n",
    "url=driver.find_elements(By.XPATH,'//h3[@class=\"font130 mt0 mb10 mobilesblockdisplay \"]/a')\n",
    "for i in url:\n",
    "    product_open_url.append(i.get_attribute('href'))\n",
    "    \n"
   ]
  },
  {
   "cell_type": "code",
   "execution_count": 104,
   "id": "59d2d827",
   "metadata": {},
   "outputs": [
    {
     "data": {
      "text/plain": [
       "7"
      ]
     },
     "execution_count": 104,
     "metadata": {},
     "output_type": "execute_result"
    }
   ],
   "source": [
    "len(url)"
   ]
  },
  {
   "cell_type": "code",
   "execution_count": 105,
   "id": "7f31b564",
   "metadata": {},
   "outputs": [
    {
     "data": {
      "text/plain": [
       "[<selenium.webdriver.remote.webelement.WebElement (session=\"220d257100b86c0464de2d08f73737b2\", element=\"D6BFC72E27F625FC435D2BF628A2C128_element_66\")>,\n",
       " <selenium.webdriver.remote.webelement.WebElement (session=\"220d257100b86c0464de2d08f73737b2\", element=\"D6BFC72E27F625FC435D2BF628A2C128_element_67\")>,\n",
       " <selenium.webdriver.remote.webelement.WebElement (session=\"220d257100b86c0464de2d08f73737b2\", element=\"D6BFC72E27F625FC435D2BF628A2C128_element_68\")>,\n",
       " <selenium.webdriver.remote.webelement.WebElement (session=\"220d257100b86c0464de2d08f73737b2\", element=\"D6BFC72E27F625FC435D2BF628A2C128_element_69\")>,\n",
       " <selenium.webdriver.remote.webelement.WebElement (session=\"220d257100b86c0464de2d08f73737b2\", element=\"D6BFC72E27F625FC435D2BF628A2C128_element_70\")>,\n",
       " <selenium.webdriver.remote.webelement.WebElement (session=\"220d257100b86c0464de2d08f73737b2\", element=\"D6BFC72E27F625FC435D2BF628A2C128_element_71\")>,\n",
       " <selenium.webdriver.remote.webelement.WebElement (session=\"220d257100b86c0464de2d08f73737b2\", element=\"D6BFC72E27F625FC435D2BF628A2C128_element_72\")>]"
      ]
     },
     "execution_count": 105,
     "metadata": {},
     "output_type": "execute_result"
    }
   ],
   "source": [
    "url"
   ]
  },
  {
   "cell_type": "code",
   "execution_count": 106,
   "id": "c9e1d7d0",
   "metadata": {},
   "outputs": [],
   "source": [
    "l_name=[]\n",
    "l_description=[]\n",
    "l_specification=[]\n",
    "l_price=[]"
   ]
  },
  {
   "cell_type": "code",
   "execution_count": 107,
   "id": "fd4ff368",
   "metadata": {},
   "outputs": [],
   "source": [
    "#scraping data for laptop name\n",
    "\n",
    "for i in product_open_url:\n",
    "    driver.get(i)\n",
    "    time.sleep(2)\n",
    "    try:\n",
    "        name=driver.find_element(By.XPATH,'/html/body/div[1]/div[3]/div[1]/div/div/div/div/div[2]/div[1]/div[1]/h1')\n",
    "        l_name.append(name.text)\n",
    "    except NoSuchElementException :\n",
    "            l_name.append('-')"
   ]
  },
  {
   "cell_type": "code",
   "execution_count": 108,
   "id": "ab1acbc2",
   "metadata": {},
   "outputs": [
    {
     "data": {
      "text/plain": [
       "7"
      ]
     },
     "execution_count": 108,
     "metadata": {},
     "output_type": "execute_result"
    }
   ],
   "source": [
    "len(l_name)"
   ]
  },
  {
   "cell_type": "code",
   "execution_count": 109,
   "id": "9d476f99",
   "metadata": {},
   "outputs": [
    {
     "data": {
      "text/plain": [
       "['HP Omen 17-Ck2008TX 13th Gen Core I7-13700HX',\n",
       " '-',\n",
       " '-',\n",
       " '-',\n",
       " 'Acer Predator Helios Neo 16 13th Gen Core I7-13700HX (PHN16-71)',\n",
       " 'ASUS ROG Zephyrus G14 Ryzen 9-6900HS (GA402RJZ-L4136WS)',\n",
       " '-']"
      ]
     },
     "execution_count": 109,
     "metadata": {},
     "output_type": "execute_result"
    }
   ],
   "source": [
    "l_name"
   ]
  },
  {
   "cell_type": "code",
   "execution_count": 110,
   "id": "70c42410",
   "metadata": {},
   "outputs": [],
   "source": [
    "#scraping data for specification\n",
    "\n",
    "for i in product_open_url:\n",
    "    driver.get(i)\n",
    "    time.sleep(2)\n",
    "    try:\n",
    "        specification=driver.find_element(By.XPATH,'/html/body/div[2]/div[3]/div[1]/div/div/div/div/div[2]/div[4]/div[4]/div[1]/h4')\n",
    "        l_specification.append(specification.text)\n",
    "    except NoSuchElementException :\n",
    "            l_specification.append('-')"
   ]
  },
  {
   "cell_type": "code",
   "execution_count": 111,
   "id": "6f2a978e",
   "metadata": {},
   "outputs": [
    {
     "data": {
      "text/plain": [
       "7"
      ]
     },
     "execution_count": 111,
     "metadata": {},
     "output_type": "execute_result"
    }
   ],
   "source": [
    "len(l_specification)"
   ]
  },
  {
   "cell_type": "code",
   "execution_count": 112,
   "id": "d78e516d",
   "metadata": {},
   "outputs": [
    {
     "data": {
      "text/plain": [
       "['Videos',\n",
       " 'MSI GT77 Titan 12UHS-054IN 12th Gen Core i9-12900HX Specifications',\n",
       " 'Videos',\n",
       " '-',\n",
       " '-',\n",
       " 'ASUS ROG Zephyrus G14 Ryzen 9-6900HS (GA402RJZ-L4136WS) Specifications',\n",
       " 'MSI Cyborg 15 12th Gen Core i7-12650H (A12VF-205IN) Specifications']"
      ]
     },
     "execution_count": 112,
     "metadata": {},
     "output_type": "execute_result"
    }
   ],
   "source": [
    "l_specification"
   ]
  },
  {
   "cell_type": "code",
   "execution_count": 113,
   "id": "c1c84000",
   "metadata": {},
   "outputs": [],
   "source": [
    "#scraping data for product description\n",
    "\n",
    "for i in product_open_url:\n",
    "    driver.get(i)\n",
    "    time.sleep(2)\n",
    "    try:\n",
    "        description=driver.find_element(By.XPATH,'/html/body/div[2]/div[3]/div[1]/div/div/div/div/div[2]/div[4]/div[1]/div[2]/div/div/div[1]/div[1]')\n",
    "        l_description.append(description.text)\n",
    "    except NoSuchElementException :\n",
    "            l_description.append('-')"
   ]
  },
  {
   "cell_type": "code",
   "execution_count": 114,
   "id": "bbd415a7",
   "metadata": {},
   "outputs": [
    {
     "data": {
      "text/plain": [
       "7"
      ]
     },
     "execution_count": 114,
     "metadata": {},
     "output_type": "execute_result"
    }
   ],
   "source": [
    "len(l_description)"
   ]
  },
  {
   "cell_type": "code",
   "execution_count": 115,
   "id": "633503ac",
   "metadata": {},
   "outputs": [
    {
     "data": {
      "text/plain": [
       "['HP Omen 13th Gen Intel Core i7-13700HX,17.3 inch(43.9cm) QHD Gaming Laptop(16GB RAM/1TB...',\n",
       " '-',\n",
       " '-',\n",
       " '-',\n",
       " '-',\n",
       " '-',\n",
       " '-']"
      ]
     },
     "execution_count": 115,
     "metadata": {},
     "output_type": "execute_result"
    }
   ],
   "source": [
    "l_description"
   ]
  },
  {
   "cell_type": "code",
   "execution_count": 116,
   "id": "9aa746bb",
   "metadata": {},
   "outputs": [],
   "source": [
    "#scraping data for price\n",
    "\n",
    "for i in product_open_url:\n",
    "    driver.get(i)\n",
    "    time.sleep(2)\n",
    "    try:\n",
    "        price=driver.find_element(By.XPATH,'/html/body/div[2]/div[3]/div[1]/div/div/div/div/div[2]/div[1]/div[4]/div[9]/div[1]/div/div[2]/div[3]/div/div[1]')\n",
    "        l_price.append(price.text)\n",
    "    except NoSuchElementException :\n",
    "            l_price.append('-')"
   ]
  },
  {
   "cell_type": "code",
   "execution_count": 117,
   "id": "c3b5b4bc",
   "metadata": {},
   "outputs": [
    {
     "data": {
      "text/plain": [
       "7"
      ]
     },
     "execution_count": 117,
     "metadata": {},
     "output_type": "execute_result"
    }
   ],
   "source": [
    "len(l_price)"
   ]
  },
  {
   "cell_type": "code",
   "execution_count": 118,
   "id": "c55d0193",
   "metadata": {},
   "outputs": [
    {
     "data": {
      "text/plain": [
       "['out of stock',\n",
       " 'out of stock',\n",
       " 'out of stock',\n",
       " 'Rs. 289,990',\n",
       " 'Rs. 154,000',\n",
       " 'out of stock',\n",
       " '-']"
      ]
     },
     "execution_count": 118,
     "metadata": {},
     "output_type": "execute_result"
    }
   ],
   "source": [
    "l_price"
   ]
  },
  {
   "cell_type": "code",
   "execution_count": 119,
   "id": "6e278074",
   "metadata": {},
   "outputs": [
    {
     "data": {
      "text/html": [
       "<div>\n",
       "<style scoped>\n",
       "    .dataframe tbody tr th:only-of-type {\n",
       "        vertical-align: middle;\n",
       "    }\n",
       "\n",
       "    .dataframe tbody tr th {\n",
       "        vertical-align: top;\n",
       "    }\n",
       "\n",
       "    .dataframe thead th {\n",
       "        text-align: right;\n",
       "    }\n",
       "</style>\n",
       "<table border=\"1\" class=\"dataframe\">\n",
       "  <thead>\n",
       "    <tr style=\"text-align: right;\">\n",
       "      <th></th>\n",
       "      <th>Name</th>\n",
       "      <th>Description</th>\n",
       "      <th>Specification</th>\n",
       "      <th>Price</th>\n",
       "    </tr>\n",
       "  </thead>\n",
       "  <tbody>\n",
       "    <tr>\n",
       "      <th>0</th>\n",
       "      <td>HP Omen 17-Ck2008TX 13th Gen Core I7-13700HX</td>\n",
       "      <td>HP Omen 13th Gen Intel Core i7-13700HX,17.3 in...</td>\n",
       "      <td>Videos</td>\n",
       "      <td>out of stock</td>\n",
       "    </tr>\n",
       "    <tr>\n",
       "      <th>1</th>\n",
       "      <td>-</td>\n",
       "      <td>-</td>\n",
       "      <td>MSI GT77 Titan 12UHS-054IN 12th Gen Core i9-12...</td>\n",
       "      <td>out of stock</td>\n",
       "    </tr>\n",
       "    <tr>\n",
       "      <th>2</th>\n",
       "      <td>-</td>\n",
       "      <td>-</td>\n",
       "      <td>Videos</td>\n",
       "      <td>out of stock</td>\n",
       "    </tr>\n",
       "    <tr>\n",
       "      <th>3</th>\n",
       "      <td>-</td>\n",
       "      <td>-</td>\n",
       "      <td>-</td>\n",
       "      <td>Rs. 289,990</td>\n",
       "    </tr>\n",
       "    <tr>\n",
       "      <th>4</th>\n",
       "      <td>Acer Predator Helios Neo 16 13th Gen Core I7-1...</td>\n",
       "      <td>-</td>\n",
       "      <td>-</td>\n",
       "      <td>Rs. 154,000</td>\n",
       "    </tr>\n",
       "    <tr>\n",
       "      <th>5</th>\n",
       "      <td>ASUS ROG Zephyrus G14 Ryzen 9-6900HS (GA402RJZ...</td>\n",
       "      <td>-</td>\n",
       "      <td>ASUS ROG Zephyrus G14 Ryzen 9-6900HS (GA402RJZ...</td>\n",
       "      <td>out of stock</td>\n",
       "    </tr>\n",
       "    <tr>\n",
       "      <th>6</th>\n",
       "      <td>-</td>\n",
       "      <td>-</td>\n",
       "      <td>MSI Cyborg 15 12th Gen Core i7-12650H (A12VF-2...</td>\n",
       "      <td>-</td>\n",
       "    </tr>\n",
       "  </tbody>\n",
       "</table>\n",
       "</div>"
      ],
      "text/plain": [
       "                                                Name  \\\n",
       "0       HP Omen 17-Ck2008TX 13th Gen Core I7-13700HX   \n",
       "1                                                  -   \n",
       "2                                                  -   \n",
       "3                                                  -   \n",
       "4  Acer Predator Helios Neo 16 13th Gen Core I7-1...   \n",
       "5  ASUS ROG Zephyrus G14 Ryzen 9-6900HS (GA402RJZ...   \n",
       "6                                                  -   \n",
       "\n",
       "                                         Description  \\\n",
       "0  HP Omen 13th Gen Intel Core i7-13700HX,17.3 in...   \n",
       "1                                                  -   \n",
       "2                                                  -   \n",
       "3                                                  -   \n",
       "4                                                  -   \n",
       "5                                                  -   \n",
       "6                                                  -   \n",
       "\n",
       "                                       Specification         Price  \n",
       "0                                             Videos  out of stock  \n",
       "1  MSI GT77 Titan 12UHS-054IN 12th Gen Core i9-12...  out of stock  \n",
       "2                                             Videos  out of stock  \n",
       "3                                                  -   Rs. 289,990  \n",
       "4                                                  -   Rs. 154,000  \n",
       "5  ASUS ROG Zephyrus G14 Ryzen 9-6900HS (GA402RJZ...  out of stock  \n",
       "6  MSI Cyborg 15 12th Gen Core i7-12650H (A12VF-2...             -  "
      ]
     },
     "execution_count": 119,
     "metadata": {},
     "output_type": "execute_result"
    }
   ],
   "source": [
    "df=pd.DataFrame({'Name':l_name,'Description':l_description,'Specification':l_specification,'Price':l_price})\n",
    "\n",
    "df"
   ]
  },
  {
   "cell_type": "code",
   "execution_count": 120,
   "id": "7ecfadc7",
   "metadata": {},
   "outputs": [],
   "source": [
    "driver.close()"
   ]
  },
  {
   "cell_type": "markdown",
   "id": "03287ae7",
   "metadata": {},
   "source": [
    "# program for hostel world"
   ]
  },
  {
   "cell_type": "code",
   "execution_count": 38,
   "id": "249eb142",
   "metadata": {},
   "outputs": [],
   "source": [
    "driver=webdriver.Chrome()"
   ]
  },
  {
   "cell_type": "code",
   "execution_count": 39,
   "id": "2c58f66a",
   "metadata": {},
   "outputs": [],
   "source": [
    "driver.get('https://www.hostelworld.com/pwa/wds/s?q=London,%20England&country=London&city=London&type=city&id=3&from=2024-02-18&to=2024-02-21&guests=2&page=1')"
   ]
  },
  {
   "cell_type": "code",
   "execution_count": 40,
   "id": "46fddf1f",
   "metadata": {},
   "outputs": [
    {
     "data": {
      "text/plain": [
       "<selenium.webdriver.chrome.webdriver.WebDriver (session=\"3e88bd4f6b05ba81f9e0d864e50882b6\")>"
      ]
     },
     "execution_count": 40,
     "metadata": {},
     "output_type": "execute_result"
    }
   ],
   "source": [
    "driver"
   ]
  },
  {
   "cell_type": "code",
   "execution_count": 41,
   "id": "7502aac8",
   "metadata": {},
   "outputs": [
    {
     "ename": "WebDriverException",
     "evalue": "Message: disconnected: not connected to DevTools\n  (failed to check if window was closed: disconnected: not connected to DevTools)\n  (Session info: chrome=121.0.6167.185)\nStacktrace:\n\tGetHandleVerifier [0x00007FF752D47012+3522402]\n\t(No symbol) [0x00007FF752968352]\n\t(No symbol) [0x00007FF752815ABB]\n\t(No symbol) [0x00007FF75280271F]\n\t(No symbol) [0x00007FF752802290]\n\t(No symbol) [0x00007FF752817BC1]\n\t(No symbol) [0x00007FF75289B3F7]\n\t(No symbol) [0x00007FF75287EE03]\n\t(No symbol) [0x00007FF75284F4D4]\n\t(No symbol) [0x00007FF7528505F1]\n\tGetHandleVerifier [0x00007FF752D79B9D+3730157]\n\tGetHandleVerifier [0x00007FF752DCF02D+4079485]\n\tGetHandleVerifier [0x00007FF752DC75D3+4048163]\n\tGetHandleVerifier [0x00007FF752A9A649+718233]\n\t(No symbol) [0x00007FF752974A3F]\n\t(No symbol) [0x00007FF75296FA94]\n\t(No symbol) [0x00007FF75296FBC2]\n\t(No symbol) [0x00007FF75295F2E4]\n\tBaseThreadInitThunk [0x00007FFBD8CB257D+29]\n\tRtlUserThreadStart [0x00007FFBD9D2AA58+40]\n",
     "output_type": "error",
     "traceback": [
      "\u001b[1;31m---------------------------------------------------------------------------\u001b[0m",
      "\u001b[1;31mWebDriverException\u001b[0m                        Traceback (most recent call last)",
      "Cell \u001b[1;32mIn[41], line 5\u001b[0m\n\u001b[0;32m      3\u001b[0m end\u001b[38;5;241m=\u001b[39m\u001b[38;5;241m3\u001b[39m\n\u001b[0;32m      4\u001b[0m \u001b[38;5;28;01mfor\u001b[39;00m page \u001b[38;5;129;01min\u001b[39;00m \u001b[38;5;28mrange\u001b[39m(start,end):\n\u001b[1;32m----> 5\u001b[0m     url\u001b[38;5;241m=\u001b[39m\u001b[43mdriver\u001b[49m\u001b[38;5;241;43m.\u001b[39;49m\u001b[43mfind_elements\u001b[49m\u001b[43m(\u001b[49m\u001b[43mBy\u001b[49m\u001b[38;5;241;43m.\u001b[39;49m\u001b[43mXPATH\u001b[49m\u001b[43m,\u001b[49m\u001b[38;5;124;43m'\u001b[39;49m\u001b[38;5;124;43m//a[@class=\u001b[39;49m\u001b[38;5;124;43m\"\u001b[39;49m\u001b[38;5;124;43mproperty-card-container\u001b[39;49m\u001b[38;5;124;43m\"\u001b[39;49m\u001b[38;5;124;43m]\u001b[39;49m\u001b[38;5;124;43m'\u001b[39;49m\u001b[43m)\u001b[49m\n\u001b[0;32m      6\u001b[0m     \u001b[38;5;28;01mfor\u001b[39;00m i \u001b[38;5;129;01min\u001b[39;00m url:\n\u001b[0;32m      7\u001b[0m         product_open_url\u001b[38;5;241m.\u001b[39mappend(i\u001b[38;5;241m.\u001b[39mget_attribute(\u001b[38;5;124m'\u001b[39m\u001b[38;5;124mhref\u001b[39m\u001b[38;5;124m'\u001b[39m))\n",
      "File \u001b[1;32m~\\anaconda3\\lib\\site-packages\\selenium\\webdriver\\remote\\webdriver.py:771\u001b[0m, in \u001b[0;36mWebDriver.find_elements\u001b[1;34m(self, by, value)\u001b[0m\n\u001b[0;32m    767\u001b[0m     value \u001b[38;5;241m=\u001b[39m \u001b[38;5;124mf\u001b[39m\u001b[38;5;124m'\u001b[39m\u001b[38;5;124m[name=\u001b[39m\u001b[38;5;124m\"\u001b[39m\u001b[38;5;132;01m{\u001b[39;00mvalue\u001b[38;5;132;01m}\u001b[39;00m\u001b[38;5;124m\"\u001b[39m\u001b[38;5;124m]\u001b[39m\u001b[38;5;124m'\u001b[39m\n\u001b[0;32m    769\u001b[0m \u001b[38;5;66;03m# Return empty list if driver returns null\u001b[39;00m\n\u001b[0;32m    770\u001b[0m \u001b[38;5;66;03m# See https://github.com/SeleniumHQ/selenium/issues/4555\u001b[39;00m\n\u001b[1;32m--> 771\u001b[0m \u001b[38;5;28;01mreturn\u001b[39;00m \u001b[38;5;28;43mself\u001b[39;49m\u001b[38;5;241;43m.\u001b[39;49m\u001b[43mexecute\u001b[49m\u001b[43m(\u001b[49m\u001b[43mCommand\u001b[49m\u001b[38;5;241;43m.\u001b[39;49m\u001b[43mFIND_ELEMENTS\u001b[49m\u001b[43m,\u001b[49m\u001b[43m \u001b[49m\u001b[43m{\u001b[49m\u001b[38;5;124;43m\"\u001b[39;49m\u001b[38;5;124;43musing\u001b[39;49m\u001b[38;5;124;43m\"\u001b[39;49m\u001b[43m:\u001b[49m\u001b[43m \u001b[49m\u001b[43mby\u001b[49m\u001b[43m,\u001b[49m\u001b[43m \u001b[49m\u001b[38;5;124;43m\"\u001b[39;49m\u001b[38;5;124;43mvalue\u001b[39;49m\u001b[38;5;124;43m\"\u001b[39;49m\u001b[43m:\u001b[49m\u001b[43m \u001b[49m\u001b[43mvalue\u001b[49m\u001b[43m}\u001b[49m\u001b[43m)\u001b[49m[\u001b[38;5;124m\"\u001b[39m\u001b[38;5;124mvalue\u001b[39m\u001b[38;5;124m\"\u001b[39m] \u001b[38;5;129;01mor\u001b[39;00m []\n",
      "File \u001b[1;32m~\\anaconda3\\lib\\site-packages\\selenium\\webdriver\\remote\\webdriver.py:347\u001b[0m, in \u001b[0;36mWebDriver.execute\u001b[1;34m(self, driver_command, params)\u001b[0m\n\u001b[0;32m    345\u001b[0m response \u001b[38;5;241m=\u001b[39m \u001b[38;5;28mself\u001b[39m\u001b[38;5;241m.\u001b[39mcommand_executor\u001b[38;5;241m.\u001b[39mexecute(driver_command, params)\n\u001b[0;32m    346\u001b[0m \u001b[38;5;28;01mif\u001b[39;00m response:\n\u001b[1;32m--> 347\u001b[0m     \u001b[38;5;28;43mself\u001b[39;49m\u001b[38;5;241;43m.\u001b[39;49m\u001b[43merror_handler\u001b[49m\u001b[38;5;241;43m.\u001b[39;49m\u001b[43mcheck_response\u001b[49m\u001b[43m(\u001b[49m\u001b[43mresponse\u001b[49m\u001b[43m)\u001b[49m\n\u001b[0;32m    348\u001b[0m     response[\u001b[38;5;124m\"\u001b[39m\u001b[38;5;124mvalue\u001b[39m\u001b[38;5;124m\"\u001b[39m] \u001b[38;5;241m=\u001b[39m \u001b[38;5;28mself\u001b[39m\u001b[38;5;241m.\u001b[39m_unwrap_value(response\u001b[38;5;241m.\u001b[39mget(\u001b[38;5;124m\"\u001b[39m\u001b[38;5;124mvalue\u001b[39m\u001b[38;5;124m\"\u001b[39m, \u001b[38;5;28;01mNone\u001b[39;00m))\n\u001b[0;32m    349\u001b[0m     \u001b[38;5;28;01mreturn\u001b[39;00m response\n",
      "File \u001b[1;32m~\\anaconda3\\lib\\site-packages\\selenium\\webdriver\\remote\\errorhandler.py:229\u001b[0m, in \u001b[0;36mErrorHandler.check_response\u001b[1;34m(self, response)\u001b[0m\n\u001b[0;32m    227\u001b[0m         alert_text \u001b[38;5;241m=\u001b[39m value[\u001b[38;5;124m\"\u001b[39m\u001b[38;5;124malert\u001b[39m\u001b[38;5;124m\"\u001b[39m]\u001b[38;5;241m.\u001b[39mget(\u001b[38;5;124m\"\u001b[39m\u001b[38;5;124mtext\u001b[39m\u001b[38;5;124m\"\u001b[39m)\n\u001b[0;32m    228\u001b[0m     \u001b[38;5;28;01mraise\u001b[39;00m exception_class(message, screen, stacktrace, alert_text)  \u001b[38;5;66;03m# type: ignore[call-arg]  # mypy is not smart enough here\u001b[39;00m\n\u001b[1;32m--> 229\u001b[0m \u001b[38;5;28;01mraise\u001b[39;00m exception_class(message, screen, stacktrace)\n",
      "\u001b[1;31mWebDriverException\u001b[0m: Message: disconnected: not connected to DevTools\n  (failed to check if window was closed: disconnected: not connected to DevTools)\n  (Session info: chrome=121.0.6167.185)\nStacktrace:\n\tGetHandleVerifier [0x00007FF752D47012+3522402]\n\t(No symbol) [0x00007FF752968352]\n\t(No symbol) [0x00007FF752815ABB]\n\t(No symbol) [0x00007FF75280271F]\n\t(No symbol) [0x00007FF752802290]\n\t(No symbol) [0x00007FF752817BC1]\n\t(No symbol) [0x00007FF75289B3F7]\n\t(No symbol) [0x00007FF75287EE03]\n\t(No symbol) [0x00007FF75284F4D4]\n\t(No symbol) [0x00007FF7528505F1]\n\tGetHandleVerifier [0x00007FF752D79B9D+3730157]\n\tGetHandleVerifier [0x00007FF752DCF02D+4079485]\n\tGetHandleVerifier [0x00007FF752DC75D3+4048163]\n\tGetHandleVerifier [0x00007FF752A9A649+718233]\n\t(No symbol) [0x00007FF752974A3F]\n\t(No symbol) [0x00007FF75296FA94]\n\t(No symbol) [0x00007FF75296FBC2]\n\t(No symbol) [0x00007FF75295F2E4]\n\tBaseThreadInitThunk [0x00007FFBD8CB257D+29]\n\tRtlUserThreadStart [0x00007FFBD9D2AA58+40]\n"
     ]
    }
   ],
   "source": [
    "product_open_url = []\n",
    "start=0\n",
    "end=3\n",
    "for page in range(start,end):\n",
    "    url=driver.find_elements(By.XPATH,'')\n",
    "    for i in url:\n",
    "        product_open_url.append(i.get_attribute('href'))\n",
    "    next_button=driver.find_element(By.XPATH,'/html/body/div[3]/div/div/div[2]/div[2]/div[1]/div/div/div[5]/div/button[2]/div')"
   ]
  },
  {
   "cell_type": "code",
   "execution_count": null,
   "id": "88ad6390",
   "metadata": {},
   "outputs": [],
   "source": []
  }
 ],
 "metadata": {
  "kernelspec": {
   "display_name": "Python 3 (ipykernel)",
   "language": "python",
   "name": "python3"
  },
  "language_info": {
   "codemirror_mode": {
    "name": "ipython",
    "version": 3
   },
   "file_extension": ".py",
   "mimetype": "text/x-python",
   "name": "python",
   "nbconvert_exporter": "python",
   "pygments_lexer": "ipython3",
   "version": "3.10.9"
  }
 },
 "nbformat": 4,
 "nbformat_minor": 5
}
