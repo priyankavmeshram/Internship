{
 "cells": [
  {
   "cell_type": "code",
   "execution_count": 48,
   "id": "4116985c",
   "metadata": {},
   "outputs": [],
   "source": [
    "from selenium import webdriver\n",
    "import time\n",
    "import warnings\n",
    "warnings.filterwarnings('ignore')\n",
    "from selenium.webdriver.common.by import By\n",
    "from bs4 import BeautifulSoup\n",
    "import requests\n",
    "from selenium.common.exceptions import StaleElementReferenceException, NoSuchElementException\n"
   ]
  },
  {
   "cell_type": "markdown",
   "id": "231921bd",
   "metadata": {},
   "source": [
    "# Q2"
   ]
  },
  {
   "cell_type": "code",
   "execution_count": 2,
   "id": "587a73da",
   "metadata": {},
   "outputs": [],
   "source": [
    "driver=webdriver.Chrome()"
   ]
  },
  {
   "cell_type": "code",
   "execution_count": 3,
   "id": "334753bc",
   "metadata": {},
   "outputs": [],
   "source": [
    "driver.get('https://www.bcci.tv/')"
   ]
  },
  {
   "cell_type": "code",
   "execution_count": 4,
   "id": "f213ffe3",
   "metadata": {},
   "outputs": [],
   "source": [
    "choice=driver.find_elements(By.XPATH,'/html/body/header/div[3]/div[2]/ul/div[1]/a[2]')"
   ]
  },
  {
   "cell_type": "code",
   "execution_count": 5,
   "id": "c399a03e",
   "metadata": {},
   "outputs": [],
   "source": [
    "#scrapping data for series name\n",
    "\n",
    "fix_series=[]\n",
    "series_tags=driver.find_elements(By.XPATH,'//h5[@class=\"match-tournament-name ng-binding\"]')\n",
    "for i in series_tags:\n",
    "    series=i.text\n",
    "    fix_series.append(series)\n"
   ]
  },
  {
   "cell_type": "code",
   "execution_count": 6,
   "id": "569e4638",
   "metadata": {},
   "outputs": [
    {
     "data": {
      "text/plain": [
       "6"
      ]
     },
     "execution_count": 6,
     "metadata": {},
     "output_type": "execute_result"
    }
   ],
   "source": [
    "len(fix_series)"
   ]
  },
  {
   "cell_type": "code",
   "execution_count": 7,
   "id": "170f0263",
   "metadata": {},
   "outputs": [
    {
     "data": {
      "text/plain": [
       "['ENGLAND TOUR OF INDIA 2023-24',\n",
       " 'INDIA TOUR OF ZIMBABWE 2024',\n",
       " 'INDIA TOUR OF ZIMBABWE 2024',\n",
       " 'INDIA TOUR OF ZIMBABWE 2024',\n",
       " 'INDIA TOUR OF ZIMBABWE 2024',\n",
       " 'INDIA TOUR OF ZIMBABWE 2024']"
      ]
     },
     "execution_count": 7,
     "metadata": {},
     "output_type": "execute_result"
    }
   ],
   "source": [
    "fix_series"
   ]
  },
  {
   "cell_type": "code",
   "execution_count": 8,
   "id": "f857c8b6",
   "metadata": {},
   "outputs": [],
   "source": [
    "#scraping data for stadium name \n",
    "\n",
    "fix_sname=[]\n",
    "\n",
    "sname_tags=driver.find_elements(By.XPATH,'//span[@class=\"ng-binding ng-scope\"]')\n",
    "for i in sname_tags:\n",
    "    sname=i.text\n",
    "    fix_sname.append(sname)"
   ]
  },
  {
   "cell_type": "code",
   "execution_count": 9,
   "id": "a99f65d1",
   "metadata": {},
   "outputs": [
    {
     "data": {
      "text/plain": [
       "6"
      ]
     },
     "execution_count": 9,
     "metadata": {},
     "output_type": "execute_result"
    }
   ],
   "source": [
    "len(fix_sname)"
   ]
  },
  {
   "cell_type": "code",
   "execution_count": 10,
   "id": "20ce738b",
   "metadata": {},
   "outputs": [
    {
     "data": {
      "text/plain": [
       "['Himachal Pradesh Cricket Association Stadium,',\n",
       " 'Harare Sports Club,',\n",
       " 'Harare Sports Club,',\n",
       " 'Harare Sports Club,',\n",
       " 'Harare Sports Club,',\n",
       " 'Harare Sports Club,']"
      ]
     },
     "execution_count": 10,
     "metadata": {},
     "output_type": "execute_result"
    }
   ],
   "source": [
    "fix_sname"
   ]
  },
  {
   "cell_type": "code",
   "execution_count": 11,
   "id": "eb1f44fa",
   "metadata": {},
   "outputs": [],
   "source": [
    "#scraping data for place name\n",
    "\n",
    "fix_place=[]\n",
    "\n",
    "place_tags=driver.find_elements(By.XPATH,'//span[@class=\"ng-binding\"]')\n",
    "for i in place_tags:\n",
    "    place=i.text\n",
    "    fix_place.append(place)\n"
   ]
  },
  {
   "cell_type": "code",
   "execution_count": 12,
   "id": "73e522d7",
   "metadata": {},
   "outputs": [
    {
     "data": {
      "text/plain": [
       "6"
      ]
     },
     "execution_count": 12,
     "metadata": {},
     "output_type": "execute_result"
    }
   ],
   "source": [
    "len(fix_place)"
   ]
  },
  {
   "cell_type": "code",
   "execution_count": 13,
   "id": "45ccd04b",
   "metadata": {},
   "outputs": [
    {
     "data": {
      "text/plain": [
       "['Dharamsala', 'Harare', 'Harare', 'Harare', 'Harare', 'Harare']"
      ]
     },
     "execution_count": 13,
     "metadata": {},
     "output_type": "execute_result"
    }
   ],
   "source": [
    "fix_place"
   ]
  },
  {
   "cell_type": "code",
   "execution_count": 14,
   "id": "df2200a5",
   "metadata": {},
   "outputs": [],
   "source": [
    "#scraping data for time\n",
    "\n",
    "fix_time=[]\n",
    "\n",
    "time_tags=driver.find_elements(By.XPATH,'//div[@class=\"match-time no-margin ng-binding\"]')\n",
    "for i in time_tags:\n",
    "    time=i.text\n",
    "    fix_time.append(time)\n"
   ]
  },
  {
   "cell_type": "code",
   "execution_count": 15,
   "id": "ba45a6e8",
   "metadata": {},
   "outputs": [
    {
     "data": {
      "text/plain": [
       "6"
      ]
     },
     "execution_count": 15,
     "metadata": {},
     "output_type": "execute_result"
    }
   ],
   "source": [
    "len(fix_time)"
   ]
  },
  {
   "cell_type": "code",
   "execution_count": 16,
   "id": "1cee3f80",
   "metadata": {},
   "outputs": [
    {
     "data": {
      "text/plain": [
       "['9:30 AM IST',\n",
       " '8:00 PM IST',\n",
       " '8:00 PM IST',\n",
       " '8:00 PM IST',\n",
       " '8:00 PM IST',\n",
       " '8:00 PM IST']"
      ]
     },
     "execution_count": 16,
     "metadata": {},
     "output_type": "execute_result"
    }
   ],
   "source": [
    "fix_time"
   ]
  },
  {
   "cell_type": "code",
   "execution_count": 17,
   "id": "2bcc81cb",
   "metadata": {},
   "outputs": [],
   "source": [
    "# scraping data for date\n",
    "\n",
    "fix_date=[]\n",
    "\n",
    "date_tags=driver.find_elements(By.XPATH,'//div[@class=\"match-dates ng-binding\"]')\n",
    "for i in date_tags:\n",
    "    date=i.text\n",
    "    fix_date.append(date)"
   ]
  },
  {
   "cell_type": "code",
   "execution_count": 18,
   "id": "cf757294",
   "metadata": {},
   "outputs": [
    {
     "data": {
      "text/plain": [
       "6"
      ]
     },
     "execution_count": 18,
     "metadata": {},
     "output_type": "execute_result"
    }
   ],
   "source": [
    "len(fix_date)"
   ]
  },
  {
   "cell_type": "code",
   "execution_count": 19,
   "id": "78a19fbe",
   "metadata": {},
   "outputs": [
    {
     "data": {
      "text/plain": [
       "['7 MARCH, 2024',\n",
       " '6 JULY, 2024',\n",
       " '7 JULY, 2024',\n",
       " '10 JULY, 2024',\n",
       " '13 JULY, 2024',\n",
       " '14 JULY, 2024']"
      ]
     },
     "execution_count": 19,
     "metadata": {},
     "output_type": "execute_result"
    }
   ],
   "source": [
    "fix_date"
   ]
  },
  {
   "cell_type": "code",
   "execution_count": 20,
   "id": "d9e6a1c7",
   "metadata": {},
   "outputs": [],
   "source": [
    "import pandas as pd"
   ]
  },
  {
   "cell_type": "code",
   "execution_count": 21,
   "id": "4033a9ef",
   "metadata": {},
   "outputs": [],
   "source": [
    "df= pd.DataFrame({'Series Name':fix_series, 'Stadium_Name':fix_sname, 'City':fix_place,\n",
    "                 'Time':fix_time, 'Date':fix_date})"
   ]
  },
  {
   "cell_type": "code",
   "execution_count": 22,
   "id": "042c67ba",
   "metadata": {},
   "outputs": [
    {
     "data": {
      "text/html": [
       "<div>\n",
       "<style scoped>\n",
       "    .dataframe tbody tr th:only-of-type {\n",
       "        vertical-align: middle;\n",
       "    }\n",
       "\n",
       "    .dataframe tbody tr th {\n",
       "        vertical-align: top;\n",
       "    }\n",
       "\n",
       "    .dataframe thead th {\n",
       "        text-align: right;\n",
       "    }\n",
       "</style>\n",
       "<table border=\"1\" class=\"dataframe\">\n",
       "  <thead>\n",
       "    <tr style=\"text-align: right;\">\n",
       "      <th></th>\n",
       "      <th>Series Name</th>\n",
       "      <th>Stadium_Name</th>\n",
       "      <th>City</th>\n",
       "      <th>Time</th>\n",
       "      <th>Date</th>\n",
       "    </tr>\n",
       "  </thead>\n",
       "  <tbody>\n",
       "    <tr>\n",
       "      <th>0</th>\n",
       "      <td>ENGLAND TOUR OF INDIA 2023-24</td>\n",
       "      <td>Himachal Pradesh Cricket Association Stadium,</td>\n",
       "      <td>Dharamsala</td>\n",
       "      <td>9:30 AM IST</td>\n",
       "      <td>7 MARCH, 2024</td>\n",
       "    </tr>\n",
       "    <tr>\n",
       "      <th>1</th>\n",
       "      <td>INDIA TOUR OF ZIMBABWE 2024</td>\n",
       "      <td>Harare Sports Club,</td>\n",
       "      <td>Harare</td>\n",
       "      <td>8:00 PM IST</td>\n",
       "      <td>6 JULY, 2024</td>\n",
       "    </tr>\n",
       "    <tr>\n",
       "      <th>2</th>\n",
       "      <td>INDIA TOUR OF ZIMBABWE 2024</td>\n",
       "      <td>Harare Sports Club,</td>\n",
       "      <td>Harare</td>\n",
       "      <td>8:00 PM IST</td>\n",
       "      <td>7 JULY, 2024</td>\n",
       "    </tr>\n",
       "    <tr>\n",
       "      <th>3</th>\n",
       "      <td>INDIA TOUR OF ZIMBABWE 2024</td>\n",
       "      <td>Harare Sports Club,</td>\n",
       "      <td>Harare</td>\n",
       "      <td>8:00 PM IST</td>\n",
       "      <td>10 JULY, 2024</td>\n",
       "    </tr>\n",
       "    <tr>\n",
       "      <th>4</th>\n",
       "      <td>INDIA TOUR OF ZIMBABWE 2024</td>\n",
       "      <td>Harare Sports Club,</td>\n",
       "      <td>Harare</td>\n",
       "      <td>8:00 PM IST</td>\n",
       "      <td>13 JULY, 2024</td>\n",
       "    </tr>\n",
       "    <tr>\n",
       "      <th>5</th>\n",
       "      <td>INDIA TOUR OF ZIMBABWE 2024</td>\n",
       "      <td>Harare Sports Club,</td>\n",
       "      <td>Harare</td>\n",
       "      <td>8:00 PM IST</td>\n",
       "      <td>14 JULY, 2024</td>\n",
       "    </tr>\n",
       "  </tbody>\n",
       "</table>\n",
       "</div>"
      ],
      "text/plain": [
       "                     Series Name  \\\n",
       "0  ENGLAND TOUR OF INDIA 2023-24   \n",
       "1    INDIA TOUR OF ZIMBABWE 2024   \n",
       "2    INDIA TOUR OF ZIMBABWE 2024   \n",
       "3    INDIA TOUR OF ZIMBABWE 2024   \n",
       "4    INDIA TOUR OF ZIMBABWE 2024   \n",
       "5    INDIA TOUR OF ZIMBABWE 2024   \n",
       "\n",
       "                                    Stadium_Name        City         Time  \\\n",
       "0  Himachal Pradesh Cricket Association Stadium,  Dharamsala  9:30 AM IST   \n",
       "1                            Harare Sports Club,      Harare  8:00 PM IST   \n",
       "2                            Harare Sports Club,      Harare  8:00 PM IST   \n",
       "3                            Harare Sports Club,      Harare  8:00 PM IST   \n",
       "4                            Harare Sports Club,      Harare  8:00 PM IST   \n",
       "5                            Harare Sports Club,      Harare  8:00 PM IST   \n",
       "\n",
       "            Date  \n",
       "0  7 MARCH, 2024  \n",
       "1   6 JULY, 2024  \n",
       "2   7 JULY, 2024  \n",
       "3  10 JULY, 2024  \n",
       "4  13 JULY, 2024  \n",
       "5  14 JULY, 2024  "
      ]
     },
     "execution_count": 22,
     "metadata": {},
     "output_type": "execute_result"
    }
   ],
   "source": [
    "df"
   ]
  },
  {
   "cell_type": "code",
   "execution_count": 23,
   "id": "540311af",
   "metadata": {},
   "outputs": [],
   "source": [
    "driver.close()"
   ]
  },
  {
   "cell_type": "code",
   "execution_count": 24,
   "id": "41a6e462",
   "metadata": {},
   "outputs": [],
   "source": [
    "driver=webdriver.Chrome()"
   ]
  },
  {
   "cell_type": "code",
   "execution_count": 25,
   "id": "54ad29a0",
   "metadata": {},
   "outputs": [],
   "source": [
    "driver.get('http://statisticstimes.com/ ')"
   ]
  },
  {
   "cell_type": "code",
   "execution_count": 26,
   "id": "9e380c2f",
   "metadata": {},
   "outputs": [],
   "source": [
    "search=driver.find_elements(By.XPATH,'/html/body/div[2]/div[1]/div[2]/div[2]/button')\n"
   ]
  },
  {
   "cell_type": "code",
   "execution_count": 27,
   "id": "6281d932",
   "metadata": {},
   "outputs": [],
   "source": [
    "#scraping data for rank\n",
    "s_rank=[]\n",
    "\n",
    "rank_tags=driver.find_elements(By.XPATH,'//td[@class=\"data1\"]')\n",
    "for i in rank_tags:\n",
    "    rank=i.text\n",
    "    s_rank.append(rank)\n",
    "    \n",
    "    "
   ]
  },
  {
   "cell_type": "code",
   "execution_count": 28,
   "id": "2c5c6b5a",
   "metadata": {},
   "outputs": [
    {
     "data": {
      "text/plain": [
       "68"
      ]
     },
     "execution_count": 28,
     "metadata": {},
     "output_type": "execute_result"
    }
   ],
   "source": [
    "len(s_rank)"
   ]
  },
  {
   "cell_type": "code",
   "execution_count": 29,
   "id": "03a87ad0",
   "metadata": {},
   "outputs": [
    {
     "data": {
      "text/plain": [
       "['1',\n",
       " '2',\n",
       " '3',\n",
       " '4',\n",
       " '5',\n",
       " '6',\n",
       " '7',\n",
       " '8',\n",
       " '9',\n",
       " '10',\n",
       " '11',\n",
       " '12',\n",
       " '13',\n",
       " '14',\n",
       " '15',\n",
       " '16',\n",
       " '17',\n",
       " '18',\n",
       " '19',\n",
       " '20',\n",
       " '21',\n",
       " '22',\n",
       " '23',\n",
       " '24',\n",
       " '25',\n",
       " '26',\n",
       " '27',\n",
       " '28',\n",
       " '29',\n",
       " '30',\n",
       " '31',\n",
       " '32',\n",
       " '33',\n",
       " '',\n",
       " '1',\n",
       " '2',\n",
       " '3',\n",
       " '4',\n",
       " '5',\n",
       " '6',\n",
       " '7',\n",
       " '8',\n",
       " '9',\n",
       " '10',\n",
       " '11',\n",
       " '12',\n",
       " '13',\n",
       " '14',\n",
       " '15',\n",
       " '16',\n",
       " '17',\n",
       " '18',\n",
       " '19',\n",
       " '20',\n",
       " '21',\n",
       " '22',\n",
       " '23',\n",
       " '24',\n",
       " '25',\n",
       " '26',\n",
       " '27',\n",
       " '28',\n",
       " '29',\n",
       " '30',\n",
       " '31',\n",
       " '32',\n",
       " '33',\n",
       " '']"
      ]
     },
     "execution_count": 29,
     "metadata": {},
     "output_type": "execute_result"
    }
   ],
   "source": [
    "s_rank"
   ]
  },
  {
   "cell_type": "code",
   "execution_count": 30,
   "id": "08cd1eba",
   "metadata": {},
   "outputs": [],
   "source": [
    "# scraping data for state name\n",
    "\n",
    "s_name=[]\n",
    "\n",
    "name_tags=driver.find_elements(By.XPATH,'//td[@class=\"name\"]')\n",
    "for i in name_tags:\n",
    "    name=i.text\n",
    "    s_name.append(name)"
   ]
  },
  {
   "cell_type": "code",
   "execution_count": 31,
   "id": "4fb590de",
   "metadata": {},
   "outputs": [
    {
     "data": {
      "text/plain": [
       "68"
      ]
     },
     "execution_count": 31,
     "metadata": {},
     "output_type": "execute_result"
    }
   ],
   "source": [
    "len(s_name)"
   ]
  },
  {
   "cell_type": "code",
   "execution_count": 32,
   "id": "1a3cd491",
   "metadata": {},
   "outputs": [
    {
     "data": {
      "text/plain": [
       "['Maharashtra',\n",
       " 'Tamil Nadu',\n",
       " 'Uttar Pradesh',\n",
       " 'Karnataka',\n",
       " 'Gujarat',\n",
       " 'West Bengal',\n",
       " 'Rajasthan',\n",
       " 'Madhya Pradesh',\n",
       " 'Andhra Pradesh',\n",
       " 'Telangana',\n",
       " 'Kerala',\n",
       " 'Delhi',\n",
       " 'Haryana',\n",
       " 'Odisha',\n",
       " 'Bihar',\n",
       " 'Punjab',\n",
       " 'Assam',\n",
       " 'Chhattisgarh',\n",
       " 'Jharkhand',\n",
       " 'Uttarakhand',\n",
       " 'Jammu & Kashmir-UT',\n",
       " 'Himachal Pradesh',\n",
       " 'Goa',\n",
       " 'Tripura',\n",
       " 'Chandigarh',\n",
       " 'Puducherry',\n",
       " 'Meghalaya',\n",
       " 'Sikkim',\n",
       " 'Manipur',\n",
       " 'Arunachal Pradesh',\n",
       " 'Nagaland',\n",
       " 'Mizoram',\n",
       " 'Andaman & Nicobar Islands',\n",
       " 'India',\n",
       " 'Maharashtra',\n",
       " 'Tamil Nadu',\n",
       " 'Karnataka',\n",
       " 'Uttar Pradesh',\n",
       " 'Gujarat',\n",
       " 'West Bengal',\n",
       " 'Rajasthan',\n",
       " 'Madhya Pradesh',\n",
       " 'Telangana',\n",
       " 'Andhra Pradesh',\n",
       " 'Kerala',\n",
       " 'Delhi',\n",
       " 'Haryana',\n",
       " 'Bihar',\n",
       " 'Odisha',\n",
       " 'Punjab',\n",
       " 'Assam',\n",
       " 'Chhattisgarh',\n",
       " 'Jharkhand',\n",
       " 'Uttarakhand',\n",
       " 'Jammu & Kashmir-UT',\n",
       " 'Himachal Pradesh',\n",
       " 'Goa',\n",
       " 'Tripura',\n",
       " 'Chandigarh',\n",
       " 'Puducherry',\n",
       " 'Meghalaya',\n",
       " 'Manipur',\n",
       " 'Arunachal Pradesh',\n",
       " 'Sikkim',\n",
       " 'Nagaland',\n",
       " 'Mizoram',\n",
       " 'Andaman & Nicobar Islands',\n",
       " 'India']"
      ]
     },
     "execution_count": 32,
     "metadata": {},
     "output_type": "execute_result"
    }
   ],
   "source": [
    "s_name"
   ]
  },
  {
   "cell_type": "code",
   "execution_count": 33,
   "id": "6548e581",
   "metadata": {},
   "outputs": [],
   "source": [
    "# scraping data for gsdp 21-22\n",
    "\n",
    "s_gdp21=[]\n",
    "\n",
    "gdp21_tags=driver.find_elements(By.XPATH,'//td[@class=\"data sorting_1\"]')\n",
    "for i in gdp21_tags:\n",
    "    gdp21=i.text\n",
    "    s_gdp21.append(gdp21)"
   ]
  },
  {
   "cell_type": "code",
   "execution_count": 34,
   "id": "c638fd09",
   "metadata": {},
   "outputs": [
    {
     "data": {
      "text/plain": [
       "66"
      ]
     },
     "execution_count": 34,
     "metadata": {},
     "output_type": "execute_result"
    }
   ],
   "source": [
    "len(s_gdp21)"
   ]
  },
  {
   "cell_type": "code",
   "execution_count": 35,
   "id": "bd4f9080",
   "metadata": {},
   "outputs": [
    {
     "data": {
      "text/plain": [
       "['3,108,022',\n",
       " '2,071,286',\n",
       " '1,974,532',\n",
       " '1,962,725',\n",
       " '1,937,066',\n",
       " '1,363,926',\n",
       " '1,218,193',\n",
       " '1,136,137',\n",
       " '1,133,837',\n",
       " '1,128,907',\n",
       " '932,470',\n",
       " '904,642',\n",
       " '870,665',\n",
       " '670,881',\n",
       " '650,302',\n",
       " '614,227',\n",
       " '412,612',\n",
       " '406,416',\n",
       " '358,863',\n",
       " '272,159',\n",
       " '199,917',\n",
       " '176,269',\n",
       " '82,604',\n",
       " '62,550',\n",
       " '45,635',\n",
       " '44,238',\n",
       " '38,785',\n",
       " '37,557',\n",
       " '36,594',\n",
       " '35,124',\n",
       " '31,913',\n",
       " '27,824',\n",
       " '10,371',\n",
       " '2,690,525',\n",
       " '1,854,109',\n",
       " '1,782,121',\n",
       " '1,714,265',\n",
       " '1,700,504',\n",
       " '1,228,065',\n",
       " '1,084,845',\n",
       " '1,034,988',\n",
       " '1,024,205',\n",
       " '1,006,285',\n",
       " '822,970',\n",
       " '810,260',\n",
       " '779,197',\n",
       " '589,712',\n",
       " '587,900',\n",
       " '537,132',\n",
       " '363,161',\n",
       " '358,407',\n",
       " '325,830',\n",
       " '242,728',\n",
       " '162,644',\n",
       " '149,242',\n",
       " '73,973',\n",
       " '56,226',\n",
       " '40,573',\n",
       " '40,039',\n",
       " '34,441',\n",
       " '32,874',\n",
       " '31,669',\n",
       " '31,519',\n",
       " '27,859',\n",
       " '24,293',\n",
       " '9,209']"
      ]
     },
     "execution_count": 35,
     "metadata": {},
     "output_type": "execute_result"
    }
   ],
   "source": [
    "s_gdp21"
   ]
  },
  {
   "cell_type": "code",
   "execution_count": 39,
   "id": "2fd3c9bc",
   "metadata": {},
   "outputs": [
    {
     "ename": "TypeError",
     "evalue": "'tuple' object is not callable",
     "output_type": "error",
     "traceback": [
      "\u001b[1;31m---------------------------------------------------------------------------\u001b[0m",
      "\u001b[1;31mTypeError\u001b[0m                                 Traceback (most recent call last)",
      "Cell \u001b[1;32mIn[39], line 5\u001b[0m\n\u001b[0;32m      1\u001b[0m \u001b[38;5;66;03m# scraping data for gsdp 22-23\u001b[39;00m\n\u001b[0;32m      3\u001b[0m s_gdp22\u001b[38;5;241m=\u001b[39m[]\n\u001b[1;32m----> 5\u001b[0m gdp22_tags\u001b[38;5;241m=\u001b[39m\u001b[43mdriver\u001b[49m\u001b[38;5;241;43m.\u001b[39;49m\u001b[43mfind_elements\u001b[49m\u001b[43m(\u001b[49m\u001b[43mBy\u001b[49m\u001b[38;5;241;43m.\u001b[39;49m\u001b[43mXPATH\u001b[49m\u001b[43m,\u001b[49m\u001b[38;5;124;43m'\u001b[39;49m\u001b[38;5;124;43m//td[3][@class=\u001b[39;49m\u001b[38;5;124;43m\"\u001b[39;49m\u001b[38;5;124;43mdata\u001b[39;49m\u001b[38;5;124;43m\"\u001b[39;49m\u001b[38;5;124;43m]\u001b[39;49m\u001b[38;5;124;43m'\u001b[39;49m\u001b[43m)\u001b[49m\n\u001b[0;32m      6\u001b[0m \u001b[38;5;28;01mfor\u001b[39;00m i \u001b[38;5;129;01min\u001b[39;00m gdp22_tags:\n\u001b[0;32m      7\u001b[0m     gdp22\u001b[38;5;241m=\u001b[39mi\u001b[38;5;241m.\u001b[39mtext\n",
      "\u001b[1;31mTypeError\u001b[0m: 'tuple' object is not callable"
     ]
    }
   ],
   "source": [
    "# scraping data for gsdp 22-23\n",
    "\n",
    "s_gdp22=[]\n",
    "\n",
    "gdp22_tags=driver.find_elements(By.XPATH,'//td[3][@class=\"data\"]')\n",
    "for i in gdp22_tags:\n",
    "    gdp22=i.text\n",
    "    s_gdp22.append(gdp22)\n",
    "    "
   ]
  },
  {
   "cell_type": "code",
   "execution_count": 40,
   "id": "f2f4476e",
   "metadata": {},
   "outputs": [
    {
     "ename": "TypeError",
     "evalue": "'tuple' object is not callable",
     "output_type": "error",
     "traceback": [
      "\u001b[1;31m---------------------------------------------------------------------------\u001b[0m",
      "\u001b[1;31mTypeError\u001b[0m                                 Traceback (most recent call last)",
      "Cell \u001b[1;32mIn[40], line 5\u001b[0m\n\u001b[0;32m      1\u001b[0m \u001b[38;5;66;03m#scraping data for share\u001b[39;00m\n\u001b[0;32m      3\u001b[0m s_share\u001b[38;5;241m=\u001b[39m[]\n\u001b[1;32m----> 5\u001b[0m share_tags\u001b[38;5;241m=\u001b[39m\u001b[43mdriver\u001b[49m\u001b[38;5;241;43m.\u001b[39;49m\u001b[43mfind_elements\u001b[49m\u001b[43m(\u001b[49m\u001b[43mBy\u001b[49m\u001b[38;5;241;43m.\u001b[39;49m\u001b[43mXPATH\u001b[49m\u001b[43m,\u001b[49m\u001b[38;5;124;43m'\u001b[39;49m\u001b[38;5;124;43m//td[5][@class=\u001b[39;49m\u001b[38;5;124;43m\"\u001b[39;49m\u001b[38;5;124;43mdata\u001b[39;49m\u001b[38;5;124;43m\"\u001b[39;49m\u001b[38;5;124;43m]\u001b[39;49m\u001b[38;5;124;43m'\u001b[39;49m\u001b[43m)\u001b[49m\n\u001b[0;32m      6\u001b[0m \u001b[38;5;28;01mfor\u001b[39;00m i \u001b[38;5;129;01min\u001b[39;00m share_tags:\n\u001b[0;32m      7\u001b[0m     share\u001b[38;5;241m=\u001b[39mi\u001b[38;5;241m.\u001b[39mtext\n",
      "\u001b[1;31mTypeError\u001b[0m: 'tuple' object is not callable"
     ]
    }
   ],
   "source": [
    "#scraping data for share\n",
    "\n",
    "s_share=[]\n",
    "\n",
    "share_tags=driver.find_elements(By.XPATH,'//td[5][@class=\"data\"]')\n",
    "for i in share_tags:\n",
    "    share=i.text\n",
    "    s_share.append(share)\n"
   ]
  },
  {
   "cell_type": "markdown",
   "id": "c74c63f4",
   "metadata": {},
   "source": [
    "# Q8"
   ]
  },
  {
   "cell_type": "code",
   "execution_count": 41,
   "id": "45e61854",
   "metadata": {},
   "outputs": [],
   "source": [
    "driver=webdriver.Chrome()"
   ]
  },
  {
   "cell_type": "code",
   "execution_count": 42,
   "id": "8e00040d",
   "metadata": {},
   "outputs": [],
   "source": [
    "driver.get('https://archive.ics.uci.edu/')"
   ]
  },
  {
   "cell_type": "code",
   "execution_count": 43,
   "id": "d02c3a71",
   "metadata": {},
   "outputs": [],
   "source": [
    "dataset=driver.find_element(By.XPATH,'/html/body/div/div[1]/div[1]/main/div/div[1]/div/div/div/a[1]')\n",
    "dataset.click()\n",
    "\n"
   ]
  },
  {
   "cell_type": "code",
   "execution_count": 44,
   "id": "fa12a0e3",
   "metadata": {},
   "outputs": [],
   "source": [
    "# fetching url to open each dataset\n",
    "\n",
    "dataset_open_url=[]\n",
    "\n",
    "url= driver.find_elements(By.XPATH,'//a[@class=\"link-hover link text-xl font-semibold\"]')\n",
    "for i in url:\n",
    "    dataset_open_url.append(i.get_attribute('href'))\n"
   ]
  },
  {
   "cell_type": "code",
   "execution_count": 45,
   "id": "ff7fd87d",
   "metadata": {},
   "outputs": [
    {
     "data": {
      "text/plain": [
       "10"
      ]
     },
     "execution_count": 45,
     "metadata": {},
     "output_type": "execute_result"
    }
   ],
   "source": [
    "len(url)"
   ]
  },
  {
   "cell_type": "code",
   "execution_count": 46,
   "id": "917b1bd7",
   "metadata": {},
   "outputs": [
    {
     "data": {
      "text/plain": [
       "[<selenium.webdriver.remote.webelement.WebElement (session=\"f02abc417ad15955b85dbf23ff7e858e\", element=\"148655F02392A2B9EC4B9F3ECB6EEE29_element_48\")>,\n",
       " <selenium.webdriver.remote.webelement.WebElement (session=\"f02abc417ad15955b85dbf23ff7e858e\", element=\"148655F02392A2B9EC4B9F3ECB6EEE29_element_49\")>,\n",
       " <selenium.webdriver.remote.webelement.WebElement (session=\"f02abc417ad15955b85dbf23ff7e858e\", element=\"148655F02392A2B9EC4B9F3ECB6EEE29_element_50\")>,\n",
       " <selenium.webdriver.remote.webelement.WebElement (session=\"f02abc417ad15955b85dbf23ff7e858e\", element=\"148655F02392A2B9EC4B9F3ECB6EEE29_element_51\")>,\n",
       " <selenium.webdriver.remote.webelement.WebElement (session=\"f02abc417ad15955b85dbf23ff7e858e\", element=\"148655F02392A2B9EC4B9F3ECB6EEE29_element_52\")>,\n",
       " <selenium.webdriver.remote.webelement.WebElement (session=\"f02abc417ad15955b85dbf23ff7e858e\", element=\"148655F02392A2B9EC4B9F3ECB6EEE29_element_53\")>,\n",
       " <selenium.webdriver.remote.webelement.WebElement (session=\"f02abc417ad15955b85dbf23ff7e858e\", element=\"148655F02392A2B9EC4B9F3ECB6EEE29_element_54\")>,\n",
       " <selenium.webdriver.remote.webelement.WebElement (session=\"f02abc417ad15955b85dbf23ff7e858e\", element=\"148655F02392A2B9EC4B9F3ECB6EEE29_element_55\")>,\n",
       " <selenium.webdriver.remote.webelement.WebElement (session=\"f02abc417ad15955b85dbf23ff7e858e\", element=\"148655F02392A2B9EC4B9F3ECB6EEE29_element_56\")>,\n",
       " <selenium.webdriver.remote.webelement.WebElement (session=\"f02abc417ad15955b85dbf23ff7e858e\", element=\"148655F02392A2B9EC4B9F3ECB6EEE29_element_57\")>]"
      ]
     },
     "execution_count": 46,
     "metadata": {},
     "output_type": "execute_result"
    }
   ],
   "source": [
    "url"
   ]
  },
  {
   "cell_type": "code",
   "execution_count": 49,
   "id": "51285596",
   "metadata": {},
   "outputs": [],
   "source": [
    "# scraping data for dataset name\n",
    "\n",
    "d_name=[]\n",
    "for i in dataset_open_url:\n",
    "    driver.get(i)\n",
    "    time.sleep(2)\n",
    "    try:\n",
    "        name=driver.find_element(By.XPATH,'/html/body/div/div[1]/div[1]/main/div/div[1]/div[1]/div[1]/div[2]/div/h1')\n",
    "        d_name.append(name.text)\n",
    "    except NoSuchElementException :\n",
    "            d_name.append('-')"
   ]
  },
  {
   "cell_type": "code",
   "execution_count": 50,
   "id": "4dfd233a",
   "metadata": {},
   "outputs": [
    {
     "data": {
      "text/plain": [
       "10"
      ]
     },
     "execution_count": 50,
     "metadata": {},
     "output_type": "execute_result"
    }
   ],
   "source": [
    "len(d_name)"
   ]
  },
  {
   "cell_type": "code",
   "execution_count": 51,
   "id": "f3a06f6f",
   "metadata": {},
   "outputs": [
    {
     "data": {
      "text/plain": [
       "['Iris',\n",
       " 'Dry Bean Dataset',\n",
       " 'Heart Disease',\n",
       " 'Rice (Cammeo and Osmancik)',\n",
       " 'Adult',\n",
       " 'Raisin',\n",
       " 'Breast Cancer Wisconsin (Diagnostic)',\n",
       " 'Wine',\n",
       " 'Wine Quality',\n",
       " 'Diabetes']"
      ]
     },
     "execution_count": 51,
     "metadata": {},
     "output_type": "execute_result"
    }
   ],
   "source": [
    "d_name"
   ]
  },
  {
   "cell_type": "code",
   "execution_count": 52,
   "id": "8582e188",
   "metadata": {},
   "outputs": [],
   "source": [
    "#scraping data for data type\n",
    "\n",
    "d_type=[]\n",
    "\n",
    "for i in dataset_open_url:\n",
    "    driver.get(i)\n",
    "    time.sleep(2)\n",
    "    try:\n",
    "        dtype=driver.find_element(By.XPATH,'/html/body/div/div[1]/div[1]/main/div/div[1]/div[1]/div[2]/div[2]/div[1]/p')\n",
    "        d_type.append(dtype.text)\n",
    "    except NoSuchElementException :\n",
    "            d_type.append('-')"
   ]
  },
  {
   "cell_type": "code",
   "execution_count": 53,
   "id": "72e1e6ae",
   "metadata": {},
   "outputs": [
    {
     "data": {
      "text/plain": [
       "10"
      ]
     },
     "execution_count": 53,
     "metadata": {},
     "output_type": "execute_result"
    }
   ],
   "source": [
    "len(d_type)"
   ]
  },
  {
   "cell_type": "code",
   "execution_count": 54,
   "id": "93a45236",
   "metadata": {},
   "outputs": [
    {
     "data": {
      "text/plain": [
       "['Tabular',\n",
       " 'Multivariate',\n",
       " 'Multivariate',\n",
       " 'Multivariate',\n",
       " 'Multivariate',\n",
       " 'Multivariate',\n",
       " 'Multivariate',\n",
       " 'Tabular',\n",
       " 'Multivariate',\n",
       " 'Multivariate, Time-Series']"
      ]
     },
     "execution_count": 54,
     "metadata": {},
     "output_type": "execute_result"
    }
   ],
   "source": [
    "d_type"
   ]
  },
  {
   "cell_type": "code",
   "execution_count": 55,
   "id": "3eeb9432",
   "metadata": {},
   "outputs": [],
   "source": [
    "#scraping data for task\n",
    "\n",
    "d_task=[]\n",
    "\n",
    "for i in dataset_open_url:\n",
    "    driver.get(i)\n",
    "    time.sleep(2)\n",
    "    try:\n",
    "        task=driver.find_element(By.XPATH,'/html/body/div/div[1]/div[1]/main/div/div[1]/div[1]/div[2]/div[2]/div[3]/p')\n",
    "        d_task.append(task.text)\n",
    "    except NoSuchElementException :\n",
    "            d_task.append('-')"
   ]
  },
  {
   "cell_type": "code",
   "execution_count": 56,
   "id": "cedbf8b5",
   "metadata": {},
   "outputs": [
    {
     "data": {
      "text/plain": [
       "10"
      ]
     },
     "execution_count": 56,
     "metadata": {},
     "output_type": "execute_result"
    }
   ],
   "source": [
    "len(d_task)"
   ]
  },
  {
   "cell_type": "code",
   "execution_count": 57,
   "id": "548ce720",
   "metadata": {},
   "outputs": [
    {
     "data": {
      "text/plain": [
       "['Classification',\n",
       " 'Classification',\n",
       " 'Classification',\n",
       " 'Classification',\n",
       " 'Classification',\n",
       " 'Classification',\n",
       " 'Classification',\n",
       " 'Classification',\n",
       " 'Classification, Regression',\n",
       " 'Classification']"
      ]
     },
     "execution_count": 57,
     "metadata": {},
     "output_type": "execute_result"
    }
   ],
   "source": [
    "d_task"
   ]
  },
  {
   "cell_type": "code",
   "execution_count": 58,
   "id": "05023414",
   "metadata": {},
   "outputs": [],
   "source": [
    "#scraping data for attribute type\n",
    "\n",
    "d_attribute=[]\n",
    "\n",
    "for i in dataset_open_url:\n",
    "    driver.get(i)\n",
    "    time.sleep(2)\n",
    "    try:\n",
    "        attribute=driver.find_element(By.XPATH,'/html/body/div/div[1]/div[1]/main/div/div[1]/div[1]/div[2]/div[2]/div[4]/p')\n",
    "        d_attribute.append(attribute.text)\n",
    "    except NoSuchElementException :\n",
    "            d_attribute.append('-')"
   ]
  },
  {
   "cell_type": "code",
   "execution_count": 59,
   "id": "4011184e",
   "metadata": {},
   "outputs": [
    {
     "data": {
      "text/plain": [
       "10"
      ]
     },
     "execution_count": 59,
     "metadata": {},
     "output_type": "execute_result"
    }
   ],
   "source": [
    "len(d_attribute)"
   ]
  },
  {
   "cell_type": "code",
   "execution_count": 60,
   "id": "2d7c2c26",
   "metadata": {},
   "outputs": [
    {
     "data": {
      "text/plain": [
       "['Real',\n",
       " 'Integer, Real',\n",
       " 'Categorical, Integer, Real',\n",
       " 'Real',\n",
       " 'Categorical, Integer',\n",
       " 'Real, Integer',\n",
       " 'Real',\n",
       " 'Integer, Real',\n",
       " 'Real',\n",
       " 'Categorical, Integer']"
      ]
     },
     "execution_count": 60,
     "metadata": {},
     "output_type": "execute_result"
    }
   ],
   "source": [
    "d_attribute"
   ]
  },
  {
   "cell_type": "code",
   "execution_count": 61,
   "id": "6678cc76",
   "metadata": {},
   "outputs": [],
   "source": [
    "# scraping data for number of instance\n",
    "\n",
    "d_instance=[]\n",
    "\n",
    "for i in dataset_open_url:\n",
    "    driver.get(i)\n",
    "    time.sleep(2)\n",
    "    try:\n",
    "        instance=driver.find_element(By.XPATH,'/html/body/div/div[1]/div[1]/main/div/div[1]/div[1]/div[2]/div[2]/div[5]/p')\n",
    "        d_instance.append(instance.text)\n",
    "    except NoSuchElementException :\n",
    "            d_instance.append('-')"
   ]
  },
  {
   "cell_type": "code",
   "execution_count": 62,
   "id": "9f18d629",
   "metadata": {},
   "outputs": [
    {
     "data": {
      "text/plain": [
       "10"
      ]
     },
     "execution_count": 62,
     "metadata": {},
     "output_type": "execute_result"
    }
   ],
   "source": [
    "len(d_instance)"
   ]
  },
  {
   "cell_type": "code",
   "execution_count": 63,
   "id": "93d9dd6c",
   "metadata": {},
   "outputs": [
    {
     "data": {
      "text/plain": [
       "['150', '13611', '303', '3810', '48842', '900', '569', '178', '4898', '1']"
      ]
     },
     "execution_count": 63,
     "metadata": {},
     "output_type": "execute_result"
    }
   ],
   "source": [
    "d_instance"
   ]
  },
  {
   "cell_type": "code",
   "execution_count": 64,
   "id": "324d93cc",
   "metadata": {},
   "outputs": [],
   "source": [
    "# scraping data for number of attribute\n",
    "\n",
    "d_attribute=[]\n",
    "\n",
    "for i in dataset_open_url:\n",
    "    driver.get(i)\n",
    "    time.sleep(2)\n",
    "    try:\n",
    "        attribute=driver.find_element(By.XPATH,'/html/body/div/div[1]/div[1]/main/div/div[1]/div[1]/div[2]/div[2]/div[6]/p')\n",
    "        d_attribute.append(attribute.text)\n",
    "    except NoSuchElementException :\n",
    "            d_attribute.append('-')"
   ]
  },
  {
   "cell_type": "code",
   "execution_count": 65,
   "id": "f63657af",
   "metadata": {},
   "outputs": [
    {
     "data": {
      "text/plain": [
       "10"
      ]
     },
     "execution_count": 65,
     "metadata": {},
     "output_type": "execute_result"
    }
   ],
   "source": [
    "len(d_attribute)"
   ]
  },
  {
   "cell_type": "code",
   "execution_count": 66,
   "id": "4a1513c2",
   "metadata": {},
   "outputs": [
    {
     "data": {
      "text/plain": [
       "['4', '16', '13', '7', '14', '7', '30', '13', '11', '20']"
      ]
     },
     "execution_count": 66,
     "metadata": {},
     "output_type": "execute_result"
    }
   ],
   "source": [
    "d_attribute"
   ]
  },
  {
   "cell_type": "code",
   "execution_count": 67,
   "id": "02af0f3a",
   "metadata": {},
   "outputs": [],
   "source": [
    "# scraping data for year\n",
    "\n",
    "d_year=[]\n",
    "\n",
    "for i in dataset_open_url:\n",
    "    driver.get(i)\n",
    "    time.sleep(2)\n",
    "    try:\n",
    "        year=driver.find_element(By.XPATH,'/html/body/div/div[1]/div[1]/main/div/div[1]/div[1]/div[1]/div[2]/h2')\n",
    "        d_year.append(year.text)\n",
    "    except NoSuchElementException :\n",
    "            d_year.append('-')"
   ]
  },
  {
   "cell_type": "code",
   "execution_count": 68,
   "id": "51d56ff0",
   "metadata": {},
   "outputs": [
    {
     "data": {
      "text/plain": [
       "10"
      ]
     },
     "execution_count": 68,
     "metadata": {},
     "output_type": "execute_result"
    }
   ],
   "source": [
    "len(d_year)"
   ]
  },
  {
   "cell_type": "code",
   "execution_count": 69,
   "id": "eebb6df9",
   "metadata": {},
   "outputs": [
    {
     "data": {
      "text/plain": [
       "['Donated on 6/30/1988',\n",
       " 'Donated on 9/13/2020',\n",
       " 'Donated on 6/30/1988',\n",
       " 'Donated on 10/5/2019',\n",
       " 'Donated on 4/30/1996',\n",
       " 'Donated on 8/13/2023',\n",
       " 'Donated on 10/31/1995',\n",
       " 'Donated on 6/30/1991',\n",
       " 'Donated on 10/6/2009',\n",
       " '-']"
      ]
     },
     "execution_count": 69,
     "metadata": {},
     "output_type": "execute_result"
    }
   ],
   "source": [
    "d_year"
   ]
  },
  {
   "cell_type": "code",
   "execution_count": 70,
   "id": "ea2a3316",
   "metadata": {},
   "outputs": [],
   "source": [
    "import pandas as pd\n",
    "\n"
   ]
  },
  {
   "cell_type": "code",
   "execution_count": 71,
   "id": "1925c194",
   "metadata": {},
   "outputs": [],
   "source": [
    "df= pd.DataFrame({'Dataset Name':d_name,\n",
    "                 'Dataset Type':d_type,\n",
    "                 'Task':d_task,\n",
    "                 'Attribute Type':d_attribute,\n",
    "                 'No. of Instance':d_instance,\n",
    "                 'No. of Attribute':d_attribute,\n",
    "                 'Year':d_year})"
   ]
  },
  {
   "cell_type": "code",
   "execution_count": 72,
   "id": "6ebbd889",
   "metadata": {},
   "outputs": [
    {
     "data": {
      "text/html": [
       "<div>\n",
       "<style scoped>\n",
       "    .dataframe tbody tr th:only-of-type {\n",
       "        vertical-align: middle;\n",
       "    }\n",
       "\n",
       "    .dataframe tbody tr th {\n",
       "        vertical-align: top;\n",
       "    }\n",
       "\n",
       "    .dataframe thead th {\n",
       "        text-align: right;\n",
       "    }\n",
       "</style>\n",
       "<table border=\"1\" class=\"dataframe\">\n",
       "  <thead>\n",
       "    <tr style=\"text-align: right;\">\n",
       "      <th></th>\n",
       "      <th>Dataset Name</th>\n",
       "      <th>Dataset Type</th>\n",
       "      <th>Task</th>\n",
       "      <th>Attribute Type</th>\n",
       "      <th>No. of Instance</th>\n",
       "      <th>No. of Attribute</th>\n",
       "      <th>Year</th>\n",
       "    </tr>\n",
       "  </thead>\n",
       "  <tbody>\n",
       "    <tr>\n",
       "      <th>0</th>\n",
       "      <td>Iris</td>\n",
       "      <td>Tabular</td>\n",
       "      <td>Classification</td>\n",
       "      <td>4</td>\n",
       "      <td>150</td>\n",
       "      <td>4</td>\n",
       "      <td>Donated on 6/30/1988</td>\n",
       "    </tr>\n",
       "    <tr>\n",
       "      <th>1</th>\n",
       "      <td>Dry Bean Dataset</td>\n",
       "      <td>Multivariate</td>\n",
       "      <td>Classification</td>\n",
       "      <td>16</td>\n",
       "      <td>13611</td>\n",
       "      <td>16</td>\n",
       "      <td>Donated on 9/13/2020</td>\n",
       "    </tr>\n",
       "    <tr>\n",
       "      <th>2</th>\n",
       "      <td>Heart Disease</td>\n",
       "      <td>Multivariate</td>\n",
       "      <td>Classification</td>\n",
       "      <td>13</td>\n",
       "      <td>303</td>\n",
       "      <td>13</td>\n",
       "      <td>Donated on 6/30/1988</td>\n",
       "    </tr>\n",
       "    <tr>\n",
       "      <th>3</th>\n",
       "      <td>Rice (Cammeo and Osmancik)</td>\n",
       "      <td>Multivariate</td>\n",
       "      <td>Classification</td>\n",
       "      <td>7</td>\n",
       "      <td>3810</td>\n",
       "      <td>7</td>\n",
       "      <td>Donated on 10/5/2019</td>\n",
       "    </tr>\n",
       "    <tr>\n",
       "      <th>4</th>\n",
       "      <td>Adult</td>\n",
       "      <td>Multivariate</td>\n",
       "      <td>Classification</td>\n",
       "      <td>14</td>\n",
       "      <td>48842</td>\n",
       "      <td>14</td>\n",
       "      <td>Donated on 4/30/1996</td>\n",
       "    </tr>\n",
       "    <tr>\n",
       "      <th>5</th>\n",
       "      <td>Raisin</td>\n",
       "      <td>Multivariate</td>\n",
       "      <td>Classification</td>\n",
       "      <td>7</td>\n",
       "      <td>900</td>\n",
       "      <td>7</td>\n",
       "      <td>Donated on 8/13/2023</td>\n",
       "    </tr>\n",
       "    <tr>\n",
       "      <th>6</th>\n",
       "      <td>Breast Cancer Wisconsin (Diagnostic)</td>\n",
       "      <td>Multivariate</td>\n",
       "      <td>Classification</td>\n",
       "      <td>30</td>\n",
       "      <td>569</td>\n",
       "      <td>30</td>\n",
       "      <td>Donated on 10/31/1995</td>\n",
       "    </tr>\n",
       "    <tr>\n",
       "      <th>7</th>\n",
       "      <td>Wine</td>\n",
       "      <td>Tabular</td>\n",
       "      <td>Classification</td>\n",
       "      <td>13</td>\n",
       "      <td>178</td>\n",
       "      <td>13</td>\n",
       "      <td>Donated on 6/30/1991</td>\n",
       "    </tr>\n",
       "    <tr>\n",
       "      <th>8</th>\n",
       "      <td>Wine Quality</td>\n",
       "      <td>Multivariate</td>\n",
       "      <td>Classification, Regression</td>\n",
       "      <td>11</td>\n",
       "      <td>4898</td>\n",
       "      <td>11</td>\n",
       "      <td>Donated on 10/6/2009</td>\n",
       "    </tr>\n",
       "    <tr>\n",
       "      <th>9</th>\n",
       "      <td>Diabetes</td>\n",
       "      <td>Multivariate, Time-Series</td>\n",
       "      <td>Classification</td>\n",
       "      <td>20</td>\n",
       "      <td>1</td>\n",
       "      <td>20</td>\n",
       "      <td>-</td>\n",
       "    </tr>\n",
       "  </tbody>\n",
       "</table>\n",
       "</div>"
      ],
      "text/plain": [
       "                           Dataset Name               Dataset Type  \\\n",
       "0                                  Iris                    Tabular   \n",
       "1                      Dry Bean Dataset               Multivariate   \n",
       "2                         Heart Disease               Multivariate   \n",
       "3            Rice (Cammeo and Osmancik)               Multivariate   \n",
       "4                                 Adult               Multivariate   \n",
       "5                                Raisin               Multivariate   \n",
       "6  Breast Cancer Wisconsin (Diagnostic)               Multivariate   \n",
       "7                                  Wine                    Tabular   \n",
       "8                          Wine Quality               Multivariate   \n",
       "9                              Diabetes  Multivariate, Time-Series   \n",
       "\n",
       "                         Task Attribute Type No. of Instance No. of Attribute  \\\n",
       "0              Classification              4             150                4   \n",
       "1              Classification             16           13611               16   \n",
       "2              Classification             13             303               13   \n",
       "3              Classification              7            3810                7   \n",
       "4              Classification             14           48842               14   \n",
       "5              Classification              7             900                7   \n",
       "6              Classification             30             569               30   \n",
       "7              Classification             13             178               13   \n",
       "8  Classification, Regression             11            4898               11   \n",
       "9              Classification             20               1               20   \n",
       "\n",
       "                    Year  \n",
       "0   Donated on 6/30/1988  \n",
       "1   Donated on 9/13/2020  \n",
       "2   Donated on 6/30/1988  \n",
       "3   Donated on 10/5/2019  \n",
       "4   Donated on 4/30/1996  \n",
       "5   Donated on 8/13/2023  \n",
       "6  Donated on 10/31/1995  \n",
       "7   Donated on 6/30/1991  \n",
       "8   Donated on 10/6/2009  \n",
       "9                      -  "
      ]
     },
     "execution_count": 72,
     "metadata": {},
     "output_type": "execute_result"
    }
   ],
   "source": [
    "df"
   ]
  },
  {
   "cell_type": "code",
   "execution_count": 73,
   "id": "65331cc4",
   "metadata": {},
   "outputs": [],
   "source": [
    "driver.close()"
   ]
  },
  {
   "cell_type": "markdown",
   "id": "0aebb475",
   "metadata": {},
   "source": [
    "# Q7"
   ]
  },
  {
   "cell_type": "code",
   "execution_count": 74,
   "id": "3fc8b585",
   "metadata": {},
   "outputs": [],
   "source": [
    "driver=webdriver.Chrome()"
   ]
  },
  {
   "cell_type": "code",
   "execution_count": 75,
   "id": "35ff4e20",
   "metadata": {},
   "outputs": [],
   "source": [
    "driver.get('https://www.imdb.com/list/ls512407256/')"
   ]
  },
  {
   "cell_type": "code",
   "execution_count": 76,
   "id": "a4cad1ad",
   "metadata": {},
   "outputs": [],
   "source": [
    "#Scraping data for series name\n",
    "\n",
    "s_name=[]\n",
    "\n",
    "name_tags=driver.find_elements(By.XPATH,'//h3[@class=\"lister-item-header\"]')\n",
    "for i in name_tags:\n",
    "    name=i.text\n",
    "    s_name.append(name)"
   ]
  },
  {
   "cell_type": "code",
   "execution_count": 77,
   "id": "3e776c48",
   "metadata": {},
   "outputs": [
    {
     "data": {
      "text/plain": [
       "100"
      ]
     },
     "execution_count": 77,
     "metadata": {},
     "output_type": "execute_result"
    }
   ],
   "source": [
    "len(s_name)"
   ]
  },
  {
   "cell_type": "code",
   "execution_count": 78,
   "id": "d950bd67",
   "metadata": {},
   "outputs": [
    {
     "data": {
      "text/plain": [
       "['1. Game of Thrones (2011–2019)',\n",
       " '2. Stranger Things (2016–2025)',\n",
       " '3. The Walking Dead (2010–2022)',\n",
       " '4. 13 Reasons Why (2017–2020)',\n",
       " '5. The 100 (2014–2020)',\n",
       " '6. Orange Is the New Black (2013–2019)',\n",
       " '7. Riverdale (2017–2023)',\n",
       " \"8. Grey's Anatomy (2005– )\",\n",
       " '9. The Flash (2014–2023)',\n",
       " '10. Arrow (2012–2020)',\n",
       " '11. Money Heist (2017–2021)',\n",
       " '12. The Big Bang Theory (2007–2019)',\n",
       " '13. Black Mirror (2011– )',\n",
       " '14. Sherlock (2010–2017)',\n",
       " '15. Vikings (2013–2020)',\n",
       " '16. Pretty Little Liars (2010–2017)',\n",
       " '17. The Vampire Diaries (2009–2017)',\n",
       " '18. American Horror Story (2011– )',\n",
       " '19. Breaking Bad (2008–2013)',\n",
       " '20. Lucifer (2016–2021)',\n",
       " '21. Supernatural (2005–2020)',\n",
       " '22. Prison Break (2005–2017)',\n",
       " '23. How to Get Away with Murder (2014–2020)',\n",
       " '24. Teen Wolf (2011–2017)',\n",
       " '25. The Simpsons (1989– )',\n",
       " '26. Once Upon a Time (2011–2018)',\n",
       " '27. Narcos (I) (2015–2017)',\n",
       " '28. Daredevil (2015–2018)',\n",
       " '29. Friends (1994–2004)',\n",
       " '30. How I Met Your Mother (2005–2014)',\n",
       " '31. Suits (2011–2019)',\n",
       " '32. Mr. Robot (2015–2019)',\n",
       " '33. The Originals (2013–2018)',\n",
       " '34. Supergirl (2015–2021)',\n",
       " '35. Gossip Girl (2007–2012)',\n",
       " '36. Sense8 (2015–2018)',\n",
       " '37. Gotham (2014–2019)',\n",
       " '38. Westworld (2016–2022)',\n",
       " '39. Jessica Jones (2015–2019)',\n",
       " '40. Modern Family (2009–2020)',\n",
       " '41. Rick and Morty (2013– )',\n",
       " '42. Shadowhunters (2016–2019)',\n",
       " '43. The End of the F***ing World (2017–2019)',\n",
       " '44. House of Cards (2013–2018)',\n",
       " '45. Dark (2017–2020)',\n",
       " '46. Elite (2018–2024)',\n",
       " '47. Sex Education (2019–2023)',\n",
       " '48. Shameless (2011–2021)',\n",
       " '49. New Girl (2011–2018)',\n",
       " '50. Agents of S.H.I.E.L.D. (2013–2020)',\n",
       " '51. Game of Thrones (2011–2019)',\n",
       " '52. You (2018–2024)',\n",
       " '53. Stranger Things (2016–2025)',\n",
       " '54. Dexter (2006–2013)',\n",
       " '55. The Walking Dead (2010–2022)',\n",
       " '56. Fear the Walking Dead (2015–2023)',\n",
       " '57. 13 Reasons Why (2017–2020)',\n",
       " '58. Family Guy (1999–2024)',\n",
       " '59. The 100 (2014–2020)',\n",
       " '60. The Blacklist (2013–2023)',\n",
       " '61. Orange Is the New Black (2013–2019)',\n",
       " '62. Lost (2004–2010)',\n",
       " '63. Riverdale (2017–2023)',\n",
       " '64. Peaky Blinders (2013–2022)',\n",
       " \"65. Grey's Anatomy (2005– )\",\n",
       " '66. House (2004–2012)',\n",
       " '67. The Flash (2014–2023)',\n",
       " '68. Quantico (2015–2018)',\n",
       " '69. Arrow (2012–2020)',\n",
       " '70. Orphan Black (2013–2017)',\n",
       " '71. Money Heist (2017–2021)',\n",
       " '72. Homeland (2011–2020)',\n",
       " '73. The Big Bang Theory (2007–2019)',\n",
       " '74. Blindspot (2015–2020)',\n",
       " '75. Black Mirror (2011– )',\n",
       " \"76. DC's Legends of Tomorrow (2016–2022)\",\n",
       " '77. Sherlock (2010–2017)',\n",
       " \"78. The Handmaid's Tale (2017– )\",\n",
       " '79. Vikings (2013–2020)',\n",
       " '80. Chilling Adventures of Sabrina (2018–2020)',\n",
       " '81. Pretty Little Liars (2010–2017)',\n",
       " '82. The Good Doctor (2017–2024)',\n",
       " '83. The Vampire Diaries (2009–2017)',\n",
       " '84. Jane the Virgin (2014–2019)',\n",
       " '85. American Horror Story (2011– )',\n",
       " '86. Glee (2009–2015)',\n",
       " '87. Breaking Bad (2008–2013)',\n",
       " '88. South Park (1997– )',\n",
       " '89. Lucifer (2016–2021)',\n",
       " '90. Brooklyn Nine-Nine (2013–2021)',\n",
       " '91. Supernatural (2005–2020)',\n",
       " '92. Under the Dome (2013–2015)',\n",
       " '93. Prison Break (2005–2017)',\n",
       " '94. The Umbrella Academy (2019–2024)',\n",
       " '95. How to Get Away with Murder (2014–2020)',\n",
       " '96. True Detective (2014– )',\n",
       " '97. Teen Wolf (2011–2017)',\n",
       " '98. The OA (2016–2019)',\n",
       " '99. The Simpsons (1989– )',\n",
       " '100. Desperate Housewives (2004–2012)']"
      ]
     },
     "execution_count": 78,
     "metadata": {},
     "output_type": "execute_result"
    }
   ],
   "source": [
    "s_name\n",
    "\n"
   ]
  },
  {
   "cell_type": "code",
   "execution_count": 79,
   "id": "397f8e0f",
   "metadata": {},
   "outputs": [],
   "source": [
    "#scraping data for year span\n",
    "\n",
    "s_year=[]\n",
    "\n",
    "year_tags=driver.find_elements(By.XPATH,'//span[@class=\"lister-item-year text-muted unbold\"]')\n",
    "for i in year_tags:\n",
    "    year=i.text\n",
    "    s_year.append(year)"
   ]
  },
  {
   "cell_type": "code",
   "execution_count": 80,
   "id": "9b2c1c4c",
   "metadata": {},
   "outputs": [
    {
     "data": {
      "text/plain": [
       "100"
      ]
     },
     "execution_count": 80,
     "metadata": {},
     "output_type": "execute_result"
    }
   ],
   "source": [
    "len(s_year)"
   ]
  },
  {
   "cell_type": "code",
   "execution_count": 81,
   "id": "78bae4ab",
   "metadata": {},
   "outputs": [
    {
     "data": {
      "text/plain": [
       "['(2011–2019)',\n",
       " '(2016–2025)',\n",
       " '(2010–2022)',\n",
       " '(2017–2020)',\n",
       " '(2014–2020)',\n",
       " '(2013–2019)',\n",
       " '(2017–2023)',\n",
       " '(2005– )',\n",
       " '(2014–2023)',\n",
       " '(2012–2020)',\n",
       " '(2017–2021)',\n",
       " '(2007–2019)',\n",
       " '(2011– )',\n",
       " '(2010–2017)',\n",
       " '(2013–2020)',\n",
       " '(2010–2017)',\n",
       " '(2009–2017)',\n",
       " '(2011– )',\n",
       " '(2008–2013)',\n",
       " '(2016–2021)',\n",
       " '(2005–2020)',\n",
       " '(2005–2017)',\n",
       " '(2014–2020)',\n",
       " '(2011–2017)',\n",
       " '(1989– )',\n",
       " '(2011–2018)',\n",
       " '(I) (2015–2017)',\n",
       " '(2015–2018)',\n",
       " '(1994–2004)',\n",
       " '(2005–2014)',\n",
       " '(2011–2019)',\n",
       " '(2015–2019)',\n",
       " '(2013–2018)',\n",
       " '(2015–2021)',\n",
       " '(2007–2012)',\n",
       " '(2015–2018)',\n",
       " '(2014–2019)',\n",
       " '(2016–2022)',\n",
       " '(2015–2019)',\n",
       " '(2009–2020)',\n",
       " '(2013– )',\n",
       " '(2016–2019)',\n",
       " '(2017–2019)',\n",
       " '(2013–2018)',\n",
       " '(2017–2020)',\n",
       " '(2018–2024)',\n",
       " '(2019–2023)',\n",
       " '(2011–2021)',\n",
       " '(2011–2018)',\n",
       " '(2013–2020)',\n",
       " '(2011–2019)',\n",
       " '(2018–2024)',\n",
       " '(2016–2025)',\n",
       " '(2006–2013)',\n",
       " '(2010–2022)',\n",
       " '(2015–2023)',\n",
       " '(2017–2020)',\n",
       " '(1999–2024)',\n",
       " '(2014–2020)',\n",
       " '(2013–2023)',\n",
       " '(2013–2019)',\n",
       " '(2004–2010)',\n",
       " '(2017–2023)',\n",
       " '(2013–2022)',\n",
       " '(2005– )',\n",
       " '(2004–2012)',\n",
       " '(2014–2023)',\n",
       " '(2015–2018)',\n",
       " '(2012–2020)',\n",
       " '(2013–2017)',\n",
       " '(2017–2021)',\n",
       " '(2011–2020)',\n",
       " '(2007–2019)',\n",
       " '(2015–2020)',\n",
       " '(2011– )',\n",
       " '(2016–2022)',\n",
       " '(2010–2017)',\n",
       " '(2017– )',\n",
       " '(2013–2020)',\n",
       " '(2018–2020)',\n",
       " '(2010–2017)',\n",
       " '(2017–2024)',\n",
       " '(2009–2017)',\n",
       " '(2014–2019)',\n",
       " '(2011– )',\n",
       " '(2009–2015)',\n",
       " '(2008–2013)',\n",
       " '(1997– )',\n",
       " '(2016–2021)',\n",
       " '(2013–2021)',\n",
       " '(2005–2020)',\n",
       " '(2013–2015)',\n",
       " '(2005–2017)',\n",
       " '(2019–2024)',\n",
       " '(2014–2020)',\n",
       " '(2014– )',\n",
       " '(2011–2017)',\n",
       " '(2016–2019)',\n",
       " '(1989– )',\n",
       " '(2004–2012)']"
      ]
     },
     "execution_count": 81,
     "metadata": {},
     "output_type": "execute_result"
    }
   ],
   "source": [
    "s_year"
   ]
  },
  {
   "cell_type": "code",
   "execution_count": 82,
   "id": "da2fcdfa",
   "metadata": {},
   "outputs": [],
   "source": [
    "#scraping data for genre\n",
    "\n",
    "s_genre=[]\n",
    "\n",
    "genre_tags=driver.find_elements(By.XPATH,'//span[@class=\"genre\"]')\n",
    "for i in genre_tags:\n",
    "    genre=i.text\n",
    "    s_genre.append(genre)"
   ]
  },
  {
   "cell_type": "code",
   "execution_count": 83,
   "id": "34dd98e7",
   "metadata": {},
   "outputs": [
    {
     "data": {
      "text/plain": [
       "100"
      ]
     },
     "execution_count": 83,
     "metadata": {},
     "output_type": "execute_result"
    }
   ],
   "source": [
    "len(s_genre)"
   ]
  },
  {
   "cell_type": "code",
   "execution_count": 84,
   "id": "38ecfbe8",
   "metadata": {},
   "outputs": [
    {
     "data": {
      "text/plain": [
       "['Action, Adventure, Drama',\n",
       " 'Drama, Fantasy, Horror',\n",
       " 'Drama, Horror, Thriller',\n",
       " 'Drama, Mystery, Thriller',\n",
       " 'Drama, Mystery, Sci-Fi',\n",
       " 'Comedy, Crime, Drama',\n",
       " 'Crime, Drama, Mystery',\n",
       " 'Drama, Romance',\n",
       " 'Action, Adventure, Drama',\n",
       " 'Action, Adventure, Crime',\n",
       " 'Action, Crime, Drama',\n",
       " 'Comedy, Romance',\n",
       " 'Drama, Mystery, Sci-Fi',\n",
       " 'Crime, Drama, Mystery',\n",
       " 'Action, Adventure, Drama',\n",
       " 'Drama, Mystery, Romance',\n",
       " 'Drama, Fantasy, Horror',\n",
       " 'Drama, Horror, Sci-Fi',\n",
       " 'Crime, Drama, Thriller',\n",
       " 'Crime, Drama, Fantasy',\n",
       " 'Drama, Fantasy, Horror',\n",
       " 'Action, Crime, Drama',\n",
       " 'Crime, Drama, Mystery',\n",
       " 'Action, Drama, Fantasy',\n",
       " 'Animation, Comedy',\n",
       " 'Adventure, Fantasy, Romance',\n",
       " 'Biography, Crime, Drama',\n",
       " 'Action, Crime, Drama',\n",
       " 'Comedy, Romance',\n",
       " 'Comedy, Drama, Romance',\n",
       " 'Comedy, Drama',\n",
       " 'Crime, Drama, Thriller',\n",
       " 'Drama, Fantasy, Horror',\n",
       " 'Action, Adventure, Drama',\n",
       " 'Drama, Romance',\n",
       " 'Drama, Mystery, Sci-Fi',\n",
       " 'Action, Crime, Drama',\n",
       " 'Drama, Mystery, Sci-Fi',\n",
       " 'Action, Crime, Drama',\n",
       " 'Comedy, Drama, Romance',\n",
       " 'Animation, Adventure, Comedy',\n",
       " 'Action, Drama, Fantasy',\n",
       " 'Adventure, Comedy, Crime',\n",
       " 'Drama',\n",
       " 'Crime, Drama, Mystery',\n",
       " 'Crime, Drama, Thriller',\n",
       " 'Comedy, Drama, Romance',\n",
       " 'Comedy, Drama',\n",
       " 'Comedy, Romance',\n",
       " 'Action, Adventure, Drama',\n",
       " 'Action, Adventure, Drama',\n",
       " 'Crime, Drama, Romance',\n",
       " 'Drama, Fantasy, Horror',\n",
       " 'Crime, Drama, Mystery',\n",
       " 'Drama, Horror, Thriller',\n",
       " 'Drama, Horror, Sci-Fi',\n",
       " 'Drama, Mystery, Thriller',\n",
       " 'Animation, Comedy',\n",
       " 'Drama, Mystery, Sci-Fi',\n",
       " 'Crime, Drama, Mystery',\n",
       " 'Comedy, Crime, Drama',\n",
       " 'Adventure, Drama, Fantasy',\n",
       " 'Crime, Drama, Mystery',\n",
       " 'Crime, Drama',\n",
       " 'Drama, Romance',\n",
       " 'Drama, Mystery',\n",
       " 'Action, Adventure, Drama',\n",
       " 'Crime, Drama, Mystery',\n",
       " 'Action, Adventure, Crime',\n",
       " 'Drama, Sci-Fi, Thriller',\n",
       " 'Action, Crime, Drama',\n",
       " 'Crime, Drama, Mystery',\n",
       " 'Comedy, Romance',\n",
       " 'Action, Crime, Drama',\n",
       " 'Drama, Mystery, Sci-Fi',\n",
       " 'Action, Adventure, Drama',\n",
       " 'Crime, Drama, Mystery',\n",
       " 'Drama, Sci-Fi, Thriller',\n",
       " 'Action, Adventure, Drama',\n",
       " 'Drama, Fantasy, Horror',\n",
       " 'Drama, Mystery, Romance',\n",
       " 'Drama',\n",
       " 'Drama, Fantasy, Horror',\n",
       " 'Comedy',\n",
       " 'Drama, Horror, Sci-Fi',\n",
       " 'Comedy, Drama, Music',\n",
       " 'Crime, Drama, Thriller',\n",
       " 'Animation, Comedy',\n",
       " 'Crime, Drama, Fantasy',\n",
       " 'Comedy, Crime',\n",
       " 'Drama, Fantasy, Horror',\n",
       " 'Drama, Mystery, Sci-Fi',\n",
       " 'Action, Crime, Drama',\n",
       " 'Action, Adventure, Comedy',\n",
       " 'Crime, Drama, Mystery',\n",
       " 'Crime, Drama, Mystery',\n",
       " 'Action, Drama, Fantasy',\n",
       " 'Drama, Fantasy, Mystery',\n",
       " 'Animation, Comedy',\n",
       " 'Comedy, Drama, Mystery']"
      ]
     },
     "execution_count": 84,
     "metadata": {},
     "output_type": "execute_result"
    }
   ],
   "source": [
    "s_genre"
   ]
  },
  {
   "cell_type": "code",
   "execution_count": 85,
   "id": "fe824f5b",
   "metadata": {},
   "outputs": [],
   "source": [
    "#scraping data run time\n",
    "\n",
    "s_time=[]\n",
    "\n",
    "time_tags=driver.find_elements(By.XPATH,'//span[@class=\"runtime\"]')\n",
    "for i in time_tags:\n",
    "    time=i.text\n",
    "    s_time.append(time)"
   ]
  },
  {
   "cell_type": "code",
   "execution_count": 86,
   "id": "e007c0a1",
   "metadata": {},
   "outputs": [
    {
     "data": {
      "text/plain": [
       "100"
      ]
     },
     "execution_count": 86,
     "metadata": {},
     "output_type": "execute_result"
    }
   ],
   "source": [
    "len(s_time)"
   ]
  },
  {
   "cell_type": "code",
   "execution_count": 87,
   "id": "d8dd1036",
   "metadata": {},
   "outputs": [
    {
     "data": {
      "text/plain": [
       "['55 min',\n",
       " '51 min',\n",
       " '44 min',\n",
       " '60 min',\n",
       " '43 min',\n",
       " '59 min',\n",
       " '45 min',\n",
       " '41 min',\n",
       " '43 min',\n",
       " '42 min',\n",
       " '70 min',\n",
       " '22 min',\n",
       " '60 min',\n",
       " '88 min',\n",
       " '44 min',\n",
       " '44 min',\n",
       " '43 min',\n",
       " '60 min',\n",
       " '45 min',\n",
       " '4,393 min',\n",
       " '44 min',\n",
       " '44 min',\n",
       " '43 min',\n",
       " '41 min',\n",
       " '22 min',\n",
       " '60 min',\n",
       " '49 min',\n",
       " '54 min',\n",
       " '5,280 min',\n",
       " '4,576 min',\n",
       " '44 min',\n",
       " '49 min',\n",
       " '45 min',\n",
       " '43 min',\n",
       " '42 min',\n",
       " '60 min',\n",
       " '42 min',\n",
       " '62 min',\n",
       " '56 min',\n",
       " '5,378 min',\n",
       " '23 min',\n",
       " '42 min',\n",
       " '25 min',\n",
       " '3,804 min',\n",
       " '1,455 min',\n",
       " '60 min',\n",
       " '1,755 min',\n",
       " '46 min',\n",
       " '22 min',\n",
       " '45 min',\n",
       " '55 min',\n",
       " '45 min',\n",
       " '51 min',\n",
       " '55 min',\n",
       " '44 min',\n",
       " '44 min',\n",
       " '60 min',\n",
       " '22 min',\n",
       " '43 min',\n",
       " '43 min',\n",
       " '59 min',\n",
       " '5,445 min',\n",
       " '45 min',\n",
       " '2,109 min',\n",
       " '41 min',\n",
       " '7,788 min',\n",
       " '43 min',\n",
       " '42 min',\n",
       " '42 min',\n",
       " '44 min',\n",
       " '70 min',\n",
       " '55 min',\n",
       " '22 min',\n",
       " '42 min',\n",
       " '60 min',\n",
       " '42 min',\n",
       " '88 min',\n",
       " '60 min',\n",
       " '44 min',\n",
       " '60 min',\n",
       " '44 min',\n",
       " '41 min',\n",
       " '43 min',\n",
       " '60 min',\n",
       " '60 min',\n",
       " '44 min',\n",
       " '45 min',\n",
       " '22 min',\n",
       " '4,393 min',\n",
       " '22 min',\n",
       " '44 min',\n",
       " '43 min',\n",
       " '44 min',\n",
       " '60 min',\n",
       " '43 min',\n",
       " '55 min',\n",
       " '41 min',\n",
       " '60 min',\n",
       " '22 min',\n",
       " '45 min']"
      ]
     },
     "execution_count": 87,
     "metadata": {},
     "output_type": "execute_result"
    }
   ],
   "source": [
    "s_time"
   ]
  },
  {
   "cell_type": "code",
   "execution_count": 88,
   "id": "8a59a6c9",
   "metadata": {},
   "outputs": [],
   "source": [
    "#scraping data for ratings\n",
    "\n",
    "s_rating=[]\n",
    "\n",
    "rating_tags=driver.find_elements(By.XPATH,'//div[@class=\"ipl-rating-star small\"]')\n",
    "for i in rating_tags:\n",
    "    rating=i.text\n",
    "    s_rating.append(rating)"
   ]
  },
  {
   "cell_type": "code",
   "execution_count": 89,
   "id": "36de612e",
   "metadata": {},
   "outputs": [
    {
     "data": {
      "text/plain": [
       "100"
      ]
     },
     "execution_count": 89,
     "metadata": {},
     "output_type": "execute_result"
    }
   ],
   "source": [
    "len(s_rating)"
   ]
  },
  {
   "cell_type": "code",
   "execution_count": 90,
   "id": "04dfc34e",
   "metadata": {},
   "outputs": [
    {
     "data": {
      "text/plain": [
       "['9.2',\n",
       " '8.7',\n",
       " '8.1',\n",
       " '7.5',\n",
       " '7.6',\n",
       " '8',\n",
       " '6.5',\n",
       " '7.6',\n",
       " '7.5',\n",
       " '7.5',\n",
       " '8.2',\n",
       " '8.1',\n",
       " '8.7',\n",
       " '9.1',\n",
       " '8.5',\n",
       " '7.4',\n",
       " '7.7',\n",
       " '8',\n",
       " '9.5',\n",
       " '8.1',\n",
       " '8.4',\n",
       " '8.3',\n",
       " '8.1',\n",
       " '7.7',\n",
       " '8.7',\n",
       " '7.7',\n",
       " '8.8',\n",
       " '8.6',\n",
       " '8.9',\n",
       " '8.3',\n",
       " '8.4',\n",
       " '8.5',\n",
       " '8.3',\n",
       " '6.2',\n",
       " '7.5',\n",
       " '8.2',\n",
       " '7.8',\n",
       " '8.5',\n",
       " '7.9',\n",
       " '8.5',\n",
       " '9.1',\n",
       " '6.5',\n",
       " '8',\n",
       " '8.6',\n",
       " '8.7',\n",
       " '7.2',\n",
       " '8.3',\n",
       " '8.5',\n",
       " '7.8',\n",
       " '7.5',\n",
       " '9.2',\n",
       " '7.7',\n",
       " '8.7',\n",
       " '8.7',\n",
       " '8.1',\n",
       " '6.8',\n",
       " '7.5',\n",
       " '8.1',\n",
       " '7.6',\n",
       " '7.9',\n",
       " '8',\n",
       " '8.3',\n",
       " '6.5',\n",
       " '8.8',\n",
       " '7.6',\n",
       " '8.7',\n",
       " '7.5',\n",
       " '6.7',\n",
       " '7.5',\n",
       " '8.3',\n",
       " '8.2',\n",
       " '8.3',\n",
       " '8.1',\n",
       " '7.3',\n",
       " '8.7',\n",
       " '6.8',\n",
       " '9.1',\n",
       " '8.4',\n",
       " '8.5',\n",
       " '7.4',\n",
       " '7.4',\n",
       " '8',\n",
       " '7.7',\n",
       " '7.9',\n",
       " '8',\n",
       " '6.8',\n",
       " '9.5',\n",
       " '8.7',\n",
       " '8.1',\n",
       " '8.4',\n",
       " '8.4',\n",
       " '6.5',\n",
       " '8.3',\n",
       " '7.9',\n",
       " '8.1',\n",
       " '8.9',\n",
       " '7.7',\n",
       " '7.8',\n",
       " '8.7',\n",
       " '7.6']"
      ]
     },
     "execution_count": 90,
     "metadata": {},
     "output_type": "execute_result"
    }
   ],
   "source": [
    "s_rating"
   ]
  },
  {
   "cell_type": "code",
   "execution_count": 91,
   "id": "f1d10116",
   "metadata": {},
   "outputs": [],
   "source": [
    "#scraping data for votes\n",
    "\n",
    "s_votes=[]\n",
    "\n",
    "vote_tags=driver.find_elements(By.XPATH,'//span[@name=\"nv\"]')\n",
    "for i in vote_tags:\n",
    "    vote=i.text\n",
    "    s_votes.append(vote)"
   ]
  },
  {
   "cell_type": "code",
   "execution_count": 92,
   "id": "8fa8ca35",
   "metadata": {},
   "outputs": [
    {
     "data": {
      "text/plain": [
       "100"
      ]
     },
     "execution_count": 92,
     "metadata": {},
     "output_type": "execute_result"
    }
   ],
   "source": [
    "len(s_votes)"
   ]
  },
  {
   "cell_type": "code",
   "execution_count": 93,
   "id": "82d0dec1",
   "metadata": {},
   "outputs": [
    {
     "data": {
      "text/plain": [
       "['2,262,800',\n",
       " '1,320,650',\n",
       " '1,072,402',\n",
       " '313,497',\n",
       " '273,443',\n",
       " '318,712',\n",
       " '154,388',\n",
       " '338,403',\n",
       " '366,970',\n",
       " '444,795',\n",
       " '526,918',\n",
       " '861,338',\n",
       " '633,495',\n",
       " '989,633',\n",
       " '576,248',\n",
       " '177,403',\n",
       " '347,164',\n",
       " '341,347',\n",
       " '2,111,035',\n",
       " '352,816',\n",
       " '479,234',\n",
       " '574,987',\n",
       " '165,371',\n",
       " '162,078',\n",
       " '433,132',\n",
       " '235,996',\n",
       " '465,971',\n",
       " '471,437',\n",
       " '1,079,084',\n",
       " '724,151',\n",
       " '472,514',\n",
       " '415,316',\n",
       " '146,733',\n",
       " '129,131',\n",
       " '191,597',\n",
       " '162,212',\n",
       " '239,857',\n",
       " '529,757',\n",
       " '225,713',\n",
       " '477,488',\n",
       " '594,906',\n",
       " '69,888',\n",
       " '217,408',\n",
       " '528,397',\n",
       " '437,939',\n",
       " '89,893',\n",
       " '347,003',\n",
       " '280,018',\n",
       " '243,774',\n",
       " '225,172',\n",
       " '2,262,800',\n",
       " '295,988',\n",
       " '1,320,650',\n",
       " '759,723',\n",
       " '1,072,402',\n",
       " '142,881',\n",
       " '313,497',\n",
       " '361,992',\n",
       " '273,443',\n",
       " '277,342',\n",
       " '318,712',\n",
       " '590,488',\n",
       " '154,388',\n",
       " '638,053',\n",
       " '338,403',\n",
       " '505,802',\n",
       " '366,970',\n",
       " '63,664',\n",
       " '444,795',\n",
       " '116,476',\n",
       " '526,918',\n",
       " '359,336',\n",
       " '861,338',\n",
       " '78,631',\n",
       " '633,495',\n",
       " '109,684',\n",
       " '989,633',\n",
       " '255,972',\n",
       " '576,248',\n",
       " '107,408',\n",
       " '177,403',\n",
       " '110,892',\n",
       " '347,164',\n",
       " '58,419',\n",
       " '341,347',\n",
       " '154,894',\n",
       " '2,111,035',\n",
       " '403,437',\n",
       " '352,816',\n",
       " '356,451',\n",
       " '479,234',\n",
       " '111,964',\n",
       " '574,987',\n",
       " '272,573',\n",
       " '165,371',\n",
       " '645,889',\n",
       " '162,078',\n",
       " '114,895',\n",
       " '433,132',\n",
       " '138,703']"
      ]
     },
     "execution_count": 93,
     "metadata": {},
     "output_type": "execute_result"
    }
   ],
   "source": [
    "s_votes"
   ]
  },
  {
   "cell_type": "code",
   "execution_count": 94,
   "id": "bec1791a",
   "metadata": {},
   "outputs": [],
   "source": [
    "df=pd.DataFrame({'Series Name':s_name,\n",
    "                'Year Span':s_year,\n",
    "                'Genre':s_genre,\n",
    "                'Run Time':s_time,\n",
    "                'Ratings':s_rating,\n",
    "                'Votes':s_votes})"
   ]
  },
  {
   "cell_type": "code",
   "execution_count": 95,
   "id": "e80ac854",
   "metadata": {},
   "outputs": [
    {
     "data": {
      "text/html": [
       "<div>\n",
       "<style scoped>\n",
       "    .dataframe tbody tr th:only-of-type {\n",
       "        vertical-align: middle;\n",
       "    }\n",
       "\n",
       "    .dataframe tbody tr th {\n",
       "        vertical-align: top;\n",
       "    }\n",
       "\n",
       "    .dataframe thead th {\n",
       "        text-align: right;\n",
       "    }\n",
       "</style>\n",
       "<table border=\"1\" class=\"dataframe\">\n",
       "  <thead>\n",
       "    <tr style=\"text-align: right;\">\n",
       "      <th></th>\n",
       "      <th>Series Name</th>\n",
       "      <th>Year Span</th>\n",
       "      <th>Genre</th>\n",
       "      <th>Run Time</th>\n",
       "      <th>Ratings</th>\n",
       "      <th>Votes</th>\n",
       "    </tr>\n",
       "  </thead>\n",
       "  <tbody>\n",
       "    <tr>\n",
       "      <th>0</th>\n",
       "      <td>1. Game of Thrones (2011–2019)</td>\n",
       "      <td>(2011–2019)</td>\n",
       "      <td>Action, Adventure, Drama</td>\n",
       "      <td>55 min</td>\n",
       "      <td>9.2</td>\n",
       "      <td>2,262,800</td>\n",
       "    </tr>\n",
       "    <tr>\n",
       "      <th>1</th>\n",
       "      <td>2. Stranger Things (2016–2025)</td>\n",
       "      <td>(2016–2025)</td>\n",
       "      <td>Drama, Fantasy, Horror</td>\n",
       "      <td>51 min</td>\n",
       "      <td>8.7</td>\n",
       "      <td>1,320,650</td>\n",
       "    </tr>\n",
       "    <tr>\n",
       "      <th>2</th>\n",
       "      <td>3. The Walking Dead (2010–2022)</td>\n",
       "      <td>(2010–2022)</td>\n",
       "      <td>Drama, Horror, Thriller</td>\n",
       "      <td>44 min</td>\n",
       "      <td>8.1</td>\n",
       "      <td>1,072,402</td>\n",
       "    </tr>\n",
       "    <tr>\n",
       "      <th>3</th>\n",
       "      <td>4. 13 Reasons Why (2017–2020)</td>\n",
       "      <td>(2017–2020)</td>\n",
       "      <td>Drama, Mystery, Thriller</td>\n",
       "      <td>60 min</td>\n",
       "      <td>7.5</td>\n",
       "      <td>313,497</td>\n",
       "    </tr>\n",
       "    <tr>\n",
       "      <th>4</th>\n",
       "      <td>5. The 100 (2014–2020)</td>\n",
       "      <td>(2014–2020)</td>\n",
       "      <td>Drama, Mystery, Sci-Fi</td>\n",
       "      <td>43 min</td>\n",
       "      <td>7.6</td>\n",
       "      <td>273,443</td>\n",
       "    </tr>\n",
       "    <tr>\n",
       "      <th>...</th>\n",
       "      <td>...</td>\n",
       "      <td>...</td>\n",
       "      <td>...</td>\n",
       "      <td>...</td>\n",
       "      <td>...</td>\n",
       "      <td>...</td>\n",
       "    </tr>\n",
       "    <tr>\n",
       "      <th>95</th>\n",
       "      <td>96. True Detective (2014– )</td>\n",
       "      <td>(2014– )</td>\n",
       "      <td>Crime, Drama, Mystery</td>\n",
       "      <td>55 min</td>\n",
       "      <td>8.9</td>\n",
       "      <td>645,889</td>\n",
       "    </tr>\n",
       "    <tr>\n",
       "      <th>96</th>\n",
       "      <td>97. Teen Wolf (2011–2017)</td>\n",
       "      <td>(2011–2017)</td>\n",
       "      <td>Action, Drama, Fantasy</td>\n",
       "      <td>41 min</td>\n",
       "      <td>7.7</td>\n",
       "      <td>162,078</td>\n",
       "    </tr>\n",
       "    <tr>\n",
       "      <th>97</th>\n",
       "      <td>98. The OA (2016–2019)</td>\n",
       "      <td>(2016–2019)</td>\n",
       "      <td>Drama, Fantasy, Mystery</td>\n",
       "      <td>60 min</td>\n",
       "      <td>7.8</td>\n",
       "      <td>114,895</td>\n",
       "    </tr>\n",
       "    <tr>\n",
       "      <th>98</th>\n",
       "      <td>99. The Simpsons (1989– )</td>\n",
       "      <td>(1989– )</td>\n",
       "      <td>Animation, Comedy</td>\n",
       "      <td>22 min</td>\n",
       "      <td>8.7</td>\n",
       "      <td>433,132</td>\n",
       "    </tr>\n",
       "    <tr>\n",
       "      <th>99</th>\n",
       "      <td>100. Desperate Housewives (2004–2012)</td>\n",
       "      <td>(2004–2012)</td>\n",
       "      <td>Comedy, Drama, Mystery</td>\n",
       "      <td>45 min</td>\n",
       "      <td>7.6</td>\n",
       "      <td>138,703</td>\n",
       "    </tr>\n",
       "  </tbody>\n",
       "</table>\n",
       "<p>100 rows × 6 columns</p>\n",
       "</div>"
      ],
      "text/plain": [
       "                              Series Name    Year Span  \\\n",
       "0          1. Game of Thrones (2011–2019)  (2011–2019)   \n",
       "1          2. Stranger Things (2016–2025)  (2016–2025)   \n",
       "2         3. The Walking Dead (2010–2022)  (2010–2022)   \n",
       "3           4. 13 Reasons Why (2017–2020)  (2017–2020)   \n",
       "4                  5. The 100 (2014–2020)  (2014–2020)   \n",
       "..                                    ...          ...   \n",
       "95            96. True Detective (2014– )     (2014– )   \n",
       "96              97. Teen Wolf (2011–2017)  (2011–2017)   \n",
       "97                 98. The OA (2016–2019)  (2016–2019)   \n",
       "98              99. The Simpsons (1989– )     (1989– )   \n",
       "99  100. Desperate Housewives (2004–2012)  (2004–2012)   \n",
       "\n",
       "                       Genre Run Time Ratings      Votes  \n",
       "0   Action, Adventure, Drama   55 min     9.2  2,262,800  \n",
       "1     Drama, Fantasy, Horror   51 min     8.7  1,320,650  \n",
       "2    Drama, Horror, Thriller   44 min     8.1  1,072,402  \n",
       "3   Drama, Mystery, Thriller   60 min     7.5    313,497  \n",
       "4     Drama, Mystery, Sci-Fi   43 min     7.6    273,443  \n",
       "..                       ...      ...     ...        ...  \n",
       "95     Crime, Drama, Mystery   55 min     8.9    645,889  \n",
       "96    Action, Drama, Fantasy   41 min     7.7    162,078  \n",
       "97   Drama, Fantasy, Mystery   60 min     7.8    114,895  \n",
       "98         Animation, Comedy   22 min     8.7    433,132  \n",
       "99    Comedy, Drama, Mystery   45 min     7.6    138,703  \n",
       "\n",
       "[100 rows x 6 columns]"
      ]
     },
     "execution_count": 95,
     "metadata": {},
     "output_type": "execute_result"
    }
   ],
   "source": [
    "df"
   ]
  },
  {
   "cell_type": "code",
   "execution_count": 96,
   "id": "0d1a7bda",
   "metadata": {},
   "outputs": [],
   "source": [
    "driver.close()"
   ]
  },
  {
   "cell_type": "markdown",
   "id": "dbac5427",
   "metadata": {},
   "source": [
    "# Q6"
   ]
  },
  {
   "cell_type": "code",
   "execution_count": 97,
   "id": "a4cce32d",
   "metadata": {},
   "outputs": [],
   "source": [
    "driver=webdriver.Chrome()"
   ]
  },
  {
   "cell_type": "code",
   "execution_count": 98,
   "id": "97badee1",
   "metadata": {},
   "outputs": [],
   "source": [
    "driver.get('https://www.theguardian.com/news/datablog/2012/aug/09/best-selling-books-all-time-fifty-shades-grey-compare')"
   ]
  },
  {
   "cell_type": "code",
   "execution_count": 99,
   "id": "980c240c",
   "metadata": {},
   "outputs": [],
   "source": [
    "#scraping data for book name\n",
    "\n",
    "b_name=[]\n",
    "\n",
    "name_tags=driver.find_elements(By.XPATH,'//td[2][@class=\"left\"]')\n",
    "for i in name_tags:\n",
    "    name=i.text\n",
    "    b_name.append(name)"
   ]
  },
  {
   "cell_type": "code",
   "execution_count": 100,
   "id": "e5e4246e",
   "metadata": {},
   "outputs": [
    {
     "data": {
      "text/plain": [
       "100"
      ]
     },
     "execution_count": 100,
     "metadata": {},
     "output_type": "execute_result"
    }
   ],
   "source": [
    "len(b_name)"
   ]
  },
  {
   "cell_type": "code",
   "execution_count": 101,
   "id": "17853c34",
   "metadata": {},
   "outputs": [
    {
     "data": {
      "text/plain": [
       "['Da Vinci Code,The',\n",
       " 'Harry Potter and the Deathly Hallows',\n",
       " \"Harry Potter and the Philosopher's Stone\",\n",
       " 'Harry Potter and the Order of the Phoenix',\n",
       " 'Fifty Shades of Grey',\n",
       " 'Harry Potter and the Goblet of Fire',\n",
       " 'Harry Potter and the Chamber of Secrets',\n",
       " 'Harry Potter and the Prisoner of Azkaban',\n",
       " 'Angels and Demons',\n",
       " \"Harry Potter and the Half-blood Prince:Children's Edition\",\n",
       " 'Fifty Shades Darker',\n",
       " 'Twilight',\n",
       " 'Girl with the Dragon Tattoo,The:Millennium Trilogy',\n",
       " 'Fifty Shades Freed',\n",
       " 'Lost Symbol,The',\n",
       " 'New Moon',\n",
       " 'Deception Point',\n",
       " 'Eclipse',\n",
       " 'Lovely Bones,The',\n",
       " 'Curious Incident of the Dog in the Night-time,The',\n",
       " 'Digital Fortress',\n",
       " 'Short History of Nearly Everything,A',\n",
       " 'Girl Who Played with Fire,The:Millennium Trilogy',\n",
       " 'Breaking Dawn',\n",
       " 'Very Hungry Caterpillar,The:The Very Hungry Caterpillar',\n",
       " 'Gruffalo,The',\n",
       " \"Jamie's 30-Minute Meals\",\n",
       " 'Kite Runner,The',\n",
       " 'One Day',\n",
       " 'Thousand Splendid Suns,A',\n",
       " \"Girl Who Kicked the Hornets' Nest,The:Millennium Trilogy\",\n",
       " \"Time Traveler's Wife,The\",\n",
       " 'Atonement',\n",
       " \"Bridget Jones's Diary:A Novel\",\n",
       " 'World According to Clarkson,The',\n",
       " \"Captain Corelli's Mandolin\",\n",
       " 'Sound of Laughter,The',\n",
       " 'Life of Pi',\n",
       " 'Billy Connolly',\n",
       " 'Child Called It,A',\n",
       " \"Gruffalo's Child,The\",\n",
       " \"Angela's Ashes:A Memoir of a Childhood\",\n",
       " 'Birdsong',\n",
       " 'Northern Lights:His Dark Materials S.',\n",
       " 'Labyrinth',\n",
       " 'Harry Potter and the Half-blood Prince',\n",
       " 'Help,The',\n",
       " 'Man and Boy',\n",
       " 'Memoirs of a Geisha',\n",
       " \"No.1 Ladies' Detective Agency,The:No.1 Ladies' Detective Agency S.\",\n",
       " 'Island,The',\n",
       " 'PS, I Love You',\n",
       " 'You are What You Eat:The Plan That Will Change Your Life',\n",
       " 'Shadow of the Wind,The',\n",
       " 'Tales of Beedle the Bard,The',\n",
       " 'Broker,The',\n",
       " \"Dr. Atkins' New Diet Revolution:The No-hunger, Luxurious Weight Loss P\",\n",
       " 'Subtle Knife,The:His Dark Materials S.',\n",
       " 'Eats, Shoots and Leaves:The Zero Tolerance Approach to Punctuation',\n",
       " \"Delia's How to Cook:(Bk.1)\",\n",
       " 'Chocolat',\n",
       " 'Boy in the Striped Pyjamas,The',\n",
       " \"My Sister's Keeper\",\n",
       " 'Amber Spyglass,The:His Dark Materials S.',\n",
       " 'To Kill a Mockingbird',\n",
       " 'Men are from Mars, Women are from Venus:A Practical Guide for Improvin',\n",
       " 'Dear Fatty',\n",
       " 'Short History of Tractors in Ukrainian,A',\n",
       " 'Hannibal',\n",
       " 'Lord of the Rings,The',\n",
       " 'Stupid White Men:...and Other Sorry Excuses for the State of the Natio',\n",
       " 'Interpretation of Murder,The',\n",
       " 'Sharon Osbourne Extreme:My Autobiography',\n",
       " 'Alchemist,The:A Fable About Following Your Dream',\n",
       " \"At My Mother's Knee ...:and Other Low Joints\",\n",
       " 'Notes from a Small Island',\n",
       " 'Return of the Naked Chef,The',\n",
       " 'Bridget Jones: The Edge of Reason',\n",
       " \"Jamie's Italy\",\n",
       " 'I Can Make You Thin',\n",
       " 'Down Under',\n",
       " 'Summons,The',\n",
       " 'Small Island',\n",
       " 'Nigella Express',\n",
       " 'Brick Lane',\n",
       " \"Memory Keeper's Daughter,The\",\n",
       " 'Room on the Broom',\n",
       " 'About a Boy',\n",
       " 'My Booky Wook',\n",
       " 'God Delusion,The',\n",
       " '\"Beano\" Annual,The',\n",
       " 'White Teeth',\n",
       " 'House at Riverton,The',\n",
       " 'Book Thief,The',\n",
       " 'Nights of Rain and Stars',\n",
       " 'Ghost,The',\n",
       " 'Happy Days with the Naked Chef',\n",
       " 'Hunger Games,The:Hunger Games Trilogy',\n",
       " \"Lost Boy,The:A Foster Child's Search for the Love of a Family\",\n",
       " \"Jamie's Ministry of Food:Anyone Can Learn to Cook in 24 Hours\"]"
      ]
     },
     "execution_count": 101,
     "metadata": {},
     "output_type": "execute_result"
    }
   ],
   "source": [
    "b_name"
   ]
  },
  {
   "cell_type": "code",
   "execution_count": 102,
   "id": "d8497fda",
   "metadata": {},
   "outputs": [],
   "source": [
    "#scraping data for author name\n",
    "\n",
    "b_author=[]\n",
    "\n",
    "author_tags=driver.find_elements(By.XPATH,'//td[3][@class=\"left\"]')\n",
    "for i in author_tags:\n",
    "    author=i.text\n",
    "    b_author.append(author)"
   ]
  },
  {
   "cell_type": "code",
   "execution_count": 103,
   "id": "fb5d32eb",
   "metadata": {},
   "outputs": [
    {
     "data": {
      "text/plain": [
       "100"
      ]
     },
     "execution_count": 103,
     "metadata": {},
     "output_type": "execute_result"
    }
   ],
   "source": [
    "len(b_author)"
   ]
  },
  {
   "cell_type": "code",
   "execution_count": 104,
   "id": "26c6e1be",
   "metadata": {},
   "outputs": [
    {
     "data": {
      "text/plain": [
       "['Brown, Dan',\n",
       " 'Rowling, J.K.',\n",
       " 'Rowling, J.K.',\n",
       " 'Rowling, J.K.',\n",
       " 'James, E. L.',\n",
       " 'Rowling, J.K.',\n",
       " 'Rowling, J.K.',\n",
       " 'Rowling, J.K.',\n",
       " 'Brown, Dan',\n",
       " 'Rowling, J.K.',\n",
       " 'James, E. L.',\n",
       " 'Meyer, Stephenie',\n",
       " 'Larsson, Stieg',\n",
       " 'James, E. L.',\n",
       " 'Brown, Dan',\n",
       " 'Meyer, Stephenie',\n",
       " 'Brown, Dan',\n",
       " 'Meyer, Stephenie',\n",
       " 'Sebold, Alice',\n",
       " 'Haddon, Mark',\n",
       " 'Brown, Dan',\n",
       " 'Bryson, Bill',\n",
       " 'Larsson, Stieg',\n",
       " 'Meyer, Stephenie',\n",
       " 'Carle, Eric',\n",
       " 'Donaldson, Julia',\n",
       " 'Oliver, Jamie',\n",
       " 'Hosseini, Khaled',\n",
       " 'Nicholls, David',\n",
       " 'Hosseini, Khaled',\n",
       " 'Larsson, Stieg',\n",
       " 'Niffenegger, Audrey',\n",
       " 'McEwan, Ian',\n",
       " 'Fielding, Helen',\n",
       " 'Clarkson, Jeremy',\n",
       " 'Bernieres, Louis de',\n",
       " 'Kay, Peter',\n",
       " 'Martel, Yann',\n",
       " 'Stephenson, Pamela',\n",
       " 'Pelzer, Dave',\n",
       " 'Donaldson, Julia',\n",
       " 'McCourt, Frank',\n",
       " 'Faulks, Sebastian',\n",
       " 'Pullman, Philip',\n",
       " 'Mosse, Kate',\n",
       " 'Rowling, J.K.',\n",
       " 'Stockett, Kathryn',\n",
       " 'Parsons, Tony',\n",
       " 'Golden, Arthur',\n",
       " 'McCall Smith, Alexander',\n",
       " 'Hislop, Victoria',\n",
       " 'Ahern, Cecelia',\n",
       " 'McKeith, Gillian',\n",
       " 'Zafon, Carlos Ruiz',\n",
       " 'Rowling, J.K.',\n",
       " 'Grisham, John',\n",
       " 'Atkins, Robert C.',\n",
       " 'Pullman, Philip',\n",
       " 'Truss, Lynne',\n",
       " 'Smith, Delia',\n",
       " 'Harris, Joanne',\n",
       " 'Boyne, John',\n",
       " 'Picoult, Jodi',\n",
       " 'Pullman, Philip',\n",
       " 'Lee, Harper',\n",
       " 'Gray, John',\n",
       " 'French, Dawn',\n",
       " 'Lewycka, Marina',\n",
       " 'Harris, Thomas',\n",
       " 'Tolkien, J. R. R.',\n",
       " 'Moore, Michael',\n",
       " 'Rubenfeld, Jed',\n",
       " 'Osbourne, Sharon',\n",
       " 'Coelho, Paulo',\n",
       " \"O'Grady, Paul\",\n",
       " 'Bryson, Bill',\n",
       " 'Oliver, Jamie',\n",
       " 'Fielding, Helen',\n",
       " 'Oliver, Jamie',\n",
       " 'McKenna, Paul',\n",
       " 'Bryson, Bill',\n",
       " 'Grisham, John',\n",
       " 'Levy, Andrea',\n",
       " 'Lawson, Nigella',\n",
       " 'Ali, Monica',\n",
       " 'Edwards, Kim',\n",
       " 'Donaldson, Julia',\n",
       " 'Hornby, Nick',\n",
       " 'Brand, Russell',\n",
       " 'Dawkins, Richard',\n",
       " '0',\n",
       " 'Smith, Zadie',\n",
       " 'Morton, Kate',\n",
       " 'Zusak, Markus',\n",
       " 'Binchy, Maeve',\n",
       " 'Harris, Robert',\n",
       " 'Oliver, Jamie',\n",
       " 'Collins, Suzanne',\n",
       " 'Pelzer, Dave',\n",
       " 'Oliver, Jamie']"
      ]
     },
     "execution_count": 104,
     "metadata": {},
     "output_type": "execute_result"
    }
   ],
   "source": [
    "b_author"
   ]
  },
  {
   "cell_type": "code",
   "execution_count": 105,
   "id": "d2b8f6d1",
   "metadata": {},
   "outputs": [],
   "source": [
    "#scraping data for volumes sold\n",
    "\n",
    "b_volume=[]\n",
    "\n",
    "volume_tags=driver.find_elements(By.XPATH,'//td[4][@class=\"left\"]')\n",
    "for i in volume_tags:\n",
    "    volumes=i.text\n",
    "    b_volume.append(volumes)"
   ]
  },
  {
   "cell_type": "code",
   "execution_count": 106,
   "id": "b0d05417",
   "metadata": {},
   "outputs": [
    {
     "data": {
      "text/plain": [
       "100"
      ]
     },
     "execution_count": 106,
     "metadata": {},
     "output_type": "execute_result"
    }
   ],
   "source": [
    "len(b_volume)"
   ]
  },
  {
   "cell_type": "code",
   "execution_count": 107,
   "id": "4b6bfde9",
   "metadata": {},
   "outputs": [
    {
     "data": {
      "text/plain": [
       "['5,094,805',\n",
       " '4,475,152',\n",
       " '4,200,654',\n",
       " '4,179,479',\n",
       " '3,758,936',\n",
       " '3,583,215',\n",
       " '3,484,047',\n",
       " '3,377,906',\n",
       " '3,193,946',\n",
       " '2,950,264',\n",
       " '2,479,784',\n",
       " '2,315,405',\n",
       " '2,233,570',\n",
       " '2,193,928',\n",
       " '2,183,031',\n",
       " '2,152,737',\n",
       " '2,062,145',\n",
       " '2,052,876',\n",
       " '2,005,598',\n",
       " '1,979,552',\n",
       " '1,928,900',\n",
       " '1,852,919',\n",
       " '1,814,784',\n",
       " '1,787,118',\n",
       " '1,783,535',\n",
       " '1,781,269',\n",
       " '1,743,266',\n",
       " '1,629,119',\n",
       " '1,616,068',\n",
       " '1,583,992',\n",
       " '1,555,135',\n",
       " '1,546,886',\n",
       " '1,539,428',\n",
       " '1,508,205',\n",
       " '1,489,403',\n",
       " '1,352,318',\n",
       " '1,310,207',\n",
       " '1,310,176',\n",
       " '1,231,957',\n",
       " '1,217,712',\n",
       " '1,208,711',\n",
       " '1,204,058',\n",
       " '1,184,967',\n",
       " '1,181,503',\n",
       " '1,181,093',\n",
       " '1,153,181',\n",
       " '1,132,336',\n",
       " '1,130,802',\n",
       " '1,126,337',\n",
       " '1,115,549',\n",
       " '1,108,328',\n",
       " '1,107,379',\n",
       " '1,104,403',\n",
       " '1,092,349',\n",
       " '1,090,847',\n",
       " '1,087,262',\n",
       " '1,054,196',\n",
       " '1,037,160',\n",
       " '1,023,688',\n",
       " '1,015,956',\n",
       " '1,009,873',\n",
       " '1,004,414',\n",
       " '1,003,780',\n",
       " '1,002,314',\n",
       " '998,213',\n",
       " '992,846',\n",
       " '986,753',\n",
       " '986,115',\n",
       " '970,509',\n",
       " '967,466',\n",
       " '963,353',\n",
       " '962,515',\n",
       " '959,496',\n",
       " '956,114',\n",
       " '945,640',\n",
       " '931,312',\n",
       " '925,425',\n",
       " '924,695',\n",
       " '906,968',\n",
       " '905,086',\n",
       " '890,847',\n",
       " '869,671',\n",
       " '869,659',\n",
       " '862,602',\n",
       " '856,540',\n",
       " '845,858',\n",
       " '842,535',\n",
       " '828,215',\n",
       " '820,563',\n",
       " '816,907',\n",
       " '816,585',\n",
       " '815,586',\n",
       " '814,370',\n",
       " '809,641',\n",
       " '808,900',\n",
       " '807,311',\n",
       " '794,201',\n",
       " '792,187',\n",
       " '791,507',\n",
       " '791,095']"
      ]
     },
     "execution_count": 107,
     "metadata": {},
     "output_type": "execute_result"
    }
   ],
   "source": [
    "b_volume"
   ]
  },
  {
   "cell_type": "code",
   "execution_count": 108,
   "id": "374f66e2",
   "metadata": {},
   "outputs": [],
   "source": [
    "#scraping data for publisher name\n",
    "\n",
    "b_publisher=[]\n",
    "\n",
    "publisher_tags=driver.find_elements(By.XPATH,'//td[5][@class=\"left\"]')\n",
    "for i in publisher_tags:\n",
    "    publisher=i.text\n",
    "    b_publisher.append(publisher)"
   ]
  },
  {
   "cell_type": "code",
   "execution_count": 109,
   "id": "c9732f12",
   "metadata": {},
   "outputs": [
    {
     "data": {
      "text/plain": [
       "100"
      ]
     },
     "execution_count": 109,
     "metadata": {},
     "output_type": "execute_result"
    }
   ],
   "source": [
    "len(b_publisher)"
   ]
  },
  {
   "cell_type": "code",
   "execution_count": 110,
   "id": "aaeeb2ee",
   "metadata": {},
   "outputs": [
    {
     "data": {
      "text/plain": [
       "['Transworld',\n",
       " 'Bloomsbury',\n",
       " 'Bloomsbury',\n",
       " 'Bloomsbury',\n",
       " 'Random House',\n",
       " 'Bloomsbury',\n",
       " 'Bloomsbury',\n",
       " 'Bloomsbury',\n",
       " 'Transworld',\n",
       " 'Bloomsbury',\n",
       " 'Random House',\n",
       " 'Little, Brown Book',\n",
       " 'Quercus',\n",
       " 'Random House',\n",
       " 'Transworld',\n",
       " 'Little, Brown Book',\n",
       " 'Transworld',\n",
       " 'Little, Brown Book',\n",
       " 'Pan Macmillan',\n",
       " 'Random House',\n",
       " 'Transworld',\n",
       " 'Transworld',\n",
       " 'Quercus',\n",
       " 'Little, Brown Book',\n",
       " 'Penguin',\n",
       " 'Pan Macmillan',\n",
       " 'Penguin',\n",
       " 'Bloomsbury',\n",
       " 'Hodder & Stoughton',\n",
       " 'Bloomsbury',\n",
       " 'Quercus',\n",
       " 'Random House',\n",
       " 'Random House',\n",
       " 'Pan Macmillan',\n",
       " 'Penguin',\n",
       " 'Random House',\n",
       " 'Random House',\n",
       " 'Canongate',\n",
       " 'HarperCollins',\n",
       " 'Orion',\n",
       " 'Pan Macmillan',\n",
       " 'HarperCollins',\n",
       " 'Random House',\n",
       " 'Scholastic Ltd.',\n",
       " 'Orion',\n",
       " 'Bloomsbury',\n",
       " 'Penguin',\n",
       " 'HarperCollins',\n",
       " 'Random House',\n",
       " 'Little, Brown Book',\n",
       " 'Headline',\n",
       " 'HarperCollins',\n",
       " 'Penguin',\n",
       " 'Orion',\n",
       " 'Bloomsbury',\n",
       " 'Random House',\n",
       " 'Random House',\n",
       " 'Scholastic Ltd.',\n",
       " 'Profile Books Group',\n",
       " 'Random House',\n",
       " 'Transworld',\n",
       " 'Random House Childrens Books G',\n",
       " 'Hodder & Stoughton',\n",
       " 'Scholastic Ltd.',\n",
       " 'Random House',\n",
       " 'HarperCollins',\n",
       " 'Random House',\n",
       " 'Penguin',\n",
       " 'Random House',\n",
       " 'HarperCollins',\n",
       " 'Penguin',\n",
       " 'Headline',\n",
       " 'Little, Brown Book',\n",
       " 'HarperCollins',\n",
       " 'Transworld',\n",
       " 'Transworld',\n",
       " 'Penguin',\n",
       " 'Pan Macmillan',\n",
       " 'Penguin',\n",
       " 'Transworld',\n",
       " 'Transworld',\n",
       " 'Random House',\n",
       " 'Headline',\n",
       " 'Random House',\n",
       " 'Transworld',\n",
       " 'Penguin',\n",
       " 'Pan Macmillan',\n",
       " 'Penguin',\n",
       " 'Hodder & Stoughton',\n",
       " 'Transworld',\n",
       " 'D.C. Thomson',\n",
       " 'Penguin',\n",
       " 'Pan Macmillan',\n",
       " 'Transworld',\n",
       " 'Orion',\n",
       " 'Random House',\n",
       " 'Penguin',\n",
       " 'Scholastic Ltd.',\n",
       " 'Orion',\n",
       " 'Penguin']"
      ]
     },
     "execution_count": 110,
     "metadata": {},
     "output_type": "execute_result"
    }
   ],
   "source": [
    "b_publisher"
   ]
  },
  {
   "cell_type": "code",
   "execution_count": 111,
   "id": "84422e87",
   "metadata": {},
   "outputs": [],
   "source": [
    "#scraping data for genre\n",
    "\n",
    "b_genre=[]\n",
    "\n",
    "genre_tags=driver.find_elements(By.XPATH,'//td[6][@class=\"last left\"]')\n",
    "for i in genre_tags:\n",
    "    genre=i.text\n",
    "    b_genre.append(genre)"
   ]
  },
  {
   "cell_type": "code",
   "execution_count": 112,
   "id": "deb8b680",
   "metadata": {},
   "outputs": [
    {
     "data": {
      "text/plain": [
       "100"
      ]
     },
     "execution_count": 112,
     "metadata": {},
     "output_type": "execute_result"
    }
   ],
   "source": [
    "len(b_genre)"
   ]
  },
  {
   "cell_type": "code",
   "execution_count": 113,
   "id": "69dff5b3",
   "metadata": {},
   "outputs": [
    {
     "data": {
      "text/plain": [
       "['Crime, Thriller & Adventure',\n",
       " \"Children's Fiction\",\n",
       " \"Children's Fiction\",\n",
       " \"Children's Fiction\",\n",
       " 'Romance & Sagas',\n",
       " \"Children's Fiction\",\n",
       " \"Children's Fiction\",\n",
       " \"Children's Fiction\",\n",
       " 'Crime, Thriller & Adventure',\n",
       " \"Children's Fiction\",\n",
       " 'Romance & Sagas',\n",
       " 'Young Adult Fiction',\n",
       " 'Crime, Thriller & Adventure',\n",
       " 'Romance & Sagas',\n",
       " 'Crime, Thriller & Adventure',\n",
       " 'Young Adult Fiction',\n",
       " 'Crime, Thriller & Adventure',\n",
       " 'Young Adult Fiction',\n",
       " 'General & Literary Fiction',\n",
       " 'General & Literary Fiction',\n",
       " 'Crime, Thriller & Adventure',\n",
       " 'Popular Science',\n",
       " 'Crime, Thriller & Adventure',\n",
       " 'Young Adult Fiction',\n",
       " 'Picture Books',\n",
       " 'Picture Books',\n",
       " 'Food & Drink: General',\n",
       " 'General & Literary Fiction',\n",
       " 'General & Literary Fiction',\n",
       " 'General & Literary Fiction',\n",
       " 'Crime, Thriller & Adventure',\n",
       " 'General & Literary Fiction',\n",
       " 'General & Literary Fiction',\n",
       " 'General & Literary Fiction',\n",
       " 'Humour: Collections & General',\n",
       " 'General & Literary Fiction',\n",
       " 'Autobiography: General',\n",
       " 'General & Literary Fiction',\n",
       " 'Biography: The Arts',\n",
       " 'Autobiography: General',\n",
       " 'Picture Books',\n",
       " 'Autobiography: General',\n",
       " 'General & Literary Fiction',\n",
       " 'Young Adult Fiction',\n",
       " 'General & Literary Fiction',\n",
       " 'Science Fiction & Fantasy',\n",
       " 'General & Literary Fiction',\n",
       " 'General & Literary Fiction',\n",
       " 'General & Literary Fiction',\n",
       " 'Crime, Thriller & Adventure',\n",
       " 'General & Literary Fiction',\n",
       " 'General & Literary Fiction',\n",
       " 'Fitness & Diet',\n",
       " 'General & Literary Fiction',\n",
       " \"Children's Fiction\",\n",
       " 'Crime, Thriller & Adventure',\n",
       " 'Fitness & Diet',\n",
       " 'Young Adult Fiction',\n",
       " 'Usage & Writing Guides',\n",
       " 'Food & Drink: General',\n",
       " 'General & Literary Fiction',\n",
       " 'Young Adult Fiction',\n",
       " 'General & Literary Fiction',\n",
       " 'Young Adult Fiction',\n",
       " 'General & Literary Fiction',\n",
       " 'Popular Culture & Media: General Interest',\n",
       " 'Autobiography: The Arts',\n",
       " 'General & Literary Fiction',\n",
       " 'Crime, Thriller & Adventure',\n",
       " 'Science Fiction & Fantasy',\n",
       " 'Current Affairs & Issues',\n",
       " 'Crime, Thriller & Adventure',\n",
       " 'Autobiography: The Arts',\n",
       " 'General & Literary Fiction',\n",
       " 'Autobiography: The Arts',\n",
       " 'Travel Writing',\n",
       " 'Food & Drink: General',\n",
       " 'General & Literary Fiction',\n",
       " 'National & Regional Cuisine',\n",
       " 'Fitness & Diet',\n",
       " 'Travel Writing',\n",
       " 'Crime, Thriller & Adventure',\n",
       " 'General & Literary Fiction',\n",
       " 'Food & Drink: General',\n",
       " 'General & Literary Fiction',\n",
       " 'General & Literary Fiction',\n",
       " 'Picture Books',\n",
       " 'General & Literary Fiction',\n",
       " 'Autobiography: The Arts',\n",
       " 'Popular Science',\n",
       " \"Children's Annuals\",\n",
       " 'General & Literary Fiction',\n",
       " 'General & Literary Fiction',\n",
       " 'General & Literary Fiction',\n",
       " 'General & Literary Fiction',\n",
       " 'General & Literary Fiction',\n",
       " 'Food & Drink: General',\n",
       " 'Young Adult Fiction',\n",
       " 'Biography: General',\n",
       " 'Food & Drink: General']"
      ]
     },
     "execution_count": 113,
     "metadata": {},
     "output_type": "execute_result"
    }
   ],
   "source": [
    "b_genre"
   ]
  },
  {
   "cell_type": "code",
   "execution_count": 114,
   "id": "fc07fd39",
   "metadata": {},
   "outputs": [],
   "source": [
    "import pandas as pd"
   ]
  },
  {
   "cell_type": "code",
   "execution_count": 115,
   "id": "63db0406",
   "metadata": {},
   "outputs": [],
   "source": [
    "df=pd.DataFrame({'Book Name':b_name,\n",
    "                'Author_name':b_author,\n",
    "                'Volumes Sold':b_volume,\n",
    "                'Publisher Name':b_publisher,\n",
    "                'Genre':b_genre})"
   ]
  },
  {
   "cell_type": "code",
   "execution_count": 116,
   "id": "ad3c9260",
   "metadata": {},
   "outputs": [
    {
     "data": {
      "text/html": [
       "<div>\n",
       "<style scoped>\n",
       "    .dataframe tbody tr th:only-of-type {\n",
       "        vertical-align: middle;\n",
       "    }\n",
       "\n",
       "    .dataframe tbody tr th {\n",
       "        vertical-align: top;\n",
       "    }\n",
       "\n",
       "    .dataframe thead th {\n",
       "        text-align: right;\n",
       "    }\n",
       "</style>\n",
       "<table border=\"1\" class=\"dataframe\">\n",
       "  <thead>\n",
       "    <tr style=\"text-align: right;\">\n",
       "      <th></th>\n",
       "      <th>Book Name</th>\n",
       "      <th>Author_name</th>\n",
       "      <th>Volumes Sold</th>\n",
       "      <th>Publisher Name</th>\n",
       "      <th>Genre</th>\n",
       "    </tr>\n",
       "  </thead>\n",
       "  <tbody>\n",
       "    <tr>\n",
       "      <th>0</th>\n",
       "      <td>Da Vinci Code,The</td>\n",
       "      <td>Brown, Dan</td>\n",
       "      <td>5,094,805</td>\n",
       "      <td>Transworld</td>\n",
       "      <td>Crime, Thriller &amp; Adventure</td>\n",
       "    </tr>\n",
       "    <tr>\n",
       "      <th>1</th>\n",
       "      <td>Harry Potter and the Deathly Hallows</td>\n",
       "      <td>Rowling, J.K.</td>\n",
       "      <td>4,475,152</td>\n",
       "      <td>Bloomsbury</td>\n",
       "      <td>Children's Fiction</td>\n",
       "    </tr>\n",
       "    <tr>\n",
       "      <th>2</th>\n",
       "      <td>Harry Potter and the Philosopher's Stone</td>\n",
       "      <td>Rowling, J.K.</td>\n",
       "      <td>4,200,654</td>\n",
       "      <td>Bloomsbury</td>\n",
       "      <td>Children's Fiction</td>\n",
       "    </tr>\n",
       "    <tr>\n",
       "      <th>3</th>\n",
       "      <td>Harry Potter and the Order of the Phoenix</td>\n",
       "      <td>Rowling, J.K.</td>\n",
       "      <td>4,179,479</td>\n",
       "      <td>Bloomsbury</td>\n",
       "      <td>Children's Fiction</td>\n",
       "    </tr>\n",
       "    <tr>\n",
       "      <th>4</th>\n",
       "      <td>Fifty Shades of Grey</td>\n",
       "      <td>James, E. L.</td>\n",
       "      <td>3,758,936</td>\n",
       "      <td>Random House</td>\n",
       "      <td>Romance &amp; Sagas</td>\n",
       "    </tr>\n",
       "    <tr>\n",
       "      <th>...</th>\n",
       "      <td>...</td>\n",
       "      <td>...</td>\n",
       "      <td>...</td>\n",
       "      <td>...</td>\n",
       "      <td>...</td>\n",
       "    </tr>\n",
       "    <tr>\n",
       "      <th>95</th>\n",
       "      <td>Ghost,The</td>\n",
       "      <td>Harris, Robert</td>\n",
       "      <td>807,311</td>\n",
       "      <td>Random House</td>\n",
       "      <td>General &amp; Literary Fiction</td>\n",
       "    </tr>\n",
       "    <tr>\n",
       "      <th>96</th>\n",
       "      <td>Happy Days with the Naked Chef</td>\n",
       "      <td>Oliver, Jamie</td>\n",
       "      <td>794,201</td>\n",
       "      <td>Penguin</td>\n",
       "      <td>Food &amp; Drink: General</td>\n",
       "    </tr>\n",
       "    <tr>\n",
       "      <th>97</th>\n",
       "      <td>Hunger Games,The:Hunger Games Trilogy</td>\n",
       "      <td>Collins, Suzanne</td>\n",
       "      <td>792,187</td>\n",
       "      <td>Scholastic Ltd.</td>\n",
       "      <td>Young Adult Fiction</td>\n",
       "    </tr>\n",
       "    <tr>\n",
       "      <th>98</th>\n",
       "      <td>Lost Boy,The:A Foster Child's Search for the L...</td>\n",
       "      <td>Pelzer, Dave</td>\n",
       "      <td>791,507</td>\n",
       "      <td>Orion</td>\n",
       "      <td>Biography: General</td>\n",
       "    </tr>\n",
       "    <tr>\n",
       "      <th>99</th>\n",
       "      <td>Jamie's Ministry of Food:Anyone Can Learn to C...</td>\n",
       "      <td>Oliver, Jamie</td>\n",
       "      <td>791,095</td>\n",
       "      <td>Penguin</td>\n",
       "      <td>Food &amp; Drink: General</td>\n",
       "    </tr>\n",
       "  </tbody>\n",
       "</table>\n",
       "<p>100 rows × 5 columns</p>\n",
       "</div>"
      ],
      "text/plain": [
       "                                            Book Name       Author_name  \\\n",
       "0                                   Da Vinci Code,The        Brown, Dan   \n",
       "1                Harry Potter and the Deathly Hallows     Rowling, J.K.   \n",
       "2            Harry Potter and the Philosopher's Stone     Rowling, J.K.   \n",
       "3           Harry Potter and the Order of the Phoenix     Rowling, J.K.   \n",
       "4                                Fifty Shades of Grey      James, E. L.   \n",
       "..                                                ...               ...   \n",
       "95                                          Ghost,The    Harris, Robert   \n",
       "96                     Happy Days with the Naked Chef     Oliver, Jamie   \n",
       "97              Hunger Games,The:Hunger Games Trilogy  Collins, Suzanne   \n",
       "98  Lost Boy,The:A Foster Child's Search for the L...      Pelzer, Dave   \n",
       "99  Jamie's Ministry of Food:Anyone Can Learn to C...     Oliver, Jamie   \n",
       "\n",
       "   Volumes Sold   Publisher Name                        Genre  \n",
       "0     5,094,805       Transworld  Crime, Thriller & Adventure  \n",
       "1     4,475,152       Bloomsbury           Children's Fiction  \n",
       "2     4,200,654       Bloomsbury           Children's Fiction  \n",
       "3     4,179,479       Bloomsbury           Children's Fiction  \n",
       "4     3,758,936     Random House              Romance & Sagas  \n",
       "..          ...              ...                          ...  \n",
       "95      807,311     Random House   General & Literary Fiction  \n",
       "96      794,201          Penguin        Food & Drink: General  \n",
       "97      792,187  Scholastic Ltd.          Young Adult Fiction  \n",
       "98      791,507            Orion           Biography: General  \n",
       "99      791,095          Penguin        Food & Drink: General  \n",
       "\n",
       "[100 rows x 5 columns]"
      ]
     },
     "execution_count": 116,
     "metadata": {},
     "output_type": "execute_result"
    }
   ],
   "source": [
    "df"
   ]
  },
  {
   "cell_type": "code",
   "execution_count": 117,
   "id": "c3c79274",
   "metadata": {},
   "outputs": [],
   "source": [
    "driver.close()"
   ]
  },
  {
   "cell_type": "markdown",
   "id": "39a379f6",
   "metadata": {},
   "source": [
    "# Q5"
   ]
  },
  {
   "cell_type": "code",
   "execution_count": 118,
   "id": "57d2cad6",
   "metadata": {},
   "outputs": [],
   "source": [
    "driver=webdriver.Chrome()"
   ]
  },
  {
   "cell_type": "code",
   "execution_count": 119,
   "id": "6e84e6fe",
   "metadata": {},
   "outputs": [],
   "source": [
    "driver.get('https://www.billboard.com/charts/')"
   ]
  },
  {
   "cell_type": "code",
   "execution_count": 122,
   "id": "77126218",
   "metadata": {},
   "outputs": [],
   "source": [
    "# Scraping data for song name\n",
    "\n",
    "s_name=[]\n",
    "\n",
    "name_tags=driver.find_elements(By.XPATH,'//h3[@class=\"c-title  a-no-trucate a-font-primary-bold-s u-letter-spacing-0021 lrv-u-font-size-18@tablet lrv-u-font-size-16 u-line-height-125 u-line-height-normal@mobile-max a-truncate-ellipsis u-max-width-330 u-max-width-230@tablet-only\"]')\n",
    "for i in name_tags:\n",
    "    name=i.text\n",
    "    s_name.append(name)"
   ]
  },
  {
   "cell_type": "code",
   "execution_count": 123,
   "id": "d6e6e1a9",
   "metadata": {},
   "outputs": [
    {
     "data": {
      "text/plain": [
       "99"
      ]
     },
     "execution_count": 123,
     "metadata": {},
     "output_type": "execute_result"
    }
   ],
   "source": [
    "len(s_name)"
   ]
  },
  {
   "cell_type": "code",
   "execution_count": 124,
   "id": "63056b3b",
   "metadata": {},
   "outputs": [
    {
     "data": {
      "text/plain": [
       "['Lovin On Me',\n",
       " 'Lose Control',\n",
       " 'Carnival',\n",
       " 'Beautiful Things',\n",
       " 'Snooze',\n",
       " 'Cruel Summer',\n",
       " 'Greedy',\n",
       " 'I Remember Everything',\n",
       " 'Agora Hills',\n",
       " 'Yes, And?',\n",
       " 'Stick Season',\n",
       " 'Fast Car',\n",
       " 'Water',\n",
       " 'Last Night',\n",
       " 'Redrum',\n",
       " \"Thinkin' Bout Me\",\n",
       " \"Is It Over Now? (Taylor's Version) [From The Vault]\",\n",
       " 'Pretty Little Poison',\n",
       " 'Flowers',\n",
       " 'Paint The Town Red',\n",
       " 'Houdini',\n",
       " 'Made For Me',\n",
       " 'Never Lose Me',\n",
       " 'La Diabla',\n",
       " 'Where The Wild Things Are',\n",
       " 'Training Season',\n",
       " 'The Painter',\n",
       " 'Feather',\n",
       " 'What Was I Made For?',\n",
       " 'Rich Baby Daddy',\n",
       " 'Whatever She Wants',\n",
       " 'Truck Bed',\n",
       " 'Selfish',\n",
       " 'Everybody',\n",
       " 'Vampire',\n",
       " 'Wild Ones',\n",
       " 'On My Mama',\n",
       " 'Praise Jah In The Moonlight',\n",
       " 'Save Me',\n",
       " 'Exes',\n",
       " 'Breathe',\n",
       " 'Dance The Night',\n",
       " 'Need A Favor',\n",
       " 'Surround Sound',\n",
       " 'World On Fire',\n",
       " 'Yeah!',\n",
       " 'Burn It Down',\n",
       " 'Good Good',\n",
       " 'La Victima',\n",
       " 'End Of Beginning',\n",
       " 'Get In With Me',\n",
       " 'Burn',\n",
       " 'Man Made A Bar',\n",
       " '16 Carriages',\n",
       " 'First Person Shooter',\n",
       " 'Fuk Sumn',\n",
       " 'One Of The Girls',\n",
       " 'Back To Me',\n",
       " 'One Call',\n",
       " 'Contigo',\n",
       " '23',\n",
       " 'Murder On The Dancefloor',\n",
       " 'You Broke My Heart',\n",
       " 'Think U The Shit (Fart)',\n",
       " 'FTCU',\n",
       " 'FE!N',\n",
       " 'Hiss',\n",
       " 'I Can Feel It',\n",
       " 'Bandit',\n",
       " 'Spin You Around (1/24)',\n",
       " 'Soak City',\n",
       " 'Forever',\n",
       " \"Mamaw's House\",\n",
       " 'Act II: Date @ 8',\n",
       " 'Igual Que Un Angel',\n",
       " 'Nee-nah',\n",
       " 'Wildflowers And Wild Horses',\n",
       " 'Bellakeo',\n",
       " 'Harley Quinn',\n",
       " 'Standing Next To You',\n",
       " 'Bittersweet',\n",
       " 'IDGAF',\n",
       " 'Home',\n",
       " 'Vultures',\n",
       " 'Yeah Glo!',\n",
       " 'Coal',\n",
       " 'Mmhmm',\n",
       " 'Psycho CEO',\n",
       " 'Perro Negro',\n",
       " 'Sensational',\n",
       " 'Oklahoma Smokeshow',\n",
       " 'Tu Name',\n",
       " 'Do It',\n",
       " 'Worth It',\n",
       " 'Talking',\n",
       " 'Monaco',\n",
       " 'Where It Ends',\n",
       " 'Wondering Why',\n",
       " 'Northern Attitude']"
      ]
     },
     "execution_count": 124,
     "metadata": {},
     "output_type": "execute_result"
    }
   ],
   "source": [
    "s_name"
   ]
  },
  {
   "cell_type": "code",
   "execution_count": 125,
   "id": "1ac286d6",
   "metadata": {},
   "outputs": [],
   "source": [
    "#scraping data for artist name\n",
    "\n",
    "s_aname=[]\n",
    "\n",
    "aname_tags=driver.find_elements(By.XPATH,'//span[@class=\"c-label  a-no-trucate a-font-primary-s lrv-u-font-size-14@mobile-max u-line-height-normal@mobile-max u-letter-spacing-0021 lrv-u-display-block a-truncate-ellipsis-2line u-max-width-330 u-max-width-230@tablet-only\"]')\n",
    "for i in aname_tags:\n",
    "    aname=i.text\n",
    "    s_aname.append(aname)"
   ]
  },
  {
   "cell_type": "code",
   "execution_count": 126,
   "id": "f7796799",
   "metadata": {},
   "outputs": [
    {
     "data": {
      "text/plain": [
       "99"
      ]
     },
     "execution_count": 126,
     "metadata": {},
     "output_type": "execute_result"
    }
   ],
   "source": [
    "len(s_aname)"
   ]
  },
  {
   "cell_type": "code",
   "execution_count": 127,
   "id": "6bffec73",
   "metadata": {},
   "outputs": [
    {
     "data": {
      "text/plain": [
       "['Jack Harlow',\n",
       " 'Teddy Swims',\n",
       " '¥$: Kanye West & Ty Dolla $ign Featuring Rich The Kid & Playboi Carti',\n",
       " 'Benson Boone',\n",
       " 'SZA',\n",
       " 'Taylor Swift',\n",
       " 'Tate McRae',\n",
       " 'Zach Bryan Featuring Kacey Musgraves',\n",
       " 'Doja Cat',\n",
       " 'Ariana Grande',\n",
       " 'Noah Kahan',\n",
       " 'Luke Combs',\n",
       " 'Tyla',\n",
       " 'Morgan Wallen',\n",
       " '21 Savage',\n",
       " 'Morgan Wallen',\n",
       " 'Taylor Swift',\n",
       " 'Warren Zeiders',\n",
       " 'Miley Cyrus',\n",
       " 'Doja Cat',\n",
       " 'Dua Lipa',\n",
       " 'Muni Long',\n",
       " 'Flo Milli',\n",
       " 'Xavi',\n",
       " 'Luke Combs',\n",
       " 'Dua Lipa',\n",
       " 'Cody Johnson',\n",
       " 'Sabrina Carpenter',\n",
       " 'Billie Eilish',\n",
       " 'Drake Featuring Sexyy Red & SZA',\n",
       " 'Bryson Tiller',\n",
       " 'HARDY',\n",
       " 'Justin Timberlake',\n",
       " 'Nicki Minaj Featuring Lil Uzi Vert',\n",
       " 'Olivia Rodrigo',\n",
       " 'Jessie Murph & Jelly Roll',\n",
       " 'Victoria Monet',\n",
       " 'YG Marley',\n",
       " 'Jelly Roll With Lainey Wilson',\n",
       " 'Tate McRae',\n",
       " 'Yeat',\n",
       " 'Dua Lipa',\n",
       " 'Jelly Roll',\n",
       " 'JID Featuring 21 Savage & Baby Tate',\n",
       " 'Nate Smith',\n",
       " 'Usher Featuring Lil Jon & Ludacris',\n",
       " 'Parker McCollum',\n",
       " 'Usher, Summer Walker & 21 Savage',\n",
       " 'Xavi',\n",
       " 'Djo',\n",
       " 'BossMan Dlow',\n",
       " '¥$: Kanye West & Ty Dolla $ign',\n",
       " 'Morgan Wallen Featuring Eric Church',\n",
       " 'Beyonce',\n",
       " 'Drake Featuring J. Cole',\n",
       " '¥$: Kanye West & Ty Dolla $ign',\n",
       " 'The Weeknd, Jennie & Lily Rose Depp',\n",
       " '¥$: Kanye West & Ty Dolla $ign',\n",
       " 'Rich Amiri',\n",
       " 'Karol G & Tiesto',\n",
       " 'Chayce Beckham',\n",
       " 'Sophie Ellis-Bextor',\n",
       " 'Drake',\n",
       " 'Ice Spice',\n",
       " 'Nicki Minaj',\n",
       " 'Travis Scott Featuring Playboi Carti',\n",
       " 'Megan Thee Stallion',\n",
       " 'Kane Brown',\n",
       " 'Don Toliver',\n",
       " 'Morgan Wallen',\n",
       " '310babii',\n",
       " 'Noah Kahan',\n",
       " 'Thomas Rhett Featuring Morgan Wallen',\n",
       " '4Batz',\n",
       " 'Kali Uchis & Peso Pluma',\n",
       " '21 Savage, Travis Scott & Metro Boomin',\n",
       " 'Lainey Wilson',\n",
       " 'Peso Pluma & Anitta',\n",
       " 'Fuerza Regida & Marshmello',\n",
       " 'Jung Kook',\n",
       " 'Gunna',\n",
       " 'Drake Featuring Yeat',\n",
       " 'Good Neighbours',\n",
       " '¥$: Kanye West & Ty Dolla $ign Featuring Lil Durk & Bump J',\n",
       " 'GloRilla',\n",
       " 'Dylan Gossett',\n",
       " 'BigXthaPlug',\n",
       " 'Yeat',\n",
       " 'Bad Bunny & Feid',\n",
       " 'Chris Brown Featuring Davido & Lojay',\n",
       " 'Zach Bryan',\n",
       " 'Fuerza Regida',\n",
       " '¥$: Kanye West & Ty Dolla $ign',\n",
       " 'Offset & Don Toliver',\n",
       " '¥$: Kanye West & Ty Dolla $ign Featuring North West',\n",
       " 'Bad Bunny',\n",
       " 'Bailey Zimmerman',\n",
       " 'The Red Clay Strays',\n",
       " 'Noah Kahan With Hozier']"
      ]
     },
     "execution_count": 127,
     "metadata": {},
     "output_type": "execute_result"
    }
   ],
   "source": [
    "s_aname"
   ]
  },
  {
   "cell_type": "code",
   "execution_count": null,
   "id": "86239163",
   "metadata": {},
   "outputs": [],
   "source": [
    "#scraping data for last week rank\n",
    "\n",
    "s_lrank=[]\n",
    "\n",
    "lrank_tags=driver.find_elements(By.XPATH,'')\n",
    "for i in lrank_tags:\n",
    "    lrank=i.text\n",
    "    s_lrank.append(lrank)"
   ]
  },
  {
   "cell_type": "code",
   "execution_count": null,
   "id": "4e399d2b",
   "metadata": {},
   "outputs": [],
   "source": [
    "len(s_lrank)"
   ]
  },
  {
   "cell_type": "code",
   "execution_count": 128,
   "id": "1425a7b8",
   "metadata": {},
   "outputs": [],
   "source": [
    "driver.close()"
   ]
  },
  {
   "cell_type": "code",
   "execution_count": 129,
   "id": "0a246c13",
   "metadata": {},
   "outputs": [],
   "source": [
    "driver=webdriver.Chrome()"
   ]
  },
  {
   "cell_type": "code",
   "execution_count": 130,
   "id": "cb921a58",
   "metadata": {},
   "outputs": [],
   "source": [
    "driver.get('https://github.com/trending')"
   ]
  },
  {
   "cell_type": "code",
   "execution_count": 131,
   "id": "896d9783",
   "metadata": {},
   "outputs": [
    {
     "data": {
      "text/plain": [
       "['layerdiffusion /',\n",
       " 'naver /',\n",
       " 'EbookFoundation /',\n",
       " 'cooderl /',\n",
       " 'ReVanced /',\n",
       " 'AUTOMATIC1111 /',\n",
       " 'pydantic /',\n",
       " 'iptv-org /',\n",
       " 'ente-io /',\n",
       " 'vercel /',\n",
       " 'bigcode-project /',\n",
       " 'adrianhajdin /',\n",
       " 'microsoft /',\n",
       " 'microsoft /',\n",
       " 'nodejs /',\n",
       " 'Lissy93 /',\n",
       " 'jafioti /',\n",
       " 'cloudcommunity /',\n",
       " 'allenai /',\n",
       " 'microsoft /',\n",
       " 'alireza0 /',\n",
       " 'argmaxinc /',\n",
       " 'memorysafety /',\n",
       " 'FuelLabs /']"
      ]
     },
     "execution_count": 131,
     "metadata": {},
     "output_type": "execute_result"
    }
   ],
   "source": [
    "# scraping data for reopsitory name\n",
    "\n",
    "g_title=[]\n",
    "\n",
    "title_tags=driver.find_elements(By.XPATH,'//span[@class=\"text-normal\"]')\n",
    "for i in title_tags:\n",
    "    title=i.text\n",
    "    g_title.append(title)\n",
    "g_title[0:24]"
   ]
  },
  {
   "cell_type": "code",
   "execution_count": 132,
   "id": "48ded271",
   "metadata": {},
   "outputs": [
    {
     "data": {
      "text/plain": [
       "25"
      ]
     },
     "execution_count": 132,
     "metadata": {},
     "output_type": "execute_result"
    }
   ],
   "source": [
    "len(g_title)"
   ]
  },
  {
   "cell_type": "code",
   "execution_count": 133,
   "id": "5722ab11",
   "metadata": {},
   "outputs": [
    {
     "data": {
      "text/plain": [
       "['layerdiffusion /',\n",
       " 'naver /',\n",
       " 'EbookFoundation /',\n",
       " 'cooderl /',\n",
       " 'ReVanced /',\n",
       " 'AUTOMATIC1111 /',\n",
       " 'pydantic /',\n",
       " 'iptv-org /',\n",
       " 'ente-io /',\n",
       " 'vercel /',\n",
       " 'bigcode-project /',\n",
       " 'adrianhajdin /',\n",
       " 'microsoft /',\n",
       " 'microsoft /',\n",
       " 'nodejs /',\n",
       " 'Lissy93 /',\n",
       " 'jafioti /',\n",
       " 'cloudcommunity /',\n",
       " 'allenai /',\n",
       " 'microsoft /',\n",
       " 'alireza0 /',\n",
       " 'argmaxinc /',\n",
       " 'memorysafety /',\n",
       " 'FuelLabs /',\n",
       " 'SerenityOS /']"
      ]
     },
     "execution_count": 133,
     "metadata": {},
     "output_type": "execute_result"
    }
   ],
   "source": [
    "g_title"
   ]
  },
  {
   "cell_type": "code",
   "execution_count": 134,
   "id": "cee0842d",
   "metadata": {},
   "outputs": [],
   "source": [
    "#scraping data for repository description\n",
    "\n",
    "g_description=[]\n",
    "\n",
    "description_tags=driver.find_elements(By.XPATH,'//p[@class=\"col-9 color-fg-muted my-1 pr-4\"]')\n",
    "for i in description_tags:\n",
    "    description=i.text\n",
    "    g_description.append(description)"
   ]
  },
  {
   "cell_type": "code",
   "execution_count": 135,
   "id": "bbbd0ebc",
   "metadata": {},
   "outputs": [
    {
     "data": {
      "text/plain": [
       "24"
      ]
     },
     "execution_count": 135,
     "metadata": {},
     "output_type": "execute_result"
    }
   ],
   "source": [
    "len(g_description)"
   ]
  },
  {
   "cell_type": "code",
   "execution_count": 136,
   "id": "eacefcd1",
   "metadata": {},
   "outputs": [
    {
     "data": {
      "text/plain": [
       "['[WIP] Layer Diffusion for WebUI (via Forge)',\n",
       " '📚 Freely available programming books',\n",
       " '🤗更优雅的微信公众号订阅方式，支持私有化部署、微信公众号RSS生成（基于微信读书）。',\n",
       " '💊 Application to use ReVanced on Android',\n",
       " 'Stable Diffusion web UI',\n",
       " 'Build better UIs faster.',\n",
       " 'Collection of publicly available IPTV channels from all over the world',\n",
       " 'Fully open source, End to End Encrypted alternative to Google Photos and Apple Photos',\n",
       " 'Build AI-powered applications with React, Svelte, Vue, and Solid',\n",
       " 'Home of StarCoder2!',\n",
       " 'Learn to create modern websites with sleek parallax effects and bento box layouts. This course covers everything from stylish UI design to mobile-first principles while strengthening your React.js and Tailwind CSS skills.',\n",
       " '18 Lessons, Get Started Building with Generative AI 🔗 https://microsoft.github.io/generative-ai-for-beginners/',\n",
       " '7 Lessons, Kick-start Your Cybersecurity Learning.',\n",
       " 'The Node.js® Website',\n",
       " '🕵️\\u200d♂️ All-in-one OSINT tool for analysing any website',\n",
       " 'Deep learning at the speed of light.',\n",
       " 'A curated list of free courses & certifications.',\n",
       " 'Modeling, training, eval, and inference code for OLMo',\n",
       " '12 Weeks, 24 Lessons, AI for All!',\n",
       " 'An advanced Web Panel • Built for SagerNet/Sing-Box',\n",
       " 'Swift native on-device speech recognition with Whisper for Apple Silicon',\n",
       " 'This repository is the future home of the River reverse proxy application, based on the pingora library from Cloudflare.',\n",
       " 'Rust full node implementation of the Fuel v2 protocol.',\n",
       " 'The Serenity Operating System 🐞']"
      ]
     },
     "execution_count": 136,
     "metadata": {},
     "output_type": "execute_result"
    }
   ],
   "source": [
    "g_description"
   ]
  },
  {
   "cell_type": "code",
   "execution_count": 139,
   "id": "d331856f",
   "metadata": {},
   "outputs": [],
   "source": [
    "#scrpaing data for contributors count\n",
    "\n",
    "g_contributors=[]\n",
    "\n",
    "contributor_tags=driver.find_elements(By.XPATH,'//a[2][@class=\"Link Link--muted d-inline-block mr-3\"]')\n",
    "for i in contributor_tags:\n",
    "    contributor=i.text\n",
    "    g_contributors.append(contributor)"
   ]
  },
  {
   "cell_type": "code",
   "execution_count": 140,
   "id": "552aeac2",
   "metadata": {},
   "outputs": [
    {
     "data": {
      "text/plain": [
       "25"
      ]
     },
     "execution_count": 140,
     "metadata": {},
     "output_type": "execute_result"
    }
   ],
   "source": [
    "len(g_contributors)"
   ]
  },
  {
   "cell_type": "code",
   "execution_count": 141,
   "id": "e34bae79",
   "metadata": {},
   "outputs": [
    {
     "data": {
      "text/plain": [
       "['57',\n",
       " '39',\n",
       " '59,233',\n",
       " '87',\n",
       " '587',\n",
       " '24,143',\n",
       " '219',\n",
       " '1,532',\n",
       " '144',\n",
       " '757',\n",
       " '49',\n",
       " '38',\n",
       " '16,063',\n",
       " '99',\n",
       " '5,598',\n",
       " '1,111',\n",
       " '15',\n",
       " '1,504',\n",
       " '280',\n",
       " '4,463',\n",
       " '161',\n",
       " '101',\n",
       " '57',\n",
       " '1,915',\n",
       " '2,930']"
      ]
     },
     "execution_count": 141,
     "metadata": {},
     "output_type": "execute_result"
    }
   ],
   "source": [
    "g_contributors"
   ]
  },
  {
   "cell_type": "code",
   "execution_count": 146,
   "id": "14b56763",
   "metadata": {},
   "outputs": [],
   "source": [
    "#scraping data for language used\n",
    "\n",
    "g_language=[]\n",
    "language_tags=driver.find_elements(By.XPATH,'//span[@class=\"d-inline-block ml-0 mr-3\"]')\n",
    "for i in language_tags:\n",
    "    language=i.text\n",
    "    g_language.append(language)\n"
   ]
  },
  {
   "cell_type": "code",
   "execution_count": 147,
   "id": "90e134f1",
   "metadata": {},
   "outputs": [
    {
     "data": {
      "text/plain": [
       "21"
      ]
     },
     "execution_count": 147,
     "metadata": {},
     "output_type": "execute_result"
    }
   ],
   "source": [
    "len(g_language)"
   ]
  },
  {
   "cell_type": "code",
   "execution_count": 148,
   "id": "d8d058a4",
   "metadata": {},
   "outputs": [
    {
     "data": {
      "text/plain": [
       "['Python',\n",
       " 'Python',\n",
       " 'TypeScript',\n",
       " 'Dart',\n",
       " 'Python',\n",
       " 'Python',\n",
       " 'JavaScript',\n",
       " 'TypeScript',\n",
       " 'TypeScript',\n",
       " 'Python',\n",
       " 'JavaScript',\n",
       " 'Jupyter Notebook',\n",
       " 'TypeScript',\n",
       " 'TypeScript',\n",
       " 'Rust',\n",
       " 'Python',\n",
       " 'Jupyter Notebook',\n",
       " 'Vue',\n",
       " 'Swift',\n",
       " 'Rust',\n",
       " 'C++']"
      ]
     },
     "execution_count": 148,
     "metadata": {},
     "output_type": "execute_result"
    }
   ],
   "source": [
    "g_language"
   ]
  },
  {
   "cell_type": "code",
   "execution_count": 149,
   "id": "53df98b3",
   "metadata": {},
   "outputs": [],
   "source": [
    "driver.close()"
   ]
  },
  {
   "cell_type": "code",
   "execution_count": null,
   "id": "ec705a4b",
   "metadata": {},
   "outputs": [],
   "source": []
  }
 ],
 "metadata": {
  "kernelspec": {
   "display_name": "Python 3 (ipykernel)",
   "language": "python",
   "name": "python3"
  },
  "language_info": {
   "codemirror_mode": {
    "name": "ipython",
    "version": 3
   },
   "file_extension": ".py",
   "mimetype": "text/x-python",
   "name": "python",
   "nbconvert_exporter": "python",
   "pygments_lexer": "ipython3",
   "version": "3.10.9"
  }
 },
 "nbformat": 4,
 "nbformat_minor": 5
}
