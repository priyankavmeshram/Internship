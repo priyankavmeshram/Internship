{
 "cells": [
  {
   "cell_type": "code",
   "execution_count": 1,
   "id": "75d64044",
   "metadata": {},
   "outputs": [
    {
     "name": "stdout",
     "output_type": "stream",
     "text": [
      "Requirement already satisfied: selenium in c:\\users\\priyanka\\anaconda3\\lib\\site-packages (4.17.2)\n",
      "Requirement already satisfied: certifi>=2021.10.8 in c:\\users\\priyanka\\anaconda3\\lib\\site-packages (from selenium) (2023.5.7)\n",
      "Requirement already satisfied: typing_extensions>=4.9.0 in c:\\users\\priyanka\\anaconda3\\lib\\site-packages (from selenium) (4.9.0)\n",
      "Requirement already satisfied: urllib3[socks]<3,>=1.26 in c:\\users\\priyanka\\anaconda3\\lib\\site-packages (from selenium) (1.26.14)\n",
      "Requirement already satisfied: trio-websocket~=0.9 in c:\\users\\priyanka\\anaconda3\\lib\\site-packages (from selenium) (0.11.1)\n",
      "Requirement already satisfied: trio~=0.17 in c:\\users\\priyanka\\anaconda3\\lib\\site-packages (from selenium) (0.24.0)\n",
      "Requirement already satisfied: cffi>=1.14 in c:\\users\\priyanka\\anaconda3\\lib\\site-packages (from trio~=0.17->selenium) (1.15.1)\n",
      "Requirement already satisfied: idna in c:\\users\\priyanka\\anaconda3\\lib\\site-packages (from trio~=0.17->selenium) (3.4)\n",
      "Requirement already satisfied: sortedcontainers in c:\\users\\priyanka\\anaconda3\\lib\\site-packages (from trio~=0.17->selenium) (2.4.0)\n",
      "Requirement already satisfied: exceptiongroup in c:\\users\\priyanka\\anaconda3\\lib\\site-packages (from trio~=0.17->selenium) (1.2.0)\n",
      "Requirement already satisfied: sniffio>=1.3.0 in c:\\users\\priyanka\\anaconda3\\lib\\site-packages (from trio~=0.17->selenium) (1.3.0)\n",
      "Requirement already satisfied: outcome in c:\\users\\priyanka\\anaconda3\\lib\\site-packages (from trio~=0.17->selenium) (1.3.0.post0)\n",
      "Requirement already satisfied: attrs>=20.1.0 in c:\\users\\priyanka\\anaconda3\\lib\\site-packages (from trio~=0.17->selenium) (22.1.0)\n",
      "Requirement already satisfied: wsproto>=0.14 in c:\\users\\priyanka\\anaconda3\\lib\\site-packages (from trio-websocket~=0.9->selenium) (1.2.0)\n",
      "Requirement already satisfied: PySocks!=1.5.7,<2.0,>=1.5.6 in c:\\users\\priyanka\\anaconda3\\lib\\site-packages (from urllib3[socks]<3,>=1.26->selenium) (1.7.1)\n",
      "Requirement already satisfied: pycparser in c:\\users\\priyanka\\anaconda3\\lib\\site-packages (from cffi>=1.14->trio~=0.17->selenium) (2.21)\n",
      "Requirement already satisfied: h11<1,>=0.9.0 in c:\\users\\priyanka\\anaconda3\\lib\\site-packages (from wsproto>=0.14->trio-websocket~=0.9->selenium) (0.14.0)\n"
     ]
    }
   ],
   "source": [
    "!pip install selenium"
   ]
  },
  {
   "cell_type": "code",
   "execution_count": 1,
   "id": "d7edf0cc",
   "metadata": {},
   "outputs": [],
   "source": [
    "import selenium\n",
    "import pandas as pd\n",
    "from selenium import webdriver\n",
    "import warnings\n",
    "warnings.filterwarnings('ignore')\n",
    "from selenium.webdriver.common.by import By\n",
    "import time"
   ]
  },
  {
   "cell_type": "markdown",
   "id": "0d115fd5",
   "metadata": {},
   "source": [
    "# question 4 scrap the data for 100 sunglasses"
   ]
  },
  {
   "cell_type": "code",
   "execution_count": 2,
   "id": "7c57bcf0",
   "metadata": {},
   "outputs": [],
   "source": [
    "driver= webdriver.Chrome()"
   ]
  },
  {
   "cell_type": "code",
   "execution_count": 3,
   "id": "b49766de",
   "metadata": {},
   "outputs": [],
   "source": [
    "url='https://www.flipkart.com/'\n",
    "driver.get(url)"
   ]
  },
  {
   "cell_type": "code",
   "execution_count": 4,
   "id": "c759b6a9",
   "metadata": {},
   "outputs": [],
   "source": [
    "product= driver.find_element(By.XPATH,'//input[@type=\"text\"]')\n",
    "product.send_keys('sunglasses')"
   ]
  },
  {
   "cell_type": "code",
   "execution_count": 5,
   "id": "6d73ccf4",
   "metadata": {},
   "outputs": [],
   "source": [
    "search=driver.find_element(By.XPATH,\"//button[@class='L0Z3Pu']\")\n",
    "search.click()"
   ]
  },
  {
   "cell_type": "code",
   "execution_count": 6,
   "id": "4dd42e73",
   "metadata": {},
   "outputs": [],
   "source": [
    "B_name=[]\n",
    "Price=[]\n",
    "P_desc=[]\n",
    "Discount=[]"
   ]
  },
  {
   "cell_type": "code",
   "execution_count": 7,
   "id": "ae938c64",
   "metadata": {},
   "outputs": [],
   "source": [
    "for i in range(3):\n",
    "    b_name=driver.find_elements(By.XPATH,\"//div[@class='_2WkVRV']\")\n",
    "    p_desc=driver.find_elements(By.XPATH,\"//a[@class='IRpwTa']\")\n",
    "    price =driver.find_elements(By.XPATH,\"//div[@class='_25b18c']\")\n",
    "    discount=driver.find_elements(By.XPATH,\"//div[@class='_3Ay6Sb']\")\n",
    "    \n",
    "  #scrapping data for brand name   \n",
    "    for j  in b_name:\n",
    "        B_name.append(j.text)\n",
    "    B_name[:100]    \n",
    "    \n",
    "    \n",
    "#scrapping data for description \n",
    "    for k in p_desc:\n",
    "        P_desc.append(k.text)\n",
    "    P_desc[:100] \n",
    "    \n",
    " #scrapping data for price   \n",
    "    for l in price:\n",
    "        Price.append(l.text)\n",
    "    Price[:100] \n",
    "    \n",
    "#scrapping data for discount    \n",
    "    for t in discount:\n",
    "        Discount.append(t.text)\n",
    "    Discount[:100]"
   ]
  },
  {
   "cell_type": "code",
   "execution_count": 8,
   "id": "4a2fc049",
   "metadata": {},
   "outputs": [
    {
     "name": "stdout",
     "output_type": "stream",
     "text": [
      "100\n",
      "100\n",
      "100\n",
      "100\n"
     ]
    },
    {
     "data": {
      "text/plain": [
       "(None, None, None, None)"
      ]
     },
     "execution_count": 8,
     "metadata": {},
     "output_type": "execute_result"
    }
   ],
   "source": [
    "print(len(B_name[:100])),print(len(Price[:100])),print(len(P_desc[:100])),print(len(Discount[:100]))"
   ]
  },
  {
   "cell_type": "code",
   "execution_count": 9,
   "id": "811466af",
   "metadata": {},
   "outputs": [],
   "source": [
    "# creating data frame\n",
    "\n",
    "sun_gl=pd.DataFrame({})\n",
    "sun_gl['Brand_name']=B_name[:100]\n",
    "sun_gl['P_price']=Price[:100]\n",
    "sun_gl['Pr_desc']=P_desc[:100]\n",
    "sun_gl['P_discount']=Discount[:100]"
   ]
  },
  {
   "cell_type": "code",
   "execution_count": 10,
   "id": "dad1e78e",
   "metadata": {},
   "outputs": [
    {
     "data": {
      "text/html": [
       "<div>\n",
       "<style scoped>\n",
       "    .dataframe tbody tr th:only-of-type {\n",
       "        vertical-align: middle;\n",
       "    }\n",
       "\n",
       "    .dataframe tbody tr th {\n",
       "        vertical-align: top;\n",
       "    }\n",
       "\n",
       "    .dataframe thead th {\n",
       "        text-align: right;\n",
       "    }\n",
       "</style>\n",
       "<table border=\"1\" class=\"dataframe\">\n",
       "  <thead>\n",
       "    <tr style=\"text-align: right;\">\n",
       "      <th></th>\n",
       "      <th>Brand_name</th>\n",
       "      <th>P_price</th>\n",
       "      <th>Pr_desc</th>\n",
       "      <th>P_discount</th>\n",
       "    </tr>\n",
       "  </thead>\n",
       "  <tbody>\n",
       "    <tr>\n",
       "      <th>0</th>\n",
       "      <td>ROYAL SON</td>\n",
       "      <td>₹359₹1,49976% off</td>\n",
       "      <td>Mirrored Aviator Sunglasses (58)</td>\n",
       "      <td>76% off</td>\n",
       "    </tr>\n",
       "    <tr>\n",
       "      <th>1</th>\n",
       "      <td>Eyewearlabs</td>\n",
       "      <td>₹1,236₹3,59965% off</td>\n",
       "      <td>Polarized, UV Protection Wayfarer Sunglasses (51)</td>\n",
       "      <td>65% off</td>\n",
       "    </tr>\n",
       "    <tr>\n",
       "      <th>2</th>\n",
       "      <td>ROADWAY</td>\n",
       "      <td>₹129₹1,29990% off</td>\n",
       "      <td>UV Protection Wayfarer, Sports, Spectacle , Re...</td>\n",
       "      <td>90% off</td>\n",
       "    </tr>\n",
       "    <tr>\n",
       "      <th>3</th>\n",
       "      <td>SRPM</td>\n",
       "      <td>₹169₹1,29986% off</td>\n",
       "      <td>UV Protection Wayfarer Sunglasses (50)</td>\n",
       "      <td>86% off</td>\n",
       "    </tr>\n",
       "    <tr>\n",
       "      <th>4</th>\n",
       "      <td>ROADWAY</td>\n",
       "      <td>₹189₹99981% off</td>\n",
       "      <td>UV Protection Wayfarer Sunglasses (Free Size)</td>\n",
       "      <td>81% off</td>\n",
       "    </tr>\n",
       "    <tr>\n",
       "      <th>...</th>\n",
       "      <td>...</td>\n",
       "      <td>...</td>\n",
       "      <td>...</td>\n",
       "      <td>...</td>\n",
       "    </tr>\n",
       "    <tr>\n",
       "      <th>95</th>\n",
       "      <td>Fastrack</td>\n",
       "      <td>₹129₹99987% off</td>\n",
       "      <td>UV Protection Rectangular, Retro Square Sungla...</td>\n",
       "      <td>40% off</td>\n",
       "    </tr>\n",
       "    <tr>\n",
       "      <th>96</th>\n",
       "      <td>Eyewearlabs</td>\n",
       "      <td>₹199₹99980% off</td>\n",
       "      <td>UV Protection, Gradient Rectangular Sunglasses...</td>\n",
       "      <td>44% off</td>\n",
       "    </tr>\n",
       "    <tr>\n",
       "      <th>97</th>\n",
       "      <td>ROZZETTA CRAFT</td>\n",
       "      <td>₹499₹1,60068% off</td>\n",
       "      <td>UV Protection Retro Square Sunglasses (54)</td>\n",
       "      <td>79% off</td>\n",
       "    </tr>\n",
       "    <tr>\n",
       "      <th>98</th>\n",
       "      <td>Aarna Fashion</td>\n",
       "      <td>₹443₹1,29965% off</td>\n",
       "      <td>UV Protection Shield Sunglasses (Free Size)</td>\n",
       "      <td>66% off</td>\n",
       "    </tr>\n",
       "    <tr>\n",
       "      <th>99</th>\n",
       "      <td>Fastrack</td>\n",
       "      <td>₹169₹99983% off</td>\n",
       "      <td>Gradient, UV Protection Wayfarer Sunglasses (F...</td>\n",
       "      <td>40% off</td>\n",
       "    </tr>\n",
       "  </tbody>\n",
       "</table>\n",
       "<p>100 rows × 4 columns</p>\n",
       "</div>"
      ],
      "text/plain": [
       "        Brand_name              P_price  \\\n",
       "0        ROYAL SON    ₹359₹1,49976% off   \n",
       "1      Eyewearlabs  ₹1,236₹3,59965% off   \n",
       "2          ROADWAY    ₹129₹1,29990% off   \n",
       "3             SRPM    ₹169₹1,29986% off   \n",
       "4          ROADWAY      ₹189₹99981% off   \n",
       "..             ...                  ...   \n",
       "95        Fastrack      ₹129₹99987% off   \n",
       "96     Eyewearlabs      ₹199₹99980% off   \n",
       "97  ROZZETTA CRAFT    ₹499₹1,60068% off   \n",
       "98   Aarna Fashion    ₹443₹1,29965% off   \n",
       "99        Fastrack      ₹169₹99983% off   \n",
       "\n",
       "                                              Pr_desc P_discount  \n",
       "0                    Mirrored Aviator Sunglasses (58)    76% off  \n",
       "1   Polarized, UV Protection Wayfarer Sunglasses (51)    65% off  \n",
       "2   UV Protection Wayfarer, Sports, Spectacle , Re...    90% off  \n",
       "3              UV Protection Wayfarer Sunglasses (50)    86% off  \n",
       "4       UV Protection Wayfarer Sunglasses (Free Size)    81% off  \n",
       "..                                                ...        ...  \n",
       "95  UV Protection Rectangular, Retro Square Sungla...    40% off  \n",
       "96  UV Protection, Gradient Rectangular Sunglasses...    44% off  \n",
       "97         UV Protection Retro Square Sunglasses (54)    79% off  \n",
       "98        UV Protection Shield Sunglasses (Free Size)    66% off  \n",
       "99  Gradient, UV Protection Wayfarer Sunglasses (F...    40% off  \n",
       "\n",
       "[100 rows x 4 columns]"
      ]
     },
     "execution_count": 10,
     "metadata": {},
     "output_type": "execute_result"
    }
   ],
   "source": [
    "sun_gl"
   ]
  },
  {
   "cell_type": "markdown",
   "id": "dcc2d674",
   "metadata": {},
   "source": [
    "# question 5 scrap the data for apple iphone 11"
   ]
  },
  {
   "cell_type": "code",
   "execution_count": 11,
   "id": "208047ca",
   "metadata": {},
   "outputs": [],
   "source": [
    "driver=webdriver.Chrome()"
   ]
  },
  {
   "cell_type": "code",
   "execution_count": 13,
   "id": "d4b9f81b",
   "metadata": {},
   "outputs": [],
   "source": [
    "driver.get('https://www.flipkart.com/apple-iphone-11-black-64-gb/product\u0002reviews/itm4e5041ba101fd?pid=MOBFWQ6BXGJCEYNY&lid=LSTMOBFWQ6BXGJCEYNYZXSHRJ')\n"
   ]
  },
  {
   "cell_type": "markdown",
   "id": "1fdee478",
   "metadata": {},
   "source": [
    "#the message shown that this webpage is moved or deleted"
   ]
  },
  {
   "cell_type": "markdown",
   "id": "794b2118",
   "metadata": {},
   "source": [
    "# Question 6 scrap the data for 100 sneakers"
   ]
  },
  {
   "cell_type": "code",
   "execution_count": 15,
   "id": "6d71844a",
   "metadata": {},
   "outputs": [],
   "source": [
    "driver=webdriver.Chrome()"
   ]
  },
  {
   "cell_type": "code",
   "execution_count": 16,
   "id": "756e6da1",
   "metadata": {},
   "outputs": [],
   "source": [
    "url='https://www.flipkart.com/'\n",
    "driver.get(url)"
   ]
  },
  {
   "cell_type": "code",
   "execution_count": 17,
   "id": "6ae1533c",
   "metadata": {},
   "outputs": [],
   "source": [
    "product= driver.find_element(By.XPATH,\"/html/body/div/div/div[1]/div[1]/div[2]/div[2]/form/div/div/input\")\n",
    "product.send_keys('sneaker')"
   ]
  },
  {
   "cell_type": "code",
   "execution_count": 18,
   "id": "147c1da4",
   "metadata": {},
   "outputs": [],
   "source": [
    "search= driver.find_element(By.XPATH,\"/html/body/div/div/div[1]/div[1]/div[2]/div[2]/form/div/button\")\n",
    "search.click()"
   ]
  },
  {
   "cell_type": "code",
   "execution_count": 28,
   "id": "52fdb45f",
   "metadata": {},
   "outputs": [],
   "source": [
    "B_name=[]\n",
    "Price=[]\n",
    "P_desc=[]\n",
    "Discount=[]"
   ]
  },
  {
   "cell_type": "code",
   "execution_count": 31,
   "id": "04d64847",
   "metadata": {},
   "outputs": [],
   "source": [
    "for i in range(3):\n",
    "    b_name=driver.find_elements(By.XPATH,\"//div[@class='_2WkVRV']\")\n",
    "    p_desc=driver.find_elements(By.XPATH,\"//a[@class='IRpwTa']\")\n",
    "    discount=driver.find_elements(By.XPATH,\"//div[@class='_3Ay6Sb']\")\n",
    "    \n",
    "    for j  in b_name:\n",
    "        B_name.append(j.text)\n",
    "    B_name[:100]    \n",
    "    \n",
    "    \n",
    "    \n",
    "    for k in p_desc:\n",
    "        P_desc.append(k.text)\n",
    "    P_desc[:100] \n",
    "    \n",
    "    \n",
    "    for t in discount:\n",
    "        Discount.append(t.text)\n",
    "    Discount[:100]"
   ]
  },
  {
   "cell_type": "code",
   "execution_count": 32,
   "id": "1fe559d7",
   "metadata": {},
   "outputs": [
    {
     "name": "stdout",
     "output_type": "stream",
     "text": [
      "100\n",
      "100\n",
      "100\n"
     ]
    },
    {
     "data": {
      "text/plain": [
       "(None, None, None)"
      ]
     },
     "execution_count": 32,
     "metadata": {},
     "output_type": "execute_result"
    }
   ],
   "source": [
    "print(len(B_name[:100])),print(len(P_desc[:100])),print(len(Discount[:100]))"
   ]
  },
  {
   "cell_type": "code",
   "execution_count": 33,
   "id": "ee5117df",
   "metadata": {},
   "outputs": [
    {
     "data": {
      "text/html": [
       "<div>\n",
       "<style scoped>\n",
       "    .dataframe tbody tr th:only-of-type {\n",
       "        vertical-align: middle;\n",
       "    }\n",
       "\n",
       "    .dataframe tbody tr th {\n",
       "        vertical-align: top;\n",
       "    }\n",
       "\n",
       "    .dataframe thead th {\n",
       "        text-align: right;\n",
       "    }\n",
       "</style>\n",
       "<table border=\"1\" class=\"dataframe\">\n",
       "  <thead>\n",
       "    <tr style=\"text-align: right;\">\n",
       "      <th></th>\n",
       "      <th>Brand</th>\n",
       "      <th>Description</th>\n",
       "      <th>Discount</th>\n",
       "    </tr>\n",
       "  </thead>\n",
       "  <tbody>\n",
       "    <tr>\n",
       "      <th>0</th>\n",
       "      <td>VECHLO</td>\n",
       "      <td>Exclusive Sneaker Shoes Sneakers For Men</td>\n",
       "      <td>64% off</td>\n",
       "    </tr>\n",
       "    <tr>\n",
       "      <th>1</th>\n",
       "      <td>BRUTON</td>\n",
       "      <td>Sneakers For Women</td>\n",
       "      <td>76% off</td>\n",
       "    </tr>\n",
       "    <tr>\n",
       "      <th>2</th>\n",
       "      <td>Deals4you</td>\n",
       "      <td>Trending Stylish Casual Outdoor Shoes Sneakers...</td>\n",
       "      <td>70% off</td>\n",
       "    </tr>\n",
       "    <tr>\n",
       "      <th>3</th>\n",
       "      <td>URBANBOX</td>\n",
       "      <td>Casual Sneaker Shoes for Men | Soft Cushioned ...</td>\n",
       "      <td>70% off</td>\n",
       "    </tr>\n",
       "    <tr>\n",
       "      <th>4</th>\n",
       "      <td>RED TAPE</td>\n",
       "      <td>Casual Shoes| Caual Sneakers| White Sneakers F...</td>\n",
       "      <td>78% off</td>\n",
       "    </tr>\n",
       "    <tr>\n",
       "      <th>...</th>\n",
       "      <td>...</td>\n",
       "      <td>...</td>\n",
       "      <td>...</td>\n",
       "    </tr>\n",
       "    <tr>\n",
       "      <th>95</th>\n",
       "      <td>RED TAPE</td>\n",
       "      <td>Premium casual Shoes Sneakers For Men</td>\n",
       "      <td>78% off</td>\n",
       "    </tr>\n",
       "    <tr>\n",
       "      <th>96</th>\n",
       "      <td>BRUTON</td>\n",
       "      <td>Casual Sneakers Canvas High Top Boots For Boys...</td>\n",
       "      <td>76% off</td>\n",
       "    </tr>\n",
       "    <tr>\n",
       "      <th>97</th>\n",
       "      <td>BRUTON</td>\n",
       "      <td>Shuffle Ultra Sneakers For Men</td>\n",
       "      <td>76% off</td>\n",
       "    </tr>\n",
       "    <tr>\n",
       "      <th>98</th>\n",
       "      <td>ATOM</td>\n",
       "      <td>Modern Trendy Sneakers Shoes Sneakers For Men</td>\n",
       "      <td>66% off</td>\n",
       "    </tr>\n",
       "    <tr>\n",
       "      <th>99</th>\n",
       "      <td>Shoe Lab</td>\n",
       "      <td>Casual Sneaker Shoes for Women | Soft Cushione...</td>\n",
       "      <td>53% off</td>\n",
       "    </tr>\n",
       "  </tbody>\n",
       "</table>\n",
       "<p>100 rows × 3 columns</p>\n",
       "</div>"
      ],
      "text/plain": [
       "        Brand                                        Description Discount\n",
       "0      VECHLO           Exclusive Sneaker Shoes Sneakers For Men  64% off\n",
       "1      BRUTON                                 Sneakers For Women  76% off\n",
       "2   Deals4you  Trending Stylish Casual Outdoor Shoes Sneakers...  70% off\n",
       "3    URBANBOX  Casual Sneaker Shoes for Men | Soft Cushioned ...  70% off\n",
       "4    RED TAPE  Casual Shoes| Caual Sneakers| White Sneakers F...  78% off\n",
       "..        ...                                                ...      ...\n",
       "95   RED TAPE              Premium casual Shoes Sneakers For Men  78% off\n",
       "96     BRUTON  Casual Sneakers Canvas High Top Boots For Boys...  76% off\n",
       "97     BRUTON                     Shuffle Ultra Sneakers For Men  76% off\n",
       "98       ATOM      Modern Trendy Sneakers Shoes Sneakers For Men  66% off\n",
       "99   Shoe Lab  Casual Sneaker Shoes for Women | Soft Cushione...  53% off\n",
       "\n",
       "[100 rows x 3 columns]"
      ]
     },
     "execution_count": 33,
     "metadata": {},
     "output_type": "execute_result"
    }
   ],
   "source": [
    "# crating data frame\n",
    "sne_k=pd.DataFrame({})\n",
    "sne_k['Brand']=B_name[:100]\n",
    "sne_k['Description']= P_desc[:100]\n",
    "sne_k['Discount']=Discount[:100]\n",
    "\n",
    "sne_k"
   ]
  },
  {
   "cell_type": "markdown",
   "id": "fe112eeb",
   "metadata": {},
   "source": [
    "# Question 7 data scraping for Laptop"
   ]
  },
  {
   "cell_type": "code",
   "execution_count": 49,
   "id": "3acaecfd",
   "metadata": {},
   "outputs": [],
   "source": [
    "driver=webdriver.Chrome()"
   ]
  },
  {
   "cell_type": "code",
   "execution_count": 50,
   "id": "908252ca",
   "metadata": {},
   "outputs": [],
   "source": [
    "driver.get('https://www.amazon.in/')"
   ]
  },
  {
   "cell_type": "code",
   "execution_count": 51,
   "id": "3fe54a58",
   "metadata": {},
   "outputs": [],
   "source": [
    "product=driver.find_element(By.XPATH,'/html/body/div[1]/header/div/div[1]/div[2]/div/form/div[2]/div[1]/input')\n",
    "product.send_keys('laptop')"
   ]
  },
  {
   "cell_type": "code",
   "execution_count": 52,
   "id": "349c3d05",
   "metadata": {},
   "outputs": [],
   "source": [
    "search=driver.find_element(By.XPATH,'/html/body/div[1]/header/div/div[1]/div[2]/div/form/div[3]/div/span/input')\n",
    "search.click()"
   ]
  },
  {
   "cell_type": "code",
   "execution_count": 57,
   "id": "a32b6b4b",
   "metadata": {},
   "outputs": [],
   "source": [
    "Title=[]\n",
    "Price=[]\n",
    "Rating=[]"
   ]
  },
  {
   "cell_type": "code",
   "execution_count": 68,
   "id": "06a60ed9",
   "metadata": {},
   "outputs": [
    {
     "ename": "WebDriverException",
     "evalue": "Message: disconnected: not connected to DevTools\n  (failed to check if window was closed: disconnected: not connected to DevTools)\n  (Session info: chrome=121.0.6167.161)\nStacktrace:\n\tGetHandleVerifier [0x00007FF6266E5E42+3538674]\n\t(No symbol) [0x00007FF626304C02]\n\t(No symbol) [0x00007FF6261B5AEB]\n\t(No symbol) [0x00007FF6261A273F]\n\t(No symbol) [0x00007FF6261A22B0]\n\t(No symbol) [0x00007FF6261B7BF1]\n\t(No symbol) [0x00007FF62623B437]\n\t(No symbol) [0x00007FF62621EE53]\n\t(No symbol) [0x00007FF6261EF514]\n\t(No symbol) [0x00007FF6261F0631]\n\tGetHandleVerifier [0x00007FF626716CAD+3738973]\n\tGetHandleVerifier [0x00007FF62676C506+4089270]\n\tGetHandleVerifier [0x00007FF626764823+4057299]\n\tGetHandleVerifier [0x00007FF626435C49+720121]\n\t(No symbol) [0x00007FF62631126F]\n\t(No symbol) [0x00007FF62630C304]\n\t(No symbol) [0x00007FF62630C432]\n\t(No symbol) [0x00007FF6262FBD04]\n\tBaseThreadInitThunk [0x00007FFE081C257D+29]\n\tRtlUserThreadStart [0x00007FFE090CAA58+40]\n",
     "output_type": "error",
     "traceback": [
      "\u001b[1;31m---------------------------------------------------------------------------\u001b[0m",
      "\u001b[1;31mWebDriverException\u001b[0m                        Traceback (most recent call last)",
      "Cell \u001b[1;32mIn[68], line 2\u001b[0m\n\u001b[0;32m      1\u001b[0m \u001b[38;5;28;01mfor\u001b[39;00m i \u001b[38;5;129;01min\u001b[39;00m \u001b[38;5;28mrange\u001b[39m(\u001b[38;5;241m3\u001b[39m):\n\u001b[1;32m----> 2\u001b[0m    b_name\u001b[38;5;241m=\u001b[39m\u001b[43mdriver\u001b[49m\u001b[38;5;241;43m.\u001b[39;49m\u001b[43mfind_elements\u001b[49m\u001b[43m(\u001b[49m\u001b[43mBy\u001b[49m\u001b[38;5;241;43m.\u001b[39;49m\u001b[43mXPATH\u001b[49m\u001b[43m,\u001b[49m\u001b[38;5;124;43m'\u001b[39;49m\u001b[38;5;124;43m//span[@class=\u001b[39;49m\u001b[38;5;124;43m\"\u001b[39;49m\u001b[38;5;124;43ma-size-medium a-color-base a-text-normal\u001b[39;49m\u001b[38;5;124;43m\"\u001b[39;49m\u001b[38;5;124;43m]\u001b[39;49m\u001b[38;5;124;43m'\u001b[39;49m\u001b[43m)\u001b[49m\n\u001b[0;32m      3\u001b[0m    rating\u001b[38;5;241m=\u001b[39mdriver\u001b[38;5;241m.\u001b[39mfind_elements(By\u001b[38;5;241m.\u001b[39mXPATH,\u001b[38;5;124m'\u001b[39m\u001b[38;5;124m//a[@class=\u001b[39m\u001b[38;5;124m\"\u001b[39m\u001b[38;5;124ma-popover-trigger a-declarative\u001b[39m\u001b[38;5;124m\"\u001b[39m\u001b[38;5;124m]\u001b[39m\u001b[38;5;124m'\u001b[39m)\n\u001b[0;32m      4\u001b[0m    price \u001b[38;5;241m=\u001b[39mdriver\u001b[38;5;241m.\u001b[39mfind_elements(By\u001b[38;5;241m.\u001b[39mXPATH,\u001b[38;5;124m'\u001b[39m\u001b[38;5;124m//span[@class=\u001b[39m\u001b[38;5;124m\"\u001b[39m\u001b[38;5;124ma-price-whole\u001b[39m\u001b[38;5;124m\"\u001b[39m\u001b[38;5;124m]\u001b[39m\u001b[38;5;124m'\u001b[39m)\n",
      "File \u001b[1;32m~\\anaconda3\\lib\\site-packages\\selenium\\webdriver\\remote\\webdriver.py:771\u001b[0m, in \u001b[0;36mWebDriver.find_elements\u001b[1;34m(self, by, value)\u001b[0m\n\u001b[0;32m    767\u001b[0m     value \u001b[38;5;241m=\u001b[39m \u001b[38;5;124mf\u001b[39m\u001b[38;5;124m'\u001b[39m\u001b[38;5;124m[name=\u001b[39m\u001b[38;5;124m\"\u001b[39m\u001b[38;5;132;01m{\u001b[39;00mvalue\u001b[38;5;132;01m}\u001b[39;00m\u001b[38;5;124m\"\u001b[39m\u001b[38;5;124m]\u001b[39m\u001b[38;5;124m'\u001b[39m\n\u001b[0;32m    769\u001b[0m \u001b[38;5;66;03m# Return empty list if driver returns null\u001b[39;00m\n\u001b[0;32m    770\u001b[0m \u001b[38;5;66;03m# See https://github.com/SeleniumHQ/selenium/issues/4555\u001b[39;00m\n\u001b[1;32m--> 771\u001b[0m \u001b[38;5;28;01mreturn\u001b[39;00m \u001b[38;5;28;43mself\u001b[39;49m\u001b[38;5;241;43m.\u001b[39;49m\u001b[43mexecute\u001b[49m\u001b[43m(\u001b[49m\u001b[43mCommand\u001b[49m\u001b[38;5;241;43m.\u001b[39;49m\u001b[43mFIND_ELEMENTS\u001b[49m\u001b[43m,\u001b[49m\u001b[43m \u001b[49m\u001b[43m{\u001b[49m\u001b[38;5;124;43m\"\u001b[39;49m\u001b[38;5;124;43musing\u001b[39;49m\u001b[38;5;124;43m\"\u001b[39;49m\u001b[43m:\u001b[49m\u001b[43m \u001b[49m\u001b[43mby\u001b[49m\u001b[43m,\u001b[49m\u001b[43m \u001b[49m\u001b[38;5;124;43m\"\u001b[39;49m\u001b[38;5;124;43mvalue\u001b[39;49m\u001b[38;5;124;43m\"\u001b[39;49m\u001b[43m:\u001b[49m\u001b[43m \u001b[49m\u001b[43mvalue\u001b[49m\u001b[43m}\u001b[49m\u001b[43m)\u001b[49m[\u001b[38;5;124m\"\u001b[39m\u001b[38;5;124mvalue\u001b[39m\u001b[38;5;124m\"\u001b[39m] \u001b[38;5;129;01mor\u001b[39;00m []\n",
      "File \u001b[1;32m~\\anaconda3\\lib\\site-packages\\selenium\\webdriver\\remote\\webdriver.py:347\u001b[0m, in \u001b[0;36mWebDriver.execute\u001b[1;34m(self, driver_command, params)\u001b[0m\n\u001b[0;32m    345\u001b[0m response \u001b[38;5;241m=\u001b[39m \u001b[38;5;28mself\u001b[39m\u001b[38;5;241m.\u001b[39mcommand_executor\u001b[38;5;241m.\u001b[39mexecute(driver_command, params)\n\u001b[0;32m    346\u001b[0m \u001b[38;5;28;01mif\u001b[39;00m response:\n\u001b[1;32m--> 347\u001b[0m     \u001b[38;5;28;43mself\u001b[39;49m\u001b[38;5;241;43m.\u001b[39;49m\u001b[43merror_handler\u001b[49m\u001b[38;5;241;43m.\u001b[39;49m\u001b[43mcheck_response\u001b[49m\u001b[43m(\u001b[49m\u001b[43mresponse\u001b[49m\u001b[43m)\u001b[49m\n\u001b[0;32m    348\u001b[0m     response[\u001b[38;5;124m\"\u001b[39m\u001b[38;5;124mvalue\u001b[39m\u001b[38;5;124m\"\u001b[39m] \u001b[38;5;241m=\u001b[39m \u001b[38;5;28mself\u001b[39m\u001b[38;5;241m.\u001b[39m_unwrap_value(response\u001b[38;5;241m.\u001b[39mget(\u001b[38;5;124m\"\u001b[39m\u001b[38;5;124mvalue\u001b[39m\u001b[38;5;124m\"\u001b[39m, \u001b[38;5;28;01mNone\u001b[39;00m))\n\u001b[0;32m    349\u001b[0m     \u001b[38;5;28;01mreturn\u001b[39;00m response\n",
      "File \u001b[1;32m~\\anaconda3\\lib\\site-packages\\selenium\\webdriver\\remote\\errorhandler.py:229\u001b[0m, in \u001b[0;36mErrorHandler.check_response\u001b[1;34m(self, response)\u001b[0m\n\u001b[0;32m    227\u001b[0m         alert_text \u001b[38;5;241m=\u001b[39m value[\u001b[38;5;124m\"\u001b[39m\u001b[38;5;124malert\u001b[39m\u001b[38;5;124m\"\u001b[39m]\u001b[38;5;241m.\u001b[39mget(\u001b[38;5;124m\"\u001b[39m\u001b[38;5;124mtext\u001b[39m\u001b[38;5;124m\"\u001b[39m)\n\u001b[0;32m    228\u001b[0m     \u001b[38;5;28;01mraise\u001b[39;00m exception_class(message, screen, stacktrace, alert_text)  \u001b[38;5;66;03m# type: ignore[call-arg]  # mypy is not smart enough here\u001b[39;00m\n\u001b[1;32m--> 229\u001b[0m \u001b[38;5;28;01mraise\u001b[39;00m exception_class(message, screen, stacktrace)\n",
      "\u001b[1;31mWebDriverException\u001b[0m: Message: disconnected: not connected to DevTools\n  (failed to check if window was closed: disconnected: not connected to DevTools)\n  (Session info: chrome=121.0.6167.161)\nStacktrace:\n\tGetHandleVerifier [0x00007FF6266E5E42+3538674]\n\t(No symbol) [0x00007FF626304C02]\n\t(No symbol) [0x00007FF6261B5AEB]\n\t(No symbol) [0x00007FF6261A273F]\n\t(No symbol) [0x00007FF6261A22B0]\n\t(No symbol) [0x00007FF6261B7BF1]\n\t(No symbol) [0x00007FF62623B437]\n\t(No symbol) [0x00007FF62621EE53]\n\t(No symbol) [0x00007FF6261EF514]\n\t(No symbol) [0x00007FF6261F0631]\n\tGetHandleVerifier [0x00007FF626716CAD+3738973]\n\tGetHandleVerifier [0x00007FF62676C506+4089270]\n\tGetHandleVerifier [0x00007FF626764823+4057299]\n\tGetHandleVerifier [0x00007FF626435C49+720121]\n\t(No symbol) [0x00007FF62631126F]\n\t(No symbol) [0x00007FF62630C304]\n\t(No symbol) [0x00007FF62630C432]\n\t(No symbol) [0x00007FF6262FBD04]\n\tBaseThreadInitThunk [0x00007FFE081C257D+29]\n\tRtlUserThreadStart [0x00007FFE090CAA58+40]\n"
     ]
    }
   ],
   "source": [
    " for i in range(3):\n",
    "    b_name=driver.find_elements(By.XPATH,'//span[@class=\"a-size-medium a-color-base a-text-normal\"]')\n",
    "    rating=driver.find_elements(By.XPATH,'//a[@class=\"a-popover-trigger a-declarative\"]')\n",
    "    price =driver.find_elements(By.XPATH,'//span[@class=\"a-price-whole\"]')\n",
    "    \n",
    "    \n",
    "    for j  in b_name:\n",
    "        Title.append(j.text)\n",
    "    Title[:10]    \n",
    "    \n",
    "    \n",
    "    \n",
    "    for k in rating:\n",
    "        P_desc.append(k.text)\n",
    "    Rating[:10] \n",
    "    \n",
    "    \n",
    "    for l in price:\n",
    "        Price.append(l.text)\n",
    "    Price[:10] \n",
    "    "
   ]
  },
  {
   "cell_type": "markdown",
   "id": "9eb0c0e9",
   "metadata": {},
   "source": [
    "# question 8 data scraping for quotes"
   ]
  },
  {
   "cell_type": "code",
   "execution_count": 71,
   "id": "5a70ae87",
   "metadata": {},
   "outputs": [],
   "source": [
    "driver=webdriver.Chrome()"
   ]
  },
  {
   "cell_type": "code",
   "execution_count": 73,
   "id": "df1ae0a0",
   "metadata": {},
   "outputs": [],
   "source": [
    "driver.get('https://www.azquotes.com/')"
   ]
  },
  {
   "cell_type": "code",
   "execution_count": 74,
   "id": "f14dab60",
   "metadata": {},
   "outputs": [],
   "source": [
    "quotes=[]\n",
    "author=[]\n",
    "quote_type=[]"
   ]
  },
  {
   "cell_type": "code",
   "execution_count": 75,
   "id": "8816e534",
   "metadata": {},
   "outputs": [],
   "source": [
    "#scrapping data top quotes\n",
    "for i in range(10):\n",
    "    t_quotes=driver.find_elements(By.XPATH,'//a[@class=\"title\"]')\n",
    "    \n",
    "    for j in t_quotes:\n",
    "        quotes.append(j.text)\n",
    "    quotes[:1000]\n",
    "    "
   ]
  },
  {
   "cell_type": "code",
   "execution_count": 76,
   "id": "5d9c6b94",
   "metadata": {},
   "outputs": [
    {
     "name": "stdout",
     "output_type": "stream",
     "text": [
      "1000\n"
     ]
    }
   ],
   "source": [
    "print(len(quotes[:1000]))"
   ]
  },
  {
   "cell_type": "code",
   "execution_count": 77,
   "id": "cc155b99",
   "metadata": {},
   "outputs": [],
   "source": [
    "#scrapping data for author\n",
    "\n",
    "for i in range(10):\n",
    "    t_author=driver.find_elements(By.XPATH,'//div[@class=\"author\"]')\n",
    "    \n",
    "    for k in t_author:\n",
    "        author.append(k.text)\n",
    "    author[:1000]"
   ]
  },
  {
   "cell_type": "code",
   "execution_count": 78,
   "id": "534da364",
   "metadata": {},
   "outputs": [
    {
     "name": "stdout",
     "output_type": "stream",
     "text": [
      "1000\n"
     ]
    }
   ],
   "source": [
    "print(len(author[:1000]))"
   ]
  },
  {
   "cell_type": "code",
   "execution_count": 79,
   "id": "4c7ce8ff",
   "metadata": {},
   "outputs": [],
   "source": [
    "#scrapping data for quote type\n",
    "\n",
    "for i in range(10):\n",
    "    t_quotetype=driver.find_elements(By.XPATH,'//div[@class=\"tags\"]')\n",
    "    \n",
    "    for l in t_quotetype:\n",
    "        quote_type.append(l.text)\n",
    "    quote_type[:1000]"
   ]
  },
  {
   "cell_type": "code",
   "execution_count": 80,
   "id": "a837e0d0",
   "metadata": {},
   "outputs": [
    {
     "name": "stdout",
     "output_type": "stream",
     "text": [
      "1000\n"
     ]
    }
   ],
   "source": [
    "print(len(quote_type[:1000]))"
   ]
  },
  {
   "cell_type": "code",
   "execution_count": 81,
   "id": "c97a1eec",
   "metadata": {},
   "outputs": [
    {
     "data": {
      "text/html": [
       "<div>\n",
       "<style scoped>\n",
       "    .dataframe tbody tr th:only-of-type {\n",
       "        vertical-align: middle;\n",
       "    }\n",
       "\n",
       "    .dataframe tbody tr th {\n",
       "        vertical-align: top;\n",
       "    }\n",
       "\n",
       "    .dataframe thead th {\n",
       "        text-align: right;\n",
       "    }\n",
       "</style>\n",
       "<table border=\"1\" class=\"dataframe\">\n",
       "  <thead>\n",
       "    <tr style=\"text-align: right;\">\n",
       "      <th></th>\n",
       "      <th>Top Quotes</th>\n",
       "      <th>Author</th>\n",
       "      <th>Quote-Type</th>\n",
       "    </tr>\n",
       "  </thead>\n",
       "  <tbody>\n",
       "    <tr>\n",
       "      <th>0</th>\n",
       "      <td>The essence of strategy is choosing what not t...</td>\n",
       "      <td>Michael Porter</td>\n",
       "      <td>Essence, Deep Thought, Transcendentalism</td>\n",
       "    </tr>\n",
       "    <tr>\n",
       "      <th>1</th>\n",
       "      <td>One cannot and must not try to erase the past ...</td>\n",
       "      <td>Golda Meir</td>\n",
       "      <td>Inspiration, Past, Trying</td>\n",
       "    </tr>\n",
       "    <tr>\n",
       "      <th>2</th>\n",
       "      <td>Patriotism means to stand by the country. It d...</td>\n",
       "      <td>Theodore Roosevelt</td>\n",
       "      <td>Country, Peace, War</td>\n",
       "    </tr>\n",
       "    <tr>\n",
       "      <th>3</th>\n",
       "      <td>Death is something inevitable. When a man has ...</td>\n",
       "      <td>Nelson Mandela</td>\n",
       "      <td>Inspirational, Motivational, Death</td>\n",
       "    </tr>\n",
       "    <tr>\n",
       "      <th>4</th>\n",
       "      <td>You have to love a nation that celebrates its ...</td>\n",
       "      <td>Erma Bombeck</td>\n",
       "      <td>4th Of July, Food, Patriotic</td>\n",
       "    </tr>\n",
       "    <tr>\n",
       "      <th>...</th>\n",
       "      <td>...</td>\n",
       "      <td>...</td>\n",
       "      <td>...</td>\n",
       "    </tr>\n",
       "    <tr>\n",
       "      <th>995</th>\n",
       "      <td>When the going gets weird, the weird turn pro.</td>\n",
       "      <td>Hunter S. Thompson</td>\n",
       "      <td>Music, Sports, Hunting</td>\n",
       "    </tr>\n",
       "    <tr>\n",
       "      <th>996</th>\n",
       "      <td>When a train goes through a tunnel and it gets...</td>\n",
       "      <td>Corrie Ten Boom</td>\n",
       "      <td>Trust, Encouraging, Uplifting</td>\n",
       "    </tr>\n",
       "    <tr>\n",
       "      <th>997</th>\n",
       "      <td>If you think you are too small to make a diffe...</td>\n",
       "      <td>Dalai Lama</td>\n",
       "      <td>Inspirational, Funny, Change</td>\n",
       "    </tr>\n",
       "    <tr>\n",
       "      <th>998</th>\n",
       "      <td>God doesn't require us to succeed, he only req...</td>\n",
       "      <td>Mother Teresa</td>\n",
       "      <td>Success, God, Mother</td>\n",
       "    </tr>\n",
       "    <tr>\n",
       "      <th>999</th>\n",
       "      <td>Change your thoughts and you change your world.</td>\n",
       "      <td>Norman Vincent Peale</td>\n",
       "      <td>Inspirational, Motivational, Change</td>\n",
       "    </tr>\n",
       "  </tbody>\n",
       "</table>\n",
       "<p>1000 rows × 3 columns</p>\n",
       "</div>"
      ],
      "text/plain": [
       "                                            Top Quotes                Author  \\\n",
       "0    The essence of strategy is choosing what not t...        Michael Porter   \n",
       "1    One cannot and must not try to erase the past ...            Golda Meir   \n",
       "2    Patriotism means to stand by the country. It d...    Theodore Roosevelt   \n",
       "3    Death is something inevitable. When a man has ...        Nelson Mandela   \n",
       "4    You have to love a nation that celebrates its ...          Erma Bombeck   \n",
       "..                                                 ...                   ...   \n",
       "995     When the going gets weird, the weird turn pro.    Hunter S. Thompson   \n",
       "996  When a train goes through a tunnel and it gets...       Corrie Ten Boom   \n",
       "997  If you think you are too small to make a diffe...            Dalai Lama   \n",
       "998  God doesn't require us to succeed, he only req...         Mother Teresa   \n",
       "999    Change your thoughts and you change your world.  Norman Vincent Peale   \n",
       "\n",
       "                                   Quote-Type  \n",
       "0    Essence, Deep Thought, Transcendentalism  \n",
       "1                   Inspiration, Past, Trying  \n",
       "2                         Country, Peace, War  \n",
       "3          Inspirational, Motivational, Death  \n",
       "4                4th Of July, Food, Patriotic  \n",
       "..                                        ...  \n",
       "995                    Music, Sports, Hunting  \n",
       "996             Trust, Encouraging, Uplifting  \n",
       "997              Inspirational, Funny, Change  \n",
       "998                      Success, God, Mother  \n",
       "999       Inspirational, Motivational, Change  \n",
       "\n",
       "[1000 rows x 3 columns]"
      ]
     },
     "execution_count": 81,
     "metadata": {},
     "output_type": "execute_result"
    }
   ],
   "source": [
    "# making data frame\n",
    "\n",
    "qt=pd.DataFrame({})\n",
    "qt['Top Quotes']=quotes[:1000]\n",
    "qt['Author']=author[:1000]\n",
    "qt['Quote-Type']=quote_type[:1000]\n",
    "\n",
    "qt"
   ]
  },
  {
   "cell_type": "code",
   "execution_count": 102,
   "id": "be34068f",
   "metadata": {},
   "outputs": [],
   "source": [
    "driver.close()\n"
   ]
  },
  {
   "cell_type": "markdown",
   "id": "64506d23",
   "metadata": {},
   "source": [
    "# scraping data for 50 most expensive car"
   ]
  },
  {
   "cell_type": "code",
   "execution_count": 92,
   "id": "120f3cea",
   "metadata": {},
   "outputs": [],
   "source": [
    "driver=webdriver.Chrome()"
   ]
  },
  {
   "cell_type": "code",
   "execution_count": 93,
   "id": "564e8948",
   "metadata": {},
   "outputs": [],
   "source": [
    "driver.get('https://www.motor1.com/')"
   ]
  },
  {
   "cell_type": "code",
   "execution_count": 94,
   "id": "71eecd65",
   "metadata": {},
   "outputs": [],
   "source": [
    "product=driver.find_element(By.XPATH,'/html/body/div[10]/div[2]/div/div/div[3]/div/div/div/form/input')\n",
    "product.send_keys('50 most expensive cars in the world')"
   ]
  },
  {
   "cell_type": "code",
   "execution_count": 95,
   "id": "cc378f6b",
   "metadata": {},
   "outputs": [],
   "source": [
    "search=driver.find_element(By.XPATH,'/html/body/div[10]/div[2]/div/div/div[3]/div/div/div/form/button[1]')\n",
    "search.click()"
   ]
  },
  {
   "cell_type": "code",
   "execution_count": 96,
   "id": "267bc1d7",
   "metadata": {},
   "outputs": [],
   "source": [
    "car_name=[]\n",
    "car_price=[]"
   ]
  },
  {
   "cell_type": "code",
   "execution_count": 97,
   "id": "c9bf6654",
   "metadata": {},
   "outputs": [],
   "source": [
    "#scraping data for car name\n",
    "\n",
    "for i in range(1):\n",
    "    c_name=driver.find_elements(By.XPATH,'//h3[@class=\"subheader\"]')\n",
    "    \n",
    "    for j in c_name:\n",
    "        car_name.append(j.text)\n",
    "        car_name[:50]\n",
    "        "
   ]
  },
  {
   "cell_type": "code",
   "execution_count": 98,
   "id": "8ab11177",
   "metadata": {},
   "outputs": [
    {
     "data": {
      "text/plain": [
       "50"
      ]
     },
     "execution_count": 98,
     "metadata": {},
     "output_type": "execute_result"
    }
   ],
   "source": [
    "len(car_name[:50])"
   ]
  },
  {
   "cell_type": "code",
   "execution_count": 99,
   "id": "918775cb",
   "metadata": {},
   "outputs": [],
   "source": [
    "#scraping data for price\n",
    "\n",
    "for i in range(1):\n",
    "    c_price= driver.find_elements(By.XPATH,'//h3[@class=\"subheader\"]/span')\n",
    "    \n",
    "    for k in c_price:\n",
    "        car_price.append(k.text)\n",
    "        car_price[:50]"
   ]
  },
  {
   "cell_type": "code",
   "execution_count": 100,
   "id": "8cf08902",
   "metadata": {},
   "outputs": [
    {
     "data": {
      "text/plain": [
       "50"
      ]
     },
     "execution_count": 100,
     "metadata": {},
     "output_type": "execute_result"
    }
   ],
   "source": [
    "len(car_price[:50])"
   ]
  },
  {
   "cell_type": "code",
   "execution_count": 101,
   "id": "6ab98489",
   "metadata": {},
   "outputs": [
    {
     "data": {
      "text/html": [
       "<div>\n",
       "<style scoped>\n",
       "    .dataframe tbody tr th:only-of-type {\n",
       "        vertical-align: middle;\n",
       "    }\n",
       "\n",
       "    .dataframe tbody tr th {\n",
       "        vertical-align: top;\n",
       "    }\n",
       "\n",
       "    .dataframe thead th {\n",
       "        text-align: right;\n",
       "    }\n",
       "</style>\n",
       "<table border=\"1\" class=\"dataframe\">\n",
       "  <thead>\n",
       "    <tr style=\"text-align: right;\">\n",
       "      <th></th>\n",
       "      <th>Car Name</th>\n",
       "      <th>Car Price</th>\n",
       "    </tr>\n",
       "  </thead>\n",
       "  <tbody>\n",
       "    <tr>\n",
       "      <th>0</th>\n",
       "      <td>Aston Martin Valour</td>\n",
       "      <td></td>\n",
       "    </tr>\n",
       "    <tr>\n",
       "      <th>1</th>\n",
       "      <td>McLaren Elva</td>\n",
       "      <td></td>\n",
       "    </tr>\n",
       "    <tr>\n",
       "      <th>2</th>\n",
       "      <td>Czinger 21C</td>\n",
       "      <td></td>\n",
       "    </tr>\n",
       "    <tr>\n",
       "      <th>3</th>\n",
       "      <td>Ferrari Monza</td>\n",
       "      <td></td>\n",
       "    </tr>\n",
       "    <tr>\n",
       "      <th>4</th>\n",
       "      <td>Gordon Murray T.33</td>\n",
       "      <td></td>\n",
       "    </tr>\n",
       "    <tr>\n",
       "      <th>5</th>\n",
       "      <td>Koenigsegg Gemera</td>\n",
       "      <td></td>\n",
       "    </tr>\n",
       "    <tr>\n",
       "      <th>6</th>\n",
       "      <td>Zenvo TSR-S</td>\n",
       "      <td></td>\n",
       "    </tr>\n",
       "    <tr>\n",
       "      <th>7</th>\n",
       "      <td>Hennessey Venom F5</td>\n",
       "      <td></td>\n",
       "    </tr>\n",
       "    <tr>\n",
       "      <th>8</th>\n",
       "      <td>Bentley Bacalar</td>\n",
       "      <td></td>\n",
       "    </tr>\n",
       "    <tr>\n",
       "      <th>9</th>\n",
       "      <td>Hispano Suiza Carmen Boulogne</td>\n",
       "      <td></td>\n",
       "    </tr>\n",
       "    <tr>\n",
       "      <th>10</th>\n",
       "      <td>Bentley Mulliner Batur</td>\n",
       "      <td></td>\n",
       "    </tr>\n",
       "    <tr>\n",
       "      <th>11</th>\n",
       "      <td>Deus Vayanne</td>\n",
       "      <td></td>\n",
       "    </tr>\n",
       "    <tr>\n",
       "      <th>12</th>\n",
       "      <td>SSC Tuatara</td>\n",
       "      <td></td>\n",
       "    </tr>\n",
       "    <tr>\n",
       "      <th>13</th>\n",
       "      <td>Lotus Evija</td>\n",
       "      <td></td>\n",
       "    </tr>\n",
       "    <tr>\n",
       "      <th>14</th>\n",
       "      <td>Aston Martin Vulcan</td>\n",
       "      <td></td>\n",
       "    </tr>\n",
       "    <tr>\n",
       "      <th>15</th>\n",
       "      <td>Delage D12</td>\n",
       "      <td></td>\n",
       "    </tr>\n",
       "    <tr>\n",
       "      <th>16</th>\n",
       "      <td>Ferrari Daytona SP3</td>\n",
       "      <td></td>\n",
       "    </tr>\n",
       "    <tr>\n",
       "      <th>17</th>\n",
       "      <td>McLaren Speedtail</td>\n",
       "      <td></td>\n",
       "    </tr>\n",
       "    <tr>\n",
       "      <th>18</th>\n",
       "      <td>Rimac Nevera</td>\n",
       "      <td></td>\n",
       "    </tr>\n",
       "    <tr>\n",
       "      <th>19</th>\n",
       "      <td>Pagani Utopia</td>\n",
       "      <td></td>\n",
       "    </tr>\n",
       "    <tr>\n",
       "      <th>20</th>\n",
       "      <td>Pininfarina Battista</td>\n",
       "      <td></td>\n",
       "    </tr>\n",
       "    <tr>\n",
       "      <th>21</th>\n",
       "      <td>Gordon Murray T.50</td>\n",
       "      <td></td>\n",
       "    </tr>\n",
       "    <tr>\n",
       "      <th>22</th>\n",
       "      <td>Lamborghini Countach</td>\n",
       "      <td></td>\n",
       "    </tr>\n",
       "    <tr>\n",
       "      <th>23</th>\n",
       "      <td>Mercedes-AMG Project One</td>\n",
       "      <td></td>\n",
       "    </tr>\n",
       "    <tr>\n",
       "      <th>24</th>\n",
       "      <td>Zenvo Aurora</td>\n",
       "      <td></td>\n",
       "    </tr>\n",
       "    <tr>\n",
       "      <th>25</th>\n",
       "      <td>Aston Martin Victor</td>\n",
       "      <td></td>\n",
       "    </tr>\n",
       "    <tr>\n",
       "      <th>26</th>\n",
       "      <td>Hennessey Venom F5 Roadster</td>\n",
       "      <td></td>\n",
       "    </tr>\n",
       "    <tr>\n",
       "      <th>27</th>\n",
       "      <td>Koenigsegg Jesko</td>\n",
       "      <td></td>\n",
       "    </tr>\n",
       "    <tr>\n",
       "      <th>28</th>\n",
       "      <td>Aston Martin Valkyrie</td>\n",
       "      <td></td>\n",
       "    </tr>\n",
       "    <tr>\n",
       "      <th>29</th>\n",
       "      <td>W Motors Lykan Hypersport</td>\n",
       "      <td></td>\n",
       "    </tr>\n",
       "    <tr>\n",
       "      <th>30</th>\n",
       "      <td>McLaren Solus</td>\n",
       "      <td></td>\n",
       "    </tr>\n",
       "    <tr>\n",
       "      <th>31</th>\n",
       "      <td>Lamborghini Sian</td>\n",
       "      <td></td>\n",
       "    </tr>\n",
       "    <tr>\n",
       "      <th>32</th>\n",
       "      <td>Koenigsegg CC850</td>\n",
       "      <td></td>\n",
       "    </tr>\n",
       "    <tr>\n",
       "      <th>33</th>\n",
       "      <td>Bugatti Chiron Super Sport 300+</td>\n",
       "      <td></td>\n",
       "    </tr>\n",
       "    <tr>\n",
       "      <th>34</th>\n",
       "      <td>Lamborghini Veneno</td>\n",
       "      <td></td>\n",
       "    </tr>\n",
       "    <tr>\n",
       "      <th>35</th>\n",
       "      <td>Bugatti Bolide</td>\n",
       "      <td></td>\n",
       "    </tr>\n",
       "    <tr>\n",
       "      <th>36</th>\n",
       "      <td>Pininfarina B95 Speedster</td>\n",
       "      <td></td>\n",
       "    </tr>\n",
       "    <tr>\n",
       "      <th>37</th>\n",
       "      <td>Bugatti Mistral</td>\n",
       "      <td></td>\n",
       "    </tr>\n",
       "    <tr>\n",
       "      <th>38</th>\n",
       "      <td>Pagani Huayra Imola</td>\n",
       "      <td></td>\n",
       "    </tr>\n",
       "    <tr>\n",
       "      <th>39</th>\n",
       "      <td>Bugatti Divo</td>\n",
       "      <td></td>\n",
       "    </tr>\n",
       "    <tr>\n",
       "      <th>40</th>\n",
       "      <td>SP Automotive Chaos</td>\n",
       "      <td></td>\n",
       "    </tr>\n",
       "    <tr>\n",
       "      <th>41</th>\n",
       "      <td>Pagani Codalunga</td>\n",
       "      <td></td>\n",
       "    </tr>\n",
       "    <tr>\n",
       "      <th>42</th>\n",
       "      <td>777 Hypercar</td>\n",
       "      <td></td>\n",
       "    </tr>\n",
       "    <tr>\n",
       "      <th>43</th>\n",
       "      <td>Mercedes-Maybach Exelero</td>\n",
       "      <td></td>\n",
       "    </tr>\n",
       "    <tr>\n",
       "      <th>44</th>\n",
       "      <td>Bugatti Centodieci</td>\n",
       "      <td></td>\n",
       "    </tr>\n",
       "    <tr>\n",
       "      <th>45</th>\n",
       "      <td>Bugatti Chiron Profilée</td>\n",
       "      <td></td>\n",
       "    </tr>\n",
       "    <tr>\n",
       "      <th>46</th>\n",
       "      <td>Rolls-Royce Sweptail</td>\n",
       "      <td></td>\n",
       "    </tr>\n",
       "    <tr>\n",
       "      <th>47</th>\n",
       "      <td>Bugatti La Voiture Noire</td>\n",
       "      <td></td>\n",
       "    </tr>\n",
       "    <tr>\n",
       "      <th>48</th>\n",
       "      <td>Rolls-Royce Boat Tail*</td>\n",
       "      <td></td>\n",
       "    </tr>\n",
       "    <tr>\n",
       "      <th>49</th>\n",
       "      <td>Rolls-Royce La Rose Noire Droptail</td>\n",
       "      <td></td>\n",
       "    </tr>\n",
       "  </tbody>\n",
       "</table>\n",
       "</div>"
      ],
      "text/plain": [
       "                              Car Name Car Price\n",
       "0                  Aston Martin Valour          \n",
       "1                         McLaren Elva          \n",
       "2                          Czinger 21C          \n",
       "3                        Ferrari Monza          \n",
       "4                   Gordon Murray T.33          \n",
       "5                    Koenigsegg Gemera          \n",
       "6                          Zenvo TSR-S          \n",
       "7                   Hennessey Venom F5          \n",
       "8                      Bentley Bacalar          \n",
       "9        Hispano Suiza Carmen Boulogne          \n",
       "10              Bentley Mulliner Batur          \n",
       "11                        Deus Vayanne          \n",
       "12                         SSC Tuatara          \n",
       "13                         Lotus Evija          \n",
       "14                 Aston Martin Vulcan          \n",
       "15                          Delage D12          \n",
       "16                 Ferrari Daytona SP3          \n",
       "17                   McLaren Speedtail          \n",
       "18                        Rimac Nevera          \n",
       "19                       Pagani Utopia          \n",
       "20                Pininfarina Battista          \n",
       "21                  Gordon Murray T.50          \n",
       "22                Lamborghini Countach          \n",
       "23            Mercedes-AMG Project One          \n",
       "24                        Zenvo Aurora          \n",
       "25                 Aston Martin Victor          \n",
       "26         Hennessey Venom F5 Roadster          \n",
       "27                    Koenigsegg Jesko          \n",
       "28               Aston Martin Valkyrie          \n",
       "29           W Motors Lykan Hypersport          \n",
       "30                       McLaren Solus          \n",
       "31                    Lamborghini Sian          \n",
       "32                    Koenigsegg CC850          \n",
       "33     Bugatti Chiron Super Sport 300+          \n",
       "34                  Lamborghini Veneno          \n",
       "35                      Bugatti Bolide          \n",
       "36           Pininfarina B95 Speedster          \n",
       "37                     Bugatti Mistral          \n",
       "38                 Pagani Huayra Imola          \n",
       "39                        Bugatti Divo          \n",
       "40                 SP Automotive Chaos          \n",
       "41                    Pagani Codalunga          \n",
       "42                        777 Hypercar          \n",
       "43            Mercedes-Maybach Exelero          \n",
       "44                  Bugatti Centodieci          \n",
       "45             Bugatti Chiron Profilée          \n",
       "46                Rolls-Royce Sweptail          \n",
       "47            Bugatti La Voiture Noire          \n",
       "48              Rolls-Royce Boat Tail*          \n",
       "49  Rolls-Royce La Rose Noire Droptail          "
      ]
     },
     "execution_count": 101,
     "metadata": {},
     "output_type": "execute_result"
    }
   ],
   "source": [
    "#making data frame\n",
    "\n",
    "car= pd.DataFrame({})\n",
    "car['Car Name']=car_name[:50]\n",
    "car['Car Price']=car_price[:50]\n",
    "\n",
    "car"
   ]
  },
  {
   "cell_type": "markdown",
   "id": "6661b356",
   "metadata": {},
   "source": [
    "# scraping data for data analyst job"
   ]
  },
  {
   "cell_type": "code",
   "execution_count": 103,
   "id": "954d88c8",
   "metadata": {},
   "outputs": [],
   "source": [
    "driver=webdriver.Chrome()"
   ]
  },
  {
   "cell_type": "code",
   "execution_count": 104,
   "id": "ba21061e",
   "metadata": {},
   "outputs": [],
   "source": [
    "driver.get('https://www.shine.com/')"
   ]
  },
  {
   "cell_type": "code",
   "execution_count": 105,
   "id": "d5d4edc8",
   "metadata": {},
   "outputs": [],
   "source": [
    "position= driver.find_element(By.XPATH,'/html/body/div/div[4]/div/div[2]/div[2]/div/form/div/div[1]/ul/li[1]/div/input')\n",
    "position.send_keys('data analyst')"
   ]
  },
  {
   "cell_type": "code",
   "execution_count": 106,
   "id": "b72cc814",
   "metadata": {},
   "outputs": [],
   "source": [
    "location= driver.find_element(By.XPATH,'/html/body/div/div[4]/div/div[2]/div[2]/div/form/div/div[1]/ul/li[2]/div/input')\n",
    "location.send_keys('banglore')"
   ]
  },
  {
   "cell_type": "raw",
   "id": "c5ea6fe0",
   "metadata": {},
   "source": []
  },
  {
   "cell_type": "code",
   "execution_count": 123,
   "id": "d46f27fb",
   "metadata": {},
   "outputs": [],
   "source": [
    "search=driver.find_element(By.XPATH,'/html/body/div/div[4]/div/div[2]/div[2]/div/form/div/div[2]/div/button')\n",
    "search.click()"
   ]
  },
  {
   "cell_type": "code",
   "execution_count": 108,
   "id": "76405d18",
   "metadata": {},
   "outputs": [],
   "source": [
    "job_title=[]\n",
    "job_location=[]\n",
    "c_name=[]\n",
    "exp_req=[]"
   ]
  },
  {
   "cell_type": "code",
   "execution_count": 109,
   "id": "df249f80",
   "metadata": {},
   "outputs": [],
   "source": [
    "#scraping data for job title\n",
    "\n",
    "title_tags=driver.find_elements(By.XPATH,'//div[@class=\"jobCard_jobCard_features__wJid6\"]')\n",
    "\n",
    "for i in title_tags:\n",
    "    job_title.append(i.text)\n",
    "    job_title[:10]"
   ]
  },
  {
   "cell_type": "code",
   "execution_count": 110,
   "id": "1f8a13c4",
   "metadata": {},
   "outputs": [
    {
     "data": {
      "text/plain": [
       "10"
      ]
     },
     "execution_count": 110,
     "metadata": {},
     "output_type": "execute_result"
    }
   ],
   "source": [
    "len(job_title[:10])"
   ]
  },
  {
   "cell_type": "code",
   "execution_count": 111,
   "id": "44b77d96",
   "metadata": {},
   "outputs": [],
   "source": [
    "#scraping data for location\n",
    "\n",
    "location_tags= driver.find_elements(By.XPATH,'//div[@class=\" jobCard_jobCard_lists_item__YxRkV jobCard_locationIcon__zrWt2\"]')\n",
    "\n",
    "for i in location_tags:\n",
    "    job_location.append(i.text)\n",
    "    job_location[:10]"
   ]
  },
  {
   "cell_type": "code",
   "execution_count": 112,
   "id": "c636ff97",
   "metadata": {},
   "outputs": [
    {
     "data": {
      "text/plain": [
       "10"
      ]
     },
     "execution_count": 112,
     "metadata": {},
     "output_type": "execute_result"
    }
   ],
   "source": [
    "len(job_location[:10])"
   ]
  },
  {
   "cell_type": "code",
   "execution_count": 113,
   "id": "23419da5",
   "metadata": {},
   "outputs": [],
   "source": [
    "#scraping data for company name\n",
    "\n",
    "name_tags=driver.find_elements(By.XPATH,'//div[@class=\"jobCard_jobCard_cName__mYnow\"]')\n",
    "\n",
    "for i in name_tags:\n",
    "    c_name.append(i.text)\n",
    "    c_name[:10]"
   ]
  },
  {
   "cell_type": "code",
   "execution_count": 114,
   "id": "35128318",
   "metadata": {},
   "outputs": [
    {
     "data": {
      "text/plain": [
       "10"
      ]
     },
     "execution_count": 114,
     "metadata": {},
     "output_type": "execute_result"
    }
   ],
   "source": [
    "len(c_name[:10])"
   ]
  },
  {
   "cell_type": "code",
   "execution_count": 115,
   "id": "2458a942",
   "metadata": {},
   "outputs": [],
   "source": [
    "#scraping data for experience required\n",
    "\n",
    "exp_tags=driver.find_elements(By.XPATH,'//div[@class=\" jobCard_jobCard_lists_item__YxRkV jobCard_jobIcon__3FB1t\"]')\n",
    "\n",
    "for i in exp_tags:\n",
    "    exp_req.append(i.text)\n",
    "    exp_req[:10]"
   ]
  },
  {
   "cell_type": "code",
   "execution_count": 116,
   "id": "b96b72e2",
   "metadata": {},
   "outputs": [
    {
     "data": {
      "text/plain": [
       "10"
      ]
     },
     "execution_count": 116,
     "metadata": {},
     "output_type": "execute_result"
    }
   ],
   "source": [
    "len (exp_req[:10])"
   ]
  },
  {
   "cell_type": "code",
   "execution_count": 117,
   "id": "24461e3c",
   "metadata": {},
   "outputs": [
    {
     "data": {
      "text/html": [
       "<div>\n",
       "<style scoped>\n",
       "    .dataframe tbody tr th:only-of-type {\n",
       "        vertical-align: middle;\n",
       "    }\n",
       "\n",
       "    .dataframe tbody tr th {\n",
       "        vertical-align: top;\n",
       "    }\n",
       "\n",
       "    .dataframe thead th {\n",
       "        text-align: right;\n",
       "    }\n",
       "</style>\n",
       "<table border=\"1\" class=\"dataframe\">\n",
       "  <thead>\n",
       "    <tr style=\"text-align: right;\">\n",
       "      <th></th>\n",
       "      <th>Title</th>\n",
       "      <th>Location</th>\n",
       "      <th>company Name</th>\n",
       "      <th>Experience</th>\n",
       "    </tr>\n",
       "  </thead>\n",
       "  <tbody>\n",
       "    <tr>\n",
       "      <th>0</th>\n",
       "      <td>2 weeks ago</td>\n",
       "      <td>Bangalore</td>\n",
       "      <td>ara resources private limited</td>\n",
       "      <td>4 to 9 Yrs</td>\n",
       "    </tr>\n",
       "    <tr>\n",
       "      <th>1</th>\n",
       "      <td>3 weeks ago</td>\n",
       "      <td>Bangalore\\n+3</td>\n",
       "      <td>diraa hr services hiring for mncs</td>\n",
       "      <td>0 to 1 Yr</td>\n",
       "    </tr>\n",
       "    <tr>\n",
       "      <th>2</th>\n",
       "      <td>1 month ago</td>\n",
       "      <td>Canada\\n+14</td>\n",
       "      <td>yogita staffing solution</td>\n",
       "      <td>0 to 3 Yrs</td>\n",
       "    </tr>\n",
       "    <tr>\n",
       "      <th>3</th>\n",
       "      <td>1 month ago</td>\n",
       "      <td>Gurugram\\n+6</td>\n",
       "      <td>techno endura</td>\n",
       "      <td>0 to 1 Yr</td>\n",
       "    </tr>\n",
       "    <tr>\n",
       "      <th>4</th>\n",
       "      <td>7 days ago</td>\n",
       "      <td>China\\n+18</td>\n",
       "      <td>future solution centre</td>\n",
       "      <td>15 to &gt;25 Yrs</td>\n",
       "    </tr>\n",
       "    <tr>\n",
       "      <th>5</th>\n",
       "      <td>3 weeks ago</td>\n",
       "      <td>Bangalore</td>\n",
       "      <td>boyen haddin consulting and technol...</td>\n",
       "      <td>3 to 6 Yrs</td>\n",
       "    </tr>\n",
       "    <tr>\n",
       "      <th>6</th>\n",
       "      <td>3 weeks ago</td>\n",
       "      <td>Bangalore</td>\n",
       "      <td>boyen haddin consulting and technol...</td>\n",
       "      <td>3 to 6 Yrs</td>\n",
       "    </tr>\n",
       "    <tr>\n",
       "      <th>7</th>\n",
       "      <td>3 weeks ago</td>\n",
       "      <td>Bangalore</td>\n",
       "      <td>boyen haddin consulting and technol...</td>\n",
       "      <td>3 to 6 Yrs</td>\n",
       "    </tr>\n",
       "    <tr>\n",
       "      <th>8</th>\n",
       "      <td>3 weeks ago</td>\n",
       "      <td>Bangalore</td>\n",
       "      <td>boyen haddin consulting and technol...</td>\n",
       "      <td>3 to 6 Yrs</td>\n",
       "    </tr>\n",
       "    <tr>\n",
       "      <th>9</th>\n",
       "      <td>2 months ago</td>\n",
       "      <td>Mumbai City\\n+4</td>\n",
       "      <td>quiscon biotech</td>\n",
       "      <td>0 to 2 Yrs</td>\n",
       "    </tr>\n",
       "  </tbody>\n",
       "</table>\n",
       "</div>"
      ],
      "text/plain": [
       "          Title         Location                            company Name  \\\n",
       "0   2 weeks ago        Bangalore           ara resources private limited   \n",
       "1   3 weeks ago    Bangalore\\n+3       diraa hr services hiring for mncs   \n",
       "2   1 month ago      Canada\\n+14                yogita staffing solution   \n",
       "3   1 month ago     Gurugram\\n+6                           techno endura   \n",
       "4    7 days ago       China\\n+18                  future solution centre   \n",
       "5   3 weeks ago        Bangalore  boyen haddin consulting and technol...   \n",
       "6   3 weeks ago        Bangalore  boyen haddin consulting and technol...   \n",
       "7   3 weeks ago        Bangalore  boyen haddin consulting and technol...   \n",
       "8   3 weeks ago        Bangalore  boyen haddin consulting and technol...   \n",
       "9  2 months ago  Mumbai City\\n+4                         quiscon biotech   \n",
       "\n",
       "      Experience  \n",
       "0     4 to 9 Yrs  \n",
       "1      0 to 1 Yr  \n",
       "2     0 to 3 Yrs  \n",
       "3      0 to 1 Yr  \n",
       "4  15 to >25 Yrs  \n",
       "5     3 to 6 Yrs  \n",
       "6     3 to 6 Yrs  \n",
       "7     3 to 6 Yrs  \n",
       "8     3 to 6 Yrs  \n",
       "9     0 to 2 Yrs  "
      ]
     },
     "execution_count": 117,
     "metadata": {},
     "output_type": "execute_result"
    }
   ],
   "source": [
    "# crating data frame\n",
    "\n",
    "dt= pd.DataFrame({})\n",
    "dt['Title']=job_title[:10]\n",
    "dt['Location']=job_location[:10]\n",
    "dt['company Name']=c_name[:10]\n",
    "dt['Experience']=exp_req[:10]\n",
    "\n",
    "dt"
   ]
  },
  {
   "cell_type": "code",
   "execution_count": 118,
   "id": "57a5d3c4",
   "metadata": {},
   "outputs": [],
   "source": [
    "driver.close()"
   ]
  },
  {
   "cell_type": "markdown",
   "id": "e8013eda",
   "metadata": {},
   "source": [
    "# data for data scientist"
   ]
  },
  {
   "cell_type": "code",
   "execution_count": 136,
   "id": "cf439d80",
   "metadata": {},
   "outputs": [],
   "source": [
    "driver=webdriver.Chrome()"
   ]
  },
  {
   "cell_type": "code",
   "execution_count": 137,
   "id": "a3d4aa00",
   "metadata": {},
   "outputs": [],
   "source": [
    "driver.get('https://www.shine.com/')"
   ]
  },
  {
   "cell_type": "code",
   "execution_count": 140,
   "id": "835bc6e0",
   "metadata": {},
   "outputs": [],
   "source": [
    "position= driver.find_element(By.XPATH,'/html/body/div/div[4]/div/div[2]/div[2]/div/form/div/div[1]/ul/li[1]/div/input')\n",
    "position.send_keys('data scientist')"
   ]
  },
  {
   "cell_type": "code",
   "execution_count": 141,
   "id": "e5ca2068",
   "metadata": {},
   "outputs": [],
   "source": [
    "location= driver.find_element(By.XPATH,'/html/body/div/div[4]/div/div[2]/div[2]/div/form/div/div[1]/ul/li[2]/div/input')\n",
    "location.send_keys('banglore')"
   ]
  },
  {
   "cell_type": "code",
   "execution_count": 142,
   "id": "85b457bf",
   "metadata": {},
   "outputs": [],
   "source": [
    "search=driver.find_element(By.XPATH,'/html/body/div/div[4]/div/div[2]/div[2]/div/form/div/div[2]/div/button')\n",
    "search.click()"
   ]
  },
  {
   "cell_type": "code",
   "execution_count": 143,
   "id": "f2fb8905",
   "metadata": {},
   "outputs": [],
   "source": [
    "job_title=[]\n",
    "c_name=[]\n",
    "job_location=[]"
   ]
  },
  {
   "cell_type": "code",
   "execution_count": 144,
   "id": "94b0d285",
   "metadata": {},
   "outputs": [],
   "source": [
    "#scraping data for company name\n",
    "\n",
    "name_tag=driver.find_elements(By.XPATH,'//div[@class=\"jobCard_jobCard_cName__mYnow\"]')\n",
    "\n",
    "for i in name_tag:\n",
    "    c_name.append(i.text)\n",
    "    c_name[:10]"
   ]
  },
  {
   "cell_type": "code",
   "execution_count": 145,
   "id": "d000ff26",
   "metadata": {},
   "outputs": [
    {
     "name": "stdout",
     "output_type": "stream",
     "text": [
      "10\n"
     ]
    }
   ],
   "source": [
    "print(len(c_name[:10]))"
   ]
  },
  {
   "cell_type": "code",
   "execution_count": 146,
   "id": "8c144031",
   "metadata": {},
   "outputs": [],
   "source": [
    "#scraping data for job title\n",
    "\n",
    "title_tag=driver.find_elements(By.XPATH,'//div[@class=\"jobCard_jobCard_features__wJid6\"]')\n",
    "\n",
    "for i in title_tag:\n",
    "    job_title.append(i.text)\n",
    "    job_title[:10]"
   ]
  },
  {
   "cell_type": "code",
   "execution_count": 147,
   "id": "314ab092",
   "metadata": {},
   "outputs": [
    {
     "data": {
      "text/plain": [
       "10"
      ]
     },
     "execution_count": 147,
     "metadata": {},
     "output_type": "execute_result"
    }
   ],
   "source": [
    "len(job_title[:10])"
   ]
  },
  {
   "cell_type": "code",
   "execution_count": 148,
   "id": "23cbd38b",
   "metadata": {},
   "outputs": [],
   "source": [
    "# scraping data for job location\n",
    "\n",
    "loc=driver.find_elements(By.XPATH,'//div[@class=\" jobCard_jobCard_lists_item__YxRkV jobCard_locationIcon__zrWt2\"]')\n",
    "\n",
    "for i in loc:\n",
    "    job_location.append(i.text)\n",
    "    job_location[:10]"
   ]
  },
  {
   "cell_type": "code",
   "execution_count": 149,
   "id": "25fc4075",
   "metadata": {},
   "outputs": [
    {
     "data": {
      "text/plain": [
       "10"
      ]
     },
     "execution_count": 149,
     "metadata": {},
     "output_type": "execute_result"
    }
   ],
   "source": [
    "len(job_location[:10])"
   ]
  },
  {
   "cell_type": "code",
   "execution_count": 151,
   "id": "b1b23022",
   "metadata": {},
   "outputs": [
    {
     "data": {
      "text/html": [
       "<div>\n",
       "<style scoped>\n",
       "    .dataframe tbody tr th:only-of-type {\n",
       "        vertical-align: middle;\n",
       "    }\n",
       "\n",
       "    .dataframe tbody tr th {\n",
       "        vertical-align: top;\n",
       "    }\n",
       "\n",
       "    .dataframe thead th {\n",
       "        text-align: right;\n",
       "    }\n",
       "</style>\n",
       "<table border=\"1\" class=\"dataframe\">\n",
       "  <thead>\n",
       "    <tr style=\"text-align: right;\">\n",
       "      <th></th>\n",
       "      <th>Company Name</th>\n",
       "      <th>Job Title</th>\n",
       "      <th>location</th>\n",
       "    </tr>\n",
       "  </thead>\n",
       "  <tbody>\n",
       "    <tr>\n",
       "      <th>0</th>\n",
       "      <td>gujarat facility services hiring fo...</td>\n",
       "      <td>Hot\\n3 days ago</td>\n",
       "      <td>Bangalore\\n+3</td>\n",
       "    </tr>\n",
       "    <tr>\n",
       "      <th>1</th>\n",
       "      <td>renuka interprises</td>\n",
       "      <td>4 days ago</td>\n",
       "      <td>Canada\\n+15</td>\n",
       "    </tr>\n",
       "    <tr>\n",
       "      <th>2</th>\n",
       "      <td>renuka interprises</td>\n",
       "      <td>1 week ago</td>\n",
       "      <td>Canada\\n+15</td>\n",
       "    </tr>\n",
       "    <tr>\n",
       "      <th>3</th>\n",
       "      <td>renuka interprises</td>\n",
       "      <td>1 week ago</td>\n",
       "      <td>Canada\\n+15</td>\n",
       "    </tr>\n",
       "    <tr>\n",
       "      <th>4</th>\n",
       "      <td>acme services private limited</td>\n",
       "      <td>3 weeks ago</td>\n",
       "      <td>Gurugram\\n+4</td>\n",
       "    </tr>\n",
       "    <tr>\n",
       "      <th>5</th>\n",
       "      <td>ltimindtree limited</td>\n",
       "      <td>Premium\\n3 weeks ago</td>\n",
       "      <td>Bangalore</td>\n",
       "    </tr>\n",
       "    <tr>\n",
       "      <th>6</th>\n",
       "      <td>fractal</td>\n",
       "      <td>2 months ago</td>\n",
       "      <td>Bangalore\\n+1</td>\n",
       "    </tr>\n",
       "    <tr>\n",
       "      <th>7</th>\n",
       "      <td>yogita staffing solution</td>\n",
       "      <td>1 month ago</td>\n",
       "      <td>Canada\\n+14</td>\n",
       "    </tr>\n",
       "    <tr>\n",
       "      <th>8</th>\n",
       "      <td>neostats</td>\n",
       "      <td>1 month ago</td>\n",
       "      <td>Bangalore\\n+1</td>\n",
       "    </tr>\n",
       "    <tr>\n",
       "      <th>9</th>\n",
       "      <td>aereo</td>\n",
       "      <td>1 month ago</td>\n",
       "      <td>Bangalore\\n+1</td>\n",
       "    </tr>\n",
       "  </tbody>\n",
       "</table>\n",
       "</div>"
      ],
      "text/plain": [
       "                             Company Name             Job Title       location\n",
       "0  gujarat facility services hiring fo...       Hot\\n3 days ago  Bangalore\\n+3\n",
       "1                      renuka interprises            4 days ago    Canada\\n+15\n",
       "2                      renuka interprises            1 week ago    Canada\\n+15\n",
       "3                      renuka interprises            1 week ago    Canada\\n+15\n",
       "4           acme services private limited           3 weeks ago   Gurugram\\n+4\n",
       "5                     ltimindtree limited  Premium\\n3 weeks ago      Bangalore\n",
       "6                                 fractal          2 months ago  Bangalore\\n+1\n",
       "7                yogita staffing solution           1 month ago    Canada\\n+14\n",
       "8                                neostats           1 month ago  Bangalore\\n+1\n",
       "9                                   aereo           1 month ago  Bangalore\\n+1"
      ]
     },
     "execution_count": 151,
     "metadata": {},
     "output_type": "execute_result"
    }
   ],
   "source": [
    "#making data frame\n",
    "\n",
    "ds=pd.DataFrame({})\n",
    "ds['Company Name']=c_name[:10]\n",
    "ds['Job Title']=job_title[:10]\n",
    "ds['location']=job_location[:10]\n",
    "\n",
    "ds"
   ]
  },
  {
   "cell_type": "code",
   "execution_count": 152,
   "id": "510f45b1",
   "metadata": {},
   "outputs": [],
   "source": [
    "driver.close()"
   ]
  },
  {
   "cell_type": "markdown",
   "id": "49628b22",
   "metadata": {},
   "source": [
    "# scraping data for data scientist for delhi"
   ]
  },
  {
   "cell_type": "code",
   "execution_count": 153,
   "id": "5e942a91",
   "metadata": {},
   "outputs": [],
   "source": [
    "driver=webdriver.Chrome()"
   ]
  },
  {
   "cell_type": "code",
   "execution_count": 154,
   "id": "bf2f424b",
   "metadata": {},
   "outputs": [],
   "source": [
    "driver.get('https://www.shine.com/')"
   ]
  },
  {
   "cell_type": "code",
   "execution_count": 156,
   "id": "5231c3bd",
   "metadata": {},
   "outputs": [],
   "source": [
    "position= driver.find_element(By.XPATH,'/html/body/div/div[4]/div/div[2]/div[2]/div/form/div/div[1]/ul/li[1]/div/input')\n",
    "position.send_keys('data analyst')"
   ]
  },
  {
   "cell_type": "code",
   "execution_count": 157,
   "id": "2ed9ea8f",
   "metadata": {},
   "outputs": [],
   "source": [
    "search=driver.find_element(By.XPATH,'/html/body/div/div[4]/div/div[2]/div[2]/div/form/div/div[2]/div/button')\n",
    "search.click()"
   ]
  },
  {
   "cell_type": "code",
   "execution_count": 160,
   "id": "bcd4cfc2",
   "metadata": {},
   "outputs": [],
   "source": [
    "job_title=[]\n",
    "job_location=[]\n",
    "c_name=[]\n",
    "exp_req=[]"
   ]
  },
  {
   "cell_type": "code",
   "execution_count": 161,
   "id": "97be7a9b",
   "metadata": {},
   "outputs": [],
   "source": [
    "#scrapping data for job title\n",
    "\n",
    "title=driver.find_elements(By.XPATH,'//div[@class=\"jobCard_jobCard_features__wJid6\"]')\n",
    "\n",
    "for i in title:\n",
    "    job_title.append(i.text)\n",
    "    job_title[:10]"
   ]
  },
  {
   "cell_type": "code",
   "execution_count": 162,
   "id": "3edf87e7",
   "metadata": {},
   "outputs": [
    {
     "data": {
      "text/plain": [
       "10"
      ]
     },
     "execution_count": 162,
     "metadata": {},
     "output_type": "execute_result"
    }
   ],
   "source": [
    "len(job_title[:10])"
   ]
  },
  {
   "cell_type": "code",
   "execution_count": 163,
   "id": "d3617609",
   "metadata": {},
   "outputs": [],
   "source": [
    "#scraping data for location\n",
    "\n",
    "loc=driver.find_elements(By.XPATH,'//div[@class=\" jobCard_jobCard_lists_item__YxRkV jobCard_locationIcon__zrWt2\"]')\n",
    "\n",
    "for i in loc:\n",
    "    job_location.append(i.text)\n",
    "    job_location[:10]"
   ]
  },
  {
   "cell_type": "code",
   "execution_count": 164,
   "id": "2ae781cf",
   "metadata": {},
   "outputs": [
    {
     "data": {
      "text/plain": [
       "10"
      ]
     },
     "execution_count": 164,
     "metadata": {},
     "output_type": "execute_result"
    }
   ],
   "source": [
    "len(job_location[:10])"
   ]
  },
  {
   "cell_type": "code",
   "execution_count": 165,
   "id": "6772bec7",
   "metadata": {},
   "outputs": [],
   "source": [
    "#scraping data for c_name\n",
    "\n",
    "name=driver.find_elements(By.XPATH,'//div[@class=\"jobCard_jobCard_cName__mYnow\"]')\n",
    "\n",
    "for i in name:\n",
    "    c_name.append(i.text)\n",
    "    c_name[:10]"
   ]
  },
  {
   "cell_type": "code",
   "execution_count": 166,
   "id": "b3470679",
   "metadata": {},
   "outputs": [
    {
     "data": {
      "text/plain": [
       "10"
      ]
     },
     "execution_count": 166,
     "metadata": {},
     "output_type": "execute_result"
    }
   ],
   "source": [
    "len(c_name[:10])"
   ]
  },
  {
   "cell_type": "code",
   "execution_count": 167,
   "id": "a7ed5ad0",
   "metadata": {},
   "outputs": [],
   "source": [
    "#scraping data for experience\n",
    "\n",
    "exp= driver.find_elements(By.XPATH,'//div[@class=\" jobCard_jobCard_lists_item__YxRkV jobCard_jobIcon__3FB1t\"]')\n",
    "\n",
    "for i in exp:\n",
    "    exp_req.append(i.text)\n",
    "    exp_req[:10]"
   ]
  },
  {
   "cell_type": "code",
   "execution_count": 168,
   "id": "5335c377",
   "metadata": {},
   "outputs": [
    {
     "data": {
      "text/plain": [
       "10"
      ]
     },
     "execution_count": 168,
     "metadata": {},
     "output_type": "execute_result"
    }
   ],
   "source": [
    "len(exp_req[:10])"
   ]
  },
  {
   "cell_type": "code",
   "execution_count": 169,
   "id": "13c8ce34",
   "metadata": {},
   "outputs": [
    {
     "data": {
      "text/html": [
       "<div>\n",
       "<style scoped>\n",
       "    .dataframe tbody tr th:only-of-type {\n",
       "        vertical-align: middle;\n",
       "    }\n",
       "\n",
       "    .dataframe tbody tr th {\n",
       "        vertical-align: top;\n",
       "    }\n",
       "\n",
       "    .dataframe thead th {\n",
       "        text-align: right;\n",
       "    }\n",
       "</style>\n",
       "<table border=\"1\" class=\"dataframe\">\n",
       "  <thead>\n",
       "    <tr style=\"text-align: right;\">\n",
       "      <th></th>\n",
       "      <th>Job Title</th>\n",
       "      <th>Company Name</th>\n",
       "      <th>Location</th>\n",
       "      <th>Experience Required</th>\n",
       "    </tr>\n",
       "  </thead>\n",
       "  <tbody>\n",
       "    <tr>\n",
       "      <th>0</th>\n",
       "      <td>1 week ago</td>\n",
       "      <td>sharda it services</td>\n",
       "      <td>Delhi\\n+2</td>\n",
       "      <td>2 to 5 Yrs</td>\n",
       "    </tr>\n",
       "    <tr>\n",
       "      <th>1</th>\n",
       "      <td>1 week ago</td>\n",
       "      <td>sharda it services</td>\n",
       "      <td>Delhi\\n+2</td>\n",
       "      <td>1 to 6 Yrs</td>\n",
       "    </tr>\n",
       "    <tr>\n",
       "      <th>2</th>\n",
       "      <td>1 month ago</td>\n",
       "      <td>techno endura</td>\n",
       "      <td>Delhi\\n+6</td>\n",
       "      <td>0 to 1 Yr</td>\n",
       "    </tr>\n",
       "    <tr>\n",
       "      <th>3</th>\n",
       "      <td>2 months ago</td>\n",
       "      <td>techno endura</td>\n",
       "      <td>Delhi\\n+6</td>\n",
       "      <td>0 to 1 Yr</td>\n",
       "    </tr>\n",
       "    <tr>\n",
       "      <th>4</th>\n",
       "      <td>2 months ago</td>\n",
       "      <td>techno endura</td>\n",
       "      <td>Delhi\\n+6</td>\n",
       "      <td>0 to 1 Yr</td>\n",
       "    </tr>\n",
       "    <tr>\n",
       "      <th>5</th>\n",
       "      <td>1 month ago</td>\n",
       "      <td>future solution centre</td>\n",
       "      <td>Delhi\\n+9</td>\n",
       "      <td>10 to 20 Yrs</td>\n",
       "    </tr>\n",
       "    <tr>\n",
       "      <th>6</th>\n",
       "      <td>3 weeks ago</td>\n",
       "      <td>techno endura</td>\n",
       "      <td>Delhi\\n+6</td>\n",
       "      <td>0 to 1 Yr</td>\n",
       "    </tr>\n",
       "    <tr>\n",
       "      <th>7</th>\n",
       "      <td>Hot\\n1 day ago</td>\n",
       "      <td>techno endura</td>\n",
       "      <td>Delhi\\n+8</td>\n",
       "      <td>0 to 2 Yrs</td>\n",
       "    </tr>\n",
       "    <tr>\n",
       "      <th>8</th>\n",
       "      <td>Hot\\n1 day ago</td>\n",
       "      <td>techno endura</td>\n",
       "      <td>Delhi\\n+8</td>\n",
       "      <td>0 to 2 Yrs</td>\n",
       "    </tr>\n",
       "    <tr>\n",
       "      <th>9</th>\n",
       "      <td>Hot\\n2 days ago</td>\n",
       "      <td>mahima consultancy</td>\n",
       "      <td>Delhi\\n+9</td>\n",
       "      <td>0 Yrs</td>\n",
       "    </tr>\n",
       "  </tbody>\n",
       "</table>\n",
       "</div>"
      ],
      "text/plain": [
       "         Job Title            Company Name   Location Experience Required\n",
       "0       1 week ago      sharda it services  Delhi\\n+2          2 to 5 Yrs\n",
       "1       1 week ago      sharda it services  Delhi\\n+2          1 to 6 Yrs\n",
       "2      1 month ago           techno endura  Delhi\\n+6           0 to 1 Yr\n",
       "3     2 months ago           techno endura  Delhi\\n+6           0 to 1 Yr\n",
       "4     2 months ago           techno endura  Delhi\\n+6           0 to 1 Yr\n",
       "5      1 month ago  future solution centre  Delhi\\n+9        10 to 20 Yrs\n",
       "6      3 weeks ago           techno endura  Delhi\\n+6           0 to 1 Yr\n",
       "7   Hot\\n1 day ago           techno endura  Delhi\\n+8          0 to 2 Yrs\n",
       "8   Hot\\n1 day ago           techno endura  Delhi\\n+8          0 to 2 Yrs\n",
       "9  Hot\\n2 days ago      mahima consultancy  Delhi\\n+9               0 Yrs"
      ]
     },
     "execution_count": 169,
     "metadata": {},
     "output_type": "execute_result"
    }
   ],
   "source": [
    "#creating data frame\n",
    "\n",
    "ds=pd.DataFrame({})\n",
    "ds['Job Title']=job_title[:10]\n",
    "ds['Company Name']=c_name[:10]\n",
    "ds['Location']=job_location[:10]\n",
    "ds['Experience Required']=exp_req[:10]\n",
    "\n",
    "ds"
   ]
  },
  {
   "cell_type": "code",
   "execution_count": 171,
   "id": "87670072",
   "metadata": {},
   "outputs": [],
   "source": [
    "driver.close()"
   ]
  },
  {
   "cell_type": "code",
   "execution_count": null,
   "id": "99864f47",
   "metadata": {},
   "outputs": [],
   "source": []
  }
 ],
 "metadata": {
  "kernelspec": {
   "display_name": "Python 3 (ipykernel)",
   "language": "python",
   "name": "python3"
  },
  "language_info": {
   "codemirror_mode": {
    "name": "ipython",
    "version": 3
   },
   "file_extension": ".py",
   "mimetype": "text/x-python",
   "name": "python",
   "nbconvert_exporter": "python",
   "pygments_lexer": "ipython3",
   "version": "3.10.9"
  }
 },
 "nbformat": 4,
 "nbformat_minor": 5
}
