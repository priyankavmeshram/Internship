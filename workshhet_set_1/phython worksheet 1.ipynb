{
 "cells": [
  {
   "cell_type": "code",
   "execution_count": 16,
   "id": "a978ecee",
   "metadata": {},
   "outputs": [
    {
     "name": "stdout",
     "output_type": "stream",
     "text": [
      "Enter Input Number :8\n",
      "The Factorial of 8 is 40320\n"
     ]
    }
   ],
   "source": [
    "n = int(input(\"Enter Input Number :\"))\n",
    "\n",
    "fact = 1\n",
    "if n < 0:\n",
    "    print(\"factorial does not exists for negative\")\n",
    "elif n==0:\n",
    "    print(\"The Factorial of 0 is 1\")\n",
    "else:\n",
    "    for i in range(1,n+1):\n",
    "        fact= fact*i\n",
    "    print(\"The Factorial of\",n,\"is\",fact)\n",
    "    \n",
    "    \n",
    "\n",
    "\n",
    "    "
   ]
  },
  {
   "cell_type": "code",
   "execution_count": 45,
   "id": "a3936adf",
   "metadata": {},
   "outputs": [
    {
     "name": "stdout",
     "output_type": "stream",
     "text": [
      "Enter Input Number :786\n",
      "786 is a Prime number\n"
     ]
    }
   ],
   "source": [
    "#Question 12\n",
    "num = int(input(\"Enter Input Number :\"))\n",
    "if num > 1:\n",
    "    for i in range(2, num):\n",
    "        if (num % i) == 0:\n",
    "            print(num, \"is a Prime number\")\n",
    "        \n",
    "            break\n",
    "    else:\n",
    "        print(num, \"is NOT a Prime number\")\n",
    "elif num == 0 or 1: \n",
    "        print(num, \"is neither a Prime number nor a Composit number\")\n",
    "else:\n",
    "        print(num,\" is NOT a prime number, it is a Composit Number\")"
   ]
  },
  {
   "cell_type": "code",
   "execution_count": 50,
   "id": "1a293171",
   "metadata": {},
   "outputs": [
    {
     "name": "stdout",
     "output_type": "stream",
     "text": [
      "Enter the String : abcddbca\n",
      "The String is not Palindrome\n"
     ]
    }
   ],
   "source": [
    "# Question 13\n",
    "string = input(\"Enter the String : \")\n",
    "string = string.casefold()\n",
    "rev_string = reversed(string)\n",
    "\n",
    "if list (string) == list(rev_string):\n",
    "    print(\"The String is a Palindrome String\")\n",
    "else:\n",
    "    print(\"The String is not Palindrome\")"
   ]
  },
  {
   "cell_type": "code",
   "execution_count": 66,
   "id": "ae2b1cf6",
   "metadata": {},
   "outputs": [
    {
     "name": "stdout",
     "output_type": "stream",
     "text": [
      "Hypotenuse = 6.4031242374328485\n"
     ]
    }
   ],
   "source": [
    "# Question 14\n",
    "def pythagoras(opposite_side, adjacent_side, hypotenuse):\n",
    "    \n",
    "    if opposite_side == str(\"x\"):\n",
    "        return (\"Opposite = \" + str(((hypotenuse**2) - (adjacent_side**2))**0.5))\n",
    "    \n",
    "    elif adjacent_side == str(\"x\"):\n",
    "        return (\"Adjacent = \" + str(((hypotenuse**2) - (opposite_side**2))**0.5))\n",
    "    \n",
    "    elif hypotenuse == str(\"x\"):\n",
    "        return (\"Hypotenuse = \" + str(((opposite_side**2) + (adjacent_side**2))**0.5))\n",
    "    else:\n",
    "        return \"All the sides are Known\" \n",
    "    \n",
    "print(pythagoras(4, 5,  'x'))"
   ]
  },
  {
   "cell_type": "code",
   "execution_count": 69,
   "id": "9e6c6a1f",
   "metadata": {},
   "outputs": [
    {
     "name": "stdout",
     "output_type": "stream",
     "text": [
      "Enter the String :data science\n",
      "d:1,a:2,t:1,a:2, :1,s:1,c:2,i:1,e:2,n:1,c:2,e:2,"
     ]
    }
   ],
   "source": [
    "#Question 15\n",
    "string = input(\"Enter the String :\")\n",
    "for i in string:\n",
    "        frequency = string.count(i)\n",
    "        print(str(i) + \":\" + str(frequency), end=\",\")"
   ]
  },
  {
   "cell_type": "code",
   "execution_count": null,
   "id": "1bbf8fd6",
   "metadata": {},
   "outputs": [],
   "source": []
  }
 ],
 "metadata": {
  "kernelspec": {
   "display_name": "Python 3 (ipykernel)",
   "language": "python",
   "name": "python3"
  },
  "language_info": {
   "codemirror_mode": {
    "name": "ipython",
    "version": 3
   },
   "file_extension": ".py",
   "mimetype": "text/x-python",
   "name": "python",
   "nbconvert_exporter": "python",
   "pygments_lexer": "ipython3",
   "version": "3.10.9"
  }
 },
 "nbformat": 4,
 "nbformat_minor": 5
}
